{
 "cells": [
  {
   "cell_type": "code",
   "execution_count": 2,
   "id": "b44de094-5159-4878-a52b-d881652c10d3",
   "metadata": {},
   "outputs": [
    {
     "name": "stdout",
     "output_type": "stream",
     "text": [
      "MPIS\n"
     ]
    }
   ],
   "source": [
    "# Numpy--Finding Unique Values\n",
    "s = \"MISSISSIPPI\"\n",
    "s1 = set(s)\n",
    "print(''.join(s1))"
   ]
  },
  {
   "cell_type": "code",
   "execution_count": 3,
   "id": "f0815a67-98b5-45e4-b5f8-cce9beccee81",
   "metadata": {},
   "outputs": [
    {
     "name": "stdout",
     "output_type": "stream",
     "text": [
      "MISP\n"
     ]
    }
   ],
   "source": [
    "# Writing our own logical code\n",
    "s = \"MISSISSIPPI\"\n",
    "lst = []\n",
    "for val in s:\n",
    "    if val not in lst:\n",
    "        lst.append(val)\n",
    "print(''.join(lst))"
   ]
  },
  {
   "cell_type": "code",
   "execution_count": 5,
   "id": "eab12b4d-cb69-4682-a74d-d6c0b9c921ca",
   "metadata": {},
   "outputs": [
    {
     "name": "stdout",
     "output_type": "stream",
     "text": [
      "Unique values of list 1\n",
      "[10, 20, 30, 40, 50, 60, 70, 80, 90]\n"
     ]
    }
   ],
   "source": [
    "# get the unique values from given list\n",
    "lst1 = [10,20,30,10,20,40,30,50,60,10,20,30,60,70,80,90]\n",
    "lst2 = []\n",
    "for val in lst1:\n",
    "    if val not in lst2:\n",
    "        lst2.append(val)\n",
    "print(\"Unique values of list 1\")\n",
    "print(lst2)"
   ]
  },
  {
   "cell_type": "code",
   "execution_count": 9,
   "id": "9b7b49bd-d8bc-4fe0-b56d-57226224ff53",
   "metadata": {},
   "outputs": [
    {
     "name": "stdout",
     "output_type": "stream",
     "text": [
      "Original Array is = [11 11 12 13 14 15 16 17 12 13 11 14 18]\n",
      "Unique values from array: [11 12 13 14 15 16 17 18]\n",
      "Number of unique values in array: 8\n"
     ]
    }
   ],
   "source": [
    "# Now finding the unique values from ndarray using numpy.unique() funtion\n",
    "import numpy as np\n",
    "arr = np.array([11, 11, 12, 13, 14, 15, 16, 17, 12, 13, 11, 14, 18])\n",
    "print(\"Original Array is =\", arr)\n",
    "\n",
    "# geting unique values\n",
    "uq_val = np.unique(arr)\n",
    "print(\"Unique values from array:\", uq_val)\n",
    "print(\"Number of unique values in array:\", len(uq_val))"
   ]
  },
  {
   "cell_type": "code",
   "execution_count": 14,
   "id": "7cd57713-1a77-4528-9075-6c5a685cae25",
   "metadata": {},
   "outputs": [
    {
     "name": "stdout",
     "output_type": "stream",
     "text": [
      "Original array is : [11 11 12 13 14 15 16 17 12 13 11 14 18]\n",
      "Original array length is : 13\n",
      "-----------------\n",
      "Unique values are : [11 12 13 14 15 16 17 18]\n",
      "Indexes are : [ 0  2  3  4  5  6  7 12]\n"
     ]
    }
   ],
   "source": [
    "# Now getting unique and their first index position of Numpy Array\n",
    "import numpy as np\n",
    "arr = np.array([11, 11, 12, 13, 14, 15, 16, 17, 12, 13, 11, 14, 18])\n",
    "print(\"Original array is :\", arr)\n",
    "print(\"Original array length is :\", len(arr))\n",
    "print('-----------------')\n",
    "\n",
    "# Get a tuple of unique values & their first index location from a numpy array\n",
    "unq, ind = np.unique(arr,return_index=True)\n",
    "print(\"Unique values are :\", unq)\n",
    "print(\"Indexes are :\", ind)"
   ]
  },
  {
   "cell_type": "code",
   "execution_count": 17,
   "id": "f6f3a7ef-0705-43c1-a78f-197d2928c453",
   "metadata": {},
   "outputs": [
    {
     "name": "stdout",
     "output_type": "stream",
     "text": [
      "Original array is : [11 11 12 13 14 15 16 17 12 13 11 14 18]\n",
      "Original array length is : 13\n",
      "----------------------------------\n",
      "<class 'tuple'>\n",
      "Unique values are : [11 12 13 14 15 16 17 18]\n",
      "Indexes are : [ 0  2  3  4  5  6  7 12]\n"
     ]
    }
   ],
   "source": [
    "import numpy as np\n",
    "arr = np.array([11, 11, 12, 13, 14, 15, 16, 17, 12, 13, 11, 14, 18])\n",
    "print(\"Original array is :\", arr)\n",
    "print(\"Original array length is :\", len(arr))\n",
    "print('----------------------------------')\n",
    "\n",
    "# get two values in tuple format\n",
    "tup = np.unique(arr,return_index=True)\n",
    "print(type(tup))\n",
    "print(\"Unique values are :\", tup[0])\n",
    "print(\"Indexes are :\", tup[1])"
   ]
  },
  {
   "cell_type": "code",
   "execution_count": 22,
   "id": "d9c527b5-7597-4f8c-940d-98a3d7582079",
   "metadata": {},
   "outputs": [
    {
     "name": "stdout",
     "output_type": "stream",
     "text": [
      "----------------------------------------\n",
      "11 at index -> 0\n",
      "12 at index -> 2\n",
      "13 at index -> 3\n",
      "14 at index -> 4\n",
      "15 at index -> 5\n",
      "16 at index -> 6\n",
      "17 at index -> 7\n",
      "18 at index -> 12\n",
      "----------------------------------------\n",
      "11 at index -> 0\n",
      "12 at index -> 2\n",
      "13 at index -> 3\n",
      "14 at index -> 4\n",
      "15 at index -> 5\n",
      "16 at index -> 6\n",
      "17 at index -> 7\n",
      "18 at index -> 12\n"
     ]
    }
   ],
   "source": [
    "# formating data using for loop\n",
    "print('-'*40)\n",
    "uq,ind = np.unique(arr,return_index=True)\n",
    "for uq,ind in zip(uq,ind):\n",
    "    print(\"{} at index -> {}\".format(uq,ind))\n",
    "print('-'*40)\n",
    "\n",
    "# We can also get it like this\n",
    "uq,ind = np.unique(arr,return_index=True)\n",
    "for tup in zip(uq,ind):\n",
    "    print(\"{} at index -> {}\".format(tup[0],tup[1]))"
   ]
  },
  {
   "cell_type": "code",
   "execution_count": 25,
   "id": "15cfdc31-3a6e-4974-ab4d-1a1826ee43cb",
   "metadata": {},
   "outputs": [
    {
     "name": "stdout",
     "output_type": "stream",
     "text": [
      "Original list is : [11, 11, 12, 13, 14, 15, 16, 17, 12, 13, 11, 14, 18]\n",
      "11 freq is -> 3\n",
      "12 freq is -> 2\n",
      "13 freq is -> 2\n",
      "14 freq is -> 2\n",
      "15 freq is -> 1\n",
      "16 freq is -> 1\n",
      "17 freq is -> 1\n",
      "18 freq is -> 1\n"
     ]
    }
   ],
   "source": [
    "# Our own code for geting frequency count of ndarray elements\n",
    "lst = [11, 11, 12, 13, 14, 15, 16, 17, 12, 13, 11, 14, 18]\n",
    "print(\"Original list is :\", lst)\n",
    "lst1 = []\n",
    "for val in lst:\n",
    "    if val not in lst1:\n",
    "        lst1.append(val)\n",
    "\n",
    "# Now printing thier counts/frequency\n",
    "for val in lst1:\n",
    "    print(\"{} freq is -> {}\".format(val,lst.count(val)))"
   ]
  },
  {
   "cell_type": "code",
   "execution_count": 26,
   "id": "64d96c4e-3878-4a7d-898d-949b17523dc8",
   "metadata": {},
   "outputs": [
    {
     "name": "stdout",
     "output_type": "stream",
     "text": [
      "Original Array is : [11, 11, 12, 13, 14, 15, 16, 17, 12, 13, 11, 14, 18]\n",
      "----------------------------------------\n",
      "Unique values : [11 12 13 14 15 16 17 18]\n",
      "Frequency is : [3 2 2 2 1 1 1 1]\n"
     ]
    }
   ],
   "source": [
    "# Now getting unique values and frequency count of ndarray elements using unique() function\n",
    "import numpy as np\n",
    "arr = [11, 11, 12, 13, 14, 15, 16, 17, 12, 13, 11, 14, 18]\n",
    "print(\"Original Array is :\", arr)\n",
    "print('-'*40)\n",
    "\n",
    "unq,fre = np.unique(arr, return_counts=True)\n",
    "print(\"Unique values :\", unq)\n",
    "print(\"Frequency is :\", fre)"
   ]
  },
  {
   "cell_type": "code",
   "execution_count": 29,
   "id": "354c2275-2302-4185-99ef-0c37ad0eae29",
   "metadata": {},
   "outputs": [
    {
     "name": "stdout",
     "output_type": "stream",
     "text": [
      "Unique values : [11 12 13 14 15 16 17 18]\n",
      "Frequency is : [3 2 2 2 1 1 1 1]\n",
      "--------------------------------------------------\n",
      "11 freq is -> 3\n",
      "12 freq is -> 2\n",
      "13 freq is -> 2\n",
      "14 freq is -> 2\n",
      "15 freq is -> 1\n",
      "16 freq is -> 1\n",
      "17 freq is -> 1\n",
      "18 freq is -> 1\n"
     ]
    }
   ],
   "source": [
    "# We can also get it\n",
    "tup = np.unique(arr, return_counts=True)\n",
    "print(\"Unique values :\", tup[0])\n",
    "print(\"Frequency is :\", tup[1])\n",
    "print('-'*50)\n",
    "\n",
    "# formatting output using for loop\n",
    "for tp in zip(tup[0],tup[1]):\n",
    "    print(\"{} freq is -> {}\".format(tp[0],tp[1]))"
   ]
  },
  {
   "cell_type": "code",
   "execution_count": 32,
   "id": "22e613ea-0d3f-4096-b5d2-72a5d80ee6ee",
   "metadata": {},
   "outputs": [
    {
     "name": "stdout",
     "output_type": "stream",
     "text": [
      "Original Array is : [11, 11, 12, 13, 14, 15, 16, 17, 12, 13, 11, 14, 18]\n",
      "--------------------------------------------------\n",
      "Unique values are : [11 12 13 14 15 16 17 18]\n",
      "Indexes in original array : [ 0  2  3  4  5  6  7 12]\n",
      "Frequency is : [3 2 2 2 1 1 1 1]\n"
     ]
    }
   ],
   "source": [
    "# Getting All the values of array unique, index, and their frequency counts\n",
    "import numpy as np\n",
    "arr = [11, 11, 12, 13, 14, 15, 16, 17, 12, 13, 11, 14, 18]\n",
    "print(\"Original Array is :\", arr)\n",
    "print('-'*50)\n",
    "\n",
    "uq,ind,fre = np.unique(arr,return_index=True,return_counts=True)\n",
    "print(\"Unique values are :\", uq)\n",
    "print(\"Indexes in original array :\", ind)\n",
    "print(\"Frequency is :\", fre)"
   ]
  },
  {
   "cell_type": "code",
   "execution_count": 34,
   "id": "e793919b-ac0a-4692-baea-4a464c6121d2",
   "metadata": {},
   "outputs": [
    {
     "name": "stdout",
     "output_type": "stream",
     "text": [
      "Unique values are : [11 12 13 14 15 16 17 18]\n",
      "Indexes in original array : [ 0  2  3  4  5  6  7 12]\n",
      "Frequency is : [3 2 2 2 1 1 1 1]\n",
      "----------------------------------------\n",
      "11 index is -> 0 and freq -> 3\n",
      "12 index is -> 2 and freq -> 2\n",
      "13 index is -> 3 and freq -> 2\n",
      "14 index is -> 4 and freq -> 2\n",
      "15 index is -> 5 and freq -> 1\n",
      "16 index is -> 6 and freq -> 1\n",
      "17 index is -> 7 and freq -> 1\n",
      "18 index is -> 12 and freq -> 1\n"
     ]
    }
   ],
   "source": [
    "tup = np.unique(arr,return_index=True,return_counts=True)\n",
    "print(\"Unique values are :\", tup[0])\n",
    "print(\"Indexes in original array :\", tup[1])\n",
    "print(\"Frequency is :\", tup[2])\n",
    "print('-'*40)\n",
    "\n",
    "# We get also like this\n",
    "for tp in zip(tup[0],tup[1],tup[2]):\n",
    "    print(\"{} index is -> {} and freq -> {}\".format(tp[0],tp[1],tp[2]))"
   ]
  },
  {
   "cell_type": "code",
   "execution_count": 39,
   "id": "4e511b7c-469b-402a-be2b-a17bfc98681a",
   "metadata": {},
   "outputs": [
    {
     "name": "stdout",
     "output_type": "stream",
     "text": [
      "Original 2D Array :\n",
      " [[11 11 12 11]\n",
      " [13 11 12 11]\n",
      " [16 11 12 11]\n",
      " [11 11 12 11]]\n",
      "----------------------------------------\n",
      "Unique value is : [11 12 13 16]\n"
     ]
    }
   ],
   "source": [
    "# Find unique values, rows & columns in a 2D numpy array\n",
    "# Create a 2D numpy array\n",
    "import numpy as np\n",
    "arr2D = np.array([[11, 11, 12,11] ,[ 13, 11, 12,11] , [ 16, 11, 12, 11],  [11, 11, 12, 11]])\n",
    "print(\"Original 2D Array :\\n\", arr2D)\n",
    "print('-'*40)\n",
    "\n",
    "# get the unique value of default flattened array\n",
    "unq = np.unique(arr2D)\n",
    "print(\"Unique value is :\", unq)"
   ]
  },
  {
   "cell_type": "code",
   "execution_count": 44,
   "id": "7c5ca510-3975-4e1a-957d-029009d0c08a",
   "metadata": {},
   "outputs": [
    {
     "name": "stdout",
     "output_type": "stream",
     "text": [
      "Original 2D Array :\n",
      " [[11 11 12 11]\n",
      " [13 11 12 11]\n",
      " [16 11 12 11]\n",
      " [11 11 12 11]]\n",
      "----------------------------------------\n",
      "Unique Rows is :\n",
      " [[11 11 12 11]\n",
      " [13 11 12 11]\n",
      " [16 11 12 11]]\n"
     ]
    }
   ],
   "source": [
    "# Getting Rows values using axis=0 attributes \n",
    "import numpy as np\n",
    "arr2D = np.array([[11, 11, 12,11] ,[ 13, 11, 12,11] , [ 16, 11, 12, 11],  [11, 11, 12, 11]])\n",
    "print(\"Original 2D Array :\\n\", arr2D)\n",
    "print('-'*40)\n",
    "\n",
    "# get the unique value of rows in 2d array\n",
    "unq = np.unique(arr2D,axis=0)\n",
    "print(\"Unique Rows is :\\n\", unq)"
   ]
  },
  {
   "cell_type": "code",
   "execution_count": 45,
   "id": "3ad473ce-1934-4674-81a6-db19481d565c",
   "metadata": {},
   "outputs": [
    {
     "name": "stdout",
     "output_type": "stream",
     "text": [
      "Original 2D Array :\n",
      " [[11 11 12 11]\n",
      " [13 11 12 11]\n",
      " [16 11 12 11]\n",
      " [11 11 12 11]]\n",
      "----------------------------------------\n",
      "Unique Columns is :\n",
      " [[11 11 12]\n",
      " [11 13 12]\n",
      " [11 16 12]\n",
      " [11 11 12]]\n"
     ]
    }
   ],
   "source": [
    "# Getting Columns values using axis=1 attributes \n",
    "import numpy as np\n",
    "arr2D = np.array([[11, 11, 12,11] ,[ 13, 11, 12,11] , [ 16, 11, 12, 11],  [11, 11, 12, 11]])\n",
    "print(\"Original 2D Array :\\n\", arr2D)\n",
    "print('-'*40)\n",
    "\n",
    "# get the unique value of Columns in 2d array\n",
    "unq = np.unique(arr2D,axis=1)\n",
    "print(\"Unique Columns is :\\n\", unq)"
   ]
  },
  {
   "cell_type": "code",
   "execution_count": null,
   "id": "06db7b20-3bef-44aa-a55a-07fc405942a1",
   "metadata": {},
   "outputs": [],
   "source": []
  }
 ],
 "metadata": {
  "kernelspec": {
   "display_name": "Python 3 (ipykernel)",
   "language": "python",
   "name": "python3"
  },
  "language_info": {
   "codemirror_mode": {
    "name": "ipython",
    "version": 3
   },
   "file_extension": ".py",
   "mimetype": "text/x-python",
   "name": "python",
   "nbconvert_exporter": "python",
   "pygments_lexer": "ipython3",
   "version": "3.12.6"
  }
 },
 "nbformat": 4,
 "nbformat_minor": 5
}
