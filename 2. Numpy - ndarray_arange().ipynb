{
 "cells": [
  {
   "cell_type": "code",
   "execution_count": 11,
   "id": "807e38c5-70b3-49aa-b59c-21188d32ad75",
   "metadata": {},
   "outputs": [
    {
     "name": "stdout",
     "output_type": "stream",
     "text": [
      "Array = [0 1 2 3 4 5 6 7 8 9]\n",
      "Type = <class 'numpy.ndarray'>\n",
      "-----------------------\n",
      "Dimension = 1\n",
      "shape = (2, 5)\n",
      "size = 10\n",
      "Data type = int64\n",
      "Item-size = 8\n",
      "[[0 1 2 3 4]\n",
      " [5 6 7 8 9]]\n",
      "-----------------------\n"
     ]
    }
   ],
   "source": [
    "import numpy as np\n",
    "a1=np.arange(10)\n",
    "print(\"Array =\", a1)\n",
    "print(\"Type =\", type(a1))\n",
    "print('-----------------------')\n",
    "print(\"Dimension =\", a1.ndim)\n",
    "a1.shape=(2,5)\n",
    "print(\"shape =\", a1.shape)\n",
    "print(\"size =\", a1.size)\n",
    "print(\"Data type =\", a1.dtype)\n",
    "print(\"Item-size =\", a1.itemsize)\n",
    "print(a1)\n",
    "print('-----------------------')\n",
    "\n"
   ]
  },
  {
   "cell_type": "code",
   "execution_count": 16,
   "id": "2957c7d4-9998-43b4-8708-5b673879bb8b",
   "metadata": {},
   "outputs": [
    {
     "name": "stdout",
     "output_type": "stream",
     "text": [
      "Array = [10 11 12 13 14 15 16 17 18 19]\n",
      "shape = (10,)\n",
      "Type = <class 'numpy.ndarray'>\n",
      "--------------------------\n",
      "Dimension = 1\n",
      "shape = (5, 2)\n",
      "size = 10\n",
      "Data type = int64\n",
      "Item-size = 8\n",
      "[[10 11]\n",
      " [12 13]\n",
      " [14 15]\n",
      " [16 17]\n",
      " [18 19]]\n"
     ]
    }
   ],
   "source": [
    "a2=np.arange(10,20)\n",
    "print(\"Array =\", a2)\n",
    "print(\"shape =\", a2.shape)\n",
    "print(\"Type =\", type(a2))\n",
    "print(\"--------------------------\")\n",
    "print(\"Dimension =\", a2.ndim)\n",
    "a2.shape=(5,2)\n",
    "print(\"shape =\", a2.shape)\n",
    "print(\"size =\", a2.size)\n",
    "print(\"Data type =\", a2.dtype)\n",
    "print(\"Item-size =\", a2.itemsize) \n",
    "print(a2)"
   ]
  },
  {
   "cell_type": "code",
   "execution_count": 19,
   "id": "19003bf6-95b3-41d5-8df2-af96231e3d5a",
   "metadata": {},
   "outputs": [
    {
     "name": "stdout",
     "output_type": "stream",
     "text": [
      "Array = [ 10  20  30  40  50  60  70  80  90 100]\n",
      "shape = (10,)\n",
      "Type = <class 'numpy.ndarray'>\n",
      "--------------------------\n",
      "Dimension = 1\n",
      "shape = (2, 5)\n",
      "size = 10\n",
      "Data type = int64\n",
      "Item-size = 8\n",
      "[[ 10  20  30  40  50]\n",
      " [ 60  70  80  90 100]]\n"
     ]
    }
   ],
   "source": [
    "a3=np.arange(10,110,10)\n",
    "print(\"Array =\", a3)\n",
    "print(\"shape =\", a3.shape)\n",
    "print(\"Type =\", type(a3))\n",
    "print(\"--------------------------\")\n",
    "print(\"Dimension =\", a3.ndim)\n",
    "a3.shape=(2,5)\n",
    "print(\"shape =\", a3.shape)\n",
    "print(\"size =\", a3.size)\n",
    "print(\"Data type =\", a3.dtype)\n",
    "print(\"Item-size =\", a3.itemsize) \n",
    "print(a3)"
   ]
  },
  {
   "cell_type": "code",
   "execution_count": 25,
   "id": "8fa85ba6-ab27-4645-b31f-04b39bda3581",
   "metadata": {},
   "outputs": [
    {
     "name": "stdout",
     "output_type": "stream",
     "text": [
      "[[ 1  3  5  7  9]\n",
      " [11 13 15 17 19]]\n",
      "<class 'numpy.ndarray'>\n",
      "Dimension = 2\n",
      "shape = (2, 5)\n",
      "Size = 10\n",
      "data type = int64\n",
      "item-size = 8\n"
     ]
    }
   ],
   "source": [
    "a4=np.arange(1,21,2).reshape(2,5)\n",
    "print(a4)\n",
    "print(type(a4))\n",
    "print(\"Dimension =\", a4.ndim)\n",
    "print(\"shape =\", a4.shape)\n",
    "print(\"Size =\", a4.size)\n",
    "print(\"data type =\", a4.dtype)\n",
    "print(\"item-size =\", a4.itemsize)"
   ]
  },
  {
   "cell_type": "code",
   "execution_count": 28,
   "id": "c4407716-9e0e-4fdd-bfd4-0a5eb5787444",
   "metadata": {},
   "outputs": [
    {
     "name": "stdout",
     "output_type": "stream",
     "text": [
      "[[ 0  1  2  3]\n",
      " [ 4  5  6  7]\n",
      " [ 8  9 10 11]\n",
      " [12 13 14 15]]\n",
      "<class 'numpy.ndarray'>\n"
     ]
    }
   ],
   "source": [
    "a=np.arange(4*4).reshape(4,4)\n",
    "print(a)\n",
    "print(type(a))"
   ]
  },
  {
   "cell_type": "code",
   "execution_count": 29,
   "id": "792adbe3-6968-4d89-92b5-e0977d18763b",
   "metadata": {},
   "outputs": [
    {
     "name": "stdout",
     "output_type": "stream",
     "text": [
      "[[[ 0  1  2  3]\n",
      "  [ 4  5  6  7]\n",
      "  [ 8  9 10 11]\n",
      "  [12 13 14 15]]\n",
      "\n",
      " [[16 17 18 19]\n",
      "  [20 21 22 23]\n",
      "  [24 25 26 27]\n",
      "  [28 29 30 31]]\n",
      "\n",
      " [[32 33 34 35]\n",
      "  [36 37 38 39]\n",
      "  [40 41 42 43]\n",
      "  [44 45 46 47]]]\n",
      "<class 'numpy.ndarray'>\n"
     ]
    }
   ],
   "source": [
    "a=np.arange(3*4*4).reshape(3,4,4)\n",
    "print(a)\n",
    "print(type(a))"
   ]
  },
  {
   "cell_type": "code",
   "execution_count": 30,
   "id": "3d547b58-3853-4027-b179-9cb66ec18422",
   "metadata": {},
   "outputs": [
    {
     "name": "stdout",
     "output_type": "stream",
     "text": [
      "[[[ 0  1  2  3]\n",
      "  [ 4  5  6  7]\n",
      "  [ 8  9 10 11]\n",
      "  [12 13 14 15]]\n",
      "\n",
      " [[16 17 18 19]\n",
      "  [20 21 22 23]\n",
      "  [24 25 26 27]\n",
      "  [28 29 30 31]]\n",
      "\n",
      " [[32 33 34 35]\n",
      "  [36 37 38 39]\n",
      "  [40 41 42 43]\n",
      "  [44 45 46 47]]\n",
      "\n",
      " [[48 49 50 51]\n",
      "  [52 53 54 55]\n",
      "  [56 57 58 59]\n",
      "  [60 61 62 63]]]\n",
      "<class 'numpy.ndarray'>\n"
     ]
    }
   ],
   "source": [
    "a=np.arange(4*4*4).reshape(4,4,4)\n",
    "print(a)\n",
    "print(type(a))"
   ]
  },
  {
   "cell_type": "code",
   "execution_count": 34,
   "id": "575248c3-639c-404f-84b5-f6f2c23bf193",
   "metadata": {},
   "outputs": [
    {
     "name": "stdout",
     "output_type": "stream",
     "text": [
      "[[ -1  -2  -3  -4  -5]\n",
      " [ -6  -7  -8  -9 -10]]\n"
     ]
    }
   ],
   "source": [
    "a=np.arange(-1,-11,-1).reshape(2,5)\n",
    "print(a,type(a))"
   ]
  },
  {
   "cell_type": "code",
   "execution_count": 37,
   "id": "d89f895e-289b-4ed4-859e-6ad335c147f9",
   "metadata": {},
   "outputs": [
    {
     "name": "stdout",
     "output_type": "stream",
     "text": [
      "[[100  90  80  70  60]\n",
      " [ 50  40  30  20  10]]\n"
     ]
    }
   ],
   "source": [
    "a=np.arange(100,9,-10).reshape(2,5)\n",
    "print(a,type(a))"
   ]
  },
  {
   "cell_type": "code",
   "execution_count": 41,
   "id": "8077298d-9d36-48e3-83f8-ed79c9a5c709",
   "metadata": {},
   "outputs": [
    {
     "name": "stdout",
     "output_type": "stream",
     "text": [
      "[-5 -4 -3 -2 -1  0  1  2  3  4  5] <class 'numpy.ndarray'>\n"
     ]
    }
   ],
   "source": [
    "a=np.arange(-5,6,1)\n",
    "print(a,type(a))\n"
   ]
  },
  {
   "cell_type": "code",
   "execution_count": null,
   "id": "03166c94-ed24-4606-9936-bebe9f09e0a4",
   "metadata": {},
   "outputs": [],
   "source": []
  }
 ],
 "metadata": {
  "kernelspec": {
   "display_name": "Python 3 (ipykernel)",
   "language": "python",
   "name": "python3"
  },
  "language_info": {
   "codemirror_mode": {
    "name": "ipython",
    "version": 3
   },
   "file_extension": ".py",
   "mimetype": "text/x-python",
   "name": "python",
   "nbconvert_exporter": "python",
   "pygments_lexer": "ipython3",
   "version": "3.12.6"
  }
 },
 "nbformat": 4,
 "nbformat_minor": 5
}
