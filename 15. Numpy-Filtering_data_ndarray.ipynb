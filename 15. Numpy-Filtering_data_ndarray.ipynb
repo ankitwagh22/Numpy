{
 "cells": [
  {
   "cell_type": "code",
   "execution_count": 8,
   "id": "0b91d883-bf50-4e79-bf65-fe13d43d2ff6",
   "metadata": {},
   "outputs": [
    {
     "name": "stdout",
     "output_type": "stream",
     "text": [
      "Content of a is = [ 6 10  6 12  5 19]\n"
     ]
    }
   ],
   "source": [
    "# Filtering the data from ndarray\n",
    "import numpy as np\n",
    "a=np.random.randint(2,20,size=6)\n",
    "print(\"Content of a is =\", a)"
   ]
  },
  {
   "cell_type": "code",
   "execution_count": null,
   "id": "d32dfa5b-0c4b-4383-bd4b-902c4b8530ac",
   "metadata": {},
   "outputs": [],
   "source": [
    "# Procedure-1\n",
    "# Step-1: Prepare a Condition(s) which gives boolean Array of type ndarray.\n",
    "# step-2: Pass boolean array to ndarray object"
   ]
  },
  {
   "cell_type": "code",
   "execution_count": 9,
   "id": "99876dd8-6234-45f9-b035-595be941a22d",
   "metadata": {},
   "outputs": [
    {
     "name": "stdout",
     "output_type": "stream",
     "text": [
      "[ True  True  True  True False False] <class 'numpy.ndarray'>\n",
      "--------------------\n"
     ]
    },
    {
     "data": {
      "text/plain": [
       "array([ 6, 10,  6, 12], dtype=int32)"
      ]
     },
     "execution_count": 9,
     "metadata": {},
     "output_type": "execute_result"
    }
   ],
   "source": [
    "barr=a%2==0\n",
    "print(barr,type(barr))\n",
    "print('--------------------')\n",
    "a[barr]"
   ]
  },
  {
   "cell_type": "code",
   "execution_count": 11,
   "id": "d3f9b2f9-90ce-4121-a6be-c51085125439",
   "metadata": {},
   "outputs": [
    {
     "name": "stdout",
     "output_type": "stream",
     "text": [
      "[False False False False  True  True] <class 'numpy.ndarray'>\n",
      "-------------\n"
     ]
    },
    {
     "data": {
      "text/plain": [
       "array([ 5, 19], dtype=int32)"
      ]
     },
     "execution_count": 11,
     "metadata": {},
     "output_type": "execute_result"
    }
   ],
   "source": [
    "barr=a%2!=0\n",
    "print(barr,type(barr))\n",
    "print('-------------')\n",
    "a[barr]"
   ]
  },
  {
   "cell_type": "code",
   "execution_count": 12,
   "id": "01944ed5-e9f1-4f15-ac7e-ac4e83622732",
   "metadata": {},
   "outputs": [
    {
     "name": "stdout",
     "output_type": "stream",
     "text": [
      "[ 6 10  6 12  5 19]\n"
     ]
    }
   ],
   "source": [
    "print(a)"
   ]
  },
  {
   "cell_type": "code",
   "execution_count": 15,
   "id": "9d8c2aaf-01b1-4924-9d8e-cf2739a7220b",
   "metadata": {},
   "outputs": [
    {
     "data": {
      "text/plain": [
       "array([12, 19], dtype=int32)"
      ]
     },
     "execution_count": 15,
     "metadata": {},
     "output_type": "execute_result"
    }
   ],
   "source": [
    "# get the number are greater than 10\n",
    "barr=a>10\n",
    "a[barr]"
   ]
  },
  {
   "cell_type": "code",
   "execution_count": 22,
   "id": "8f4949db-b6a0-4d1d-b4dd-8d31a92fac04",
   "metadata": {},
   "outputs": [
    {
     "name": "stdout",
     "output_type": "stream",
     "text": [
      "content of a =\n",
      " [[[ 0  1  2]\n",
      "  [ 3  4  5]\n",
      "  [ 6  7  8]]\n",
      "\n",
      " [[ 9 10 11]\n",
      "  [12 13 14]\n",
      "  [15 16 17]]\n",
      "\n",
      " [[18 19 20]\n",
      "  [21 22 23]\n",
      "  [24 25 26]]]\n",
      "Dimension is = 3\n",
      "------------------\n"
     ]
    },
    {
     "data": {
      "text/plain": [
       "array([ 0,  5, 10, 15, 20, 25])"
      ]
     },
     "execution_count": 22,
     "metadata": {},
     "output_type": "execute_result"
    }
   ],
   "source": [
    "a=np.arange(27).reshape(3,3,3)\n",
    "print(\"content of a =\\n\", a)\n",
    "print(\"Dimension is =\", a.ndim)\n",
    "# Now get the multiple of 5\n",
    "ba=a%5==0\n",
    "print('------------------')\n",
    "a[ba]"
   ]
  },
  {
   "cell_type": "code",
   "execution_count": 30,
   "id": "622f9a15-40ef-424a-a68a-4aaf5ee57e90",
   "metadata": {},
   "outputs": [
    {
     "name": "stdout",
     "output_type": "stream",
     "text": [
      "Multiple of 3 = : [ 0  3  6  9 12 15 18 21 24]\n",
      "----------------------------\n",
      "Multiple of 4 = : [ 0  4  8 12 16 20 24]\n"
     ]
    }
   ],
   "source": [
    "# Now get the multiple of 3 and 4\n",
    "ba=a%3==0\n",
    "bx=a%4==0\n",
    "print(\"Multiple of 3 = :\", a[ba])\n",
    "print('----------------------------')\n",
    "print(\"Multiple of 4 = :\", a[bx])"
   ]
  },
  {
   "cell_type": "code",
   "execution_count": 31,
   "id": "d03d9932-d98f-4a68-a91f-70554360dfd1",
   "metadata": {},
   "outputs": [
    {
     "data": {
      "text/plain": [
       "array([ 0,  7, 14, 21])"
      ]
     },
     "execution_count": 31,
     "metadata": {},
     "output_type": "execute_result"
    }
   ],
   "source": [
    "# get mulitiple of 7\n",
    "a[a%7==0]"
   ]
  },
  {
   "cell_type": "code",
   "execution_count": null,
   "id": "0ea8cdb7-87f5-44c9-9f51-fce77375ab37",
   "metadata": {},
   "outputs": [],
   "source": []
  }
 ],
 "metadata": {
  "kernelspec": {
   "display_name": "Python 3 (ipykernel)",
   "language": "python",
   "name": "python3"
  },
  "language_info": {
   "codemirror_mode": {
    "name": "ipython",
    "version": 3
   },
   "file_extension": ".py",
   "mimetype": "text/x-python",
   "name": "python",
   "nbconvert_exporter": "python",
   "pygments_lexer": "ipython3",
   "version": "3.12.6"
  }
 },
 "nbformat": 4,
 "nbformat_minor": 5
}
