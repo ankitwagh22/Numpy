{
 "cells": [
  {
   "cell_type": "code",
   "execution_count": 2,
   "id": "9ff3a5a0-5f3d-4d51-8ab1-f293d7977cc4",
   "metadata": {},
   "outputs": [
    {
     "name": "stdout",
     "output_type": "stream",
     "text": [
      "Array is = [1 2 3 4]\n",
      "Difference is = [1 1 1]\n"
     ]
    }
   ],
   "source": [
    "# NumPy--- Discrete Differences\n",
    "# A discrete difference means subtracting two successive elements.\n",
    "import numpy as np\n",
    "a = np.array([1,2,3,4])\n",
    "print(\"Array is =\", a)\n",
    "df = np.diff(a)\n",
    "print(\"Difference is =\", df)"
   ]
  },
  {
   "cell_type": "code",
   "execution_count": 5,
   "id": "ee6412be-f735-49fe-b5d8-d5838e8812da",
   "metadata": {},
   "outputs": [
    {
     "name": "stdout",
     "output_type": "stream",
     "text": [
      "Array is = [10 15 25  5]\n",
      "Difference is = [  5  10 -20]\n",
      "Difference is = [  5 -30]\n"
     ]
    }
   ],
   "source": [
    "b = np.array([10,15,25,5])\n",
    "print(\"Array is =\", b)\n",
    "df = np.diff(b)\n",
    "print(\"Difference is =\", df)\n",
    "\n",
    "# if we give n=2 then see result depth\n",
    "df = np.diff(b,n=2)\n",
    "print(\"Difference is =\", df)"
   ]
  },
  {
   "cell_type": "code",
   "execution_count": 7,
   "id": "0853a11c-8a8d-4d1e-ad7b-6756abd591e3",
   "metadata": {},
   "outputs": [
    {
     "name": "stdout",
     "output_type": "stream",
     "text": [
      "Array is =\n",
      " [[1 2 3]\n",
      " [3 4 5]\n",
      " [2 3 5]]\n",
      "Difference is =\n",
      " [[ 2  2  2]\n",
      " [-1 -1  0]]\n"
     ]
    }
   ],
   "source": [
    "ar = np.array([[1,2,3],[3,4,5],[2,3,5]])\n",
    "print(\"Array is =\\n\", ar)\n",
    "\n",
    "# Here axis=0 Represents Column Discrete Diff\n",
    "df = np.diff(ar,axis=0)\n",
    "print(\"Difference is =\\n\", df)"
   ]
  },
  {
   "cell_type": "code",
   "execution_count": 9,
   "id": "302321c0-7e30-4826-b0f8-5e1e8c17bdf0",
   "metadata": {},
   "outputs": [
    {
     "name": "stdout",
     "output_type": "stream",
     "text": [
      "Array is =\n",
      " [[1 2 3]\n",
      " [3 4 5]\n",
      " [2 3 5]]\n",
      "Difference is =\n",
      " [[1 1]\n",
      " [1 1]\n",
      " [1 2]]\n"
     ]
    }
   ],
   "source": [
    "ar = np.array([[1,2,3],[3,4,5],[2,3,5]])\n",
    "print(\"Array is =\\n\", ar)\n",
    "\n",
    "# Here axis=1 Represents Rows Discrete Diff\n",
    "df = np.diff(ar,axis=1)\n",
    "print(\"Difference is =\\n\", df)"
   ]
  },
  {
   "cell_type": "code",
   "execution_count": 10,
   "id": "487eebdd-0429-4bb7-8b24-bb4f53d0884d",
   "metadata": {},
   "outputs": [
    {
     "name": "stdout",
     "output_type": "stream",
     "text": [
      "Array is =\n",
      " [[1 2 3]\n",
      " [3 4 5]\n",
      " [2 3 5]]\n",
      "Difference is =\n",
      " [[-3 -3 -2]]\n"
     ]
    }
   ],
   "source": [
    "ar = np.array([[1,2,3],[3,4,5],[2,3,5]])\n",
    "print(\"Array is =\\n\", ar)\n",
    "\n",
    "# Here axis=0 Represents Column Discrete Diff\n",
    "df = np.diff(ar,n=2,axis=0)\n",
    "print(\"Difference is =\\n\", df)"
   ]
  },
  {
   "cell_type": "code",
   "execution_count": 12,
   "id": "d5ac56b1-ea71-48c6-bdce-2ddd598cd7b7",
   "metadata": {},
   "outputs": [
    {
     "name": "stdout",
     "output_type": "stream",
     "text": [
      "Array is =\n",
      " [[1 2 3]\n",
      " [3 4 5]\n",
      " [2 3 5]]\n",
      "Difference is =\n",
      " [[0]\n",
      " [0]\n",
      " [1]]\n"
     ]
    }
   ],
   "source": [
    "ar = np.array([[1,2,3],[3,4,5],[2,3,5]])\n",
    "print(\"Array is =\\n\", ar)\n",
    "\n",
    "# Here axis=1 Represents Rows Discrete Diff\n",
    "df = np.diff(ar,n=2,axis=1)\n",
    "print(\"Difference is =\\n\", df)"
   ]
  },
  {
   "cell_type": "code",
   "execution_count": 15,
   "id": "95ad6977-8439-43b8-88d3-ddf8496e984b",
   "metadata": {},
   "outputs": [
    {
     "name": "stdout",
     "output_type": "stream",
     "text": [
      "Array is =\n",
      " [[1 2 3]\n",
      " [4 5 6]\n",
      " [7 8 9]]\n",
      "Difference is =\n",
      " [[3 3 3]\n",
      " [3 3 3]]\n"
     ]
    }
   ],
   "source": [
    "import numpy as np\n",
    "ar = np.array([[1,2,3],[4,5,6],[7,8,9]])\n",
    "print(\"Array is =\\n\", ar)\n",
    "\n",
    "# find difference\n",
    "df = np.diff(ar,axis=0)\n",
    "print(\"Difference is =\\n\", df)"
   ]
  },
  {
   "cell_type": "code",
   "execution_count": 17,
   "id": "8f94286c-66ef-4614-9514-e62c61e031ec",
   "metadata": {},
   "outputs": [
    {
     "name": "stdout",
     "output_type": "stream",
     "text": [
      "Array is =\n",
      " [[1 2 3]\n",
      " [4 5 6]\n",
      " [7 8 9]]\n",
      "Difference is =\n",
      " [[0 0 0]]\n"
     ]
    }
   ],
   "source": [
    "import numpy as np\n",
    "ar = np.array([[1,2,3],[4,5,6],[7,8,9]])\n",
    "print(\"Array is =\\n\", ar)\n",
    "\n",
    "# find difference\n",
    "df = np.diff(ar,n=2,axis=0)\n",
    "print(\"Difference is =\\n\", df)"
   ]
  },
  {
   "cell_type": "code",
   "execution_count": 18,
   "id": "79e4e08b-a483-4520-b6b3-32f4360b0276",
   "metadata": {},
   "outputs": [
    {
     "name": "stdout",
     "output_type": "stream",
     "text": [
      "Array is =\n",
      " [[1 2 3]\n",
      " [4 5 6]\n",
      " [7 8 9]]\n",
      "Difference is =\n",
      " [[1 1]\n",
      " [1 1]\n",
      " [1 1]]\n"
     ]
    }
   ],
   "source": [
    "import numpy as np\n",
    "ar = np.array([[1,2,3],[4,5,6],[7,8,9]])\n",
    "print(\"Array is =\\n\", ar)\n",
    "\n",
    "# find difference\n",
    "df = np.diff(ar,axis=1)\n",
    "print(\"Difference is =\\n\", df)"
   ]
  },
  {
   "cell_type": "code",
   "execution_count": 19,
   "id": "dea2a290-4439-4c2d-84c6-61cf3b8e9214",
   "metadata": {},
   "outputs": [
    {
     "name": "stdout",
     "output_type": "stream",
     "text": [
      "Array is =\n",
      " [[1 2 3]\n",
      " [4 5 6]\n",
      " [7 8 9]]\n",
      "Difference is =\n",
      " [[0]\n",
      " [0]\n",
      " [0]]\n"
     ]
    }
   ],
   "source": [
    "import numpy as np\n",
    "ar = np.array([[1,2,3],[4,5,6],[7,8,9]])\n",
    "print(\"Array is =\\n\", ar)\n",
    "\n",
    "# find difference\n",
    "df = np.diff(ar,n=2,axis=1)\n",
    "print(\"Difference is =\\n\", df)"
   ]
  },
  {
   "cell_type": "code",
   "execution_count": null,
   "id": "09e74e26-f412-41db-bdaa-97f3ed1e0c9a",
   "metadata": {},
   "outputs": [],
   "source": []
  }
 ],
 "metadata": {
  "kernelspec": {
   "display_name": "Python 3 (ipykernel)",
   "language": "python",
   "name": "python3"
  },
  "language_info": {
   "codemirror_mode": {
    "name": "ipython",
    "version": 3
   },
   "file_extension": ".py",
   "mimetype": "text/x-python",
   "name": "python",
   "nbconvert_exporter": "python",
   "pygments_lexer": "ipython3",
   "version": "3.12.6"
  }
 },
 "nbformat": 4,
 "nbformat_minor": 5
}
