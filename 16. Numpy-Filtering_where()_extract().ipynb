{
 "cells": [
  {
   "cell_type": "code",
   "execution_count": 8,
   "id": "031db734-b9bd-4680-9d46-910967ab3294",
   "metadata": {},
   "outputs": [
    {
     "name": "stdout",
     "output_type": "stream",
     "text": [
      "content of a =\n",
      " [10 11 12 13 14 15 16 17 18 19 20]\n",
      "--------------\n",
      "(array([ 0,  2,  4,  6,  8, 10]),) <class 'tuple'>\n",
      "--------------\n",
      "[10 12 14 16 18 20] <class 'numpy.ndarray'>\n",
      "--------------\n",
      "Even numbers : [10 12 14 16 18 20]\n",
      "Odd numbers : [11 13 15 17 19]\n"
     ]
    }
   ],
   "source": [
    "# filtering the Data from ndarray---numpy.where()\n",
    "import numpy as np\n",
    "a=np.arange(10,21)\n",
    "print(\"content of a =\\n\", a)\n",
    "b=np.where(a%2==0)\n",
    "print('--------------')\n",
    "print(b,type(b))\n",
    "print('--------------')\n",
    "print(a[b],type(a))\n",
    "print('--------------')\n",
    "print(\"Even numbers :\", a[b])\n",
    "print(\"Odd numbers :\", a[a%2!=0])"
   ]
  },
  {
   "cell_type": "code",
   "execution_count": 17,
   "id": "dacc5d98-5cdf-4d08-9741-1e1583273ef6",
   "metadata": {},
   "outputs": [
    {
     "name": "stdout",
     "output_type": "stream",
     "text": [
      "content of a =\n",
      " [[ 0.82360807 -1.48599837 -0.30998895]\n",
      " [-0.93448155  0.38053409 -0.10469349]]\n",
      "-----------------------------\n",
      "Filter data \n",
      "[[0.82360807 0.         0.        ]\n",
      " [0.         0.38053409 0.        ]]\n"
     ]
    }
   ],
   "source": [
    "a=np.random.randn(2,3)\n",
    "print(\"content of a =\\n\", a)\n",
    "print('-----------------------------')\n",
    "# Replace all -ve values with 0 and +ve values keep them as it is\n",
    "print(\"Filter data \")\n",
    "b=np.where(a<0,0,a)\n",
    "print(b)"
   ]
  },
  {
   "cell_type": "code",
   "execution_count": 26,
   "id": "c51d4d59-f690-485a-ad12-865160db7335",
   "metadata": {},
   "outputs": [
    {
     "name": "stdout",
     "output_type": "stream",
     "text": [
      "Array - 1 : [36 32 19 11 42 50 16 16 32 21]\n",
      "Array - 2 : [38 37 38 51 40 42 46 47 36 52]\n",
      "-------------------------\n",
      "Elements More than 30 from both ndarray Objects \n",
      "[36 32 38 51 42 50 46 47 32 52]\n"
     ]
    }
   ],
   "source": [
    "a1=np.random.randint(10,55,size=10)\n",
    "a2=np.random.randint(35,55,size=10)\n",
    "print(\"Array - 1 :\", a1)\n",
    "print(\"Array - 2 :\", a2)\n",
    "print('-------------------------')\n",
    "# Get all the Elements which are more than 30 from both ndarray object\n",
    "print(\"Elements More than 30 from both ndarray Objects \")\n",
    "b=np.where(a1>30,a1,a2)\n",
    "print(b)"
   ]
  },
  {
   "cell_type": "code",
   "execution_count": 32,
   "id": "2685a942-9ba2-463e-83cd-c6c1b609bd3d",
   "metadata": {},
   "outputs": [
    {
     "name": "stdout",
     "output_type": "stream",
     "text": [
      "Salary List : [1000 2000 3000 2000 4000 3000]\n",
      "Commission List : [10 15 None 15 None None]\n",
      "New comminsion List : [10 15 0 15 0 0]\n"
     ]
    }
   ],
   "source": [
    "sal=np.array([1000,2000,3000,2000,4000,3000])\n",
    "comm=np.array([10,15,None,15,None,None])\n",
    "print(\"Salary List :\", sal)\n",
    "print(\"Commission List :\", comm)\n",
    "ncomm=np.where(comm==None,0,comm)\n",
    "print(\"New comminsion List :\", ncomm)"
   ]
  },
  {
   "cell_type": "code",
   "execution_count": 40,
   "id": "44aba6ef-6a4a-4e93-9872-36439ee4217b",
   "metadata": {},
   "outputs": [],
   "source": [
    "# Get Total Salaty of zip\n",
    "print('-'*50)\n",
    "print(\"Salary\\t\\tcomm\\t\\tTotal Salary\")\n",
    "print('-'*50)\n",
    "for sal1,comm1 in zip(sal,ncomm):\n",
    "    print(f\"{sal1}\\t\\t{comm1}\\t\\t{sal1+comm1}\")\n",
    "print('-'*50)"
   ]
  },
  {
   "cell_type": "code",
   "execution_count": 45,
   "id": "a3d821a9-c1da-4fef-b063-f3c548f77df8",
   "metadata": {},
   "outputs": [
    {
     "name": "stdout",
     "output_type": "stream",
     "text": [
      "[ 1  2  3  4  5  6  7  8  9 10]\n",
      "[ 100  200  300  400  500  600  700  800  900 1000]\n",
      "----------------\n",
      "['odd' 'even' 'odd' 'even' 'odd' 'even' 'odd' 'even' 'odd' 'even']\n"
     ]
    }
   ],
   "source": [
    "# filtering scalar values\n",
    "a=np.array([1,2,3,4,5,6,7,8,9,10])\n",
    "b=np.array([100,200,300,400,500,600,700,800,900,1000])\n",
    "print(a)\n",
    "print(b)\n",
    "print('----------------')\n",
    "c=np.where(a%2==0,'even','odd')\n",
    "print(c)"
   ]
  },
  {
   "cell_type": "code",
   "execution_count": 46,
   "id": "ad40f940-e5b7-4734-97a3-d42ade195882",
   "metadata": {},
   "outputs": [
    {
     "data": {
      "text/plain": [
       "array([0, 2, 3, 0])"
      ]
     },
     "execution_count": 46,
     "metadata": {},
     "output_type": "execute_result"
    }
   ],
   "source": [
    "# Multiple conditional tests can be specified by passing the condition as a boolean array:\n",
    "import numpy as np\n",
    "a = np.array([1, 2, 3, 4])\n",
    "criteria = (a < 2) | (a > 3)\n",
    "np.where(criteria, 0, a)"
   ]
  },
  {
   "cell_type": "code",
   "execution_count": 54,
   "id": "3704bb32-0c30-4c3b-ad2b-727ed153476d",
   "metadata": {},
   "outputs": [
    {
     "name": "stdout",
     "output_type": "stream",
     "text": [
      "[33 22 19 16 11 32 23 19 28 29]\n",
      "------------------\n",
      "Less than 20 = [19 16 11 19]\n"
     ]
    }
   ],
   "source": [
    "# Filter the Data by using extract()\n",
    "import numpy as np\n",
    "a=np.random.randint(10,50,size=10)\n",
    "print(a)\n",
    "# get the narray of less than 20\n",
    "print('------------------')\n",
    "b=np.extract(a<20,a)\n",
    "print(\"Less than 20 =\",b)"
   ]
  },
  {
   "cell_type": "code",
   "execution_count": 58,
   "id": "17667816-9b5d-4d81-b9fe-10942fa6b954",
   "metadata": {},
   "outputs": [
    {
     "name": "stdout",
     "output_type": "stream",
     "text": [
      "[47 44 42 22 17 35 10 15 23 17 50 14 45 41 29 37 44 16 25 46]\n",
      "Greater than 30 = [47 44 42 35 50 45 41 37 44 46]\n"
     ]
    }
   ],
   "source": [
    "a=np.random.randint(10,55,size=20)\n",
    "print(a)\n",
    "# get the elements greater than 30\n",
    "b=np.extract(a>30,a)\n",
    "print(\"Greater than 30 =\",b)"
   ]
  },
  {
   "cell_type": "code",
   "execution_count": 59,
   "id": "ece8e3c8-0f33-4467-9aa5-a8af43107cbd",
   "metadata": {},
   "outputs": [
    {
     "name": "stdout",
     "output_type": "stream",
     "text": [
      "Salary List : [1000 2000 3000 1500  500 5550]\n",
      "Commision List : [10 20 None 15 5 None]\n",
      "--------------------\n",
      "[10 20 15 5]\n"
     ]
    }
   ],
   "source": [
    "sal=np.array([1000,2000,3000,1500,500,5550])\n",
    "comm=np.array([10,20,None,15,5,None])\n",
    "print(\"Salary List :\", sal)\n",
    "print(\"Commision List :\", comm)\n",
    "print('--------------------')\n",
    "only_comm=np.extract(comm!=None,comm)\n",
    "print(only_comm)"
   ]
  },
  {
   "cell_type": "code",
   "execution_count": 88,
   "id": "3c7dce27-0f7a-46de-8b74-9e58cf745d5d",
   "metadata": {},
   "outputs": [
    {
     "name": "stdout",
     "output_type": "stream",
     "text": [
      "[620 284 898 928 625 289 582 672 582 720 459 181 768 579 488]\n",
      "Total Items = 15\n",
      "Greater than 500 = [620 898 928 625 582 672 582 720 768 579]\n",
      "Number of items = 10\n",
      "--------------------------------------------------\n",
      "Less than 500 = [284 289 459 181 488]\n",
      "Number of items = 5\n"
     ]
    }
   ],
   "source": [
    "a=np.random.randint(100,999,size=15)\n",
    "print(a)\n",
    "print(\"Total Items =\", a.size)\n",
    "# Take a values greater than 500\n",
    "b=np.extract(a>500,a)\n",
    "print(\"Greater than 500 =\", b)\n",
    "print(\"Number of items =\", b.size)\n",
    "print('-'*50)\n",
    "# Take a values Less than 500\n",
    "b=np.extract(a<500,a)\n",
    "print(\"Less than 500 =\", b)\n",
    "print(\"Number of items =\", b.size)"
   ]
  },
  {
   "cell_type": "code",
   "execution_count": 5,
   "id": "9f9767b1-92e3-4001-917d-128dc39b8f5e",
   "metadata": {},
   "outputs": [
    {
     "name": "stdout",
     "output_type": "stream",
     "text": [
      "Array is = [ 1  2  3  4  5  6  7  8  9 10]\n",
      "['even' 'even' 'even' 'even' 'odd' 'odd' 'odd' 'odd' 'odd' 'odd']\n"
     ]
    }
   ],
   "source": [
    "import numpy as np\n",
    "arr = np.arange(1,11)\n",
    "print('Array is =', arr)\n",
    "\n",
    "arr2 = np.where(arr<5,'even','odd')\n",
    "print(arr2)"
   ]
  },
  {
   "cell_type": "code",
   "execution_count": null,
   "id": "b86b9df4-c308-4734-bda1-febe7839c4c2",
   "metadata": {},
   "outputs": [],
   "source": []
  }
 ],
 "metadata": {
  "kernelspec": {
   "display_name": "Python 3 (ipykernel)",
   "language": "python",
   "name": "python3"
  },
  "language_info": {
   "codemirror_mode": {
    "name": "ipython",
    "version": 3
   },
   "file_extension": ".py",
   "mimetype": "text/x-python",
   "name": "python",
   "nbconvert_exporter": "python",
   "pygments_lexer": "ipython3",
   "version": "3.12.6"
  }
 },
 "nbformat": 4,
 "nbformat_minor": 5
}
