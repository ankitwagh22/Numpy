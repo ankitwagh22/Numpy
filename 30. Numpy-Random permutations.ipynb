{
 "cells": [
  {
   "cell_type": "markdown",
   "id": "23a99940-4279-4a13-8e07-30cddd9b670b",
   "metadata": {},
   "source": [
    "# Numpy---Random Permutations of Elements"
   ]
  },
  {
   "cell_type": "code",
   "execution_count": 5,
   "id": "68cda11b-7072-4c58-b1f3-badd27ec5c9f",
   "metadata": {},
   "outputs": [
    {
     "name": "stdout",
     "output_type": "stream",
     "text": [
      "Given Data is =\n",
      "[1 2 3 4 5] 2172068404976\n",
      "Shuffled data is =\n",
      "[5 1 2 4 3] 2172068404976\n"
     ]
    }
   ],
   "source": [
    "# Numpy---Random Permutations of Elements---shuffle()\n",
    "import numpy as np\n",
    "arr = np.arange(1,6)\n",
    "print(\"Given Data is =\")\n",
    "print(arr, id(arr))\n",
    "np.random.shuffle(arr)\n",
    "print(\"Shuffled data is =\")\n",
    "print(arr, id(arr))"
   ]
  },
  {
   "cell_type": "code",
   "execution_count": 8,
   "id": "034b5e74-cad5-4307-b1b8-7fa7e394de24",
   "metadata": {},
   "outputs": [
    {
     "name": "stdout",
     "output_type": "stream",
     "text": [
      "Given Data is =\n",
      "[1 2 3 4 5] 2172077866128\n",
      "1 Times shuffled data -> [1 4 2 3 5]\n",
      "2 Times shuffled data -> [4 2 3 1 5]\n",
      "3 Times shuffled data -> [1 2 5 3 4]\n",
      "4 Times shuffled data -> [1 3 5 2 4]\n",
      "5 Times shuffled data -> [5 1 3 2 4]\n"
     ]
    }
   ],
   "source": [
    "import numpy as np\n",
    "arr = np.arange(1,6)\n",
    "print(\"Given Data is =\")\n",
    "print(arr, id(arr))\n",
    "\n",
    "for i in range(1,len(arr)+1):\n",
    "    np.random.shuffle(arr)\n",
    "    print(\"{} Times shuffled data -> {}\".format(i,arr))"
   ]
  },
  {
   "cell_type": "code",
   "execution_count": 11,
   "id": "8fb49259-0c42-4c81-be7f-9b68de0e4cc2",
   "metadata": {},
   "outputs": [
    {
     "name": "stdout",
     "output_type": "stream",
     "text": [
      "Given data is = [1 2 3 4 5]\n",
      "One possiable permutation is = [2 3 1 5 4]\n"
     ]
    }
   ],
   "source": [
    "# Numpy---Random Permutations of Elements---permutation()\n",
    "arr = np.array([1,2,3,4,5])\n",
    "print(\"Given data is =\", arr)\n",
    "x = np.random.permutation(arr)\n",
    "print(\"One possiable permutation is =\", x)"
   ]
  },
  {
   "cell_type": "code",
   "execution_count": 12,
   "id": "a3354123-0853-4953-9901-86353dfcc598",
   "metadata": {},
   "outputs": [
    {
     "name": "stdout",
     "output_type": "stream",
     "text": [
      "Given data is = [1 2 3 4 5]\n",
      "1 Times possiable permutation is --> [3 5 2 1 4]\n",
      "2 Times possiable permutation is --> [3 1 4 2 5]\n",
      "3 Times possiable permutation is --> [3 4 1 5 2]\n",
      "4 Times possiable permutation is --> [3 1 2 4 5]\n",
      "5 Times possiable permutation is --> [4 2 1 3 5]\n"
     ]
    }
   ],
   "source": [
    "import numpy as np\n",
    "arr = np.array([1,2,3,4,5])\n",
    "print(\"Given data is =\", arr)\n",
    "\n",
    "for i in range(1,len(arr)+1):\n",
    "    x = np.random.permutation(arr)\n",
    "    print(\"{} Times possiable permutation is --> {}\".format(i,x))"
   ]
  },
  {
   "cell_type": "markdown",
   "id": "d66b0676-a657-4f7a-a58b-799ae0fb4861",
   "metadata": {},
   "source": [
    "# Summation of array in numpy"
   ]
  },
  {
   "cell_type": "code",
   "execution_count": 20,
   "id": "19474df8-64d7-44ef-9940-0196cdff5902",
   "metadata": {},
   "outputs": [
    {
     "name": "stdout",
     "output_type": "stream",
     "text": [
      "Martix-1 [1 2 3]\n",
      "Matrix-2 [1 2 3]\n",
      "--------------------\n",
      "Add is = [2 4 6]\n",
      "--------------------\n",
      "Summation is = 12\n"
     ]
    }
   ],
   "source": [
    "import numpy as np\n",
    "a = np.array([1,2,3])\n",
    "b = np.array([1,2,3])\n",
    "print(\"Martix-1 {}\\nMatrix-2 {}\".format(a,b))\n",
    "print('--------------------')\n",
    "\n",
    "c = np.add(a,b)\n",
    "print(\"Add is =\", c)\n",
    "print('--------------------')\n",
    "\n",
    "sm = np.sum([a,b])\n",
    "print(\"Summation is =\", sm)"
   ]
  },
  {
   "cell_type": "code",
   "execution_count": 25,
   "id": "d6cfe0f0-22fb-4da0-86aa-330edb0e39c1",
   "metadata": {},
   "outputs": [
    {
     "name": "stdout",
     "output_type": "stream",
     "text": [
      "Matrix-1 : [1 2 3]\n",
      "Matrix-1 : [1 2 3]\n",
      "----------------\n",
      "Summation is = [6 6]\n"
     ]
    }
   ],
   "source": [
    "import numpy as np\n",
    "arr1 = np.array([1, 2, 3])\n",
    "arr2 = np.array([1, 2, 3])\n",
    "print(\"Matrix-1 : {}\".format(arr1))\n",
    "print(\"Matrix-1 : {}\".format(arr2))\n",
    "print('----------------')\n",
    "sm = np.sum([arr1,arr2],axis=1)\n",
    "print(\"Summation is =\", sm)"
   ]
  },
  {
   "cell_type": "code",
   "execution_count": 28,
   "id": "67de776e-7c31-4081-a98f-386968232eab",
   "metadata": {},
   "outputs": [
    {
     "name": "stdout",
     "output_type": "stream",
     "text": [
      "Matrix-1 : \n",
      "[[ 1  2  3]\n",
      " [10 20 30]]\n",
      "Matrix-2 : \n",
      "[[ 1  2  3]\n",
      " [-2 -2 -2]]\n",
      "-----------------------\n",
      "[[ 2  4  6]\n",
      " [ 8 18 28]]\n"
     ]
    }
   ],
   "source": [
    "import numpy as np\n",
    "arr1 = np.array([[1, 2, 3],[10,20,30]])\n",
    "arr2 = np.array([[1, 2, 3],[-2,-2,-2]])\n",
    "print(\"Matrix-1 : \\n{}\".format(arr1))\n",
    "print(\"Matrix-2 : \\n{}\".format(arr2))\n",
    "print('-----------------------')\n",
    "newarr = np.sum([arr1, arr2],axis=0)\n",
    "print(newarr) "
   ]
  },
  {
   "cell_type": "code",
   "execution_count": 35,
   "id": "838d1252-e23c-4417-977c-803a46b7c2de",
   "metadata": {},
   "outputs": [
    {
     "name": "stdout",
     "output_type": "stream",
     "text": [
      "[1 2 3 4 5]\n",
      "-----------\n",
      "[ 1  3  6 10 15]\n"
     ]
    }
   ],
   "source": [
    "# Cummulative Sum of matrix\n",
    "# Cummulative sum means partially adding the elements in array\n",
    "import numpy as np\n",
    "arr = np.array([1,2,3,4,5])\n",
    "print(arr)\n",
    "print('-----------')\n",
    "new_arr = np.cumsum(arr)\n",
    "print(new_arr)"
   ]
  },
  {
   "cell_type": "code",
   "execution_count": 36,
   "id": "379938d2-c9e2-444d-851c-f1ee694be7e9",
   "metadata": {},
   "outputs": [
    {
     "name": "stdout",
     "output_type": "stream",
     "text": [
      "Original array is = [10 20 30 40 50]\n",
      "-----------------\n",
      "Cummulative summation is = [ 10  30  60 100 150]\n"
     ]
    }
   ],
   "source": [
    "# Another example\n",
    "import numpy as np\n",
    "arr = np.array([10,20,30,40,50])\n",
    "print(\"Original array is =\", arr)\n",
    "print('-----------------')\n",
    "print(\"Cummulative summation is =\", np.cumsum(arr))"
   ]
  },
  {
   "cell_type": "code",
   "execution_count": 32,
   "id": "5ecb6563-3fc6-4282-b08f-6e09ca9a9373",
   "metadata": {},
   "outputs": [
    {
     "name": "stdout",
     "output_type": "stream",
     "text": [
      "[[1 2 3]\n",
      " [4 5 6]\n",
      " [7 8 9]]\n",
      "--------------\n",
      "[[ 1  2  3 10]\n",
      " [ 4  5  6 20]\n",
      " [ 7  8  9 30]]\n"
     ]
    }
   ],
   "source": [
    "# Numpy column insertion in 2D array\n",
    "import numpy as np\n",
    "arr = np.arange(1,10).reshape(3,3)\n",
    "print(arr)\n",
    "print('--------------')\n",
    "arr = np.insert(arr,3,[[10,20,30]],axis=1)\n",
    "print(arr)"
   ]
  },
  {
   "cell_type": "code",
   "execution_count": 34,
   "id": "b2f9ff94-f202-472c-81a0-211da59a5ef8",
   "metadata": {},
   "outputs": [
    {
     "name": "stdout",
     "output_type": "stream",
     "text": [
      "[[0 1 2]\n",
      " [3 4 5]\n",
      " [6 7 8]]\n",
      "-------------\n",
      "[[ 0  1  2]\n",
      " [ 3  4  5]\n",
      " [ 6  7  8]\n",
      " [ 9 10 11]]\n"
     ]
    }
   ],
   "source": [
    "# insert row in matrix\n",
    "a = np.arange(9).reshape(3,3)\n",
    "print(a)\n",
    "print('-------------')\n",
    "a = np.insert(a,3,[9,10,11],axis=0)\n",
    "print(a)"
   ]
  }
 ],
 "metadata": {
  "kernelspec": {
   "display_name": "Python 3 (ipykernel)",
   "language": "python",
   "name": "python3"
  },
  "language_info": {
   "codemirror_mode": {
    "name": "ipython",
    "version": 3
   },
   "file_extension": ".py",
   "mimetype": "text/x-python",
   "name": "python",
   "nbconvert_exporter": "python",
   "pygments_lexer": "ipython3",
   "version": "3.12.6"
  }
 },
 "nbformat": 4,
 "nbformat_minor": 5
}
