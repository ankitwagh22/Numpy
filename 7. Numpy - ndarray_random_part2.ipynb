{
 "cells": [
  {
   "cell_type": "code",
   "execution_count": null,
   "id": "5269bcff-e6be-4997-9823-66d31f79377d",
   "metadata": {},
   "outputs": [],
   "source": [
    "# Creating an object of ndarray using randm() method\n",
    "# Syntax:- numpy.random.randn()--->Generating Any random floating point value can either +ve or -ve."
   ]
  },
  {
   "cell_type": "code",
   "execution_count": 17,
   "id": "9043bec5-839f-4244-9474-38d2884b3245",
   "metadata": {},
   "outputs": [
    {
     "name": "stdout",
     "output_type": "stream",
     "text": [
      "-0.2891080809151707 <class 'float'>\n"
     ]
    }
   ],
   "source": [
    "import numpy as np\n",
    "a=np.random.randn()\n",
    "print(a,type(a))"
   ]
  },
  {
   "cell_type": "code",
   "execution_count": 2,
   "id": "f85a916d-1ce8-416d-a916-802470d4930b",
   "metadata": {},
   "outputs": [
    {
     "name": "stdout",
     "output_type": "stream",
     "text": [
      "-0.17650935618038263 <class 'float'>\n"
     ]
    }
   ],
   "source": [
    "a=np.random.randn()\n",
    "print(a,type(a))"
   ]
  },
  {
   "cell_type": "code",
   "execution_count": 6,
   "id": "3dde821f-8e64-4046-b8f5-83e5fe89fdc8",
   "metadata": {},
   "outputs": [
    {
     "name": "stdout",
     "output_type": "stream",
     "text": [
      "-1.117039705257782 <class 'float'>\n",
      "0.012277523800302068 <class 'float'>\n",
      "-0.42662587797459267 <class 'float'>\n",
      "0.9742619319496056 <class 'float'>\n",
      "0.3376416910244667 <class 'float'>\n",
      "0.24619091455840092 <class 'float'>\n"
     ]
    }
   ],
   "source": [
    "for i in range(6):\n",
    "    b=np.random.randn()\n",
    "    print(b,type(b))"
   ]
  },
  {
   "cell_type": "code",
   "execution_count": null,
   "id": "6f1348a2-6d3e-44cb-be54-da55d78a9148",
   "metadata": {},
   "outputs": [],
   "source": [
    "# Syntax-2: numpy.random.randn(value)\n",
    "# Generating Number of Random floating Values (Value times) \n",
    "# for standard Normal Distribution and either +ve or -ve"
   ]
  },
  {
   "cell_type": "code",
   "execution_count": 20,
   "id": "15c14375-9d96-43c4-9ead-e4a00134ac9a",
   "metadata": {},
   "outputs": [
    {
     "name": "stdout",
     "output_type": "stream",
     "text": [
      "[-2.35184471 -0.23370266 -1.53655648]\n",
      "<class 'numpy.ndarray'>\n",
      "Dimension = 1\n",
      "Shape = (3,)\n"
     ]
    }
   ],
   "source": [
    "x=np.random.randn(3)\n",
    "print(x)\n",
    "print(type(x))\n",
    "print(\"Dimension =\", x.ndim)\n",
    "print(\"Shape =\", x.shape)"
   ]
  },
  {
   "cell_type": "code",
   "execution_count": 22,
   "id": "12780f47-2f38-424f-9d67-9b40fa46d3cf",
   "metadata": {},
   "outputs": [
    {
     "name": "stdout",
     "output_type": "stream",
     "text": [
      "[ 0.10889294  2.20501178  1.34798065 -1.41822077  0.55654971 -0.22292166\n",
      " -0.22365571  0.68329499 -0.81594961  0.64758645]\n",
      "<class 'numpy.ndarray'>\n",
      "Dimension = 1\n",
      "Shape = (10,)\n",
      "Dimension = 2\n",
      "Shape = (5, 2)\n"
     ]
    }
   ],
   "source": [
    "x=np.random.randn(10)\n",
    "print(x)\n",
    "print(type(x))\n",
    "print(\"Dimension =\", x.ndim)\n",
    "print(\"Shape =\", x.shape)\n",
    "x.shape=(5,2)\n",
    "print(\"Dimension =\", x.ndim)\n",
    "print(\"Shape =\", x.shape)"
   ]
  },
  {
   "cell_type": "code",
   "execution_count": 12,
   "id": "42527e8d-277c-46c2-84c5-a90c78d3da32",
   "metadata": {},
   "outputs": [
    {
     "name": "stdout",
     "output_type": "stream",
     "text": [
      "[-0.72110869 -1.19253153 -0.34648689 -1.68922891  0.30693586 -0.42598644\n",
      "  1.72013868  1.03797145  0.28447198  0.47230487]\n",
      "<class 'numpy.ndarray'>\n",
      "--------------------------------------------------\n",
      "[-1.22606385 -0.94041333 -2.24451083 -0.45470873  0.52117048 -0.61317438\n",
      "  0.65316627 -0.62684146 -0.08807021 -0.58773431]\n",
      "<class 'numpy.ndarray'>\n",
      "--------------------------------------------------\n",
      "[ 0.03860716 -0.50439268  0.8898818  -0.56185213 -0.12892784 -1.41152778\n",
      " -1.10798681 -1.34378943 -0.40838784  0.46324333]\n",
      "<class 'numpy.ndarray'>\n",
      "--------------------------------------------------\n",
      "[-0.98673417 -1.07240169  0.75189751  0.81773348  1.08542789  0.71226128\n",
      "  0.58385289 -0.77488115 -0.32463459 -0.34834858]\n",
      "<class 'numpy.ndarray'>\n",
      "--------------------------------------------------\n",
      "[ 0.05526327 -0.70960286 -1.27114227  0.19612918 -1.19139714  0.83108576\n",
      " -0.38824975  0.07459266 -0.34440336 -0.6839134 ]\n",
      "<class 'numpy.ndarray'>\n",
      "--------------------------------------------------\n",
      "[-0.66110649  0.86687094  1.40699726  1.66033997 -0.48174825 -1.50729749\n",
      "  0.31378552 -0.52995781 -0.69835617 -1.13700157]\n",
      "<class 'numpy.ndarray'>\n",
      "--------------------------------------------------\n",
      "[-0.12478697 -0.99894931  0.38182803 -0.20534478  0.32249211 -0.57381877\n",
      " -0.46878719 -0.0465248   0.3624756   0.24134833]\n",
      "<class 'numpy.ndarray'>\n",
      "--------------------------------------------------\n",
      "[ 0.4039802  -0.46852086 -0.59222726 -0.11961106 -1.7912133  -0.56682826\n",
      " -1.36315407 -0.58344829  0.76781548  0.96703183]\n",
      "<class 'numpy.ndarray'>\n",
      "--------------------------------------------------\n",
      "[-0.27777096  1.17059634 -0.67194499 -0.42514784  1.37486398  0.64267223\n",
      " -2.18199645  0.37548754 -1.07562343  0.24822673]\n",
      "<class 'numpy.ndarray'>\n",
      "--------------------------------------------------\n",
      "[-0.95017602  0.96445476  0.32715913 -0.5886497  -0.35622155 -0.17139713\n",
      " -0.84326691 -1.40422221  0.25483376  2.03168675]\n",
      "<class 'numpy.ndarray'>\n",
      "--------------------------------------------------\n"
     ]
    }
   ],
   "source": [
    "for i in range(10):\n",
    "    x=np.random.randn(10)\n",
    "    print(x)\n",
    "    print(type(x))\n",
    "    print('-'*50)"
   ]
  },
  {
   "cell_type": "code",
   "execution_count": null,
   "id": "ce303e28-a622-44f7-a01f-a4440eff13d0",
   "metadata": {},
   "outputs": [],
   "source": [
    "#Syntax-3: numpy.random.randn(Rows, Cols)--->Generating Number of Random floating Values (Row, Cols) \n",
    "#for standard Normal Distribution and either +ve or -ve with 2-D\t"
   ]
  },
  {
   "cell_type": "code",
   "execution_count": 13,
   "id": "153dcc57-caa2-41b7-b8a7-5b1d07a90995",
   "metadata": {},
   "outputs": [
    {
     "name": "stdout",
     "output_type": "stream",
     "text": [
      "[[ 0.94749932  0.68304779 -1.00095086]\n",
      " [-0.26839624  0.80048949  1.84400536]]\n",
      "<class 'numpy.ndarray'>\n"
     ]
    }
   ],
   "source": [
    "d=np.random.randn(2,3)\n",
    "print(d)\n",
    "print(type(d))"
   ]
  },
  {
   "cell_type": "code",
   "execution_count": 35,
   "id": "2de54241-15d2-4cd9-af91-68030bc88ce1",
   "metadata": {},
   "outputs": [
    {
     "name": "stdout",
     "output_type": "stream",
     "text": [
      "[[[ 1.32430574 -0.71062083 -0.26434865]\n",
      "  [-0.51968908 -0.47217751 -1.36881538]]\n",
      "\n",
      " [[-0.84200661  0.02473029 -1.45256658]\n",
      "  [ 0.61182836  0.1931397   0.30982023]]\n",
      "\n",
      " [[-0.74459482 -0.21218423 -0.48499546]\n",
      "  [-0.98073581  0.03575919 -0.12789737]]\n",
      "\n",
      " [[ 1.36563722  0.21328122  0.11324868]\n",
      "  [ 0.2251134   2.0859434  -0.02286639]]]\n",
      "<class 'numpy.ndarray'>\n",
      "----------------------------------------\n",
      "Dimension = 3\n",
      "Shape = (4, 2, 3)\n",
      "Element data type = float64\n",
      "--------------------------------------------------\n",
      "[ 1.32430574 -0.71062083 -0.26434865 -0.51968908 -0.47217751 -1.36881538\n",
      " -0.84200661  0.02473029 -1.45256658  0.61182836  0.1931397   0.30982023\n",
      " -0.74459482 -0.21218423 -0.48499546 -0.98073581  0.03575919 -0.12789737\n",
      "  1.36563722  0.21328122  0.11324868  0.2251134   2.0859434  -0.02286639]\n",
      "Dimension = 1\n",
      "Shape = (24,)\n",
      "Element data type = float64\n",
      "--------------------------------------------------\n",
      "[[ 1.32430574 -0.71062083 -0.26434865 -0.51968908]\n",
      " [-0.47217751 -1.36881538 -0.84200661  0.02473029]\n",
      " [-1.45256658  0.61182836  0.1931397   0.30982023]\n",
      " [-0.74459482 -0.21218423 -0.48499546 -0.98073581]\n",
      " [ 0.03575919 -0.12789737  1.36563722  0.21328122]\n",
      " [ 0.11324868  0.2251134   2.0859434  -0.02286639]]\n",
      "Dimension = 2\n",
      "Shape = (6, 4)\n"
     ]
    }
   ],
   "source": [
    "d=np.random.randn(4,2,3)\n",
    "print(d)\n",
    "print(type(d))\n",
    "print('-'*40)\n",
    "print(\"Dimension =\", d.ndim)\n",
    "print(\"Shape =\", d.shape)\n",
    "print(\"Element data type =\", d.dtype)\n",
    "print('-'*50)\n",
    "d.shape=(24,)\n",
    "print(d)\n",
    "print(\"Dimension =\", d.ndim)\n",
    "print(\"Shape =\", d.shape)\n",
    "print(\"Element data type =\", d.dtype)\n",
    "print('-'*50)\n",
    "d.shape=(6,4)\n",
    "print(d)\n",
    "print(\"Dimension =\", d.ndim)\n",
    "print(\"Shape =\", d.shape)"
   ]
  },
  {
   "cell_type": "code",
   "execution_count": null,
   "id": "53986368-0629-49f9-bc94-ec6cfac30196",
   "metadata": {},
   "outputs": [],
   "source": [
    "# create an object of ndarray by using shuffle()\n",
    "# syntax-1: numpy.random.shuffle(x), here x is ndarrayobject"
   ]
  },
  {
   "cell_type": "code",
   "execution_count": 46,
   "id": "30c490e0-463b-45a2-9716-061c5f50feea",
   "metadata": {},
   "outputs": [
    {
     "name": "stdout",
     "output_type": "stream",
     "text": [
      "[0 1 2 3 4 5 6 7 8 9]\n",
      "ID = 2315405534160\n",
      "<class 'numpy.ndarray'>\n",
      "--------------------------------------------------\n",
      "[4 1 7 5 6 3 9 2 8 0]\n",
      "ID = 2315405534160\n",
      "<class 'numpy.ndarray'>\n",
      "--------------------------------------------------\n",
      "[6 4 7 2 1 5 0 8 3 9]\n",
      "ID = 2315405534160\n",
      "<class 'numpy.ndarray'>\n"
     ]
    }
   ],
   "source": [
    "import numpy as np\n",
    "a=np.arange(10)\n",
    "print(a)\n",
    "print(\"ID =\", id(a))\n",
    "print(type(a))\n",
    "print('-'*50)\n",
    "np.random.shuffle(a)\n",
    "print(a)\n",
    "print(\"ID =\",id(a))\n",
    "print(type(a))\n",
    "print('-'*50)\n",
    "np.random.shuffle(a)\n",
    "print(a)\n",
    "print(\"ID =\",id(a))\n",
    "print(type(a))"
   ]
  },
  {
   "cell_type": "code",
   "execution_count": 53,
   "id": "f748d410-2531-49df-af25-bcbe604b5175",
   "metadata": {},
   "outputs": [
    {
     "name": "stdout",
     "output_type": "stream",
     "text": [
      "[ 10  20  30  40  50  60  70  80  90 100] 2315409830032 <class 'numpy.ndarray'>\n",
      "[ 50  20  40  70  10  90  60  80  30 100] 2315409830032 <class 'numpy.ndarray'>\n",
      "[ 20  30  10 100  50  70  40  60  80  90] 2315409830032 <class 'numpy.ndarray'>\n",
      "[ 60  50  20  40  10  90  80  70 100  30] 2315409830032 <class 'numpy.ndarray'>\n",
      "[ 40  90  50  80  10 100  60  70  30  20] 2315409830032 <class 'numpy.ndarray'>\n",
      "[ 40  90  80  30  50  60  70 100  20  10] 2315409830032 <class 'numpy.ndarray'>\n",
      "[ 50  80  20  30  40 100  90  10  60  70] 2315409830032 <class 'numpy.ndarray'>\n",
      "[ 30  80  40  70  10  50  20  60  90 100] 2315409830032 <class 'numpy.ndarray'>\n",
      "[ 50  90  60  80  30  20 100  10  40  70] 2315409830032 <class 'numpy.ndarray'>\n",
      "[ 70  30  20 100  10  40  90  80  60  50] 2315409830032 <class 'numpy.ndarray'>\n",
      "[ 90 100  20  80  70  10  60  30  50  40] 2315409830032 <class 'numpy.ndarray'>\n"
     ]
    }
   ],
   "source": [
    "a=np.arange(10,110,10)\n",
    "print(a,id(a),type(a))\n",
    "for i in range(10):\n",
    "    np.random.shuffle(a)\n",
    "    print(a,id(a),type(a))"
   ]
  },
  {
   "cell_type": "code",
   "execution_count": 58,
   "id": "311573a4-7eca-46ed-9d0a-851be6fc8c17",
   "metadata": {},
   "outputs": [
    {
     "name": "stdout",
     "output_type": "stream",
     "text": [
      "[0 1 2 3 4 5 6 7 8 9] 2315405534160 <class 'numpy.ndarray'>\n",
      "----------------------------------------\n",
      "1 Time : [5 2 0 3 9 7 1 8 6 4]\n",
      "2 Time : [6 9 8 0 2 7 5 4 3 1]\n",
      "3 Time : [8 3 4 1 6 0 2 7 9 5]\n",
      "4 Time : [6 3 2 7 0 9 1 5 8 4]\n",
      "5 Time : [0 6 3 5 4 1 7 8 9 2]\n",
      "6 Time : [7 2 9 1 5 4 6 8 3 0]\n",
      "7 Time : [0 5 4 2 7 6 9 3 1 8]\n",
      "8 Time : [1 7 5 8 3 0 6 2 4 9]\n",
      "9 Time : [0 1 9 6 3 8 7 5 2 4]\n",
      "10 Time : [9 7 8 0 5 3 2 4 6 1]\n"
     ]
    }
   ],
   "source": [
    "x=np.arange(10)\n",
    "print(x,id(x),type(x))\n",
    "print('-'*40)\n",
    "for i in range(1,11):\n",
    "    np.random.shuffle(x)\n",
    "    print(f'{i} Time : {x}')"
   ]
  },
  {
   "cell_type": "code",
   "execution_count": 67,
   "id": "f19d1b06-9611-4d71-899b-324e8bd0a01a",
   "metadata": {},
   "outputs": [
    {
     "name": "stdout",
     "output_type": "stream",
     "text": [
      "MISSISSIPPI <class 'str'>\n",
      "['M' 'I' 'S' 'S' 'I' 'S' 'S' 'I' 'P' 'P' 'I'] <class 'numpy.ndarray'>\n",
      "------------------------\n",
      "1 Time : ['S' 'I' 'S' 'I' 'I' 'P' 'I' 'S' 'P' 'M' 'S']\n",
      "2 Time : ['I' 'P' 'S' 'P' 'I' 'M' 'S' 'S' 'I' 'S' 'I']\n",
      "3 Time : ['S' 'M' 'P' 'I' 'P' 'S' 'I' 'S' 'I' 'I' 'S']\n",
      "4 Time : ['I' 'I' 'S' 'S' 'P' 'I' 'S' 'M' 'I' 'P' 'S']\n",
      "5 Time : ['M' 'S' 'I' 'P' 'I' 'I' 'S' 'S' 'S' 'P' 'I']\n",
      "6 Time : ['M' 'I' 'S' 'I' 'P' 'S' 'S' 'I' 'P' 'I' 'S']\n",
      "7 Time : ['I' 'S' 'S' 'M' 'I' 'I' 'P' 'P' 'S' 'S' 'I']\n",
      "8 Time : ['S' 'I' 'S' 'I' 'I' 'P' 'I' 'P' 'M' 'S' 'S']\n",
      "9 Time : ['I' 'I' 'S' 'P' 'I' 'S' 'S' 'I' 'P' 'S' 'M']\n",
      "10 Time : ['P' 'I' 'P' 'I' 'I' 'S' 'M' 'I' 'S' 'S' 'S']\n",
      "11 Time : ['I' 'I' 'S' 'P' 'I' 'S' 'P' 'S' 'S' 'I' 'M']\n"
     ]
    }
   ],
   "source": [
    "s=\"MISSISSIPPI\"\n",
    "print(s,type(s))\n",
    "arr=np.array(list(s))\n",
    "print(arr,type(arr))\n",
    "print('------------------------')\n",
    "for i in range(len(s)):\n",
    "    np.random.shuffle(arr)\n",
    "    print(f'{i+1} Time : {arr}')"
   ]
  },
  {
   "cell_type": "code",
   "execution_count": 69,
   "id": "1d783f17-c26e-4107-9fe9-acad90af01d5",
   "metadata": {},
   "outputs": [
    {
     "name": "stdout",
     "output_type": "stream",
     "text": [
      "MISSISSIPPI <class 'str'>\n",
      "['M' 'I' 'S' 'S' 'I' 'S' 'S' 'I' 'P' 'P' 'I'] <class 'numpy.ndarray'>\n",
      "------------------------\n",
      "1 Time : IIPMSSISISP\n",
      "2 Time : MSPISSIPIIS\n",
      "3 Time : SIIIIPPSSMS\n",
      "4 Time : PSSIPIISISM\n",
      "5 Time : PISSPIISMIS\n",
      "6 Time : PIIIMSSSPSI\n",
      "7 Time : PSPSIISIIMS\n",
      "8 Time : SSIISIPPIMS\n",
      "9 Time : MSISSISPIIP\n",
      "10 Time : SSIMPPIISIS\n",
      "11 Time : SSISPIMISPI\n"
     ]
    }
   ],
   "source": [
    "# join this letter in one string\n",
    "s=\"MISSISSIPPI\"\n",
    "print(s,type(s))\n",
    "arr=np.array(list(s))\n",
    "print(arr,type(arr))\n",
    "print('------------------------')\n",
    "for i in range(len(s)):\n",
    "    np.random.shuffle(arr)\n",
    "    print(f'{i+1} Time : {\"\".join(arr)}')"
   ]
  },
  {
   "cell_type": "code",
   "execution_count": 78,
   "id": "fe571b52-ebac-4a33-9661-02361600ca32",
   "metadata": {},
   "outputs": [
    {
     "name": "stdout",
     "output_type": "stream",
     "text": [
      "[[2 8 8 8]\n",
      " [9 2 9 9]\n",
      " [9 9 5 9]]\n",
      "<class 'numpy.ndarray'>\n",
      "----------------------\n",
      "[[2 8 8 8]\n",
      " [9 2 9 9]\n",
      " [9 9 5 9]]\n"
     ]
    }
   ],
   "source": [
    "# Shuffling 2-dimension data\n",
    "a=np.random.randint(1,10,size=(3,4))\n",
    "print(a)\n",
    "print(type(a))\n",
    "print('----------------------')\n",
    "np.random.shuffle(a)\n",
    "print(a)"
   ]
  },
  {
   "cell_type": "code",
   "execution_count": 77,
   "id": "514c5de1-8c38-4668-b92e-1d473a2d6407",
   "metadata": {
    "scrolled": true
   },
   "outputs": [
    {
     "name": "stdout",
     "output_type": "stream",
     "text": [
      "[[60 62 60 90 37]\n",
      " [96 75 28 65  7]\n",
      " [35 57 90 95 59]\n",
      " [74 64 30 97  7]\n",
      " [78 65 13 98 36]\n",
      " [54 37 43  2 32]]\n",
      "<class 'numpy.ndarray'>\n",
      "------------------------\n",
      "[[74 64 30 97  7]\n",
      " [96 75 28 65  7]\n",
      " [60 62 60 90 37]\n",
      " [54 37 43  2 32]\n",
      " [78 65 13 98 36]\n",
      " [35 57 90 95 59]]\n"
     ]
    }
   ],
   "source": [
    "x=np.random.randint(1,100,size=(6,5))\n",
    "print(x)\n",
    "print(type(x))\n",
    "print('------------------------')\n",
    "np.random.shuffle(x)\n",
    "print(x)"
   ]
  },
  {
   "cell_type": "code",
   "execution_count": 84,
   "id": "74d376e2-dd85-48cd-9925-e315a62dda14",
   "metadata": {},
   "outputs": [
    {
     "name": "stdout",
     "output_type": "stream",
     "text": [
      "[[[94 93  8]\n",
      "  [13 17 52]\n",
      "  [63 85 99]\n",
      "  [27  7 86]]\n",
      "\n",
      " [[67 40 95]\n",
      "  [37  8 77]\n",
      "  [96 28 90]\n",
      "  [ 6 28 26]]\n",
      "\n",
      " [[12  5  2]\n",
      "  [90 58 72]\n",
      "  [43 67 98]\n",
      "  [66 93 22]]] <class 'numpy.ndarray'>\n",
      "-----------------------\n",
      "[[[94 93  8]\n",
      "  [13 17 52]\n",
      "  [63 85 99]\n",
      "  [27  7 86]]\n",
      "\n",
      " [[12  5  2]\n",
      "  [90 58 72]\n",
      "  [43 67 98]\n",
      "  [66 93 22]]\n",
      "\n",
      " [[67 40 95]\n",
      "  [37  8 77]\n",
      "  [96 28 90]\n",
      "  [ 6 28 26]]]\n"
     ]
    }
   ],
   "source": [
    "# Shuffling n-dimension array\n",
    "a=np.random.randint(1,100,size=(3,4,3))\n",
    "print(a,type(a))\n",
    "print('-----------------------')\n",
    "np.random.shuffle(a)\n",
    "print(a)"
   ]
  },
  {
   "cell_type": "code",
   "execution_count": 88,
   "id": "5954f75f-724f-42eb-bb01-b8a063a73c5e",
   "metadata": {},
   "outputs": [
    {
     "name": "stdout",
     "output_type": "stream",
     "text": [
      "[[[ 0  1  2]\n",
      "  [ 3  4  5]\n",
      "  [ 6  7  8]\n",
      "  [ 9 10 11]]\n",
      "\n",
      " [[12 13 14]\n",
      "  [15 16 17]\n",
      "  [18 19 20]\n",
      "  [21 22 23]]\n",
      "\n",
      " [[24 25 26]\n",
      "  [27 28 29]\n",
      "  [30 31 32]\n",
      "  [33 34 35]]\n",
      "\n",
      " [[36 37 38]\n",
      "  [39 40 41]\n",
      "  [42 43 44]\n",
      "  [45 46 47]]]\n",
      "Dimension = 3\n",
      "Shape = (4, 4, 3)\n",
      "----------------------------\n",
      "[[[ 0  1  2]\n",
      "  [ 3  4  5]\n",
      "  [ 6  7  8]\n",
      "  [ 9 10 11]]\n",
      "\n",
      " [[36 37 38]\n",
      "  [39 40 41]\n",
      "  [42 43 44]\n",
      "  [45 46 47]]\n",
      "\n",
      " [[12 13 14]\n",
      "  [15 16 17]\n",
      "  [18 19 20]\n",
      "  [21 22 23]]\n",
      "\n",
      " [[24 25 26]\n",
      "  [27 28 29]\n",
      "  [30 31 32]\n",
      "  [33 34 35]]]\n"
     ]
    }
   ],
   "source": [
    "# Another example\n",
    "a=np.arange(48).reshape(4,4,3)\n",
    "print(a)\n",
    "print(\"Dimension =\", a.ndim)\n",
    "print(\"Shape =\", a.shape)\n",
    "print('----------------------------')\n",
    "np.random.shuffle(a)\n",
    "print(a)"
   ]
  },
  {
   "cell_type": "code",
   "execution_count": 91,
   "id": "75c44c44-fe7b-4d0f-bcff-2bfac7d64e29",
   "metadata": {},
   "outputs": [
    {
     "name": "stdout",
     "output_type": "stream",
     "text": [
      "[1 2 3 4 5] <class 'numpy.ndarray'>\n",
      "---------------------\n",
      "Shuffle order-1 : [1 3 4 2 5]\n",
      "Shuffle order-2 : [3 5 4 2 1]\n",
      "Shuffle order-3 : [2 4 3 1 5]\n",
      "Shuffle order-4 : [2 4 3 5 1]\n",
      "Shuffle order-5 : [1 3 2 5 4]\n"
     ]
    }
   ],
   "source": [
    "arr = np.array([1,2,3,4,5])\n",
    "print(arr,type(arr))\n",
    "print('---------------------')\n",
    "for i in range(len(arr)):\n",
    "    np.random.shuffle(arr)\n",
    "    print(\"Shuffle order-{} : {}\".format(i+1,arr))"
   ]
  },
  {
   "cell_type": "code",
   "execution_count": null,
   "id": "26be4993-ec64-4eb1-b7ce-1087f707a030",
   "metadata": {},
   "outputs": [],
   "source": [
    "# Creating an object of ndarray using choice() method\n",
    "# syntax:  varname=numpy.random.choice(object,size)"
   ]
  },
  {
   "cell_type": "code",
   "execution_count": 104,
   "id": "f1b52d0a-0205-472a-8e24-4a4084522c52",
   "metadata": {},
   "outputs": [
    {
     "name": "stdout",
     "output_type": "stream",
     "text": [
      "[ 1  2  3  4  5  6  7  8  9 10] <class 'numpy.ndarray'>\n",
      "Choice is 6\n",
      "<class 'numpy.int64'>\n"
     ]
    }
   ],
   "source": [
    "import numpy as np\n",
    "x=np.arange(1,11)\n",
    "print(x,type(x))\n",
    "ch=np.random.choice(x)\n",
    "print(\"Choice is {}\".format(ch))\n",
    "print(type(ch))"
   ]
  },
  {
   "cell_type": "code",
   "execution_count": 109,
   "id": "2745c785-eb07-47a9-abb0-347edc5786a6",
   "metadata": {},
   "outputs": [
    {
     "name": "stdout",
     "output_type": "stream",
     "text": [
      "[ 2  4  6  8 10 12 14 16 18 20]\n",
      "--------------------\n",
      "1 Time choice is 8\n",
      "2 Time choice is 6\n",
      "3 Time choice is 10\n",
      "4 Time choice is 4\n",
      "5 Time choice is 2\n",
      "6 Time choice is 14\n",
      "7 Time choice is 12\n",
      "8 Time choice is 10\n",
      "9 Time choice is 4\n",
      "10 Time choice is 18\n"
     ]
    }
   ],
   "source": [
    "x=np.arange(2,21,2)\n",
    "print(x)\n",
    "print('--------------------')\n",
    "for i in range(1,11):\n",
    "    ch=np.random.choice(x)\n",
    "    print(\"{} Time choice is {}\".format(i,ch))"
   ]
  },
  {
   "cell_type": "code",
   "execution_count": 119,
   "id": "b94b53d4-2f3a-400f-ac7c-d5350af90b12",
   "metadata": {},
   "outputs": [
    {
     "name": "stdout",
     "output_type": "stream",
     "text": [
      "[ 10  20  30  40  50  60  70  80  90 100]\n",
      "[40 50] <class 'numpy.ndarray'>\n"
     ]
    }
   ],
   "source": [
    "# Select choice more than one\n",
    "a=np.array(range(10,110,10))\n",
    "print(a)\n",
    "ch=np.random.choice(a,size=2)\n",
    "print(ch,type(ch))"
   ]
  },
  {
   "cell_type": "code",
   "execution_count": 123,
   "id": "a81ce15e-a3e4-4f7c-bcf0-e5cef1186c75",
   "metadata": {},
   "outputs": [
    {
     "name": "stdout",
     "output_type": "stream",
     "text": [
      "[ 5 10 15 20 25 30 35 40 45 50]\n",
      "-------------------------\n",
      "1 Time choice is : [45 15]\n",
      "2 Time choice is : [ 5 40]\n",
      "3 Time choice is : [5 5]\n",
      "4 Time choice is : [45 35]\n",
      "5 Time choice is : [30 50]\n",
      "6 Time choice is : [ 5 35]\n",
      "7 Time choice is : [20 40]\n",
      "8 Time choice is : [15 50]\n",
      "9 Time choice is : [15 45]\n",
      "10 Time choice is : [10 25]\n"
     ]
    }
   ],
   "source": [
    "a=np.arange(5,51,5)\n",
    "print(a)\n",
    "print('-------------------------')\n",
    "for i in range(10):\n",
    "    ch=np.random.choice(a,size=2)\n",
    "    print(\"{} Time choice is : {}\".format(i+1,ch))"
   ]
  },
  {
   "cell_type": "code",
   "execution_count": 127,
   "id": "ec504024-d5f3-4312-a8d0-4411dc756c80",
   "metadata": {},
   "outputs": [
    {
     "name": "stdout",
     "output_type": "stream",
     "text": [
      "[ 10  15  20  25  30  35  40  45  50  55  60  65  70  75  80  85  90  95\n",
      " 100 105]\n",
      "-------------------------\n",
      "1 Time choice is : [105  80  25  35  75]\n",
      "2 Time choice is : [60 10 30 10 15]\n",
      "3 Time choice is : [ 55 100  55  85  15]\n",
      "4 Time choice is : [90 30 75 70 20]\n",
      "5 Time choice is : [25 35 60 60 60]\n",
      "6 Time choice is : [50 55 30 60 60]\n",
      "7 Time choice is : [20 55 65 30 45]\n",
      "8 Time choice is : [80 20 50 70 75]\n",
      "9 Time choice is : [ 35  35 105 100  35]\n",
      "10 Time choice is : [ 70  75  75  95 105]\n"
     ]
    }
   ],
   "source": [
    "# getting 3 or more choices\n",
    "a=np.arange(10,106,5)\n",
    "print(a)\n",
    "print('-------------------------')\n",
    "for i in range(10):\n",
    "    ch=np.random.choice(a,size=5)\n",
    "    print(\"{} Time choice is : {}\".format(i+1,ch))"
   ]
  },
  {
   "cell_type": "code",
   "execution_count": 146,
   "id": "dd60d94a-b502-4a01-ae4d-1ad69fd55b41",
   "metadata": {},
   "outputs": [
    {
     "name": "stdout",
     "output_type": "stream",
     "text": [
      "Your capcha code is : rcWYe\n"
     ]
    }
   ],
   "source": [
    "# Getting capcha code\n",
    "import numpy as np\n",
    "s=\"ABCDEFGHJKLMNOPQRSTUVWXYZabcdefghjklmnopqrstuvwxyz123456789\"\n",
    "arr=np.array(list(s))\n",
    "ch=np.random.choice(arr,size=5)\n",
    "capcha=\"\".join(ch)\n",
    "print(\"Your capcha code is : {}\".format(capcha))"
   ]
  },
  {
   "cell_type": "code",
   "execution_count": 148,
   "id": "8f366fc9-8ff4-40f1-919d-15be54214d66",
   "metadata": {},
   "outputs": [
    {
     "name": "stdout",
     "output_type": "stream",
     "text": [
      "1 Time capcha : htn5u\n",
      "2 Time capcha : oWWnf\n",
      "3 Time capcha : xYhqU\n",
      "4 Time capcha : Gyfrg\n",
      "5 Time capcha : 35cTq\n",
      "6 Time capcha : AeGAT\n",
      "7 Time capcha : h4sgt\n",
      "8 Time capcha : 6NsQl\n",
      "9 Time capcha : l9JFx\n",
      "10 Time capcha : 5uYek\n"
     ]
    }
   ],
   "source": [
    "# getting 10 random capcha codes\n",
    "import numpy as np\n",
    "s=\"ABCDEFGHJKLMNOPQRSTUVWXYZabcdefghjklmnopqrstuvwxyz123456789\"\n",
    "arr=np.array(list(s))\n",
    "for i in range(10):\n",
    "    ch=np.random.choice(arr,size=5)\n",
    "    print(\"{} Time capcha : {}\".format(i+1,\"\".join(ch)))"
   ]
  },
  {
   "cell_type": "code",
   "execution_count": null,
   "id": "87da6b27-1bd1-467d-8101-218c9c5d8a2f",
   "metadata": {},
   "outputs": [],
   "source": []
  }
 ],
 "metadata": {
  "kernelspec": {
   "display_name": "Python 3 (ipykernel)",
   "language": "python",
   "name": "python3"
  },
  "language_info": {
   "codemirror_mode": {
    "name": "ipython",
    "version": 3
   },
   "file_extension": ".py",
   "mimetype": "text/x-python",
   "name": "python",
   "nbconvert_exporter": "python",
   "pygments_lexer": "ipython3",
   "version": "3.12.6"
  }
 },
 "nbformat": 4,
 "nbformat_minor": 5
}
