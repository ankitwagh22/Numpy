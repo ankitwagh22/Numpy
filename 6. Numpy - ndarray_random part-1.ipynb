{
 "cells": [
  {
   "cell_type": "code",
   "execution_count": null,
   "id": "23208936-c5f3-4939-b016-9f72de4a678d",
   "metadata": {},
   "outputs": [],
   "source": [
    "# creating an objects of using random module functions\n",
    "# symtax-1: numpy.random.randint(Value)-------------> Random Integer number between 0 to value-1 "
   ]
  },
  {
   "cell_type": "code",
   "execution_count": 3,
   "id": "2da8178f-1062-4215-8a99-dc8079590ac5",
   "metadata": {},
   "outputs": [
    {
     "name": "stdout",
     "output_type": "stream",
     "text": [
      "4 <class 'int'>\n",
      "6 <class 'int'>\n",
      "3 <class 'int'>\n",
      "5 <class 'int'>\n"
     ]
    }
   ],
   "source": [
    "import numpy as np\n",
    "a=np.random.randint(5) # It take 0 to n-1\n",
    "print(a,type(a))\n",
    "a=np.random.randint(8)\n",
    "print(a,type(a))\n",
    "a=np.random.randint(4)\n",
    "print(a,type(a))\n",
    "a=np.random.randint(10)\n",
    "print(a,type(a))"
   ]
  },
  {
   "cell_type": "code",
   "execution_count": null,
   "id": "b9816abd-3105-472a-a335-62bdc7bef989",
   "metadata": {},
   "outputs": [],
   "source": [
    "a = random.randint(1,3)"
   ]
  },
  {
   "cell_type": "code",
   "execution_count": null,
   "id": "059c3cca-6543-4a85-be3e-74af48491b86",
   "metadata": {},
   "outputs": [],
   "source": []
  },
  {
   "cell_type": "code",
   "execution_count": 2,
   "id": "1573f58d-30a4-4241-be26-d72464a8f8c5",
   "metadata": {},
   "outputs": [
    {
     "name": "stdout",
     "output_type": "stream",
     "text": [
      "8 <class 'int'>\n",
      "0 <class 'int'>\n",
      "6 <class 'int'>\n",
      "9 <class 'int'>\n",
      "5 <class 'int'>\n",
      "2 <class 'int'>\n",
      "8 <class 'int'>\n",
      "8 <class 'int'>\n",
      "2 <class 'int'>\n",
      "9 <class 'int'>\n"
     ]
    }
   ],
   "source": [
    "for i in range(10):\n",
    "    a=np.random.randint(10)\n",
    "    print(a,type(a))"
   ]
  },
  {
   "cell_type": "code",
   "execution_count": 10,
   "id": "8d6e0f20-86cd-4c8c-8075-63426d237005",
   "metadata": {},
   "outputs": [
    {
     "name": "stdout",
     "output_type": "stream",
     "text": [
      "286 <class 'int'>\n",
      "948 <class 'int'>\n"
     ]
    }
   ],
   "source": [
    "# Generating three digit number\n",
    "a=np.random.randint(100,1000)\n",
    "print(a,type(a))"
   ]
  },
  {
   "cell_type": "code",
   "execution_count": null,
   "id": "c3dac7f4-3343-4475-a30f-29af5192cc95",
   "metadata": {},
   "outputs": [],
   "source": [
    "# Syntax-2\n",
    "# numpy.random.randint(Low,High)----> Random number between Low to High-1"
   ]
  },
  {
   "cell_type": "code",
   "execution_count": 14,
   "id": "99b88c86-019a-429f-b911-f02967ba5022",
   "metadata": {},
   "outputs": [
    {
     "name": "stdout",
     "output_type": "stream",
     "text": [
      "723 <class 'int'>\n",
      "----------\n",
      "373 <class 'int'>\n",
      "----------\n",
      "483 <class 'int'>\n",
      "----------\n",
      "863 <class 'int'>\n",
      "----------\n",
      "255 <class 'int'>\n",
      "----------\n"
     ]
    }
   ],
   "source": [
    "for i in range(5):\n",
    "    n=np.random.randint(100,1000)\n",
    "    print(n,type(n))\n",
    "    print('-'*10)"
   ]
  },
  {
   "cell_type": "code",
   "execution_count": 18,
   "id": "ca6561af-16b7-45a2-8324-e6bbb4cf98ed",
   "metadata": {},
   "outputs": [
    {
     "name": "stdout",
     "output_type": "stream",
     "text": [
      "8016 <class 'int'>\n"
     ]
    }
   ],
   "source": [
    "# Generating four digit number\n",
    "a=np.random.randint(1000,10000)\n",
    "print(a,type(a))"
   ]
  },
  {
   "cell_type": "code",
   "execution_count": 17,
   "id": "8384822f-e1d4-400e-91a1-4efa328d9282",
   "metadata": {},
   "outputs": [
    {
     "name": "stdout",
     "output_type": "stream",
     "text": [
      "6445 <class 'int'>\n",
      "----------\n",
      "4651 <class 'int'>\n",
      "----------\n",
      "6188 <class 'int'>\n",
      "----------\n",
      "2398 <class 'int'>\n",
      "----------\n",
      "4286 <class 'int'>\n",
      "----------\n"
     ]
    }
   ],
   "source": [
    "for i in range(5):\n",
    "    n=np.random.randint(1000,10000)\n",
    "    print(n,type(n))\n",
    "    print('-'*10)"
   ]
  },
  {
   "cell_type": "code",
   "execution_count": 19,
   "id": "883d7b12-3d50-409c-ac70-8779f893832d",
   "metadata": {},
   "outputs": [
    {
     "name": "stdout",
     "output_type": "stream",
     "text": [
      "46386 <class 'int'>\n"
     ]
    }
   ],
   "source": [
    "# Generating 5 digit number otp\n",
    "a=np.random.randint(10000,100000)\n",
    "print(a,type(a))"
   ]
  },
  {
   "cell_type": "code",
   "execution_count": 29,
   "id": "fcc225c1-1ad4-4662-b60c-dbdb2d51f39e",
   "metadata": {},
   "outputs": [
    {
     "name": "stdout",
     "output_type": "stream",
     "text": [
      "otp-1 : 62654\n",
      "otp-2 : 59000\n",
      "otp-3 : 61527\n",
      "otp-4 : 55107\n",
      "otp-5 : 61658\n",
      "otp-6 : 88722\n",
      "otp-7 : 97108\n",
      "otp-8 : 55958\n",
      "otp-9 : 34478\n",
      "otp-10 : 26969\n"
     ]
    }
   ],
   "source": [
    "for i in range(1,11):\n",
    "    b=np.random.randint(10000,100000)\n",
    "    print(f'otp-{i} : {b}')"
   ]
  },
  {
   "cell_type": "code",
   "execution_count": null,
   "id": "4b28e98d-eff6-49c8-bcea-e0effaa10e79",
   "metadata": {},
   "outputs": [],
   "source": [
    "# Syntax-3\n",
    "# numpy.random.randint(Low,High,size-- Random number between Low to High-1 with size(1-D,2-D, n-D)"
   ]
  },
  {
   "cell_type": "code",
   "execution_count": 33,
   "id": "1a6c2e70-02b8-416b-942d-e989f5d39d8b",
   "metadata": {},
   "outputs": [
    {
     "name": "stdout",
     "output_type": "stream",
     "text": [
      "[1 3] <class 'numpy.ndarray'>\n",
      "Dimension = 1\n",
      "Shape = (2,)\n",
      "Size = 2\n"
     ]
    }
   ],
   "source": [
    "import numpy as np\n",
    "a=np.random.randint(1,10,size=2)\n",
    "print(a,type(a))\n",
    "print(\"Dimension =\", a.ndim)\n",
    "print(\"Shape =\", a.shape)\n",
    "print(\"Size =\", a.size)"
   ]
  },
  {
   "cell_type": "code",
   "execution_count": 36,
   "id": "c9be71c9-bc62-4533-b24e-0fe6379c430f",
   "metadata": {},
   "outputs": [
    {
     "name": "stdout",
     "output_type": "stream",
     "text": [
      "[[1 6]\n",
      " [2 2]\n",
      " [5 6]] <class 'numpy.ndarray'>\n",
      "Dimension = 2\n",
      "Shape = (3, 2)\n",
      "Size = 6\n"
     ]
    }
   ],
   "source": [
    "a=np.random.randint(1,10,size=(3,2))\n",
    "print(a,type(a))\n",
    "print(\"Dimension =\", a.ndim)\n",
    "print(\"Shape =\", a.shape)\n",
    "print(\"Size =\", a.size)"
   ]
  },
  {
   "cell_type": "code",
   "execution_count": 37,
   "id": "c67a4b08-1356-47a2-a3ec-f3c7a31a7c32",
   "metadata": {},
   "outputs": [
    {
     "name": "stdout",
     "output_type": "stream",
     "text": [
      "[[[6 2 8 1]\n",
      "  [2 2 7 5]\n",
      "  [7 7 6 6]]\n",
      "\n",
      " [[7 3 7 4]\n",
      "  [8 9 6 3]\n",
      "  [5 7 6 6]]] <class 'numpy.ndarray'>\n",
      "Dimension = 3\n",
      "Shape = (2, 3, 4)\n",
      "Size = 24\n"
     ]
    }
   ],
   "source": [
    "a=np.random.randint(1,10,size=(2,3,4))\n",
    "print(a,type(a))\n",
    "print(\"Dimension =\", a.ndim)\n",
    "print(\"Shape =\", a.shape)\n",
    "print(\"Size =\", a.size)"
   ]
  },
  {
   "cell_type": "code",
   "execution_count": 39,
   "id": "be157266-dac1-4c48-bfcd-cc7eaf553619",
   "metadata": {},
   "outputs": [
    {
     "name": "stdout",
     "output_type": "stream",
     "text": [
      "[[12 19 14 14]\n",
      " [10 10 15 19]\n",
      " [12 16 11 16]] <class 'numpy.ndarray'>\n",
      "Dimension = 2\n",
      "Shape = (3, 4)\n",
      "Size = 12\n"
     ]
    }
   ],
   "source": [
    "a=np.random.randint(10,21,size=(3,4))\n",
    "print(a,type(a))\n",
    "print(\"Dimension =\", a.ndim)\n",
    "print(\"Shape =\", a.shape)\n",
    "print(\"Size =\", a.size)"
   ]
  },
  {
   "cell_type": "code",
   "execution_count": 50,
   "id": "3c352503-50ce-4b7b-b119-3c9beaf6d8c3",
   "metadata": {},
   "outputs": [
    {
     "name": "stdout",
     "output_type": "stream",
     "text": [
      "1 Times: \n",
      "[[179 101 197 160]\n",
      " [152 147 149 156]\n",
      " [130 100 124 193]]\n",
      "-------------------------\n",
      "2 Times: \n",
      "[[184 174 136 124]\n",
      " [192 191 194 109]\n",
      " [120 121 192 148]]\n",
      "-------------------------\n",
      "3 Times: \n",
      "[[144 175 181 186]\n",
      " [168 188 127 105]\n",
      " [151 152 120 127]]\n",
      "-------------------------\n",
      "4 Times: \n",
      "[[111 111 131 166]\n",
      " [165 111 116 141]\n",
      " [143 171 143 172]]\n",
      "-------------------------\n",
      "5 Times: \n",
      "[[102 166 176 173]\n",
      " [174 159 139 114]\n",
      " [153 181 140 107]]\n",
      "-------------------------\n"
     ]
    }
   ],
   "source": [
    "for i in range(1,6):\n",
    "    k=np.random.randint(100,200,size=(3,4))\n",
    "    print(f'{i} Times: \\n{k}')\n",
    "    print('-'*25)"
   ]
  },
  {
   "cell_type": "code",
   "execution_count": 52,
   "id": "9583699c-2ab5-4971-b8d7-8bae4ac20682",
   "metadata": {},
   "outputs": [
    {
     "name": "stdout",
     "output_type": "stream",
     "text": [
      "[2 1 2 1] <class 'numpy.ndarray'>\n",
      "Dim of a= 1\n",
      "Shape of a= (4,)\n"
     ]
    }
   ],
   "source": [
    "# Here 1.2 taken as 1 and 3.4 taken 3 i.e Integer values\n",
    "a=np.random.randint(1.2,3.4,size=4)\n",
    "print(a,type(a))\n",
    "print(\"Dim of a=\",a.ndim)\n",
    "print(\"Shape of a=\",a.shape)\n"
   ]
  },
  {
   "cell_type": "code",
   "execution_count": null,
   "id": "51e1ad4a-f5bd-4ec5-9516-0df5390c20ab",
   "metadata": {},
   "outputs": [],
   "source": [
    "# create an object of ndarray by using rand()\n",
    "# Syntax-1: numpy.random.rand()--->Generating Any random floating point value between 0.0 to 1.0."
   ]
  },
  {
   "cell_type": "code",
   "execution_count": 54,
   "id": "4c8d48b2-1dab-4e7e-b3c9-755b4ebe3e80",
   "metadata": {},
   "outputs": [
    {
     "name": "stdout",
     "output_type": "stream",
     "text": [
      "0.7961010827109928 <class 'float'>\n"
     ]
    }
   ],
   "source": [
    "a=np.random.rand()\n",
    "print(a,type(a))"
   ]
  },
  {
   "cell_type": "code",
   "execution_count": 55,
   "id": "275c9be0-827d-4664-8c3e-6adb031647d3",
   "metadata": {},
   "outputs": [
    {
     "name": "stdout",
     "output_type": "stream",
     "text": [
      "0.6905122307907897 <class 'float'>\n"
     ]
    }
   ],
   "source": [
    "a=np.random.rand()\n",
    "print(a,type(a))"
   ]
  },
  {
   "cell_type": "code",
   "execution_count": 58,
   "id": "ad8a6088-f47e-4e40-80fd-a326aaa641fb",
   "metadata": {},
   "outputs": [
    {
     "name": "stdout",
     "output_type": "stream",
     "text": [
      "0.6083014201004323 <class 'float'>\n",
      "0.1472517495720017 <class 'float'>\n",
      "0.4941712107678441 <class 'float'>\n",
      "0.14367599731736824 <class 'float'>\n",
      "0.7023393207282126 <class 'float'>\n",
      "0.5967390064496778 <class 'float'>\n",
      "0.8305430207166041 <class 'float'>\n",
      "0.8237016690705242 <class 'float'>\n",
      "0.09183161313761345 <class 'float'>\n",
      "0.9472433417151548 <class 'float'>\n"
     ]
    }
   ],
   "source": [
    "for i in range(10):\n",
    "    n=np.random.rand()\n",
    "    print(n,type(n))"
   ]
  },
  {
   "cell_type": "code",
   "execution_count": 63,
   "id": "194ecd18-3cb3-4ab4-ae89-c8f45f5f9557",
   "metadata": {},
   "outputs": [
    {
     "name": "stdout",
     "output_type": "stream",
     "text": [
      "0.23\n",
      "0.97\n",
      "0.34\n",
      "0.91\n",
      "0.35\n",
      "0.39\n",
      "0.69\n",
      "0.53\n",
      "0.53\n",
      "0.94\n"
     ]
    }
   ],
   "source": [
    "for i in range(10):\n",
    "    a=np.random.rand()\n",
    "    print(\"%0.2f\" %a)"
   ]
  },
  {
   "cell_type": "code",
   "execution_count": 65,
   "id": "a6122c85-b2ee-4f46-8dd6-6885f71b53ea",
   "metadata": {},
   "outputs": [
    {
     "name": "stdout",
     "output_type": "stream",
     "text": [
      "0.08\n",
      "0.15\n",
      "0.46\n",
      "0.83\n",
      "0.38\n",
      "0.97\n",
      "0.32\n",
      "0.85\n",
      "0.04\n",
      "0.37\n"
     ]
    }
   ],
   "source": [
    "for i in range(10):\n",
    "    k=np.random.rand()\n",
    "    print(round(k,2))"
   ]
  },
  {
   "cell_type": "code",
   "execution_count": null,
   "id": "69281202-80a0-42b8-a877-a8f9bf883b7b",
   "metadata": {},
   "outputs": [],
   "source": [
    "#Syntax-2: numpy.random.rand(value)--->\n",
    "#Generating Number of Random floating Values (Value times) between 0.0 to 1.0 with 1-D"
   ]
  },
  {
   "cell_type": "code",
   "execution_count": 69,
   "id": "41fd597b-d364-4af0-9d8b-63d221b9833c",
   "metadata": {},
   "outputs": [
    {
     "name": "stdout",
     "output_type": "stream",
     "text": [
      "[0.52466636 0.44832183] <class 'numpy.ndarray'>\n",
      "Dimension = 1\n",
      "Shape = (2,)\n",
      "Size = 2\n"
     ]
    }
   ],
   "source": [
    "a=np.random.rand(2)\n",
    "print(a,type(a))\n",
    "print(\"Dimension =\", a.ndim)\n",
    "print(\"Shape =\", a.shape)\n",
    "print(\"Size =\", a.size)"
   ]
  },
  {
   "cell_type": "code",
   "execution_count": 72,
   "id": "d2d06db9-f4a0-42b1-8511-64db904873f1",
   "metadata": {},
   "outputs": [
    {
     "name": "stdout",
     "output_type": "stream",
     "text": [
      "[0.41040236 0.0812536  0.77068085 0.99404815 0.37854699 0.85160539\n",
      " 0.86017617 0.94840548 0.94838579 0.64807361]\n",
      "<class 'numpy.ndarray'>\n",
      "Dimension = 1\n",
      "Shape = (10,)\n",
      "Size = 10\n"
     ]
    }
   ],
   "source": [
    "a=np.random.rand(10)\n",
    "print(a)\n",
    "print(type(a))\n",
    "print(\"Dimension =\", a.ndim)\n",
    "print(\"Shape =\", a.shape)\n",
    "print(\"Size =\", a.size)"
   ]
  },
  {
   "cell_type": "code",
   "execution_count": 74,
   "id": "6c87f574-6398-43d4-8e54-5667af90c959",
   "metadata": {},
   "outputs": [
    {
     "name": "stdout",
     "output_type": "stream",
     "text": [
      "[[0.28277077 0.56629332 0.84116589 0.25619317]\n",
      " [0.23097835 0.39828731 0.93821735 0.62798441]\n",
      " [0.4141057  0.00453133 0.19183768 0.44071739]] <class 'numpy.ndarray'>\n",
      "Dimension = 2\n",
      "Shape = (3, 4)\n",
      "Size = 12\n"
     ]
    }
   ],
   "source": [
    "a=np.random.rand(3,4)\n",
    "print(a,type(a))\n",
    "print(\"Dimension =\", a.ndim)\n",
    "print(\"Shape =\", a.shape)\n",
    "print(\"Size =\", a.size)"
   ]
  },
  {
   "cell_type": "code",
   "execution_count": 75,
   "id": "7675b892-8407-4a7f-a209-763fa83cd0b7",
   "metadata": {},
   "outputs": [
    {
     "name": "stdout",
     "output_type": "stream",
     "text": [
      "[[0.00205868 0.4173691  0.46680843]\n",
      " [0.9543205  0.12248517 0.24087747]\n",
      " [0.65074378 0.36451439 0.21279593]\n",
      " [0.71675008 0.67779929 0.33970729]]\n",
      "<class 'numpy.ndarray'>\n"
     ]
    }
   ],
   "source": [
    "s=np.random.rand(4,3)\n",
    "print(s)\n",
    "print(type(s))"
   ]
  },
  {
   "cell_type": "code",
   "execution_count": 76,
   "id": "6515ce20-ab85-405f-9f53-8c817b72ab8b",
   "metadata": {},
   "outputs": [
    {
     "name": "stdout",
     "output_type": "stream",
     "text": [
      "0.28 0.57 0.84 0.26 \n",
      "0.23 0.40 0.94 0.63 \n",
      "0.41 0.00 0.19 0.44 \n"
     ]
    }
   ],
   "source": [
    "for i in range(len(a)):\n",
    "    for j in range(len(a[0])):\n",
    "        print(\"%0.2f\" %a[i,j],end=' ')\n",
    "    print()"
   ]
  },
  {
   "cell_type": "code",
   "execution_count": 77,
   "id": "fc9020e1-d02b-4bee-bbbd-e4ee1589eeb2",
   "metadata": {},
   "outputs": [
    {
     "name": "stdout",
     "output_type": "stream",
     "text": [
      "[[[0.34882129 0.47980042]\n",
      "  [0.46207968 0.87204549]\n",
      "  [0.01428223 0.73560561]\n",
      "  [0.44836756 0.98785663]]\n",
      "\n",
      " [[0.46003476 0.3765065 ]\n",
      "  [0.9568863  0.65541588]\n",
      "  [0.31636938 0.79491892]\n",
      "  [0.25187106 0.90728244]]\n",
      "\n",
      " [[0.85801471 0.88818576]\n",
      "  [0.00181835 0.90980883]\n",
      "  [0.07362689 0.2976028 ]\n",
      "  [0.78436099 0.62937572]]]\n",
      "<class 'numpy.ndarray'>\n"
     ]
    }
   ],
   "source": [
    "a=np.random.rand(3,4,2)\n",
    "print(a)\n",
    "print(type(a))"
   ]
  },
  {
   "cell_type": "code",
   "execution_count": null,
   "id": "54b22f7c-ed51-461f-8d16-bf9ccebc277e",
   "metadata": {},
   "outputs": [],
   "source": [
    "# Syntax-1: numpy.random.uniform()\n",
    "# Generating Any random floating point value between 0.0 to 1.0."
   ]
  },
  {
   "cell_type": "code",
   "execution_count": 78,
   "id": "63577ae5-5ae3-4820-b52d-4a8b59131cbb",
   "metadata": {},
   "outputs": [
    {
     "name": "stdout",
     "output_type": "stream",
     "text": [
      "0.22395393511806316 <class 'float'>\n"
     ]
    }
   ],
   "source": [
    "import numpy as np\n",
    "a=np.random.uniform()\n",
    "print(a,type(a))"
   ]
  },
  {
   "cell_type": "code",
   "execution_count": 79,
   "id": "d75d70c9-8120-49ed-916e-f2463978831c",
   "metadata": {},
   "outputs": [
    {
     "name": "stdout",
     "output_type": "stream",
     "text": [
      "0.38942850316572564 <class 'float'>\n"
     ]
    }
   ],
   "source": [
    "a=np.random.uniform()\n",
    "print(a,type(a))"
   ]
  },
  {
   "cell_type": "code",
   "execution_count": 82,
   "id": "2241926c-1b42-43c4-84d1-243b4cbda2ce",
   "metadata": {},
   "outputs": [
    {
     "name": "stdout",
     "output_type": "stream",
     "text": [
      "0.09208151130708464 <class 'float'>\n",
      "0.7603166007986423 <class 'float'>\n",
      "0.8421908959785463 <class 'float'>\n",
      "0.1232045732682957 <class 'float'>\n",
      "0.016834131299812705 <class 'float'>\n",
      "0.537684521011166 <class 'float'>\n",
      "0.9352938311827192 <class 'float'>\n",
      "0.29570055683494245 <class 'float'>\n",
      "0.951972978312742 <class 'float'>\n",
      "0.08763536840623565 <class 'float'>\n"
     ]
    }
   ],
   "source": [
    "for i in range(10):\n",
    "    a=np.random.uniform()\n",
    "    print(a,type(a))"
   ]
  },
  {
   "cell_type": "code",
   "execution_count": null,
   "id": "a12aab6b-ae7e-49b5-b4b4-640fc33e097c",
   "metadata": {},
   "outputs": [],
   "source": [
    "#Syntax-2: numpy.random.unform(low,high)\n",
    "#--->Generating Any random floating point value between low and high"
   ]
  },
  {
   "cell_type": "code",
   "execution_count": 83,
   "id": "fc62b9ff-6895-445e-b3b5-a112d5e32d70",
   "metadata": {},
   "outputs": [
    {
     "name": "stdout",
     "output_type": "stream",
     "text": [
      "1.3271964904516578 <class 'float'>\n"
     ]
    }
   ],
   "source": [
    "a=np.random.uniform(1.2,3.5)\n",
    "print(a,type(a))"
   ]
  },
  {
   "cell_type": "code",
   "execution_count": 85,
   "id": "8d2baaa4-5eb8-4458-9afc-3e6e2ceb04e5",
   "metadata": {},
   "outputs": [
    {
     "name": "stdout",
     "output_type": "stream",
     "text": [
      "5.564218360783654 <class 'float'>\n",
      "5.340956764986208 <class 'float'>\n",
      "5.429945828859037 <class 'float'>\n",
      "5.31317167124979 <class 'float'>\n",
      "5.412123242101913 <class 'float'>\n",
      "5.531372777741397 <class 'float'>\n",
      "5.586841461704443 <class 'float'>\n",
      "5.556291034213839 <class 'float'>\n",
      "5.626732422249841 <class 'float'>\n",
      "5.359954733082651 <class 'float'>\n"
     ]
    }
   ],
   "source": [
    "for i in range(10):\n",
    "    k=np.random.uniform(5.3,5.7)\n",
    "    print(k,type(k))"
   ]
  },
  {
   "cell_type": "code",
   "execution_count": 86,
   "id": "771a2a43-3a7c-4818-a742-f0b4492897e1",
   "metadata": {},
   "outputs": [
    {
     "name": "stdout",
     "output_type": "stream",
     "text": [
      "1.5785466284397942 <class 'float'>\n",
      "1.5368929265728692 <class 'float'>\n",
      "1.5218672283637324 <class 'float'>\n",
      "1.5622737775802529 <class 'float'>\n",
      "1.5694226144818515 <class 'float'>\n",
      "1.5754992866648 <class 'float'>\n",
      "1.5234146634879557 <class 'float'>\n",
      "1.594940918280337 <class 'float'>\n",
      "1.5957366303132408 <class 'float'>\n",
      "1.5212513095600857 <class 'float'>\n"
     ]
    }
   ],
   "source": [
    "for i in range(1,11):\n",
    "    x=np.random.uniform(1.5,1.6)\n",
    "    print(x,type(x))"
   ]
  },
  {
   "cell_type": "code",
   "execution_count": null,
   "id": "0f600c6b-69bb-4640-8843-370eee09b9ce",
   "metadata": {},
   "outputs": [],
   "source": [
    "#Syntax-3: numpy.random.uniform(low,high,size)\n",
    "#--->Generating Number of Random floating Values (Row, Cols) "
   ]
  },
  {
   "cell_type": "code",
   "execution_count": 87,
   "id": "0f00445e-6a2b-486c-8cf2-3d4d3bc5ac19",
   "metadata": {},
   "outputs": [
    {
     "name": "stdout",
     "output_type": "stream",
     "text": [
      "[1.32837746 1.41948187 1.79542219 1.5855555  1.21234447 1.51696419]\n",
      "<class 'numpy.ndarray'>\n"
     ]
    }
   ],
   "source": [
    "a=np.random.uniform(1.2,1.8,size=6)\n",
    "print(a)\n",
    "print(type(a))"
   ]
  },
  {
   "cell_type": "code",
   "execution_count": 88,
   "id": "44a37a89-6715-43bb-a04a-f5a5a25a9a54",
   "metadata": {},
   "outputs": [
    {
     "name": "stdout",
     "output_type": "stream",
     "text": [
      "[[2.73929387 2.63048255]\n",
      " [2.66086903 2.56465691]\n",
      " [2.47491689 2.4669648 ]]\n",
      "<class 'numpy.ndarray'>\n"
     ]
    }
   ],
   "source": [
    "b=np.random.uniform(2.3,2.8,size=(3,2))\n",
    "print(b)\n",
    "print(type(b))"
   ]
  },
  {
   "cell_type": "code",
   "execution_count": 89,
   "id": "0aa0fc5b-3884-4a80-b63d-2f095765c538",
   "metadata": {},
   "outputs": [
    {
     "name": "stdout",
     "output_type": "stream",
     "text": [
      "[[[2.54846238 2.41307683]\n",
      "  [2.3502877  2.74022664]\n",
      "  [2.55855129 2.56140895]]\n",
      "\n",
      " [[2.46862524 2.70609804]\n",
      "  [2.76931882 2.56317952]\n",
      "  [2.68695037 2.38484183]]]\n",
      "<class 'numpy.ndarray'>\n"
     ]
    }
   ],
   "source": [
    "b=np.random.uniform(2.3,2.8,size=(2,3,2))\n",
    "print(b)\n",
    "print(type(b))"
   ]
  },
  {
   "cell_type": "code",
   "execution_count": 90,
   "id": "778a9437-a194-41bf-9fdb-54706f379f92",
   "metadata": {},
   "outputs": [
    {
     "name": "stdout",
     "output_type": "stream",
     "text": [
      "[[[2.46856638 2.59942927 2.77206144]\n",
      "  [2.79741423 2.38600835 2.39691881]]\n",
      "\n",
      " [[2.39618663 2.73185944 2.4713776 ]\n",
      "  [2.30389526 2.63636598 2.39514108]]\n",
      "\n",
      " [[2.79239852 2.33070687 2.72823258]\n",
      "  [2.42465617 2.64214668 2.52455217]]\n",
      "\n",
      " [[2.4228836  2.51787259 2.62356045]\n",
      "  [2.72018805 2.37216721 2.77732897]]]\n",
      "<class 'numpy.ndarray'>\n"
     ]
    }
   ],
   "source": [
    "b=np.random.uniform(2.3,2.8,size=(4,2,3))\n",
    "print(b)\n",
    "print(type(b))"
   ]
  },
  {
   "cell_type": "code",
   "execution_count": null,
   "id": "caed65ba-2bde-447f-9828-16ab1d8e1239",
   "metadata": {},
   "outputs": [],
   "source": []
  }
 ],
 "metadata": {
  "kernelspec": {
   "display_name": "Python 3 (ipykernel)",
   "language": "python",
   "name": "python3"
  },
  "language_info": {
   "codemirror_mode": {
    "name": "ipython",
    "version": 3
   },
   "file_extension": ".py",
   "mimetype": "text/x-python",
   "name": "python",
   "nbconvert_exporter": "python",
   "pygments_lexer": "ipython3",
   "version": "3.12.6"
  }
 },
 "nbformat": 4,
 "nbformat_minor": 5
}
