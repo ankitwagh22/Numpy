{
 "cells": [
  {
   "cell_type": "markdown",
   "id": "aa877223-6490-4201-9ec7-47708cfa1c99",
   "metadata": {},
   "source": [
    "# In This file we practice copy() and view() function in Numpy"
   ]
  },
  {
   "cell_type": "code",
   "execution_count": 8,
   "id": "0b759329-4ca2-4771-885f-a943d700e7ed",
   "metadata": {},
   "outputs": [
    {
     "name": "stdout",
     "output_type": "stream",
     "text": [
      "content of array1 is = [ 1  2  3  4  5  6  7  8  9 10]\n",
      "Id of array1 is = 2294188106320\n",
      "------------------\n",
      "Content of array2 is = [ 1  2  3  4  5  6  7  8  9 10]\n",
      "Id of array2 is = 2294291152592\n"
     ]
    }
   ],
   "source": [
    "# copy() function\n",
    "import numpy as np\n",
    "arr1 = np.arange(1,11)\n",
    "print(\"content of array1 is =\", arr1)\n",
    "print(\"Id of array1 is =\", id(arr1))\n",
    "print('------------------')\n",
    "\n",
    "# copy the content of arr1 to arr2\n",
    "arr2 = np.copy(arr1)\n",
    "print(\"Content of array2 is =\", arr2)\n",
    "print(\"Id of array2 is =\", id(arr2))"
   ]
  },
  {
   "cell_type": "code",
   "execution_count": 13,
   "id": "945cbb41-6337-4808-8049-58b0761f0862",
   "metadata": {},
   "outputs": [
    {
     "name": "stdout",
     "output_type": "stream",
     "text": [
      "Array1 after change = [99  2  3  4  5  6  7  8  9 10]\n",
      "Id of Array1 = 2294188106320\n",
      "---------------\n",
      "Array2 is = [ 1  2  3  4  5  6  7  8  9 78]\n",
      "Id of Array2 = 2294291152592\n"
     ]
    }
   ],
   "source": [
    "# changing the content of arr1\n",
    "arr1[0] = 99\n",
    "print(\"Array1 after change =\", arr1)\n",
    "print(\"Id of Array1 =\", id(arr1))\n",
    "print('---------------')\n",
    "\n",
    "# check arr2 content is change or not\n",
    "print(\"Array2 is =\", arr2)\n",
    "print(\"Id of Array2 =\", id(arr2))"
   ]
  },
  {
   "cell_type": "code",
   "execution_count": 11,
   "id": "e5c0db45-a4b2-4a59-b3e9-73a0ee64e4aa",
   "metadata": {},
   "outputs": [
    {
     "name": "stdout",
     "output_type": "stream",
     "text": [
      "Array2 after change = [ 1  2  3  4  5  6  7  8  9 78]\n",
      "Array1 is = [99  2  3  4  5  6  7  8  9 10]\n"
     ]
    }
   ],
   "source": [
    "# changing the content of arr2 (copy object)\n",
    "arr2[-1] = 78\n",
    "print(\"Array2 after change =\", arr2)\n",
    "\n",
    "# check arr1 content is change or not\n",
    "print(\"Array1 is =\", arr1)"
   ]
  },
  {
   "cell_type": "code",
   "execution_count": 26,
   "id": "e285bcca-d04d-41ed-a7c5-d4ec9af1aec5",
   "metadata": {},
   "outputs": [
    {
     "name": "stdout",
     "output_type": "stream",
     "text": [
      "Base of array2 is = None\n"
     ]
    }
   ],
   "source": [
    "# Shallow Copied does not contain Base\n",
    "print(\"Base of array2 is =\", arr2.base)"
   ]
  },
  {
   "cell_type": "code",
   "execution_count": 18,
   "id": "e49a9acc-10b8-40ca-ba8d-9857e1cb7032",
   "metadata": {},
   "outputs": [
    {
     "name": "stdout",
     "output_type": "stream",
     "text": [
      "content of array1 is = [1 2 3 4 5]\n",
      "Id of array1 is = 2294298206320\n",
      "-----------------\n",
      "content of array2 is = [1 2 3 4 5]\n",
      "Id of array2 is = 2294298206608\n"
     ]
    }
   ],
   "source": [
    "# view() function\n",
    "import numpy as np\n",
    "a1 = np.arange(1,6)\n",
    "print(\"content of array1 is =\", a1)\n",
    "print(\"Id of array1 is =\", id(a1))\n",
    "print('-----------------')\n",
    "\n",
    "# view the content of a1 into a2--by using view() which is present in an object of ndarray\n",
    "# view() does not exist in numpy module\n",
    "a2 = a1.view()\n",
    "print(\"content of array2 is =\", a2)\n",
    "print(\"Id of array2 is =\", id(a2))"
   ]
  },
  {
   "cell_type": "code",
   "execution_count": 22,
   "id": "cf7b0dc2-cc74-486a-b06b-8707783ef6c9",
   "metadata": {},
   "outputs": [
    {
     "name": "stdout",
     "output_type": "stream",
     "text": [
      "content of array1 is = [100   2   3   4   5]\n",
      "Id of array1 is = 2294298206320\n",
      "------------------\n",
      "content of array2 is = [100   2   3   4   5]\n",
      "Id of array1 is = 2294298206608\n"
     ]
    }
   ],
   "source": [
    "# modify the content of a1\n",
    "a1[0] = 100\n",
    "print(\"content of array1 is =\", a1)\n",
    "print(\"Id of array1 is =\", id(a1))\n",
    "print('------------------')\n",
    "\n",
    "# check a2 array is affected or not\n",
    "print(\"content of array2 is =\", a2)\n",
    "print(\"Id of array1 is =\", id(a2))"
   ]
  },
  {
   "cell_type": "code",
   "execution_count": 24,
   "id": "573accb2-52a6-4133-a004-c841e333ea50",
   "metadata": {},
   "outputs": [
    {
     "name": "stdout",
     "output_type": "stream",
     "text": [
      "content of array2 is = [100   2   3   4 500]\n",
      "Id of array2 is = 2294298206608\n",
      "------------------\n",
      "content of array2 is = [100   2   3   4 500]\n",
      "Id of array1 is = 2294298206320\n"
     ]
    }
   ],
   "source": [
    "# now modifying the content of view obejct a2\n",
    "a2[-1] = 500\n",
    "print(\"content of array2 is =\", a2)\n",
    "print(\"Id of array2 is =\", id(a2))\n",
    "print('------------------')\n",
    "\n",
    "# check original array is affected or not\n",
    "print(\"content of array2 is =\", a1)\n",
    "print(\"Id of array1 is =\", id(a1))"
   ]
  },
  {
   "cell_type": "code",
   "execution_count": 25,
   "id": "9f147c0d-92cd-49f9-a691-d66def278799",
   "metadata": {},
   "outputs": [
    {
     "name": "stdout",
     "output_type": "stream",
     "text": [
      "Base of View object a2 is = [100   2   3   4 500]\n"
     ]
    }
   ],
   "source": [
    "# Viewd Object Base if its Orignal Data of Original Object\n",
    "print(\"Base of View object a2 is =\", a2.base)"
   ]
  },
  {
   "cell_type": "code",
   "execution_count": null,
   "id": "dc5731fd-880a-4ed7-ba09-f43f877a581a",
   "metadata": {},
   "outputs": [],
   "source": []
  }
 ],
 "metadata": {
  "kernelspec": {
   "display_name": "Python 3 (ipykernel)",
   "language": "python",
   "name": "python3"
  },
  "language_info": {
   "codemirror_mode": {
    "name": "ipython",
    "version": 3
   },
   "file_extension": ".py",
   "mimetype": "text/x-python",
   "name": "python",
   "nbconvert_exporter": "python",
   "pygments_lexer": "ipython3",
   "version": "3.12.6"
  }
 },
 "nbformat": 4,
 "nbformat_minor": 5
}
