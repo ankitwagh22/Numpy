{
 "cells": [
  {
   "cell_type": "code",
   "execution_count": 1,
   "id": "66ba198d-a7c0-4735-9852-1abaa6fbb17c",
   "metadata": {},
   "outputs": [
    {
     "name": "stdout",
     "output_type": "stream",
     "text": [
      "content of a \n",
      " [10 20 30 40 50 60 70 80 90]\n",
      "Dimension of a = 1\n"
     ]
    }
   ],
   "source": [
    "import numpy as np\n",
    "a=np.array(range(10,100,10))\n",
    "print(\"content of a \\n\", a)\n",
    "print(\"Dimension of a =\", a.ndim)"
   ]
  },
  {
   "cell_type": "code",
   "execution_count": 4,
   "id": "ccdabba0-1e0c-42a5-b329-746393251d15",
   "metadata": {},
   "outputs": [
    {
     "name": "stdout",
     "output_type": "stream",
     "text": [
      "10\n",
      "20\n",
      "30\n",
      "40\n",
      "50\n",
      "60\n",
      "70\n",
      "80\n",
      "90\n"
     ]
    }
   ],
   "source": [
    "# iterating on 1-D array using for loop\n",
    "for val in a:\n",
    "    print(val)"
   ]
  },
  {
   "cell_type": "code",
   "execution_count": 5,
   "id": "46de1528-e29a-4fe3-a5c5-fbeb853d169f",
   "metadata": {},
   "outputs": [
    {
     "name": "stdout",
     "output_type": "stream",
     "text": [
      "10\n",
      "20\n",
      "30\n",
      "40\n",
      "50\n",
      "60\n",
      "70\n",
      "80\n",
      "90\n"
     ]
    }
   ],
   "source": [
    "# iterating usig while loop\n",
    "i=0\n",
    "while i<(len(a)):\n",
    "    print(a[i])\n",
    "    i+=1"
   ]
  },
  {
   "cell_type": "code",
   "execution_count": 6,
   "id": "bf839ca3-6730-4f9f-85ae-1f6831c183d9",
   "metadata": {},
   "outputs": [
    {
     "name": "stdout",
     "output_type": "stream",
     "text": [
      "content of a \n",
      " [[1 2 3]\n",
      " [4 5 6]\n",
      " [7 8 9]]\n",
      "Dimension of a = 2\n"
     ]
    }
   ],
   "source": [
    "a=np.arange(1,10).reshape(3,3)\n",
    "print(\"content of a \\n\", a)\n",
    "print(\"Dimension of a =\", a.ndim)"
   ]
  },
  {
   "cell_type": "code",
   "execution_count": 7,
   "id": "5ac66e90-441b-429d-b9e7-c167b3ae522f",
   "metadata": {},
   "outputs": [
    {
     "name": "stdout",
     "output_type": "stream",
     "text": [
      "1\n",
      "2\n",
      "3\n",
      "4\n",
      "5\n",
      "6\n",
      "7\n",
      "8\n",
      "9\n"
     ]
    }
   ],
   "source": [
    "# iterating on 2-D array using for loop\n",
    "for row in a:\n",
    "    for col in row:\n",
    "        print(col)"
   ]
  },
  {
   "cell_type": "code",
   "execution_count": 9,
   "id": "6147677b-3684-4178-9b77-de7436b4118d",
   "metadata": {},
   "outputs": [
    {
     "name": "stdout",
     "output_type": "stream",
     "text": [
      "1\n",
      "2\n",
      "3\n",
      "4\n",
      "5\n",
      "6\n",
      "7\n",
      "8\n",
      "9\n"
     ]
    }
   ],
   "source": [
    "# iterating on 2-D array using while loop\n",
    "r=0\n",
    "while r<(len(a)):\n",
    "    c=0\n",
    "    while c<(len(a[r])):\n",
    "        print(a[r,c])\n",
    "        c+=1\n",
    "    else:\n",
    "        r+=1"
   ]
  },
  {
   "cell_type": "code",
   "execution_count": 12,
   "id": "86962d3d-3bd9-4c21-903d-9c991b6ab757",
   "metadata": {},
   "outputs": [
    {
     "name": "stdout",
     "output_type": "stream",
     "text": [
      "content of array is =\n",
      " [[10 20 30]\n",
      " [40 50 60]\n",
      " [70 80 90]]\n",
      "Dimension of array is = 2\n",
      "---------------------\n",
      "10\n",
      "20\n",
      "30\n",
      "40\n",
      "50\n",
      "60\n",
      "70\n",
      "80\n",
      "90\n"
     ]
    }
   ],
   "source": [
    "arr=np.arange(10,100,10).reshape(3,3)\n",
    "print(\"content of array is =\\n\", arr)\n",
    "print(\"Dimension of array is =\", arr.ndim)\n",
    "print('---------------------')\n",
    "# iterating using while loop \n",
    "r=0\n",
    "while r<(len(arr)):\n",
    "    c=0\n",
    "    while c<(len(arr[r])):\n",
    "        print(arr[r,c])\n",
    "        c+=1\n",
    "    else:\n",
    "        r+=1"
   ]
  },
  {
   "cell_type": "code",
   "execution_count": 14,
   "id": "6dc6bd92-b06e-404e-af4e-b4cc501231f3",
   "metadata": {},
   "outputs": [
    {
     "name": "stdout",
     "output_type": "stream",
     "text": [
      "content of a =\n",
      " [[[ 0  1  2]\n",
      "  [ 3  4  5]\n",
      "  [ 6  7  8]]\n",
      "\n",
      " [[ 9 10 11]\n",
      "  [12 13 14]\n",
      "  [15 16 17]]\n",
      "\n",
      " [[18 19 20]\n",
      "  [21 22 23]\n",
      "  [24 25 26]]]\n",
      "Dimension of a = 3\n"
     ]
    }
   ],
   "source": [
    "# iterating on 3-D array object\n",
    "a=np.arange(3*3*3).reshape(3,3,3)\n",
    "print(\"content of a =\\n\", a)\n",
    "print(\"Dimension of a =\", a.ndim)"
   ]
  },
  {
   "cell_type": "code",
   "execution_count": 24,
   "id": "eee7a01c-891b-408c-901e-1b1da30d2b72",
   "metadata": {},
   "outputs": [
    {
     "name": "stdout",
     "output_type": "stream",
     "text": [
      "0\n",
      "1\n",
      "2\n",
      "3\n",
      "4\n",
      "5\n",
      "6\n",
      "7\n",
      "8\n",
      "----------\n",
      "9\n",
      "10\n",
      "11\n",
      "12\n",
      "13\n",
      "14\n",
      "15\n",
      "16\n",
      "17\n",
      "----------\n",
      "18\n",
      "19\n",
      "20\n",
      "21\n",
      "22\n",
      "23\n",
      "24\n",
      "25\n",
      "26\n",
      "----------\n"
     ]
    }
   ],
   "source": [
    "# using for loop\n",
    "for mat in a:\n",
    "    for row in mat:\n",
    "        for col in row:\n",
    "            print(col)\n",
    "    print('----------')"
   ]
  },
  {
   "cell_type": "code",
   "execution_count": 25,
   "id": "b9748c01-1e1e-4535-a394-2918128d0606",
   "metadata": {},
   "outputs": [
    {
     "name": "stdout",
     "output_type": "stream",
     "text": [
      "0\n",
      "1\n",
      "2\n",
      "3\n",
      "4\n",
      "5\n",
      "6\n",
      "7\n",
      "8\n",
      "9\n",
      "10\n",
      "11\n",
      "12\n",
      "13\n",
      "14\n",
      "15\n",
      "16\n",
      "17\n",
      "18\n",
      "19\n",
      "20\n",
      "21\n",
      "22\n",
      "23\n",
      "24\n",
      "25\n",
      "26\n"
     ]
    }
   ],
   "source": [
    "# iterating on 3-D array object using while loop\n",
    "m=0\n",
    "while m<(len(a)):\n",
    "    r=0\n",
    "    while r<(len(a[m])):\n",
    "        c=0\n",
    "        while c<(len(a[r])):\n",
    "            print(a[m,r,c])\n",
    "            c+=1\n",
    "        else:\n",
    "            r+=1\n",
    "    else:\n",
    "        m+=1"
   ]
  },
  {
   "cell_type": "code",
   "execution_count": 26,
   "id": "8ef86e78-7ff2-4b69-9390-dad32d69e85b",
   "metadata": {},
   "outputs": [
    {
     "name": "stdout",
     "output_type": "stream",
     "text": [
      "content of a\n",
      "[[[10 15 20]\n",
      "  [25 30 35]\n",
      "  [40 45 50]]\n",
      "\n",
      " [[55 60 65]\n",
      "  [70 75 80]\n",
      "  [85 90 95]]]\n",
      "Dim of a= 3\n"
     ]
    }
   ],
   "source": [
    "a=np.array(range(10,100,5)).reshape(2,3,3)\n",
    "print(\"content of a\")\n",
    "print(a)\n",
    "print(\"Dim of a=\",a.ndim)"
   ]
  },
  {
   "cell_type": "code",
   "execution_count": 29,
   "id": "022ea53a-cb79-45c1-ad37-6f9e0554a3d6",
   "metadata": {},
   "outputs": [
    {
     "name": "stdout",
     "output_type": "stream",
     "text": [
      "10\n",
      "15\n",
      "20\n",
      "------------\n",
      "25\n",
      "30\n",
      "35\n",
      "------------\n",
      "40\n",
      "45\n",
      "50\n",
      "------------\n",
      "========================\n",
      "55\n",
      "60\n",
      "65\n",
      "------------\n",
      "70\n",
      "75\n",
      "80\n",
      "------------\n",
      "85\n",
      "90\n",
      "95\n",
      "------------\n",
      "========================\n"
     ]
    }
   ],
   "source": [
    "for matrix in a:\n",
    "    for row in matrix:\n",
    "        for col in row:\n",
    "            print(col)\n",
    "        print('------------')\n",
    "    print('========================') # matrix end"
   ]
  },
  {
   "cell_type": "code",
   "execution_count": 32,
   "id": "6f62ce84-415a-4faf-b157-8e0a229d38ef",
   "metadata": {},
   "outputs": [
    {
     "name": "stdout",
     "output_type": "stream",
     "text": [
      "10\n",
      "15\n",
      "20\n",
      "---------------\n",
      "25\n",
      "30\n",
      "35\n",
      "---------------\n",
      "40\n",
      "45\n",
      "50\n",
      "---------------\n",
      "=================\n",
      "55\n",
      "60\n",
      "65\n",
      "---------------\n",
      "70\n",
      "75\n",
      "80\n",
      "---------------\n",
      "85\n",
      "90\n",
      "95\n",
      "---------------\n",
      "=================\n"
     ]
    }
   ],
   "source": [
    "# now by using while loop\n",
    "m=0\n",
    "while m<(len(a)):\n",
    "    r=0\n",
    "    while r<(len(a[m])):\n",
    "        c=0\n",
    "        while c<(len(a[m,r])):\n",
    "            print(a[m,r,c])\n",
    "            c+=1\n",
    "        else:\n",
    "            print('---------------')\n",
    "            r+=1\n",
    "    else:\n",
    "        print('=================')   # matrix end\n",
    "        m+=1"
   ]
  },
  {
   "cell_type": "code",
   "execution_count": null,
   "id": "46283bc5-053d-4f53-872d-d4b5bbd8197b",
   "metadata": {},
   "outputs": [],
   "source": [
    "# By using numpy.nditer()\n",
    "# Syntax:   for varname in numpy.nditer(ndarrayobj):\n",
    "#                   Block of stmts "
   ]
  },
  {
   "cell_type": "code",
   "execution_count": 33,
   "id": "b441a0ca-50c3-435b-a898-2a7b25ab9094",
   "metadata": {},
   "outputs": [
    {
     "name": "stdout",
     "output_type": "stream",
     "text": [
      "content of a  [10 20 30 40 50 60 70 80 90]\n",
      "Dimension of a = 1\n"
     ]
    }
   ],
   "source": [
    "import numpy as np\n",
    "a=np.array(range(10,100,10))\n",
    "print(\"content of a \", a)\n",
    "print(\"Dimension of a =\", a.ndim)"
   ]
  },
  {
   "cell_type": "code",
   "execution_count": 34,
   "id": "03f67cc9-790c-4258-872c-e36f00cbfe1c",
   "metadata": {},
   "outputs": [
    {
     "name": "stdout",
     "output_type": "stream",
     "text": [
      "10\n",
      "20\n",
      "30\n",
      "40\n",
      "50\n",
      "60\n",
      "70\n",
      "80\n",
      "90\n"
     ]
    }
   ],
   "source": [
    "# using for loop\n",
    "for val in np.nditer(a):\n",
    "    print(val)"
   ]
  },
  {
   "cell_type": "code",
   "execution_count": 40,
   "id": "a9c6db43-8cd6-41db-9105-b4057567b9c6",
   "metadata": {},
   "outputs": [
    {
     "name": "stdout",
     "output_type": "stream",
     "text": [
      "content of a =\n",
      " [[10 20 30]\n",
      " [40 50 60]\n",
      " [70 80 90]]\n",
      "Dimension of a = 2\n",
      "-------------------\n",
      "10\n",
      "20\n",
      "30\n",
      "40\n",
      "50\n",
      "60\n",
      "70\n",
      "80\n",
      "90\n"
     ]
    }
   ],
   "source": [
    "# iterating over 2-d array\n",
    "a=np.arange(10,100,10).reshape(3,3)\n",
    "print(\"content of a =\\n\", a)\n",
    "print(\"Dimension of a =\", a.ndim)\n",
    "print('-------------------')\n",
    "for value in np.nditer(a):\n",
    "    print(value)"
   ]
  },
  {
   "cell_type": "code",
   "execution_count": 42,
   "id": "d4306c93-63c4-4acb-b778-edabaf910506",
   "metadata": {},
   "outputs": [
    {
     "name": "stdout",
     "output_type": "stream",
     "text": [
      "content of a =\n",
      " [[[ 0  1  2]\n",
      "  [ 3  4  5]\n",
      "  [ 6  7  8]]\n",
      "\n",
      " [[ 9 10 11]\n",
      "  [12 13 14]\n",
      "  [15 16 17]]\n",
      "\n",
      " [[18 19 20]\n",
      "  [21 22 23]\n",
      "  [24 25 26]]]\n",
      "Dimension of a = 3\n",
      "--------------\n",
      "0\n",
      "1\n",
      "2\n",
      "3\n",
      "4\n",
      "5\n",
      "6\n",
      "7\n",
      "8\n",
      "9\n",
      "10\n",
      "11\n",
      "12\n",
      "13\n",
      "14\n",
      "15\n",
      "16\n",
      "17\n",
      "18\n",
      "19\n",
      "20\n",
      "21\n",
      "22\n",
      "23\n",
      "24\n",
      "25\n",
      "26\n"
     ]
    }
   ],
   "source": [
    "# iterating over 3d array\n",
    "a=np.arange(3*3*3).reshape(3,3,3)\n",
    "print(\"content of a =\\n\", a)\n",
    "print(\"Dimension of a =\", a.ndim)\n",
    "print('--------------')\n",
    "for value in np.nditer(a):\n",
    "    print(value)"
   ]
  },
  {
   "cell_type": "code",
   "execution_count": null,
   "id": "591ae074-d860-40ee-868f-e0927303b968",
   "metadata": {},
   "outputs": [],
   "source": [
    "# By using numpy.ndenumerate()\n",
    "# Syntax:   for varname1,varname2 in numpy.ndenumerate(ndarrayobj):\n",
    "#                   Block of statements"
   ]
  },
  {
   "cell_type": "code",
   "execution_count": 43,
   "id": "d032a603-d659-4736-b8f7-5398311f9a37",
   "metadata": {},
   "outputs": [
    {
     "name": "stdout",
     "output_type": "stream",
     "text": [
      "content of a = [10 20 30 40 50 60 70 80 90]\n",
      "Dimension of a = 1\n"
     ]
    }
   ],
   "source": [
    "import numpy as np\n",
    "a=np.array(range(10,100,10))\n",
    "print(\"content of a =\", a)\n",
    "print(\"Dimension of a =\", a.ndim)"
   ]
  },
  {
   "cell_type": "code",
   "execution_count": 44,
   "id": "6dc40a0e-a4ed-45a3-9b41-3a43af0fd3d7",
   "metadata": {},
   "outputs": [
    {
     "name": "stdout",
     "output_type": "stream",
     "text": [
      "(0,) => 10\n",
      "(1,) => 20\n",
      "(2,) => 30\n",
      "(3,) => 40\n",
      "(4,) => 50\n",
      "(5,) => 60\n",
      "(6,) => 70\n",
      "(7,) => 80\n",
      "(8,) => 90\n"
     ]
    }
   ],
   "source": [
    "# using ndenumerate() we iteratering on 1-D array\n",
    "for index,value in np.ndenumerate(a):\n",
    "    print(\"{} => {}\".format(index,value))"
   ]
  },
  {
   "cell_type": "code",
   "execution_count": 46,
   "id": "21933235-44b5-494d-a6f8-7e22aaa48b48",
   "metadata": {},
   "outputs": [
    {
     "name": "stdout",
     "output_type": "stream",
     "text": [
      "content of a =\n",
      " [[10 20 30]\n",
      " [40 50 60]\n",
      " [70 80 90]]\n",
      "Dimension of a = 2\n",
      "-----------------\n",
      "(0, 0) => 10\n",
      "(0, 1) => 20\n",
      "(0, 2) => 30\n",
      "(1, 0) => 40\n",
      "(1, 1) => 50\n",
      "(1, 2) => 60\n",
      "(2, 0) => 70\n",
      "(2, 1) => 80\n",
      "(2, 2) => 90\n"
     ]
    }
   ],
   "source": [
    "# using ndenumerate() we iteratering on 2-D array\n",
    "a=np.arange(10,100,10).reshape(3,3)\n",
    "print(\"content of a =\\n\", a)\n",
    "print(\"Dimension of a =\", a.ndim)\n",
    "print('-----------------')\n",
    "for index,value in np.ndenumerate(a):\n",
    "    print(\"{} => {}\".format(index,value))"
   ]
  },
  {
   "cell_type": "code",
   "execution_count": 47,
   "id": "10a5c48e-1e14-4af4-9e10-ed79496b7108",
   "metadata": {},
   "outputs": [
    {
     "name": "stdout",
     "output_type": "stream",
     "text": [
      "Row:0 Col:0 => Value:10\n",
      "Row:0 Col:1 => Value:20\n",
      "Row:0 Col:2 => Value:30\n",
      "Row:1 Col:0 => Value:40\n",
      "Row:1 Col:1 => Value:50\n",
      "Row:1 Col:2 => Value:60\n",
      "Row:2 Col:0 => Value:70\n",
      "Row:2 Col:1 => Value:80\n",
      "Row:2 Col:2 => Value:90\n"
     ]
    }
   ],
   "source": [
    "# print with row,column and values\n",
    "for index,value in np.ndenumerate(a):\n",
    "    print(\"Row:{} Col:{} => Value:{}\".format(index[0],index[1],value))"
   ]
  },
  {
   "cell_type": "code",
   "execution_count": 51,
   "id": "59c7139f-9e96-498d-bc22-215eaca6b39d",
   "metadata": {},
   "outputs": [
    {
     "name": "stdout",
     "output_type": "stream",
     "text": [
      "content of a =\n",
      " [[[ 0  1  2]\n",
      "  [ 3  4  5]\n",
      "  [ 6  7  8]]\n",
      "\n",
      " [[ 9 10 11]\n",
      "  [12 13 14]\n",
      "  [15 16 17]]\n",
      "\n",
      " [[18 19 20]\n",
      "  [21 22 23]\n",
      "  [24 25 26]]]\n",
      "Dimension of a = 3\n"
     ]
    }
   ],
   "source": [
    "# using ndenumerate() we iteratering on 3-D array\n",
    "a=np.arange(27).reshape(3,3,3)\n",
    "print(\"content of a =\\n\", a)\n",
    "print(\"Dimension of a =\", a.ndim)"
   ]
  },
  {
   "cell_type": "code",
   "execution_count": 52,
   "id": "47fc5415-ad61-4fe0-9420-aa5c8944bcee",
   "metadata": {},
   "outputs": [
    {
     "name": "stdout",
     "output_type": "stream",
     "text": [
      "(0, 0, 0) => 0\n",
      "(0, 0, 1) => 1\n",
      "(0, 0, 2) => 2\n",
      "(0, 1, 0) => 3\n",
      "(0, 1, 1) => 4\n",
      "(0, 1, 2) => 5\n",
      "(0, 2, 0) => 6\n",
      "(0, 2, 1) => 7\n",
      "(0, 2, 2) => 8\n",
      "(1, 0, 0) => 9\n",
      "(1, 0, 1) => 10\n",
      "(1, 0, 2) => 11\n",
      "(1, 1, 0) => 12\n",
      "(1, 1, 1) => 13\n",
      "(1, 1, 2) => 14\n",
      "(1, 2, 0) => 15\n",
      "(1, 2, 1) => 16\n",
      "(1, 2, 2) => 17\n",
      "(2, 0, 0) => 18\n",
      "(2, 0, 1) => 19\n",
      "(2, 0, 2) => 20\n",
      "(2, 1, 0) => 21\n",
      "(2, 1, 1) => 22\n",
      "(2, 1, 2) => 23\n",
      "(2, 2, 0) => 24\n",
      "(2, 2, 1) => 25\n",
      "(2, 2, 2) => 26\n"
     ]
    }
   ],
   "source": [
    "for index,value in np.ndenumerate(a):\n",
    "    print(\"{} => {}\".format(index,value))"
   ]
  },
  {
   "cell_type": "code",
   "execution_count": 56,
   "id": "3b4a6e9d-db5e-49b0-abf9-abd2c11bb489",
   "metadata": {},
   "outputs": [
    {
     "name": "stdout",
     "output_type": "stream",
     "text": [
      "Matrix:0 Row:0 Column:0 => value:0\n",
      "Matrix:0 Row:0 Column:1 => value:1\n",
      "Matrix:0 Row:0 Column:2 => value:2\n",
      "Matrix:0 Row:1 Column:0 => value:3\n",
      "Matrix:0 Row:1 Column:1 => value:4\n",
      "Matrix:0 Row:1 Column:2 => value:5\n",
      "Matrix:0 Row:2 Column:0 => value:6\n",
      "Matrix:0 Row:2 Column:1 => value:7\n",
      "Matrix:0 Row:2 Column:2 => value:8\n",
      "Matrix:1 Row:0 Column:0 => value:9\n",
      "Matrix:1 Row:0 Column:1 => value:10\n",
      "Matrix:1 Row:0 Column:2 => value:11\n",
      "Matrix:1 Row:1 Column:0 => value:12\n",
      "Matrix:1 Row:1 Column:1 => value:13\n",
      "Matrix:1 Row:1 Column:2 => value:14\n",
      "Matrix:1 Row:2 Column:0 => value:15\n",
      "Matrix:1 Row:2 Column:1 => value:16\n",
      "Matrix:1 Row:2 Column:2 => value:17\n",
      "Matrix:2 Row:0 Column:0 => value:18\n",
      "Matrix:2 Row:0 Column:1 => value:19\n",
      "Matrix:2 Row:0 Column:2 => value:20\n",
      "Matrix:2 Row:1 Column:0 => value:21\n",
      "Matrix:2 Row:1 Column:1 => value:22\n",
      "Matrix:2 Row:1 Column:2 => value:23\n",
      "Matrix:2 Row:2 Column:0 => value:24\n",
      "Matrix:2 Row:2 Column:1 => value:25\n",
      "Matrix:2 Row:2 Column:2 => value:26\n"
     ]
    }
   ],
   "source": [
    "for index,value in np.ndenumerate(a):\n",
    "    print(\"Matrix:{} Row:{} Column:{} => value:{}\".format(index[0],index[1],index[2],value))"
   ]
  },
  {
   "cell_type": "code",
   "execution_count": 57,
   "id": "08058377-a03a-4a8d-a06f-74b45f9f0c80",
   "metadata": {},
   "outputs": [
    {
     "name": "stdout",
     "output_type": "stream",
     "text": [
      "Matrix:0 Row:0 Column:0 => value:0\n",
      "Matrix:0 Row:0 Column:1 => value:1\n",
      "Matrix:0 Row:0 Column:2 => value:2\n",
      "Matrix:0 Row:1 Column:0 => value:3\n",
      "Matrix:0 Row:1 Column:1 => value:4\n",
      "Matrix:0 Row:1 Column:2 => value:5\n",
      "Matrix:0 Row:2 Column:0 => value:6\n",
      "Matrix:0 Row:2 Column:1 => value:7\n",
      "Matrix:0 Row:2 Column:2 => value:8\n",
      "Matrix:1 Row:0 Column:0 => value:9\n",
      "Matrix:1 Row:0 Column:1 => value:10\n",
      "Matrix:1 Row:0 Column:2 => value:11\n",
      "Matrix:1 Row:1 Column:0 => value:12\n",
      "Matrix:1 Row:1 Column:1 => value:13\n",
      "Matrix:1 Row:1 Column:2 => value:14\n",
      "Matrix:1 Row:2 Column:0 => value:15\n",
      "Matrix:1 Row:2 Column:1 => value:16\n",
      "Matrix:1 Row:2 Column:2 => value:17\n",
      "Matrix:2 Row:0 Column:0 => value:18\n",
      "Matrix:2 Row:0 Column:1 => value:19\n",
      "Matrix:2 Row:0 Column:2 => value:20\n",
      "Matrix:2 Row:1 Column:0 => value:21\n",
      "Matrix:2 Row:1 Column:1 => value:22\n",
      "Matrix:2 Row:1 Column:2 => value:23\n",
      "Matrix:2 Row:2 Column:0 => value:24\n",
      "Matrix:2 Row:2 Column:1 => value:25\n",
      "Matrix:2 Row:2 Column:2 => value:26\n"
     ]
    }
   ],
   "source": [
    "for index,value in np.ndenumerate(a):\n",
    "    print(\"Matrix:{} Row:{} Column:{} => value:{}\".format(index[-3],index[-2],index[-1],value))"
   ]
  },
  {
   "cell_type": "code",
   "execution_count": 58,
   "id": "d25d6760-3f76-465f-a4d8-a953da35019a",
   "metadata": {},
   "outputs": [
    {
     "name": "stdout",
     "output_type": "stream",
     "text": [
      "content of a =\n",
      " [[[[ 0  1]\n",
      "   [ 2  3]]\n",
      "\n",
      "  [[ 4  5]\n",
      "   [ 6  7]]]\n",
      "\n",
      "\n",
      " [[[ 8  9]\n",
      "   [10 11]]\n",
      "\n",
      "  [[12 13]\n",
      "   [14 15]]]]\n",
      "Dimension of a= 4\n"
     ]
    }
   ],
   "source": [
    "# Using 4-D array for iterating\n",
    "a=np.arange(16).reshape(2,2,2,2)\n",
    "print(\"content of a =\\n\", a)\n",
    "print(\"Dimension of a=\", a.ndim)"
   ]
  },
  {
   "cell_type": "code",
   "execution_count": 59,
   "id": "39f7168d-bdf4-4897-8709-cf8f5e87c72f",
   "metadata": {},
   "outputs": [
    {
     "name": "stdout",
     "output_type": "stream",
     "text": [
      "0 1 2 3 4 5 6 7 8 9 10 11 12 13 14 15 "
     ]
    }
   ],
   "source": [
    "# using nditer() method\n",
    "for value in np.nditer(a):\n",
    "    print(value,end=' ')"
   ]
  },
  {
   "cell_type": "code",
   "execution_count": 60,
   "id": "b2212dc2-a370-4c67-abf8-7ea605c32395",
   "metadata": {},
   "outputs": [
    {
     "name": "stdout",
     "output_type": "stream",
     "text": [
      "Clauster:0 Matrix:0 Row:0 Column:0 => Value:0\n",
      "Clauster:0 Matrix:0 Row:0 Column:1 => Value:1\n",
      "Clauster:0 Matrix:0 Row:1 Column:0 => Value:2\n",
      "Clauster:0 Matrix:0 Row:1 Column:1 => Value:3\n",
      "Clauster:0 Matrix:1 Row:0 Column:0 => Value:4\n",
      "Clauster:0 Matrix:1 Row:0 Column:1 => Value:5\n",
      "Clauster:0 Matrix:1 Row:1 Column:0 => Value:6\n",
      "Clauster:0 Matrix:1 Row:1 Column:1 => Value:7\n",
      "Clauster:1 Matrix:0 Row:0 Column:0 => Value:8\n",
      "Clauster:1 Matrix:0 Row:0 Column:1 => Value:9\n",
      "Clauster:1 Matrix:0 Row:1 Column:0 => Value:10\n",
      "Clauster:1 Matrix:0 Row:1 Column:1 => Value:11\n",
      "Clauster:1 Matrix:1 Row:0 Column:0 => Value:12\n",
      "Clauster:1 Matrix:1 Row:0 Column:1 => Value:13\n",
      "Clauster:1 Matrix:1 Row:1 Column:0 => Value:14\n",
      "Clauster:1 Matrix:1 Row:1 Column:1 => Value:15\n"
     ]
    }
   ],
   "source": [
    "# using ndenumerate() method\n",
    "for index,value in np.ndenumerate(a):\n",
    "    print(\"Clauster:{} Matrix:{} Row:{} Column:{} => Value:{}\".format(index[0],index[1],index[2],index[3],value))"
   ]
  },
  {
   "cell_type": "code",
   "execution_count": null,
   "id": "788c9bd2-8284-41e8-8786-ac2cc12a5992",
   "metadata": {},
   "outputs": [],
   "source": []
  }
 ],
 "metadata": {
  "kernelspec": {
   "display_name": "Python 3 (ipykernel)",
   "language": "python",
   "name": "python3"
  },
  "language_info": {
   "codemirror_mode": {
    "name": "ipython",
    "version": 3
   },
   "file_extension": ".py",
   "mimetype": "text/x-python",
   "name": "python",
   "nbconvert_exporter": "python",
   "pygments_lexer": "ipython3",
   "version": "3.12.6"
  }
 },
 "nbformat": 4,
 "nbformat_minor": 5
}
