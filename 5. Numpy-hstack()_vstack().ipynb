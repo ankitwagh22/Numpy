{
 "cells": [
  {
   "cell_type": "code",
   "execution_count": null,
   "id": "a408f95c-eba9-4210-a0f4-0239baba258e",
   "metadata": {},
   "outputs": [],
   "source": [
    "# Creating an object of ndarray using hstack()\n",
    "# Syntax: varname=numpy.hstack( (ndarrayobj1,ndarrayob2 ) )"
   ]
  },
  {
   "cell_type": "code",
   "execution_count": 1,
   "id": "78da0a0a-f5ea-41eb-b40b-038b4fa565ac",
   "metadata": {},
   "outputs": [
    {
     "name": "stdout",
     "output_type": "stream",
     "text": [
      "[1 2 3 4] <class 'numpy.ndarray'>\n",
      "[5 6 7 8] <class 'numpy.ndarray'>\n"
     ]
    }
   ],
   "source": [
    "import numpy as np\n",
    "a=np.array([1,2,3,4])\n",
    "b=np.array([5,6,7,8])\n",
    "print(a,type(a))\n",
    "print(b,type(b))"
   ]
  },
  {
   "cell_type": "code",
   "execution_count": 2,
   "id": "ae205ef7-68fb-4cb2-a1cc-6b562197e777",
   "metadata": {},
   "outputs": [
    {
     "name": "stdout",
     "output_type": "stream",
     "text": [
      "[1 2 3 4 5 6 7 8] <class 'numpy.ndarray'>\n"
     ]
    }
   ],
   "source": [
    "c=np.hstack((a,b))\n",
    "print(c,type(c))"
   ]
  },
  {
   "cell_type": "code",
   "execution_count": 3,
   "id": "9d741c69-b1f4-45a3-9cb3-41edd8add6c9",
   "metadata": {},
   "outputs": [
    {
     "name": "stdout",
     "output_type": "stream",
     "text": [
      "[5 6 7 8 1 2 3 4]\n",
      "<class 'numpy.ndarray'>\n"
     ]
    }
   ],
   "source": [
    "c=np.hstack((b,a))\n",
    "print(c)\n",
    "print(type(c))"
   ]
  },
  {
   "cell_type": "code",
   "execution_count": 8,
   "id": "012c4425-7da3-4143-b99e-095e971bd86b",
   "metadata": {},
   "outputs": [
    {
     "name": "stdout",
     "output_type": "stream",
     "text": [
      "[[ 1  2]\n",
      " [ 3  4]\n",
      " [ 5  6]\n",
      " [ 7  8]\n",
      " [ 9 10]] <class 'numpy.ndarray'>\n",
      "--------------------------------------------------\n",
      "[[11 12]\n",
      " [13 14]\n",
      " [15 16]\n",
      " [17 18]\n",
      " [19 20]] <class 'numpy.ndarray'>\n",
      "--------------------------------------------------\n",
      "[[ 1  2 11 12]\n",
      " [ 3  4 13 14]\n",
      " [ 5  6 15 16]\n",
      " [ 7  8 17 18]\n",
      " [ 9 10 19 20]] <class 'numpy.ndarray'>\n",
      "--------------------------------------------------\n",
      "[[11 12  1  2]\n",
      " [13 14  3  4]\n",
      " [15 16  5  6]\n",
      " [17 18  7  8]\n",
      " [19 20  9 10]] <class 'numpy.ndarray'>\n"
     ]
    }
   ],
   "source": [
    "a=np.arange(1,11).reshape(5,2)\n",
    "b=np.arange(11,21).reshape(5,2)\n",
    "print(a,type(a))\n",
    "print('-'*50)\n",
    "print(b,type(b))\n",
    "print('-'*50)\n",
    "c=np.hstack((a,b))\n",
    "print(c,type(c))\n",
    "print('-'*50)\n",
    "d=np.hstack((b,a))\n",
    "print(d,type(d))"
   ]
  },
  {
   "cell_type": "code",
   "execution_count": 9,
   "id": "2ead3ad6-edaf-4c60-92e7-ab57d3c4f1c9",
   "metadata": {},
   "outputs": [
    {
     "name": "stdout",
     "output_type": "stream",
     "text": [
      "Shape of c= (5, 4)\n",
      "Size of c= 20\n"
     ]
    }
   ],
   "source": [
    "print(\"Shape of c=\", c.shape)\n",
    "print(\"Size of c=\", c.size)"
   ]
  },
  {
   "cell_type": "code",
   "execution_count": 10,
   "id": "1854dc20-2153-45a2-b51c-146c79dd42ef",
   "metadata": {},
   "outputs": [
    {
     "name": "stdout",
     "output_type": "stream",
     "text": [
      "Shape of d= (5, 4)\n",
      "Size of c= 20\n"
     ]
    }
   ],
   "source": [
    "print(\"Shape of d=\", d.shape)\n",
    "print(\"Size of c=\", c.size)"
   ]
  },
  {
   "cell_type": "code",
   "execution_count": 19,
   "id": "0f7b75a6-384e-4442-b994-c5fb45ebe414",
   "metadata": {},
   "outputs": [
    {
     "name": "stdout",
     "output_type": "stream",
     "text": [
      "Matrix A\n",
      "[[ 0  1  2  3]\n",
      " [ 4  5  6  7]\n",
      " [ 8  9 10 11]]\n",
      "<class 'numpy.ndarray'>\n",
      "--------------------------------------------------\n",
      "Matrix B\n",
      "[[10 20 30]\n",
      " [40 50 60]\n",
      " [70 80 90]]\n",
      "<class 'numpy.ndarray'>\n",
      "--------------------------------------------------\n",
      "Matrix C\n",
      "[[ 0  1  2  3 10 20 30]\n",
      " [ 4  5  6  7 40 50 60]\n",
      " [ 8  9 10 11 70 80 90]] <class 'numpy.ndarray'>\n",
      "Dimension = 2\n",
      "Shape = (3, 7)\n",
      "Size = 21\n"
     ]
    }
   ],
   "source": [
    "a=np.arange(3*4).reshape(3,4)\n",
    "print(\"Matrix A\")\n",
    "print(a)\n",
    "print(type(a))\n",
    "print('-'*50)\n",
    "b=np.array([[10,20,30],[40,50,60],[70,80,90]])\n",
    "print(\"Matrix B\")\n",
    "print(b)\n",
    "print(type(b))\n",
    "# margging the two array using hstack()\n",
    "print('-'*50)\n",
    "c=np.hstack((a,b))\n",
    "print(\"Matrix C\")\n",
    "print(c,type(c))\n",
    "print(\"Dimension =\", c.ndim)\n",
    "print(\"Shape =\", c.shape)\n",
    "print(\"Size =\", c.size)"
   ]
  },
  {
   "cell_type": "code",
   "execution_count": 24,
   "id": "a3019879-be62-4ea0-80bc-387ab6c5b0e1",
   "metadata": {},
   "outputs": [
    {
     "name": "stdout",
     "output_type": "stream",
     "text": [
      "[[0 1 2]\n",
      " [3 4 5]\n",
      " [6 7 8]] <class 'numpy.ndarray'>\n",
      "[[10 11]\n",
      " [12 13]\n",
      " [14 15]] <class 'numpy.ndarray'>\n",
      "[101 102] <class 'numpy.ndarray'>\n",
      "--------------------------------------------------\n",
      "[[ 0  1  2 10 11  0  1  2 10 11  0  1  2 10 11]\n",
      " [ 3  4  5 12 13  3  4  5 12 13  3  4  5 12 13]\n",
      " [ 6  7  8 14 15  6  7  8 14 15  6  7  8 14 15]] <class 'numpy.ndarray'>\n",
      "Dimension = 2\n",
      "Shape = (3, 15)\n",
      "Size = 45\n",
      "Element data type = int64\n"
     ]
    }
   ],
   "source": [
    "a=np.array(range(0,9)).reshape(3,3)\n",
    "b=np.array(range(10,16)).reshape(3,2)\n",
    "d=np.array(range(101,103))\n",
    "print(a,type(a))\n",
    "print(b,type(b))\n",
    "print(d,type(d))\n",
    "print('-'*50)\n",
    "c=np.hstack((a,b,c))\n",
    "print(c,type(c))\n",
    "print(\"Dimension =\", c.ndim)\n",
    "print(\"Shape =\", c.shape)\n",
    "print(\"Size =\", c.size)\n",
    "print(\"Element data type =\", c.dtype)"
   ]
  },
  {
   "cell_type": "code",
   "execution_count": null,
   "id": "bbe51c1a-9013-41b3-bca6-cd615b29287d",
   "metadata": {},
   "outputs": [],
   "source": [
    "# Creating the object of ndarray using vstack()"
   ]
  },
  {
   "cell_type": "code",
   "execution_count": 28,
   "id": "1b644538-4853-4f14-a438-d2e24d4c3e2a",
   "metadata": {},
   "outputs": [
    {
     "name": "stdout",
     "output_type": "stream",
     "text": [
      "[10 20 30 40 50] <class 'numpy.ndarray'>\n",
      "Shape = (5,)\n",
      "[1 2 3 4 5] <class 'numpy.ndarray'>\n",
      "Shape = (5,)\n",
      "-------------------------\n",
      "[[10 20 30 40 50]\n",
      " [ 1  2  3  4  5]] <class 'numpy.ndarray'>\n",
      "Dimension = 2\n",
      "Shape = (2, 5)\n",
      "Size = 10\n"
     ]
    }
   ],
   "source": [
    "a=np.array([10,20,30,40,50])\n",
    "b=np.array([1,2,3,4,5,])\n",
    "print(a,type(a))\n",
    "print(\"Shape =\", a.shape)\n",
    "print(b,type(b))\n",
    "print(\"Shape =\", b.shape)\n",
    "print('-------------------------')\n",
    "c=np.vstack((a,b))\n",
    "print(c,type(c))\n",
    "print(\"Dimension =\", c.ndim)\n",
    "print(\"Shape =\", c.shape)\n",
    "print(\"Size =\", c.size)"
   ]
  },
  {
   "cell_type": "code",
   "execution_count": 32,
   "id": "7554b8af-86cf-47f6-8f7c-f2ab57e525e2",
   "metadata": {},
   "outputs": [
    {
     "name": "stdout",
     "output_type": "stream",
     "text": [
      "Matrix A\n",
      "[[0 1 2]\n",
      " [3 4 5]\n",
      " [6 7 8]] <class 'numpy.ndarray'>\n",
      "----------------------------\n",
      "Matrix B\n",
      "[[ 9 10 11]\n",
      " [12 13 14]\n",
      " [15 16 17]] <class 'numpy.ndarray'>\n"
     ]
    }
   ],
   "source": [
    "n1=np.arange(0,9).reshape(3,3)\n",
    "n2=np.arange(9,18).reshape(3,3)\n",
    "print(\"Matrix A\")\n",
    "print(n1,type(n1))\n",
    "print(\"----------------------------\")\n",
    "print(\"Matrix B\")\n",
    "print(n2,type(n2))"
   ]
  },
  {
   "cell_type": "code",
   "execution_count": 38,
   "id": "febe3423-9ae3-4ced-8249-87bace4e3f82",
   "metadata": {},
   "outputs": [
    {
     "name": "stdout",
     "output_type": "stream",
     "text": [
      "Hstack is =\n",
      "[[ 0  1  2  9 10 11]\n",
      " [ 3  4  5 12 13 14]\n",
      " [ 6  7  8 15 16 17]] <class 'numpy.ndarray'>\n",
      "------------------\n",
      "Dimension = 2\n",
      "Shape = (3, 6)\n",
      "Size = 18\n",
      "Element data type = int64\n",
      "-----------------------------------\n",
      "Vstack is =\n",
      "[[ 0  1  2]\n",
      " [ 3  4  5]\n",
      " [ 6  7  8]\n",
      " [ 9 10 11]\n",
      " [12 13 14]\n",
      " [15 16 17]] <class 'numpy.ndarray'>\n",
      "------------------\n",
      "Dimension = 2\n",
      "Shape = (6, 3)\n",
      "Size = 18\n",
      "Element data type = int64\n"
     ]
    }
   ],
   "source": [
    "print(\"Hstack is =\")\n",
    "n3=np.hstack((n1,n2))\n",
    "print(n3,type(n3))\n",
    "print('------------------')\n",
    "print(\"Dimension =\", n3.ndim)\n",
    "print(\"Shape =\", n3.shape)\n",
    "print(\"Size =\", n3.size)\n",
    "print(\"Element data type =\", n3.dtype)\n",
    "print('-----------------------------------')\n",
    "print(\"Vstack is =\")\n",
    "n4=np.vstack((n1,n2))\n",
    "print(n4,type(n4))\n",
    "print('------------------')\n",
    "print(\"Dimension =\", n4.ndim)\n",
    "print(\"Shape =\", n4.shape)\n",
    "print(\"Size =\", n4.size)\n",
    "print(\"Element data type =\", n4.dtype)"
   ]
  },
  {
   "cell_type": "code",
   "execution_count": null,
   "id": "9267ff13-1b1e-4eb9-9c2e-d8e7d903a0d4",
   "metadata": {},
   "outputs": [],
   "source": []
  }
 ],
 "metadata": {
  "kernelspec": {
   "display_name": "Python 3 (ipykernel)",
   "language": "python",
   "name": "python3"
  },
  "language_info": {
   "codemirror_mode": {
    "name": "ipython",
    "version": 3
   },
   "file_extension": ".py",
   "mimetype": "text/x-python",
   "name": "python",
   "nbconvert_exporter": "python",
   "pygments_lexer": "ipython3",
   "version": "3.12.6"
  }
 },
 "nbformat": 4,
 "nbformat_minor": 5
}
