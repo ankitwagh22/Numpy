{
 "cells": [
  {
   "cell_type": "code",
   "execution_count": 9,
   "id": "0a266e46-86f8-44b4-a6d8-94820092b903",
   "metadata": {},
   "outputs": [
    {
     "name": "stdout",
     "output_type": "stream",
     "text": [
      "content of list : [10, 20, 30, 40, 50, 60, 70, 80, 90, 15, 25, 35]\n",
      "Type of list : <class 'list'>\n",
      "-----------------------------\n",
      "Array is : [10 20 30 40 50 60 70 80 90 15 25 35]\n",
      "Data Type is : <class 'numpy.ndarray'>\n"
     ]
    }
   ],
   "source": [
    "import numpy as np\n",
    "lst=[10,20,30,40,50,60,70,80,90,15,25,35]\n",
    "print(\"content of list :\",lst)\n",
    "print(\"Type of list :\", type(lst))\n",
    "print('-----------------------------')\n",
    "a=np.array(lst)\n",
    "print(\"Array is :\", a)\n",
    "print(\"Data Type is :\", type(a))"
   ]
  },
  {
   "cell_type": "code",
   "execution_count": 15,
   "id": "40a3a82d-2902-4ee2-9e83-6dd7c89ec89e",
   "metadata": {},
   "outputs": [
    {
     "name": "stdout",
     "output_type": "stream",
     "text": [
      "content of list : [10, 20, 30, 40, 50, 60, 70, 80, 90, 15, 25, 35]\n",
      "Type of list : <class 'list'>\n",
      "-----------------------------\n",
      "Array is : [10 20 30 40 50 60 70 80 90 15 25 35]\n",
      "Data Type is : <class 'numpy.ndarray'>\n",
      "[[[10 20]\n",
      "  [30 40]\n",
      "  [50 60]]\n",
      "\n",
      " [[70 80]\n",
      "  [90 15]\n",
      "  [25 35]]]\n",
      "Dtype is : int64\n",
      "Size is : 12\n",
      "Dimension is : 3\n",
      "Shape is : (2, 3, 2)\n"
     ]
    }
   ],
   "source": [
    "import numpy as np\n",
    "lst=[10,20,30,40,50,60,70,80,90,15,25,35]\n",
    "print(\"content of list :\",lst)\n",
    "print(\"Type of list :\", type(lst))\n",
    "print('-----------------------------')\n",
    "a=np.array(lst)\n",
    "print(\"Array is :\", a)\n",
    "print(\"Data Type is :\", type(a))\n",
    "a.shape=(2,3,2)\n",
    "print(a)\n",
    "print(\"Dtype is :\", a.dtype)\n",
    "print(\"Size is :\", a.size)\n",
    "print(\"Dimension is :\", a.ndim)\n",
    "print(\"Shape is :\", a.shape)\n"
   ]
  },
  {
   "cell_type": "code",
   "execution_count": 19,
   "id": "9a48c1ca-38e8-4a0d-9ebc-7c230092e02d",
   "metadata": {},
   "outputs": [
    {
     "name": "stdout",
     "output_type": "stream",
     "text": [
      "[[10, 20, 30], [40, 50, 60], [70, 80, 90]]\n",
      "<class 'list'>\n",
      "[[10 20 30]\n",
      " [40 50 60]\n",
      " [70 80 90]]\n",
      "<class 'numpy.ndarray'>\n",
      "Dimension is : 2\n",
      "Shape is : (3, 3)\n",
      "Size is : 9\n",
      "Data type is : int64\n",
      "item-size is : 8\n"
     ]
    }
   ],
   "source": [
    "lst=[[10,20,30],[40,50,60],[70,80,90]]\n",
    "print(lst)\n",
    "print(type(lst))\n",
    "a=np.array(lst)\n",
    "print(a)\n",
    "print(type(a))\n",
    "print(\"Dimension is :\", a.ndim)\n",
    "print(\"Shape is :\", a.shape)\n",
    "print(\"Size is :\", a.size)\n",
    "print(\"Data type is :\", a.dtype)\n",
    "print(\"item-size is :\", a.itemsize)"
   ]
  },
  {
   "cell_type": "code",
   "execution_count": 24,
   "id": "03b79145-4660-4bc6-87c6-fc70044d7acc",
   "metadata": {},
   "outputs": [
    {
     "name": "stdout",
     "output_type": "stream",
     "text": [
      "([10, 20, 30], [40, 50, 60], [70, 80, 90])\n",
      "<class 'tuple'>\n",
      "Array =\n",
      " [[10 20 30]\n",
      " [40 50 60]\n",
      " [70 80 90]]\n",
      "Type of Array = <class 'numpy.ndarray'>\n",
      "Dimension is = 2\n",
      "Shape is = (3, 3)\n",
      "Size is = 9\n",
      "Data Type is = int64\n"
     ]
    }
   ],
   "source": [
    "tup=([10,20,30],[40,50,60],[70,80,90])\n",
    "print(tup)\n",
    "print(type(tup))\n",
    "# converting tuple object into ndarray\n",
    "a=np.array(tup)\n",
    "print(\"Array =\\n\",a)\n",
    "print(\"Type of Array =\",type(a))\n",
    "print(\"Dimension is =\", a.ndim)\n",
    "print(\"Shape is =\", a.shape)\n",
    "print(\"Size is =\", a.size)\n",
    "print(\"Data Type is =\", a.dtype)"
   ]
  },
  {
   "cell_type": "code",
   "execution_count": 28,
   "id": "c189a617-4e8d-4e77-8f07-6493cf29690d",
   "metadata": {},
   "outputs": [
    {
     "name": "stdout",
     "output_type": "stream",
     "text": [
      "10 <class 'int'>\n",
      "10 <class 'numpy.ndarray'>\n",
      "Dimension is  0\n",
      "Shape is  ()\n",
      "size is  1\n",
      "data type is  int64\n",
      "item-size is  8\n"
     ]
    }
   ],
   "source": [
    "num=10\n",
    "print(num, type(num))\n",
    "a=np.array(num)\n",
    "print(a, type(a))\n",
    "print(\"Dimension is \", a.ndim)\n",
    "print(\"Shape is \", a.shape)\n",
    "print(\"size is \", a.size)\n",
    "print(\"data type is \", a.dtype)\n",
    "print(\"item-size is \", a.itemsize)"
   ]
  },
  {
   "cell_type": "code",
   "execution_count": 34,
   "id": "0f1e4b3e-e0a5-4c44-899e-492dacfdbfbb",
   "metadata": {},
   "outputs": [
    {
     "name": "stdout",
     "output_type": "stream",
     "text": [
      "{100, 70, 40, 10, 80, 50, 20, 90, 60, 30} <class 'set'>\n",
      "content of array is : {100, 70, 40, 10, 80, 50, 20, 90, 60, 30}\n",
      "Type = <class 'numpy.ndarray'>\n",
      "-----------------------\n",
      "Dimension = 0\n",
      "Size is = 1\n",
      "Shape is = ()\n"
     ]
    }
   ],
   "source": [
    "# now converting the set object in ndarray\n",
    "s1={10,20,30,40,50,60,70,80,90,100}\n",
    "print(s1,type(s1))\n",
    "a=np.array(s1)\n",
    "print(\"content of array is :\", a)\n",
    "print(\"Type =\", type(a))\n",
    "print('-----------------------')\n",
    "print(\"Dimension =\", a.ndim)\n",
    "print(\"Size is =\", a.size)\n",
    "print(\"Shape is =\", a.shape)"
   ]
  },
  {
   "cell_type": "code",
   "execution_count": 37,
   "id": "7f182496-2e4c-435c-b9d4-24cd8ff05e0e",
   "metadata": {},
   "outputs": [
    {
     "name": "stdout",
     "output_type": "stream",
     "text": [
      "dictionary = {1: 'Python', 2: 'C', 3: 'C++', 4: 'Java'}\n",
      "Type = <class 'dict'>\n",
      "-------------------------\n",
      "Array is  {1: 'Python', 2: 'C', 3: 'C++', 4: 'Java'}\n",
      "Type => <class 'numpy.ndarray'>\n",
      "Dimension = 0\n",
      "size = 1\n",
      "shape = ()\n"
     ]
    }
   ],
   "source": [
    "# Converting dictionary object into ndarray\n",
    "d1={1:\"Python\",2:\"C\",3:\"C++\",4:\"Java\"}\n",
    "print(\"dictionary =\", d1)\n",
    "print(\"Type =\", type(d1))\n",
    "print('-------------------------')\n",
    "ad=np.array(d1)\n",
    "print(\"Array is \", ad)\n",
    "print(\"Type =>\", type(ad))\n",
    "print(\"Dimension =\", ad.ndim)\n",
    "print(\"size =\", ad.size)\n",
    "print(\"shape =\", ad.shape)"
   ]
  },
  {
   "cell_type": "code",
   "execution_count": 44,
   "id": "ea4aa6f7-2747-459e-8c1b-eaf077bc99d6",
   "metadata": {},
   "outputs": [
    {
     "name": "stdout",
     "output_type": "stream",
     "text": [
      "[['P' 'y']\n",
      " ['t' 'h']\n",
      " ['o' 'n']] <class 'numpy.ndarray'>\n"
     ]
    }
   ],
   "source": [
    "s='Python'\n",
    "lst=list(s)\n",
    "a=np.array(lst)\n",
    "a.shape=(3,2)\n",
    "print(a,type(a))"
   ]
  },
  {
   "cell_type": "code",
   "execution_count": null,
   "id": "f48b9c08-65dc-45e3-9ab7-3842af2d5b8d",
   "metadata": {},
   "outputs": [],
   "source": []
  }
 ],
 "metadata": {
  "kernelspec": {
   "display_name": "Python 3 (ipykernel)",
   "language": "python",
   "name": "python3"
  },
  "language_info": {
   "codemirror_mode": {
    "name": "ipython",
    "version": 3
   },
   "file_extension": ".py",
   "mimetype": "text/x-python",
   "name": "python",
   "nbconvert_exporter": "python",
   "pygments_lexer": "ipython3",
   "version": "3.12.6"
  }
 },
 "nbformat": 4,
 "nbformat_minor": 5
}
