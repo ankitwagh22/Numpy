{
 "cells": [
  {
   "cell_type": "code",
   "execution_count": 3,
   "id": "f16ae5c7-a7e9-458f-9ac8-e2d12c6dd46c",
   "metadata": {},
   "outputs": [
    {
     "name": "stdout",
     "output_type": "stream",
     "text": [
      "Array is : [1 2 3 4]\n",
      "Product of array is = 24\n"
     ]
    }
   ],
   "source": [
    "# Numpy-Products \n",
    "import numpy as np\n",
    "ar = np.array([1,2,3,4])\n",
    "print(\"Array is :\", ar)\n",
    "x = np.prod(ar)\n",
    "print(\"Product of array is =\", x)"
   ]
  },
  {
   "cell_type": "code",
   "execution_count": 4,
   "id": "010283cd-efad-4f76-b9d6-d43664f14b1c",
   "metadata": {},
   "outputs": [
    {
     "name": "stdout",
     "output_type": "stream",
     "text": [
      "Array is : [1 2 3 4 5 6 7 8 9]\n",
      "Product is : 362880\n"
     ]
    }
   ],
   "source": [
    "arr = np.arange(1,10)\n",
    "print(\"Array is :\", arr)\n",
    "pd = np.prod(arr)\n",
    "print(\"Product is :\", pd)"
   ]
  },
  {
   "cell_type": "code",
   "execution_count": 2,
   "id": "1622c2b4-335a-4bcb-8f89-7589325b899b",
   "metadata": {},
   "outputs": [
    {
     "name": "stdout",
     "output_type": "stream",
     "text": [
      "Array1 is = [1 2 3]\n",
      "Array2 is = [4 5 6]\n",
      "Product is : 720\n"
     ]
    }
   ],
   "source": [
    "import numpy as np\n",
    "arr1 = np.array([1,2,3])\n",
    "arr2 = np.array([4,5,6])\n",
    "print(\"Array1 is =\", arr1)\n",
    "print(\"Array2 is =\", arr2)\n",
    "pd = np.prod([arr1,arr2])  # by default row wise multiplication is done\n",
    "print(\"Product is :\", pd)"
   ]
  },
  {
   "cell_type": "code",
   "execution_count": 8,
   "id": "92a8c670-9719-4d29-8b49-5a6e89d5e4ea",
   "metadata": {},
   "outputs": [
    {
     "name": "stdout",
     "output_type": "stream",
     "text": [
      "Array is =\n",
      " [[1 2 3]\n",
      " [4 5 6]]\n",
      "Product = [ 4 10 18]\n"
     ]
    }
   ],
   "source": [
    "# Getting matrix column product\n",
    "import numpy as np\n",
    "arr = np.array([[1,2,3],[4,5,6]])\n",
    "print(\"Array is =\\n\", arr)\n",
    "\n",
    "# axis=0 represent column product\n",
    "a = np.prod(arr,axis=0)\n",
    "print(\"Product =\", a)"
   ]
  },
  {
   "cell_type": "code",
   "execution_count": 13,
   "id": "602d7abb-c864-4570-89f9-f0b681635bc7",
   "metadata": {},
   "outputs": [
    {
     "name": "stdout",
     "output_type": "stream",
     "text": [
      "Array is =\n",
      " [[1 2 3]\n",
      " [4 5 6]]\n",
      "Product = [  6 120]\n"
     ]
    }
   ],
   "source": [
    "# Getting matrix column product\n",
    "import numpy as np\n",
    "arr = np.array([[1,2,3],[4,5,6]])\n",
    "print(\"Array is =\\n\", arr)\n",
    "\n",
    "# axis=1 represent Rows product\n",
    "a = np.prod(arr,axis=1)\n",
    "print(\"Product =\", a)"
   ]
  },
  {
   "cell_type": "code",
   "execution_count": 12,
   "id": "21070160-5453-4695-8f4e-5b2d19f05f0d",
   "metadata": {},
   "outputs": [
    {
     "name": "stdout",
     "output_type": "stream",
     "text": [
      "Array matrix is =\n",
      " [[[ 0  1  2]\n",
      "  [ 3  4  5]\n",
      "  [ 6  7  8]]\n",
      "\n",
      " [[ 9 10 11]\n",
      "  [12 13 14]\n",
      "  [15 16 17]]\n",
      "\n",
      " [[18 19 20]\n",
      "  [21 22 23]\n",
      "  [24 25 26]]]\n",
      "-------------------\n",
      "Product =\n",
      " [[   0  190  440]\n",
      " [ 756 1144 1610]\n",
      " [2160 2800 3536]]\n"
     ]
    }
   ],
   "source": [
    "import numpy as np\n",
    "ar = np.arange(27).reshape(3,3,3)\n",
    "print(\"Array matrix is =\\n\", ar)\n",
    "print('-------------------')\n",
    "pd = np.prod(ar,axis=0)\n",
    "print(\"Product =\\n\", pd)"
   ]
  },
  {
   "cell_type": "code",
   "execution_count": 14,
   "id": "a5ba6586-fe7d-4bb2-822e-48bf7f5c9c0d",
   "metadata": {},
   "outputs": [
    {
     "name": "stdout",
     "output_type": "stream",
     "text": [
      "Array matrix is =\n",
      " [[[ 0  1  2]\n",
      "  [ 3  4  5]\n",
      "  [ 6  7  8]]\n",
      "\n",
      " [[ 9 10 11]\n",
      "  [12 13 14]\n",
      "  [15 16 17]]\n",
      "\n",
      " [[18 19 20]\n",
      "  [21 22 23]\n",
      "  [24 25 26]]]\n",
      "-------------------\n",
      "Product =\n",
      " [[    0    28    80]\n",
      " [ 1620  2080  2618]\n",
      " [ 9072 10450 11960]]\n"
     ]
    }
   ],
   "source": [
    "import numpy as np\n",
    "ar = np.arange(27).reshape(3,3,3)\n",
    "print(\"Array matrix is =\\n\", ar)\n",
    "print('-------------------')\n",
    "pd = np.prod(ar,axis=1)\n",
    "print(\"Product =\\n\", pd)"
   ]
  },
  {
   "cell_type": "code",
   "execution_count": 17,
   "id": "db70295c-2ea4-4921-a422-4109fb14c083",
   "metadata": {},
   "outputs": [
    {
     "name": "stdout",
     "output_type": "stream",
     "text": [
      "Array1 = [1 2 3 4]\n",
      "Array2 = [5 6 7 8]\n",
      "Product = [  24 1680]\n"
     ]
    }
   ],
   "source": [
    "# Another example\n",
    "a1 = np.array([1,2,3,4])\n",
    "a2 = np.array([5,6,7,8])\n",
    "print(\"Array1 =\", a1)\n",
    "print(\"Array2 =\", a2)\n",
    "pd = np.prod([a1,a2],axis=1)\n",
    "print(\"Product =\", pd)"
   ]
  },
  {
   "cell_type": "code",
   "execution_count": 20,
   "id": "9a9327e2-f4a2-4b30-9781-2046cc667ac3",
   "metadata": {},
   "outputs": [
    {
     "name": "stdout",
     "output_type": "stream",
     "text": [
      "Array is = [1 2 3 4]\n",
      "Cumulative product is : [ 1  2  6 24]\n"
     ]
    }
   ],
   "source": [
    "# Cummulative Product\n",
    "import numpy as np\n",
    "ar = np.array([1,2,3,4])\n",
    "print(\"Array is =\", ar)\n",
    "cpd = np.cumprod(ar)\n",
    "print(\"Cumulative product is :\", cpd)"
   ]
  },
  {
   "cell_type": "code",
   "execution_count": 21,
   "id": "cf44781d-4176-4114-9cf7-a8652efd37c6",
   "metadata": {},
   "outputs": [
    {
     "name": "stdout",
     "output_type": "stream",
     "text": [
      "Content of arr\n",
      "[[1 2 3]\n",
      " [3 4 5]\n",
      " [2 3 5]]\n",
      "-------------------------\n",
      "[[ 1  2  6]\n",
      " [ 3 12 60]\n",
      " [ 2  6 30]]\n"
     ]
    }
   ],
   "source": [
    "import numpy as np\n",
    "arr = np.array([[1,2,3],[3,4,5],[2,3,5]])\n",
    "print(\"Content of arr\")\n",
    "print(arr)\n",
    "print(\"-------------------------\")\n",
    "x = np.cumprod(arr,axis=1) # Here axis=1 Represents Cumulative Row Product \n",
    "print(x)"
   ]
  },
  {
   "cell_type": "code",
   "execution_count": 22,
   "id": "24150c8f-509d-40f9-aa16-c306a9ef7bc0",
   "metadata": {},
   "outputs": [
    {
     "name": "stdout",
     "output_type": "stream",
     "text": [
      "Content of arr\n",
      "[[1 2 3]\n",
      " [3 4 5]\n",
      " [2 3 5]]\n",
      "-------------------------\n",
      "[[ 1  2  3]\n",
      " [ 3  8 15]\n",
      " [ 6 24 75]]\n"
     ]
    }
   ],
   "source": [
    "import numpy as np\n",
    "arr = np.array([[1,2,3],[3,4,5],[2,3,5]])\n",
    "print(\"Content of arr\")\n",
    "print(arr)\n",
    "print(\"-------------------------\")\n",
    "x = np.cumprod(arr,axis=0) # Here axis=0 Represents Cumulative Column Product\n",
    "print(x)"
   ]
  },
  {
   "cell_type": "code",
   "execution_count": null,
   "id": "3705efcd-c8a2-4af8-a7fc-15768ea29d51",
   "metadata": {},
   "outputs": [],
   "source": []
  }
 ],
 "metadata": {
  "kernelspec": {
   "display_name": "Python 3 (ipykernel)",
   "language": "python",
   "name": "python3"
  },
  "language_info": {
   "codemirror_mode": {
    "name": "ipython",
    "version": 3
   },
   "file_extension": ".py",
   "mimetype": "text/x-python",
   "name": "python",
   "nbconvert_exporter": "python",
   "pygments_lexer": "ipython3",
   "version": "3.12.6"
  }
 },
 "nbformat": 4,
 "nbformat_minor": 5
}
