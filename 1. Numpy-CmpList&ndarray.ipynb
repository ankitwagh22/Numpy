{
 "cells": [
  {
   "cell_type": "code",
   "execution_count": 1,
   "id": "0fb8c2bf-d442-4e02-a805-722f65efb5da",
   "metadata": {},
   "outputs": [
    {
     "name": "stdout",
     "output_type": "stream",
     "text": [
      "[10, 20, 30, 40, 50] <class 'list'>\n"
     ]
    }
   ],
   "source": [
    "lst = [10,20,30,40,50]\n",
    "print(lst,type(lst))"
   ]
  },
  {
   "cell_type": "code",
   "execution_count": 2,
   "id": "266bc663-9ffc-4d59-9c7a-53f7dda18059",
   "metadata": {},
   "outputs": [
    {
     "name": "stdout",
     "output_type": "stream",
     "text": [
      "[10 20 30 40 50] <class 'numpy.ndarray'>\n"
     ]
    }
   ],
   "source": [
    "import numpy as np\n",
    "arr = np.array(lst)\n",
    "print(arr,type(arr))"
   ]
  },
  {
   "cell_type": "code",
   "execution_count": 3,
   "id": "40ffd7b0-f936-4021-a0ea-7013323f618b",
   "metadata": {},
   "outputs": [
    {
     "name": "stdout",
     "output_type": "stream",
     "text": [
      "list size is 104\n",
      "array size is 152\n"
     ]
    }
   ],
   "source": [
    "import sys\n",
    "lsize = sys.getsizeof(lst)\n",
    "asize = sys.getsizeof(arr)\n",
    "print(f'list size is {lsize}')\n",
    "print(f'array size is {asize}')"
   ]
  },
  {
   "cell_type": "code",
   "execution_count": 4,
   "id": "76c69e8d-6e87-4dd7-b276-c2839409d0fe",
   "metadata": {},
   "outputs": [
    {
     "name": "stdout",
     "output_type": "stream",
     "text": [
      "[10, 20, 30, 40, 50, 60, 70, 80, 90, 45, 97, 65, 34, 12, 34, 53, 90] <class 'list'>\n",
      "200\n"
     ]
    }
   ],
   "source": [
    "lst = [10,20,30,40,50,60,70,80,90,45,97,65,34,12,34,53,90]\n",
    "print(lst,type(lst))\n",
    "print(sys.getsizeof(lst))"
   ]
  },
  {
   "cell_type": "code",
   "execution_count": 5,
   "id": "34dd1354-90f6-4e3f-8631-eacadff0246b",
   "metadata": {},
   "outputs": [
    {
     "name": "stdout",
     "output_type": "stream",
     "text": [
      "[10 20 30 40 50 60 70 80 90 45 97 65 34 12 34 53 90] <class 'numpy.ndarray'>\n",
      "248\n"
     ]
    }
   ],
   "source": [
    "arr = np.array(lst)\n",
    "print(arr,type(arr))\n",
    "print(sys.getsizeof(arr))"
   ]
  },
  {
   "cell_type": "code",
   "execution_count": 6,
   "id": "4b8ae541-99a2-49a0-ab9f-64e72b2ef325",
   "metadata": {},
   "outputs": [
    {
     "name": "stdout",
     "output_type": "stream",
     "text": [
      "[10, 20, 30, 40, 50, 60, 70, 80, 90, 45, 97, 65, 34, 12, 34, 53, 90, 50, 60, 70, 80, 90, 45, 97, 65, 34, 12, 34, 53, 90]\n",
      "<class 'list'>\n",
      "296\n"
     ]
    }
   ],
   "source": [
    "lst = [10,20,30,40,50,60,70,80,90,45,97,65,34,12,34,53,90,50,60,70,80,90,45,97,65,34,12,34,53,90]\n",
    "print(lst,type(lst),sep='\\n')\n",
    "print(sys.getsizeof(lst))"
   ]
  },
  {
   "cell_type": "code",
   "execution_count": 7,
   "id": "ba0f5b83-73c0-4a1b-87c1-e0a832d2a1cf",
   "metadata": {},
   "outputs": [
    {
     "name": "stdout",
     "output_type": "stream",
     "text": [
      "[10 20 30 40 50 60 70 80 90 45 97 65 34 12 34 53 90 50 60 70 80 90 45 97\n",
      " 65 34 12 34 53 90]\n",
      "<class 'numpy.ndarray'>\n",
      "352\n"
     ]
    }
   ],
   "source": [
    "arr = np.array(lst)\n",
    "print(arr,type(arr),sep='\\n')\n",
    "print(sys.getsizeof(arr))"
   ]
  },
  {
   "cell_type": "code",
   "execution_count": 9,
   "id": "de26be18-f5c8-42b0-8880-ba11389f5a70",
   "metadata": {},
   "outputs": [
    {
     "name": "stdout",
     "output_type": "stream",
     "text": [
      "776\n"
     ]
    }
   ],
   "source": [
    "lst = [10,20,30,40,50,60,70,80,90,45,97,65,34,12,34,53,90,50,60,70,80,90,45,97,65,34,12,34,53,90,10,20,30,40,50,60,70,80,90,45,97,65,34,12,34,53,90,50,60,70,80,90,45,97,65,34,12,34,53,90,10,20,30,40,50,60,70,80,90,45,97,65,34,12,34,53,90,50,60,70,80,90,45,97,65,34,12,34,53,90]\n",
    "print(sys.getsizeof(lst))"
   ]
  },
  {
   "cell_type": "code",
   "execution_count": 10,
   "id": "08980fe3-78b2-44a3-9774-6e9187dc825e",
   "metadata": {},
   "outputs": [
    {
     "name": "stdout",
     "output_type": "stream",
     "text": [
      "832\n"
     ]
    }
   ],
   "source": [
    "arr = np.array(lst)\n",
    "print(sys.getsizeof(arr))"
   ]
  },
  {
   "cell_type": "code",
   "execution_count": 11,
   "id": "d32bf934-4a88-4937-b5ac-5d19a39bf5ab",
   "metadata": {},
   "outputs": [
    {
     "name": "stdout",
     "output_type": "stream",
     "text": [
      "[10, 20, 30, 40, 50, 60, 70, 80, 90, 100, 110, 120, 130, 140, 150, 160, 170, 180, 190, 200, 210, 220, 230, 240, 250, 260, 270, 280, 290, 300, 310, 320, 330, 340, 350, 360, 370, 380, 390, 400, 410, 420, 430, 440, 450, 460, 470, 480, 490, 500]\n"
     ]
    }
   ],
   "source": [
    "lst = list(range(10,510,10))\n",
    "print(lst)"
   ]
  },
  {
   "cell_type": "code",
   "execution_count": 12,
   "id": "65907ab0-f81b-49d7-8f42-ae2b576ba912",
   "metadata": {},
   "outputs": [
    {
     "data": {
      "text/plain": [
       "456"
      ]
     },
     "execution_count": 12,
     "metadata": {},
     "output_type": "execute_result"
    }
   ],
   "source": [
    "sys.getsizeof(lst)"
   ]
  },
  {
   "cell_type": "code",
   "execution_count": 13,
   "id": "2f0b4476-d65b-47f1-b1d8-cedc5e3941c9",
   "metadata": {},
   "outputs": [
    {
     "name": "stdout",
     "output_type": "stream",
     "text": [
      "[ 10  20  30  40  50  60  70  80  90 100 110 120 130 140 150 160 170 180\n",
      " 190 200 210 220 230 240 250 260 270 280 290 300 310 320 330 340 350 360\n",
      " 370 380 390 400 410 420 430 440 450 460 470 480 490 500]\n",
      "512\n"
     ]
    }
   ],
   "source": [
    "a = np.array(lst)\n",
    "print(a,sys.getsizeof(a),sep='\\n')"
   ]
  },
  {
   "cell_type": "code",
   "execution_count": null,
   "id": "4c7ed611-168d-452a-938e-631bc7933ef9",
   "metadata": {},
   "outputs": [],
   "source": []
  }
 ],
 "metadata": {
  "kernelspec": {
   "display_name": "Python 3 (ipykernel)",
   "language": "python",
   "name": "python3"
  },
  "language_info": {
   "codemirror_mode": {
    "name": "ipython",
    "version": 3
   },
   "file_extension": ".py",
   "mimetype": "text/x-python",
   "name": "python",
   "nbconvert_exporter": "python",
   "pygments_lexer": "ipython3",
   "version": "3.12.6"
  }
 },
 "nbformat": 4,
 "nbformat_minor": 5
}
