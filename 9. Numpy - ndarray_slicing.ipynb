{
 "cells": [
  {
   "cell_type": "code",
   "execution_count": 5,
   "id": "cd20344b-9434-4e23-9d24-1f268779c08b",
   "metadata": {},
   "outputs": [
    {
     "name": "stdout",
     "output_type": "stream",
     "text": [
      "content of a :\n",
      "[10 20 30 40 50 60 70 80 90]\n"
     ]
    }
   ],
   "source": [
    "# Slicing Operations 1-D Array\n",
    "import numpy as np\n",
    "a=np.array(range(10,100,10))\n",
    "print(\"content of a :\")\n",
    "print(a)"
   ]
  },
  {
   "cell_type": "code",
   "execution_count": 15,
   "id": "ae434fab-f667-4191-af71-e80c5af8d1b1",
   "metadata": {},
   "outputs": [
    {
     "name": "stdout",
     "output_type": "stream",
     "text": [
      "[10 20 30 40]\n",
      "[10 20 30 40]\n"
     ]
    }
   ],
   "source": [
    "# first four numbers\n",
    "print(a[0:4])\n",
    "print(a[-9:-5])"
   ]
  },
  {
   "cell_type": "code",
   "execution_count": 13,
   "id": "67d49937-2d0b-4204-8290-d928d62d0592",
   "metadata": {},
   "outputs": [
    {
     "name": "stdout",
     "output_type": "stream",
     "text": [
      "[70 80]\n",
      "[70 80]\n"
     ]
    }
   ],
   "source": [
    "# 70 80\n",
    "print(a[6:8])\n",
    "print(a[-3:-1])"
   ]
  },
  {
   "cell_type": "code",
   "execution_count": 17,
   "id": "e89cd9eb-cc96-4404-8162-36fa74457bfa",
   "metadata": {},
   "outputs": [
    {
     "name": "stdout",
     "output_type": "stream",
     "text": [
      "[10 20 30 40 50 60 70 80 90]\n",
      "--------------------\n",
      "[90 80 70 60 50 40 30 20 10]\n"
     ]
    }
   ],
   "source": [
    "# reverse order\n",
    "print(a[::])\n",
    "print('-'*20)\n",
    "print(a[::-1])"
   ]
  },
  {
   "cell_type": "code",
   "execution_count": 19,
   "id": "6b5f2bc6-e1ee-4a0b-8a77-358ae73bd3a6",
   "metadata": {},
   "outputs": [
    {
     "name": "stdout",
     "output_type": "stream",
     "text": [
      "[]\n"
     ]
    }
   ],
   "source": [
    "print(a[4:0])"
   ]
  },
  {
   "cell_type": "code",
   "execution_count": 22,
   "id": "9df58a8e-5ddd-4044-ac78-ba4467fb89d8",
   "metadata": {},
   "outputs": [
    {
     "name": "stdout",
     "output_type": "stream",
     "text": [
      "[10 20 30 40]\n"
     ]
    }
   ],
   "source": [
    "print(a[-9:-5])"
   ]
  },
  {
   "cell_type": "code",
   "execution_count": 23,
   "id": "c1e95f9d-49a1-4014-99b7-0e2f12cc5196",
   "metadata": {},
   "outputs": [
    {
     "name": "stdout",
     "output_type": "stream",
     "text": [
      "[10 30 50 70 90]\n"
     ]
    }
   ],
   "source": [
    "print(a[::2])"
   ]
  },
  {
   "cell_type": "code",
   "execution_count": 26,
   "id": "b8b7dcbb-6c54-4cc3-8230-54dc08bd4ae1",
   "metadata": {},
   "outputs": [
    {
     "data": {
      "text/plain": [
       "array([20, 40, 60, 80])"
      ]
     },
     "execution_count": 26,
     "metadata": {},
     "output_type": "execute_result"
    }
   ],
   "source": [
    "a[1::2]"
   ]
  },
  {
   "cell_type": "code",
   "execution_count": 27,
   "id": "05446f8f-1045-43b3-b997-ab419d134ba0",
   "metadata": {},
   "outputs": [
    {
     "data": {
      "text/plain": [
       "array([10, 20, 30, 40, 50, 60, 70, 80, 90])"
      ]
     },
     "execution_count": 27,
     "metadata": {},
     "output_type": "execute_result"
    }
   ],
   "source": [
    "a[:]"
   ]
  },
  {
   "cell_type": "code",
   "execution_count": 29,
   "id": "fea06cdf-690d-4d94-96f8-b6274d9ea0c0",
   "metadata": {},
   "outputs": [
    {
     "data": {
      "text/plain": [
       "array([90, 70, 50, 30, 10])"
      ]
     },
     "execution_count": 29,
     "metadata": {},
     "output_type": "execute_result"
    }
   ],
   "source": [
    "a[::-2]"
   ]
  },
  {
   "cell_type": "code",
   "execution_count": null,
   "id": "278da6fe-6843-4bcc-8b17-1e795d17bd04",
   "metadata": {},
   "outputs": [],
   "source": [
    "# Slicing Operations 2-D Array"
   ]
  },
  {
   "cell_type": "code",
   "execution_count": 31,
   "id": "e770f926-fb30-493e-a3ea-204b60dec5c4",
   "metadata": {},
   "outputs": [
    {
     "name": "stdout",
     "output_type": "stream",
     "text": [
      "Content of a :\n",
      "[[10 20 30]\n",
      " [40 50 60]\n",
      " [70 80 90]]\n"
     ]
    }
   ],
   "source": [
    "a=np.arange(10,100,10).reshape(3,3)\n",
    "print(\"Content of a :\")\n",
    "print(a)"
   ]
  },
  {
   "cell_type": "code",
   "execution_count": 48,
   "id": "2c99374e-fd2b-405e-9a03-aeb30952830f",
   "metadata": {},
   "outputs": [
    {
     "name": "stdout",
     "output_type": "stream",
     "text": [
      "[[10]\n",
      " [40]\n",
      " [70]]\n",
      "---------------\n",
      "[[10]\n",
      " [40]\n",
      " [70]]\n",
      "---------------\n",
      "[[10]\n",
      " [40]\n",
      " [70]]\n"
     ]
    }
   ],
   "source": [
    "print(a[0:3,0:1])\n",
    "print('---------------')\n",
    "print(a[:,:1])\n",
    "print('---------------')\n",
    "print(a[-3:,-3:-2])"
   ]
  },
  {
   "cell_type": "code",
   "execution_count": 33,
   "id": "42b200a8-32cc-4cb7-9752-310f4e8d53c6",
   "metadata": {},
   "outputs": [
    {
     "data": {
      "text/plain": [
       "array([[20],\n",
       "       [50],\n",
       "       [80]])"
      ]
     },
     "execution_count": 33,
     "metadata": {},
     "output_type": "execute_result"
    }
   ],
   "source": [
    "a[0:3,1:2]"
   ]
  },
  {
   "cell_type": "code",
   "execution_count": 35,
   "id": "f672cad1-774c-4b29-a3fa-fdaa7c81d8c8",
   "metadata": {},
   "outputs": [
    {
     "name": "stdout",
     "output_type": "stream",
     "text": [
      "[[10 20 30]\n",
      " [40 50 60]\n",
      " [70 80 90]]\n"
     ]
    }
   ],
   "source": [
    "print(a)"
   ]
  },
  {
   "cell_type": "code",
   "execution_count": 57,
   "id": "d5122f83-ca1e-49bb-b159-0f8ca5c2d1e6",
   "metadata": {},
   "outputs": [
    {
     "name": "stdout",
     "output_type": "stream",
     "text": [
      "[[40 50 60]]\n",
      "--------------------\n",
      "[[40 50 60]]\n",
      "--------------------\n",
      "[[40 50 60]]\n"
     ]
    }
   ],
   "source": [
    "# 40 50 60\n",
    "print(a[1:2,0:3])\n",
    "print('-'*20)\n",
    "print(a[-2:-1,-3:])\n",
    "print('-'*20)\n",
    "print(a[-2:-1,:])"
   ]
  },
  {
   "cell_type": "code",
   "execution_count": 58,
   "id": "686706b1-0237-4831-ba50-c118f4b63a64",
   "metadata": {},
   "outputs": [
    {
     "name": "stdout",
     "output_type": "stream",
     "text": [
      "[[10 20 30]\n",
      " [40 50 60]\n",
      " [70 80 90]]\n"
     ]
    }
   ],
   "source": [
    "print(a)"
   ]
  },
  {
   "cell_type": "code",
   "execution_count": 59,
   "id": "4afe29ce-6607-48e3-9e6b-7184f0298a6e",
   "metadata": {},
   "outputs": [
    {
     "data": {
      "text/plain": [
       "array([[10, 20],\n",
       "       [40, 50]])"
      ]
     },
     "execution_count": 59,
     "metadata": {},
     "output_type": "execute_result"
    }
   ],
   "source": [
    "# 10 20\n",
    "# 40 50\n",
    "a[0:2,0:2]"
   ]
  },
  {
   "cell_type": "code",
   "execution_count": 60,
   "id": "efc87356-92d2-4c1b-8b5f-f0bab91693e3",
   "metadata": {},
   "outputs": [
    {
     "data": {
      "text/plain": [
       "array([[10, 20],\n",
       "       [40, 50]])"
      ]
     },
     "execution_count": 60,
     "metadata": {},
     "output_type": "execute_result"
    }
   ],
   "source": [
    "a[:2,:2]"
   ]
  },
  {
   "cell_type": "code",
   "execution_count": 61,
   "id": "64a9e49c-5a16-4588-b9e0-8352a62b6117",
   "metadata": {},
   "outputs": [
    {
     "name": "stdout",
     "output_type": "stream",
     "text": [
      "[[10 20 30]\n",
      " [40 50 60]\n",
      " [70 80 90]]\n"
     ]
    }
   ],
   "source": [
    "print(a)"
   ]
  },
  {
   "cell_type": "code",
   "execution_count": 62,
   "id": "54fd1c1e-5980-451e-96c0-fe90e48c5b6e",
   "metadata": {},
   "outputs": [
    {
     "data": {
      "text/plain": [
       "array([[10, 20],\n",
       "       [40, 50]])"
      ]
     },
     "execution_count": 62,
     "metadata": {},
     "output_type": "execute_result"
    }
   ],
   "source": [
    "a[-3:-1,-3:-1]"
   ]
  },
  {
   "cell_type": "code",
   "execution_count": 63,
   "id": "94e6084e-4cad-4f73-804c-0a07ec23967c",
   "metadata": {},
   "outputs": [
    {
     "data": {
      "text/plain": [
       "array([[80, 90]])"
      ]
     },
     "execution_count": 63,
     "metadata": {},
     "output_type": "execute_result"
    }
   ],
   "source": [
    "# 80 90\n",
    "a[2:3,1:3]"
   ]
  },
  {
   "cell_type": "code",
   "execution_count": 67,
   "id": "c2c99b44-017a-444a-adc9-2ba6bfc0d65d",
   "metadata": {},
   "outputs": [
    {
     "name": "stdout",
     "output_type": "stream",
     "text": [
      "[[10 20 30]\n",
      " [40 50 60]\n",
      " [70 80 90]]\n"
     ]
    }
   ],
   "source": [
    "print(a)"
   ]
  },
  {
   "cell_type": "code",
   "execution_count": 68,
   "id": "c4f19185-621f-44c3-9438-8900fdd11e25",
   "metadata": {},
   "outputs": [
    {
     "data": {
      "text/plain": [
       "array([[40, 50],\n",
       "       [70, 80]])"
      ]
     },
     "execution_count": 68,
     "metadata": {},
     "output_type": "execute_result"
    }
   ],
   "source": [
    "# 40 50\n",
    "# 70 80\n",
    "a[1:3,0:2]"
   ]
  },
  {
   "cell_type": "code",
   "execution_count": 70,
   "id": "f5cbbb2e-6fa3-48ce-8631-5237ee4289f2",
   "metadata": {},
   "outputs": [
    {
     "data": {
      "text/plain": [
       "array([[40, 50],\n",
       "       [70, 80]])"
      ]
     },
     "execution_count": 70,
     "metadata": {},
     "output_type": "execute_result"
    }
   ],
   "source": [
    "a[-2:,-3:-1]"
   ]
  },
  {
   "cell_type": "code",
   "execution_count": 71,
   "id": "74a221da-924d-4aec-85a3-c19cc619e5ef",
   "metadata": {},
   "outputs": [
    {
     "name": "stdout",
     "output_type": "stream",
     "text": [
      "[[10 20 30]\n",
      " [40 50 60]\n",
      " [70 80 90]]\n"
     ]
    }
   ],
   "source": [
    "print(a)"
   ]
  },
  {
   "cell_type": "code",
   "execution_count": 72,
   "id": "35c80157-0da6-44e5-986e-d13584ceacdf",
   "metadata": {},
   "outputs": [
    {
     "data": {
      "text/plain": [
       "array([[20, 30],\n",
       "       [50, 60]])"
      ]
     },
     "execution_count": 72,
     "metadata": {},
     "output_type": "execute_result"
    }
   ],
   "source": [
    "# 20 30 \n",
    "# 50 60\n",
    "a[0:2,1:3]"
   ]
  },
  {
   "cell_type": "code",
   "execution_count": 73,
   "id": "15c11266-0732-444d-9974-2fd6b5f9cfe6",
   "metadata": {},
   "outputs": [
    {
     "data": {
      "text/plain": [
       "array([[20, 30],\n",
       "       [50, 60]])"
      ]
     },
     "execution_count": 73,
     "metadata": {},
     "output_type": "execute_result"
    }
   ],
   "source": [
    "a[-3:-1,-2:]"
   ]
  },
  {
   "cell_type": "code",
   "execution_count": 74,
   "id": "f5c711e7-dc8d-4432-9dd9-6dc53233f7d7",
   "metadata": {},
   "outputs": [
    {
     "data": {
      "text/plain": [
       "array([[20, 30],\n",
       "       [50, 60]])"
      ]
     },
     "execution_count": 74,
     "metadata": {},
     "output_type": "execute_result"
    }
   ],
   "source": [
    "a[-3:-1:,-2::]"
   ]
  },
  {
   "cell_type": "code",
   "execution_count": 75,
   "id": "f4b1dffd-4911-48f9-97c6-1d96fda058d0",
   "metadata": {},
   "outputs": [
    {
     "name": "stdout",
     "output_type": "stream",
     "text": [
      "[[10 20 30]\n",
      " [40 50 60]\n",
      " [70 80 90]]\n"
     ]
    }
   ],
   "source": [
    "print(a)"
   ]
  },
  {
   "cell_type": "code",
   "execution_count": 76,
   "id": "46aa1e0b-7ef0-410e-a5c9-f55c9149e6e4",
   "metadata": {},
   "outputs": [
    {
     "data": {
      "text/plain": [
       "array([[10, 20, 30],\n",
       "       [70, 80, 90]])"
      ]
     },
     "execution_count": 76,
     "metadata": {},
     "output_type": "execute_result"
    }
   ],
   "source": [
    "# 10 20 30\n",
    "# 70 80 90\n",
    "a[::2,::]"
   ]
  },
  {
   "cell_type": "code",
   "execution_count": 77,
   "id": "f0802ee1-44f2-48bf-bbf8-5dbb04f91d4e",
   "metadata": {},
   "outputs": [
    {
     "data": {
      "text/plain": [
       "array([[10, 20, 30],\n",
       "       [70, 80, 90]])"
      ]
     },
     "execution_count": 77,
     "metadata": {},
     "output_type": "execute_result"
    }
   ],
   "source": [
    "a[-3::2,-3::]"
   ]
  },
  {
   "cell_type": "code",
   "execution_count": 78,
   "id": "4372675f-c8be-4007-af67-cdb08c5f848c",
   "metadata": {},
   "outputs": [
    {
     "data": {
      "text/plain": [
       "array([[10, 20, 30],\n",
       "       [70, 80, 90]])"
      ]
     },
     "execution_count": 78,
     "metadata": {},
     "output_type": "execute_result"
    }
   ],
   "source": [
    "a[0:3:2,::1]"
   ]
  },
  {
   "cell_type": "code",
   "execution_count": 79,
   "id": "1b896434-d55e-4483-bd08-92ac4021e1e8",
   "metadata": {},
   "outputs": [
    {
     "name": "stdout",
     "output_type": "stream",
     "text": [
      "[[10 20 30]\n",
      " [40 50 60]\n",
      " [70 80 90]]\n"
     ]
    }
   ],
   "source": [
    "print(a)"
   ]
  },
  {
   "cell_type": "code",
   "execution_count": 80,
   "id": "9d0da7fb-6756-46ab-99c9-93eb1a3b7ba4",
   "metadata": {},
   "outputs": [
    {
     "data": {
      "text/plain": [
       "array([[10, 30],\n",
       "       [40, 60],\n",
       "       [70, 90]])"
      ]
     },
     "execution_count": 80,
     "metadata": {},
     "output_type": "execute_result"
    }
   ],
   "source": [
    "# 10 30\n",
    "# 40 60\n",
    "# 70 90\n",
    "a[0:3,0:3:2]"
   ]
  },
  {
   "cell_type": "code",
   "execution_count": 81,
   "id": "9467a1c9-5cd4-4ef7-8e0d-1c5d834370d7",
   "metadata": {},
   "outputs": [
    {
     "data": {
      "text/plain": [
       "array([[10, 30],\n",
       "       [40, 60],\n",
       "       [70, 90]])"
      ]
     },
     "execution_count": 81,
     "metadata": {},
     "output_type": "execute_result"
    }
   ],
   "source": [
    "a[:3:1,:3:2]"
   ]
  },
  {
   "cell_type": "code",
   "execution_count": 82,
   "id": "5448fccd-4478-4d16-a86b-a48f0cd612a6",
   "metadata": {},
   "outputs": [
    {
     "data": {
      "text/plain": [
       "array([[10, 30],\n",
       "       [40, 60],\n",
       "       [70, 90]])"
      ]
     },
     "execution_count": 82,
     "metadata": {},
     "output_type": "execute_result"
    }
   ],
   "source": [
    "a[::,::2]"
   ]
  },
  {
   "cell_type": "code",
   "execution_count": 86,
   "id": "57ac006f-d7f7-41b5-a458-668779bef6cc",
   "metadata": {},
   "outputs": [
    {
     "data": {
      "text/plain": [
       "array([[10, 30],\n",
       "       [40, 60],\n",
       "       [70, 90]])"
      ]
     },
     "execution_count": 86,
     "metadata": {},
     "output_type": "execute_result"
    }
   ],
   "source": [
    "a[-3:,-3::2]"
   ]
  },
  {
   "cell_type": "code",
   "execution_count": 87,
   "id": "136e4a92-0027-4945-b0e6-1ac90d8fe5e0",
   "metadata": {},
   "outputs": [
    {
     "name": "stdout",
     "output_type": "stream",
     "text": [
      "[[10 20 30]\n",
      " [40 50 60]\n",
      " [70 80 90]]\n"
     ]
    }
   ],
   "source": [
    "print(a)"
   ]
  },
  {
   "cell_type": "code",
   "execution_count": 88,
   "id": "07192abb-1b02-43f6-8a48-c390b72af1f3",
   "metadata": {},
   "outputs": [
    {
     "data": {
      "text/plain": [
       "array([[10, 30],\n",
       "       [70, 90]])"
      ]
     },
     "execution_count": 88,
     "metadata": {},
     "output_type": "execute_result"
    }
   ],
   "source": [
    "# Now take a courner numbers\n",
    "# 10 30\n",
    "# 70 90\n",
    "a[0:3:2,0:3:2]"
   ]
  },
  {
   "cell_type": "code",
   "execution_count": 89,
   "id": "982fa6fd-c80a-4a26-ba62-22c4688bc472",
   "metadata": {},
   "outputs": [
    {
     "data": {
      "text/plain": [
       "array([[10, 30],\n",
       "       [70, 90]])"
      ]
     },
     "execution_count": 89,
     "metadata": {},
     "output_type": "execute_result"
    }
   ],
   "source": [
    "a[::2,::2]"
   ]
  },
  {
   "cell_type": "code",
   "execution_count": 90,
   "id": "e204a901-a0df-42a6-b7f4-564a1093e045",
   "metadata": {},
   "outputs": [
    {
     "data": {
      "text/plain": [
       "array([[10, 30],\n",
       "       [70, 90]])"
      ]
     },
     "execution_count": 90,
     "metadata": {},
     "output_type": "execute_result"
    }
   ],
   "source": [
    "a[-3::2,-3::2]"
   ]
  },
  {
   "cell_type": "code",
   "execution_count": null,
   "id": "694c3b8e-c81a-46cf-b16f-046ae176554a",
   "metadata": {},
   "outputs": [],
   "source": [
    "# Slicing Operations n-D Array\n",
    "# ndarrayobj[MatBeg:MatEnd:MatStep, RowBeg:RowEnd:RowStep, ColBeg:ColEnd:ColStep]"
   ]
  },
  {
   "cell_type": "code",
   "execution_count": 92,
   "id": "62d32c93-840a-4646-ab55-6cd222b2f73c",
   "metadata": {},
   "outputs": [
    {
     "name": "stdout",
     "output_type": "stream",
     "text": [
      "content of a is :\n",
      "[[[ 0  1  2]\n",
      "  [ 3  4  5]\n",
      "  [ 6  7  8]]\n",
      "\n",
      " [[ 9 10 11]\n",
      "  [12 13 14]\n",
      "  [15 16 17]]\n",
      "\n",
      " [[18 19 20]\n",
      "  [21 22 23]\n",
      "  [24 25 26]]]\n"
     ]
    }
   ],
   "source": [
    "a=np.arange(3*3*3).reshape(3,3,3)\n",
    "print(\"content of a is :\")\n",
    "print(a)"
   ]
  },
  {
   "cell_type": "code",
   "execution_count": 98,
   "id": "7b307397-47f1-42cc-a8ba-3bc520d8deec",
   "metadata": {},
   "outputs": [
    {
     "data": {
      "text/plain": [
       "array([[[0, 1],\n",
       "        [3, 4]]])"
      ]
     },
     "execution_count": 98,
     "metadata": {},
     "output_type": "execute_result"
    }
   ],
   "source": [
    "# 0 1\n",
    "# 3 4\n",
    "a[0:1,0:2,0:2]"
   ]
  },
  {
   "cell_type": "code",
   "execution_count": 102,
   "id": "1a6b74f6-cebb-4e4c-99d2-3aa52abe99ae",
   "metadata": {},
   "outputs": [
    {
     "data": {
      "text/plain": [
       "array([[[0, 1],\n",
       "        [3, 4]]])"
      ]
     },
     "execution_count": 102,
     "metadata": {},
     "output_type": "execute_result"
    }
   ],
   "source": [
    "a[-3:-2,-3:-1,-3:-1]"
   ]
  },
  {
   "cell_type": "code",
   "execution_count": 103,
   "id": "f1af32b0-f82b-4667-bf35-91febd68355e",
   "metadata": {},
   "outputs": [
    {
     "name": "stdout",
     "output_type": "stream",
     "text": [
      "[[[ 0  1  2]\n",
      "  [ 3  4  5]\n",
      "  [ 6  7  8]]\n",
      "\n",
      " [[ 9 10 11]\n",
      "  [12 13 14]\n",
      "  [15 16 17]]\n",
      "\n",
      " [[18 19 20]\n",
      "  [21 22 23]\n",
      "  [24 25 26]]]\n"
     ]
    }
   ],
   "source": [
    "print(a)"
   ]
  },
  {
   "cell_type": "code",
   "execution_count": 110,
   "id": "4ed16935-06aa-4633-8d45-8dbab6df97c3",
   "metadata": {},
   "outputs": [
    {
     "data": {
      "text/plain": [
       "array([[[13],\n",
       "        [16]]])"
      ]
     },
     "execution_count": 110,
     "metadata": {},
     "output_type": "execute_result"
    }
   ],
   "source": [
    "# 13 16\n",
    "a[1:2,1:3,1:2]"
   ]
  },
  {
   "cell_type": "code",
   "execution_count": 113,
   "id": "0cb12db2-b3f2-4959-94c5-702eb634ed08",
   "metadata": {},
   "outputs": [
    {
     "data": {
      "text/plain": [
       "array([[[13],\n",
       "        [16]]])"
      ]
     },
     "execution_count": 113,
     "metadata": {},
     "output_type": "execute_result"
    }
   ],
   "source": [
    "a[-2:-1,-2:,-2:-1]"
   ]
  },
  {
   "cell_type": "code",
   "execution_count": 114,
   "id": "e2937b96-e94c-4b5a-a9e1-3e03f3d0093f",
   "metadata": {},
   "outputs": [
    {
     "name": "stdout",
     "output_type": "stream",
     "text": [
      "[[[ 0  1  2]\n",
      "  [ 3  4  5]\n",
      "  [ 6  7  8]]\n",
      "\n",
      " [[ 9 10 11]\n",
      "  [12 13 14]\n",
      "  [15 16 17]]\n",
      "\n",
      " [[18 19 20]\n",
      "  [21 22 23]\n",
      "  [24 25 26]]]\n"
     ]
    }
   ],
   "source": [
    "print(a)"
   ]
  },
  {
   "cell_type": "code",
   "execution_count": 115,
   "id": "e38f213d-5212-4b33-9de8-0874e2d1b168",
   "metadata": {},
   "outputs": [
    {
     "data": {
      "text/plain": [
       "array([[[ 6,  7,  8]],\n",
       "\n",
       "       [[15, 16, 17]],\n",
       "\n",
       "       [[24, 25, 26]]])"
      ]
     },
     "execution_count": 115,
     "metadata": {},
     "output_type": "execute_result"
    }
   ],
   "source": [
    "# 6 7 8\n",
    "# 15 16 17\n",
    "# 24 25 26\n",
    "a[0:3,2:,0:3]"
   ]
  },
  {
   "cell_type": "code",
   "execution_count": 116,
   "id": "5018983d-f458-4490-897c-387683a8372a",
   "metadata": {},
   "outputs": [
    {
     "data": {
      "text/plain": [
       "array([[[ 6,  7,  8]],\n",
       "\n",
       "       [[15, 16, 17]],\n",
       "\n",
       "       [[24, 25, 26]]])"
      ]
     },
     "execution_count": 116,
     "metadata": {},
     "output_type": "execute_result"
    }
   ],
   "source": [
    "a[:,2:,:]"
   ]
  },
  {
   "cell_type": "code",
   "execution_count": 117,
   "id": "fc644b0d-0da5-48f8-9004-75d415f882bc",
   "metadata": {},
   "outputs": [
    {
     "name": "stdout",
     "output_type": "stream",
     "text": [
      "[[[ 0  1  2]\n",
      "  [ 3  4  5]\n",
      "  [ 6  7  8]]\n",
      "\n",
      " [[ 9 10 11]\n",
      "  [12 13 14]\n",
      "  [15 16 17]]\n",
      "\n",
      " [[18 19 20]\n",
      "  [21 22 23]\n",
      "  [24 25 26]]]\n"
     ]
    }
   ],
   "source": [
    "print(a)"
   ]
  },
  {
   "cell_type": "code",
   "execution_count": 118,
   "id": "b2d25298-6ec6-47f9-8cde-5f29d98e51c2",
   "metadata": {},
   "outputs": [
    {
     "data": {
      "text/plain": [
       "array([[[ 6,  7,  8]],\n",
       "\n",
       "       [[15, 16, 17]],\n",
       "\n",
       "       [[24, 25, 26]]])"
      ]
     },
     "execution_count": 118,
     "metadata": {},
     "output_type": "execute_result"
    }
   ],
   "source": [
    "a[-3:,-1:,-3:]"
   ]
  },
  {
   "cell_type": "code",
   "execution_count": 119,
   "id": "02cb9916-882f-4f63-82b1-866a5d518b18",
   "metadata": {},
   "outputs": [
    {
     "name": "stdout",
     "output_type": "stream",
     "text": [
      "[[[ 0  1  2]\n",
      "  [ 3  4  5]\n",
      "  [ 6  7  8]]\n",
      "\n",
      " [[ 9 10 11]\n",
      "  [12 13 14]\n",
      "  [15 16 17]]\n",
      "\n",
      " [[18 19 20]\n",
      "  [21 22 23]\n",
      "  [24 25 26]]]\n"
     ]
    }
   ],
   "source": [
    "print(a)"
   ]
  },
  {
   "cell_type": "code",
   "execution_count": 120,
   "id": "729ec632-5bb5-4b09-93f5-c29d44c64e73",
   "metadata": {},
   "outputs": [
    {
     "data": {
      "text/plain": [
       "array([[[ 3,  4,  5]],\n",
       "\n",
       "       [[21, 22, 23]]])"
      ]
     },
     "execution_count": 120,
     "metadata": {},
     "output_type": "execute_result"
    }
   ],
   "source": [
    "# 3 4 5\n",
    "# 21 22 23\n",
    "a[0:3:2,1:2:1,0:3:1]"
   ]
  },
  {
   "cell_type": "code",
   "execution_count": 121,
   "id": "34fcc4e1-ba67-4e8c-bb04-f02feb109ced",
   "metadata": {},
   "outputs": [
    {
     "data": {
      "text/plain": [
       "array([[[ 3,  4,  5]],\n",
       "\n",
       "       [[21, 22, 23]]])"
      ]
     },
     "execution_count": 121,
     "metadata": {},
     "output_type": "execute_result"
    }
   ],
   "source": [
    "a[:3:2,1:2,:3]"
   ]
  },
  {
   "cell_type": "code",
   "execution_count": 122,
   "id": "b3f359bd-9509-46d0-8aa4-bc4c51723a0c",
   "metadata": {},
   "outputs": [
    {
     "name": "stdout",
     "output_type": "stream",
     "text": [
      "[[[ 0  1  2]\n",
      "  [ 3  4  5]\n",
      "  [ 6  7  8]]\n",
      "\n",
      " [[ 9 10 11]\n",
      "  [12 13 14]\n",
      "  [15 16 17]]\n",
      "\n",
      " [[18 19 20]\n",
      "  [21 22 23]\n",
      "  [24 25 26]]]\n"
     ]
    }
   ],
   "source": [
    "print(a)"
   ]
  },
  {
   "cell_type": "code",
   "execution_count": 123,
   "id": "0ce6558a-0ff3-44c4-a328-1afba082f7c8",
   "metadata": {},
   "outputs": [
    {
     "data": {
      "text/plain": [
       "array([[[12, 13, 14]]])"
      ]
     },
     "execution_count": 123,
     "metadata": {},
     "output_type": "execute_result"
    }
   ],
   "source": [
    "# 12 13 14\n",
    "a[1:2,1:2,0:3]"
   ]
  },
  {
   "cell_type": "code",
   "execution_count": 124,
   "id": "93c5dd18-4ccc-4e57-928b-d8ce9ed0326f",
   "metadata": {},
   "outputs": [
    {
     "data": {
      "text/plain": [
       "array([[[12, 13, 14]]])"
      ]
     },
     "execution_count": 124,
     "metadata": {},
     "output_type": "execute_result"
    }
   ],
   "source": [
    "a[-2:-1,-2:-1,-3:]"
   ]
  },
  {
   "cell_type": "code",
   "execution_count": 125,
   "id": "4f430947-375d-45eb-b3a8-c6bae739fccf",
   "metadata": {},
   "outputs": [
    {
     "name": "stdout",
     "output_type": "stream",
     "text": [
      "[[[ 0  1  2]\n",
      "  [ 3  4  5]\n",
      "  [ 6  7  8]]\n",
      "\n",
      " [[ 9 10 11]\n",
      "  [12 13 14]\n",
      "  [15 16 17]]\n",
      "\n",
      " [[18 19 20]\n",
      "  [21 22 23]\n",
      "  [24 25 26]]]\n"
     ]
    }
   ],
   "source": [
    "print(a)"
   ]
  },
  {
   "cell_type": "code",
   "execution_count": 126,
   "id": "e56d8127-170d-4be4-afe2-f3243fbb8d15",
   "metadata": {},
   "outputs": [
    {
     "data": {
      "text/plain": [
       "array([[[ 1],\n",
       "        [ 4],\n",
       "        [ 7]],\n",
       "\n",
       "       [[19],\n",
       "        [22],\n",
       "        [25]]])"
      ]
     },
     "execution_count": 126,
     "metadata": {},
     "output_type": "execute_result"
    }
   ],
   "source": [
    "# 1 4 7\n",
    "# 19 22 25\n",
    "a[0:3:2,0:3,1:2]"
   ]
  },
  {
   "cell_type": "code",
   "execution_count": 127,
   "id": "e059f5c8-1bea-4a5d-9ba2-79e333849ca5",
   "metadata": {},
   "outputs": [
    {
     "data": {
      "text/plain": [
       "array([[[ 1],\n",
       "        [ 4],\n",
       "        [ 7]],\n",
       "\n",
       "       [[19],\n",
       "        [22],\n",
       "        [25]]])"
      ]
     },
     "execution_count": 127,
     "metadata": {},
     "output_type": "execute_result"
    }
   ],
   "source": [
    "a[:3:2,:3:1,1:2:1]"
   ]
  },
  {
   "cell_type": "code",
   "execution_count": 128,
   "id": "d5562251-d4e7-4a4e-aa65-bea2fec892d0",
   "metadata": {},
   "outputs": [
    {
     "name": "stdout",
     "output_type": "stream",
     "text": [
      "[[[ 0  1  2]\n",
      "  [ 3  4  5]\n",
      "  [ 6  7  8]]\n",
      "\n",
      " [[ 9 10 11]\n",
      "  [12 13 14]\n",
      "  [15 16 17]]\n",
      "\n",
      " [[18 19 20]\n",
      "  [21 22 23]\n",
      "  [24 25 26]]]\n"
     ]
    }
   ],
   "source": [
    "print(a)"
   ]
  },
  {
   "cell_type": "code",
   "execution_count": 129,
   "id": "12945226-33a1-4d89-a8a3-fc470e3e922d",
   "metadata": {},
   "outputs": [
    {
     "data": {
      "text/plain": [
       "array([[[ 1],\n",
       "        [ 4],\n",
       "        [ 7]],\n",
       "\n",
       "       [[19],\n",
       "        [22],\n",
       "        [25]]])"
      ]
     },
     "execution_count": 129,
     "metadata": {},
     "output_type": "execute_result"
    }
   ],
   "source": [
    "a[-3::2,-3::1,-2:-1]"
   ]
  },
  {
   "cell_type": "code",
   "execution_count": 130,
   "id": "c90b03a1-4ecd-4040-9061-51c275cd23a1",
   "metadata": {},
   "outputs": [
    {
     "name": "stdout",
     "output_type": "stream",
     "text": [
      "[[[ 0  1  2]\n",
      "  [ 3  4  5]\n",
      "  [ 6  7  8]]\n",
      "\n",
      " [[ 9 10 11]\n",
      "  [12 13 14]\n",
      "  [15 16 17]]\n",
      "\n",
      " [[18 19 20]\n",
      "  [21 22 23]\n",
      "  [24 25 26]]]\n"
     ]
    }
   ],
   "source": [
    "print(a)"
   ]
  },
  {
   "cell_type": "code",
   "execution_count": null,
   "id": "6238507b-6fed-4ac6-97b6-d6cb46e0cf26",
   "metadata": {},
   "outputs": [],
   "source": [
    "# getting the corner number of each matrix\n",
    "# 0 2\n",
    "# 6 8\n",
    "#-------\n",
    "# 9 11\n",
    "# 15 17\n",
    "#--------\n",
    "# 18 20\n",
    "# 24 26"
   ]
  },
  {
   "cell_type": "code",
   "execution_count": 131,
   "id": "ff333958-b570-46ca-abf3-50efcf731f19",
   "metadata": {},
   "outputs": [
    {
     "data": {
      "text/plain": [
       "array([[[ 0,  2],\n",
       "        [ 6,  8]],\n",
       "\n",
       "       [[ 9, 11],\n",
       "        [15, 17]],\n",
       "\n",
       "       [[18, 20],\n",
       "        [24, 26]]])"
      ]
     },
     "execution_count": 131,
     "metadata": {},
     "output_type": "execute_result"
    }
   ],
   "source": [
    "a[0:3,0:3:2,0:3:2]"
   ]
  },
  {
   "cell_type": "code",
   "execution_count": 132,
   "id": "5b74e5ec-4497-4314-a0f6-d40c944022df",
   "metadata": {},
   "outputs": [
    {
     "data": {
      "text/plain": [
       "array([[[ 0,  2],\n",
       "        [ 6,  8]],\n",
       "\n",
       "       [[ 9, 11],\n",
       "        [15, 17]],\n",
       "\n",
       "       [[18, 20],\n",
       "        [24, 26]]])"
      ]
     },
     "execution_count": 132,
     "metadata": {},
     "output_type": "execute_result"
    }
   ],
   "source": [
    "a[:3,:3:2,:3:2]"
   ]
  },
  {
   "cell_type": "code",
   "execution_count": 134,
   "id": "419b54bf-20ba-4bea-99d6-fa4d1afeb293",
   "metadata": {},
   "outputs": [
    {
     "name": "stdout",
     "output_type": "stream",
     "text": [
      "[[[ 0  1  2]\n",
      "  [ 3  4  5]\n",
      "  [ 6  7  8]]\n",
      "\n",
      " [[ 9 10 11]\n",
      "  [12 13 14]\n",
      "  [15 16 17]]\n",
      "\n",
      " [[18 19 20]\n",
      "  [21 22 23]\n",
      "  [24 25 26]]]\n"
     ]
    }
   ],
   "source": [
    "print(a)"
   ]
  },
  {
   "cell_type": "code",
   "execution_count": 136,
   "id": "ca48bd9e-3bed-46b6-a3f3-34bdef11f145",
   "metadata": {},
   "outputs": [
    {
     "data": {
      "text/plain": [
       "array([[[ 0,  2],\n",
       "        [ 6,  8]],\n",
       "\n",
       "       [[ 9, 11],\n",
       "        [15, 17]],\n",
       "\n",
       "       [[18, 20],\n",
       "        [24, 26]]])"
      ]
     },
     "execution_count": 136,
     "metadata": {},
     "output_type": "execute_result"
    }
   ],
   "source": [
    "a[-3:,-3::2,-3::2]"
   ]
  },
  {
   "cell_type": "code",
   "execution_count": null,
   "id": "69a790eb-ea55-4ef0-af24-47ebc7d259ea",
   "metadata": {},
   "outputs": [],
   "source": []
  }
 ],
 "metadata": {
  "kernelspec": {
   "display_name": "Python 3 (ipykernel)",
   "language": "python",
   "name": "python3"
  },
  "language_info": {
   "codemirror_mode": {
    "name": "ipython",
    "version": 3
   },
   "file_extension": ".py",
   "mimetype": "text/x-python",
   "name": "python",
   "nbconvert_exporter": "python",
   "pygments_lexer": "ipython3",
   "version": "3.12.6"
  }
 },
 "nbformat": 4,
 "nbformat_minor": 5
}
