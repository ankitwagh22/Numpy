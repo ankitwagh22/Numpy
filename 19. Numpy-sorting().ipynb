{
 "cells": [
  {
   "cell_type": "code",
   "execution_count": 6,
   "id": "4509501e-1990-48cf-9f22-e6e938a71b7c",
   "metadata": {},
   "outputs": [
    {
     "name": "stdout",
     "output_type": "stream",
     "text": [
      "content of array is = [7 3 2 4 6 9 5 9 8 2]\n",
      "Array after sorting = [2 2 3 4 5 6 7 8 9 9]\n"
     ]
    }
   ],
   "source": [
    "# Sorting of ndrray object\n",
    "import numpy as np\n",
    "a = np.random.randint(1,10,size=10)\n",
    "print(\"content of array is =\", a)\n",
    "\n",
    "# Sort the Data of ndarray\n",
    "a = np.sort(a)\n",
    "print(\"Array after sorting =\", a)"
   ]
  },
  {
   "cell_type": "code",
   "execution_count": 8,
   "id": "b64ad392-bbe9-4722-a3f9-8b42eddd1c70",
   "metadata": {},
   "outputs": [
    {
     "name": "stdout",
     "output_type": "stream",
     "text": [
      "Sorted array in Ascending array =\n",
      "[2 2 3 4 5 6 7 8 9 9]\n",
      "Sorted array in Descending array =\n",
      "[9 9 8 7 6 5 4 3 2 2]\n"
     ]
    }
   ],
   "source": [
    "arr = np.sort(a)\n",
    "print(\"Sorted array in Ascending array =\")\n",
    "print(arr)\n",
    "print(\"Sorted array in Descending array =\")\n",
    "print(arr[::-1])"
   ]
  },
  {
   "cell_type": "code",
   "execution_count": 16,
   "id": "1e873fbe-d837-4558-baa8-4888c910313c",
   "metadata": {},
   "outputs": [
    {
     "name": "stdout",
     "output_type": "stream",
     "text": [
      "content of array is =\n",
      " [[67 87 49 40]\n",
      " [23 18 98 98]\n",
      " [30 26 40 44]\n",
      " [70 27 59 63]]\n",
      "--------------------\n",
      "Sorted array is =\n",
      " [[40 49 67 87]\n",
      " [18 23 98 98]\n",
      " [26 30 40 44]\n",
      " [27 59 63 70]]\n"
     ]
    }
   ],
   "source": [
    "# sorting 2d array\n",
    "import numpy as np\n",
    "ar = np.random.randint(1,100,size=(4,4))\n",
    "print(\"content of array is =\\n\", ar)\n",
    "print('--------------------')\n",
    "\n",
    "# By deafult Row Wise\n",
    "ar = np.sort(ar)\n",
    "print(\"Sorted array is =\\n\", ar)"
   ]
  },
  {
   "cell_type": "code",
   "execution_count": 19,
   "id": "3d9cd271-1ec3-448f-888b-c9663b4796c9",
   "metadata": {},
   "outputs": [
    {
     "name": "stdout",
     "output_type": "stream",
     "text": [
      "content of array is =\n",
      " [[16 52 64 17]\n",
      " [51 46 13 27]\n",
      " [91 51 28 96]\n",
      " [ 1 50 81 43]]\n",
      "--------------------\n",
      "Row Wise sorted array is =\n",
      "[[16 17 52 64]\n",
      " [13 27 46 51]\n",
      " [28 51 91 96]\n",
      " [ 1 43 50 81]]\n"
     ]
    }
   ],
   "source": [
    "# sorting the data in Row Wise\n",
    "import numpy as np\n",
    "ar = np.random.randint(1,100,size=(4,4))\n",
    "print(\"content of array is =\\n\", ar)\n",
    "print('--------------------') \n",
    "\n",
    "# axis=1 Represents Rows in the case sort()\n",
    "ar = np.sort(ar,axis=1)\n",
    "print(\"Row Wise sorted array is =\")\n",
    "print(ar)"
   ]
  },
  {
   "cell_type": "code",
   "execution_count": 20,
   "id": "91ac6368-ddc3-47b8-a617-98308bfebb44",
   "metadata": {},
   "outputs": [
    {
     "name": "stdout",
     "output_type": "stream",
     "text": [
      "content of array is =\n",
      " [[56 93 82 67]\n",
      " [ 8 37 88  9]\n",
      " [31 98 38 16]\n",
      " [22 23 47 54]]\n",
      "--------------------\n",
      "Column Wise sorted array is =\n",
      "[[ 8 23 38  9]\n",
      " [22 37 47 16]\n",
      " [31 93 82 54]\n",
      " [56 98 88 67]]\n"
     ]
    }
   ],
   "source": [
    "# sorting the data in column Wise\n",
    "import numpy as np\n",
    "ar = np.random.randint(1,100,size=(4,4))\n",
    "print(\"content of array is =\\n\", ar)\n",
    "print('--------------------') \n",
    "\n",
    "# axis=0 Represents column in the case sort()\n",
    "ar = np.sort(ar,axis=0)\n",
    "print(\"Column Wise sorted array is =\")\n",
    "print(ar)"
   ]
  },
  {
   "cell_type": "code",
   "execution_count": 23,
   "id": "061c1f4f-7b07-40ea-b06a-fefdb853e069",
   "metadata": {},
   "outputs": [
    {
     "name": "stdout",
     "output_type": "stream",
     "text": [
      "[[ 8 23]\n",
      " [22 37]\n",
      " [31 93]\n",
      " [56 98]]\n"
     ]
    }
   ],
   "source": [
    "ar = np.sort(ar[::,:2:])\n",
    "print(ar)"
   ]
  },
  {
   "cell_type": "code",
   "execution_count": null,
   "id": "58a2cfc3-635f-48c6-9ddb-b306e3a09bd0",
   "metadata": {},
   "outputs": [],
   "source": []
  }
 ],
 "metadata": {
  "kernelspec": {
   "display_name": "Python 3 (ipykernel)",
   "language": "python",
   "name": "python3"
  },
  "language_info": {
   "codemirror_mode": {
    "name": "ipython",
    "version": 3
   },
   "file_extension": ".py",
   "mimetype": "text/x-python",
   "name": "python",
   "nbconvert_exporter": "python",
   "pygments_lexer": "ipython3",
   "version": "3.12.6"
  }
 },
 "nbformat": 4,
 "nbformat_minor": 5
}
