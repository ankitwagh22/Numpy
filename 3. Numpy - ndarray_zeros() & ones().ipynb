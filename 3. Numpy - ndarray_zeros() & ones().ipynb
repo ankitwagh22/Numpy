{
 "cells": [
  {
   "cell_type": "code",
   "execution_count": 4,
   "id": "4c0230af-6d87-40b1-ad5c-3212207fe6c1",
   "metadata": {},
   "outputs": [
    {
     "name": "stdout",
     "output_type": "stream",
     "text": [
      "[0. 0. 0. 0. 0. 0. 0. 0. 0. 0.] <class 'numpy.ndarray'>\n",
      "Data type: float64\n"
     ]
    }
   ],
   "source": [
    "import numpy as np\n",
    "a=np.zeros(10)\n",
    "print(a,type(a))\n",
    "print(\"Data type:\", a.dtype)"
   ]
  },
  {
   "cell_type": "code",
   "execution_count": 9,
   "id": "886183cb-289b-4ca3-a1fb-e66a33dcb860",
   "metadata": {},
   "outputs": [
    {
     "name": "stdout",
     "output_type": "stream",
     "text": [
      "[0 0 0 0 0 0 0 0 0 0] <class 'numpy.ndarray'>\n",
      "Data type: int64\n",
      "Dimension : 1\n"
     ]
    }
   ],
   "source": [
    "a=np.zeros(10,dtype=int)\n",
    "print(a,type(a))\n",
    "print(\"Data type:\", a.dtype)\n",
    "print(\"Dimension :\", a.ndim)"
   ]
  },
  {
   "cell_type": "code",
   "execution_count": 10,
   "id": "4f6d7e01-02b5-4155-b8cc-282e0c453512",
   "metadata": {},
   "outputs": [
    {
     "name": "stdout",
     "output_type": "stream",
     "text": [
      "[[0 0 0]\n",
      " [0 0 0]\n",
      " [0 0 0]]\n",
      "Dimension : 2\n"
     ]
    }
   ],
   "source": [
    "a=np.zeros((3,3),dtype=int)\n",
    "print(a)\n",
    "print(\"Dimension :\", a.ndim)"
   ]
  },
  {
   "cell_type": "code",
   "execution_count": 12,
   "id": "6f699e6e-0394-4233-9c6f-39e8890281f1",
   "metadata": {},
   "outputs": [
    {
     "name": "stdout",
     "output_type": "stream",
     "text": [
      "[[[0 0 0 0]\n",
      "  [0 0 0 0]\n",
      "  [0 0 0 0]\n",
      "  [0 0 0 0]]\n",
      "\n",
      " [[0 0 0 0]\n",
      "  [0 0 0 0]\n",
      "  [0 0 0 0]\n",
      "  [0 0 0 0]]\n",
      "\n",
      " [[0 0 0 0]\n",
      "  [0 0 0 0]\n",
      "  [0 0 0 0]\n",
      "  [0 0 0 0]]\n",
      "\n",
      " [[0 0 0 0]\n",
      "  [0 0 0 0]\n",
      "  [0 0 0 0]\n",
      "  [0 0 0 0]]]\n",
      "Dimension : 3\n"
     ]
    }
   ],
   "source": [
    "a=np.zeros((4,4,4),dtype=int)\n",
    "print(a)\n",
    "print(\"Dimension :\", a.ndim)"
   ]
  },
  {
   "cell_type": "code",
   "execution_count": 5,
   "id": "1d0363a8-b341-49be-8470-16f4d7bce9ca",
   "metadata": {},
   "outputs": [
    {
     "name": "stdout",
     "output_type": "stream",
     "text": [
      "[[[0. 0. 0.]\n",
      "  [0. 0. 0.]\n",
      "  [0. 0. 0.]]\n",
      "\n",
      " [[0. 0. 0.]\n",
      "  [0. 0. 0.]\n",
      "  [0. 0. 0.]]] <class 'numpy.ndarray'>\n",
      "Dimension = 3\n"
     ]
    }
   ],
   "source": [
    "import numpy as np\n",
    "a=np.zeros((2,3,3),dtype=float)\n",
    "print(a,type(a))\n",
    "print(\"Dimension =\", a.ndim)"
   ]
  },
  {
   "cell_type": "code",
   "execution_count": 7,
   "id": "c34e27e4-76c0-487a-a265-25ff025755a7",
   "metadata": {},
   "outputs": [
    {
     "name": "stdout",
     "output_type": "stream",
     "text": [
      "[[[0 0]\n",
      "  [0 0]\n",
      "  [0 0]\n",
      "  [0 0]]\n",
      "\n",
      " [[0 0]\n",
      "  [0 0]\n",
      "  [0 0]\n",
      "  [0 0]]] <class 'numpy.ndarray'>\n",
      "Dimension = 3\n"
     ]
    }
   ],
   "source": [
    "a=np.zeros((2,4,2),dtype=int)\n",
    "print(a,type(a))\n",
    "print(\"Dimension =\", a.ndim)"
   ]
  },
  {
   "cell_type": "code",
   "execution_count": 11,
   "id": "6a7261ff-db3f-4bd8-b695-d4f803e1282e",
   "metadata": {},
   "outputs": [
    {
     "name": "stdout",
     "output_type": "stream",
     "text": [
      "Content of a :\n",
      "[1. 1. 1. 1. 1. 1.]\n",
      "<class 'numpy.ndarray'>\n",
      "Data type is = float64\n",
      "Shape = (6,)\n",
      "Size = 6\n",
      "Item-size = 8\n"
     ]
    }
   ],
   "source": [
    "import numpy as np\n",
    "a=np.ones(6)\n",
    "print(\"-\"*40)\n",
    "print(\"Content of a :\")\n",
    "print(a)\n",
    "print(type(a))\n",
    "print(\"Data type is =\", a.dtype)\n",
    "print(\"Shape =\", a.shape)\n",
    "print(\"Size =\", a.size)\n",
    "print(\"Item-size =\", a.itemsize)\n",
    "print(\"-\"*40)"
   ]
  },
  {
   "cell_type": "code",
   "execution_count": 15,
   "id": "6ce0c51e-a29e-44a6-a45f-a8dc03b2093a",
   "metadata": {},
   "outputs": [
    {
     "name": "stdout",
     "output_type": "stream",
     "text": [
      "Content of a :\n",
      "[[1 1 1]\n",
      " [1 1 1]\n",
      " [1 1 1]]\n",
      "<class 'numpy.ndarray'>\n",
      "Data type is = int64\n",
      "Shape = (3, 3)\n",
      "Size = 9\n",
      "Item-size = 8\n"
     ]
    }
   ],
   "source": [
    "a=np.ones((3,3),dtype=int)\n",
    "print(\"-\"*40)\n",
    "print(\"Content of a :\")\n",
    "print(a)\n",
    "print(type(a))\n",
    "print(\"Data type is =\", a.dtype)\n",
    "print(\"Shape =\", a.shape)\n",
    "print(\"Size =\", a.size)\n",
    "print(\"Item-size =\", a.itemsize)\n",
    "print(\"-\"*40)"
   ]
  },
  {
   "cell_type": "code",
   "execution_count": 24,
   "id": "a00c833c-ac8b-4440-bc90-72d34c274866",
   "metadata": {},
   "outputs": [
    {
     "name": "stdout",
     "output_type": "stream",
     "text": [
      "----------------------------------------\n",
      "Content of a :\n",
      "[1 1 1 1 1 1 1 1 1 1 1 1 1 1 1 1]\n",
      "<class 'numpy.ndarray'>\n",
      "Element data type is = int64\n",
      "Content of a after reshaping\n",
      "[[[1 1]\n",
      "  [1 1]]\n",
      "\n",
      " [[1 1]\n",
      "  [1 1]]\n",
      "\n",
      " [[1 1]\n",
      "  [1 1]]\n",
      "\n",
      " [[1 1]\n",
      "  [1 1]]]\n",
      "Shape is = (4, 2, 2)\n",
      "Size = 16\n",
      "Item-size = 8\n",
      "----------------------------------------\n"
     ]
    }
   ],
   "source": [
    "a=np.ones((16),dtype=int)\n",
    "print(\"-\"*40)\n",
    "print(\"Content of a :\")\n",
    "print(a)\n",
    "print(type(a))\n",
    "print(\"Element data type is =\", a.dtype)\n",
    "print(\"Content of a after reshaping\")\n",
    "a.shape=(4,2,2)\n",
    "print(a)\n",
    "print(\"Shape is =\", a.shape)\n",
    "print(\"Size =\", a.size)\n",
    "print(\"Item-size =\", a.itemsize)\n",
    "print(\"-\"*40)"
   ]
  },
  {
   "cell_type": "code",
   "execution_count": 30,
   "id": "34f16576-97e7-4aaa-827a-c79502c20970",
   "metadata": {},
   "outputs": [
    {
     "name": "stdout",
     "output_type": "stream",
     "text": [
      "['1' '1' '1' '1' '1' '1' '1' '1' '1' '1']\n",
      "Element data type : <U1\n",
      "Shape = (10,)\n",
      "Dimension = 1\n",
      "==================================================\n",
      "[['1' '1']\n",
      " ['1' '1']\n",
      " ['1' '1']\n",
      " ['1' '1']\n",
      " ['1' '1']]\n",
      "Shape = (5, 2)\n",
      "Dimension = 2\n"
     ]
    }
   ],
   "source": [
    "a=np.ones(10,dtype=str)\n",
    "print(a)\n",
    "print(\"Element data type :\", a.dtype)\n",
    "print(\"Shape =\", a.shape)\n",
    "print(\"Dimension =\", a.ndim)\n",
    "print(\"=\"*50)\n",
    "a.shape=(5,2)\n",
    "print(a)\n",
    "print(\"Shape =\", a.shape)\n",
    "print(\"Dimension =\", a.ndim)"
   ]
  },
  {
   "cell_type": "code",
   "execution_count": null,
   "id": "12b8641f-37ce-4534-8217-3bb0afc4dcb1",
   "metadata": {},
   "outputs": [],
   "source": []
  }
 ],
 "metadata": {
  "kernelspec": {
   "display_name": "Python 3 (ipykernel)",
   "language": "python",
   "name": "python3"
  },
  "language_info": {
   "codemirror_mode": {
    "name": "ipython",
    "version": 3
   },
   "file_extension": ".py",
   "mimetype": "text/x-python",
   "name": "python",
   "nbconvert_exporter": "python",
   "pygments_lexer": "ipython3",
   "version": "3.12.6"
  }
 },
 "nbformat": 4,
 "nbformat_minor": 5
}
