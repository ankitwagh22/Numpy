{
 "cells": [
  {
   "cell_type": "code",
   "execution_count": 1,
   "id": "40ae2cd8-e019-4371-a613-4166af2e85e0",
   "metadata": {},
   "outputs": [
    {
     "name": "stdout",
     "output_type": "stream",
     "text": [
      "[2 9 7 7 4 5 9 5 6 4 7 8 6 8 8 4 9 8 8 4] <class 'numpy.ndarray'>\n",
      "[2 4 5 6 7 8 9]\n"
     ]
    }
   ],
   "source": [
    "# NumPy Set Operations\n",
    "import numpy as np\n",
    "arr = np.random.randint(1,10,size=20)\n",
    "print(arr,type(arr))\n",
    "\n",
    "# create a set means convert ndarray into set using unique method\n",
    "st = np.unique(arr)\n",
    "print(st)"
   ]
  },
  {
   "cell_type": "code",
   "execution_count": 11,
   "id": "b80abfb7-d7ca-44af-b191-0a315302a14b",
   "metadata": {},
   "outputs": [
    {
     "name": "stdout",
     "output_type": "stream",
     "text": [
      "[1 2 3 4] [5 6 7 8]\n",
      "[1 2 3 4 5 6 7 8]\n"
     ]
    }
   ],
   "source": [
    "# Finding Union using union1d array\n",
    "import numpy as np\n",
    "a1 = np.array([1,2,3,4])\n",
    "a2 = np.array([5,6,7,8])\n",
    "print(a1,a2)\n",
    "x = np.union1d(a1,a2)\n",
    "print(\"Union is =\",x)"
   ]
  },
  {
   "cell_type": "code",
   "execution_count": 16,
   "id": "4460cf94-3074-4224-9021-4ba89e9ab0ce",
   "metadata": {},
   "outputs": [
    {
     "name": "stdout",
     "output_type": "stream",
     "text": [
      "[1 2 3 4] [3 4 5 6]\n",
      "[3 4]\n"
     ]
    }
   ],
   "source": [
    "# Finding Intersection using intersect1d()\n",
    "import numpy as np\n",
    "arr1 = np.array([1,2,3,4])\n",
    "arr2 = np.array([3,4,5,6])\n",
    "print(arr1,arr2)\n",
    "x = np.intersect1d(arr1,arr2, assume_unique=True) # it is an optional parameter\n",
    "print(\"Intersection is =\",x)"
   ]
  },
  {
   "cell_type": "code",
   "execution_count": 5,
   "id": "a87b6b14-22f4-4901-b0ec-f6f779aedbdd",
   "metadata": {},
   "outputs": [
    {
     "name": "stdout",
     "output_type": "stream",
     "text": [
      "[1 2 3 4] [3 4 5 6]\n",
      "Difference is = [1 2]\n"
     ]
    }
   ],
   "source": [
    "# Finding Difference using setdiff1d(set1,set2)\n",
    "ar1 = np.array([1,2,3,4])\n",
    "ar2 = np.array([3,4,5,6])\n",
    "print(ar1,ar2)\n",
    "d = np.setdiff1d(ar1,ar2)   # remove common elements and return remaning elements\n",
    "print(\"Difference is =\",d)"
   ]
  },
  {
   "cell_type": "code",
   "execution_count": 4,
   "id": "8859b377-9366-4ae6-aec5-dc55ad2bab6c",
   "metadata": {},
   "outputs": [
    {
     "name": "stdout",
     "output_type": "stream",
     "text": [
      "[1 2 3 4] [3 4 5 6]\n",
      "Difference is = [5 6]\n"
     ]
    }
   ],
   "source": [
    "ar1 = np.array([1,2,3,4])\n",
    "ar2 = np.array([3,4,5,6])\n",
    "print(ar1,ar2)\n",
    "df = np.setdiff1d(ar2,ar1)\n",
    "print(\"Difference is =\",df)"
   ]
  },
  {
   "cell_type": "code",
   "execution_count": 22,
   "id": "571937b0-5601-4a59-bc5e-fbc416cd3018",
   "metadata": {},
   "outputs": [
    {
     "name": "stdout",
     "output_type": "stream",
     "text": [
      "[1 2 3 4] [3 4 5 6]\n",
      "Symmetric difference = [1 2 5 6]\n"
     ]
    }
   ],
   "source": [
    "# Finding Symmetric Difference using setxor1d()\n",
    "ar1 = np.array([1,2,3,4])\n",
    "ar2 = np.array([3,4,5,6])\n",
    "print(ar1,ar2)\n",
    "sy = np.setxor1d(ar1,ar2)\n",
    "print(\"Symmetric difference =\", sy)"
   ]
  },
  {
   "cell_type": "code",
   "execution_count": 7,
   "id": "9541e907-2dc3-4f18-a5cb-c2fe610a9794",
   "metadata": {},
   "outputs": [
    {
     "name": "stdout",
     "output_type": "stream",
     "text": [
      "Array1 is = [11 14 14 12 13]\n",
      "Array2 is = [11 13 10 12 11]\n"
     ]
    }
   ],
   "source": [
    "ar1 = np.random.randint(10,15,size=5)\n",
    "ar2 = np.random.randint(10,15,size=5)\n",
    "print(\"Array1 is =\", ar1)\n",
    "print(\"Array2 is =\", ar2)\n",
    "df = np.setdiff1d"
   ]
  },
  {
   "cell_type": "code",
   "execution_count": null,
   "id": "6d8a554a-eb23-4e67-9dfb-1599918e346e",
   "metadata": {},
   "outputs": [],
   "source": []
  }
 ],
 "metadata": {
  "kernelspec": {
   "display_name": "Python 3 (ipykernel)",
   "language": "python",
   "name": "python3"
  },
  "language_info": {
   "codemirror_mode": {
    "name": "ipython",
    "version": 3
   },
   "file_extension": ".py",
   "mimetype": "text/x-python",
   "name": "python",
   "nbconvert_exporter": "python",
   "pygments_lexer": "ipython3",
   "version": "3.12.6"
  }
 },
 "nbformat": 4,
 "nbformat_minor": 5
}
