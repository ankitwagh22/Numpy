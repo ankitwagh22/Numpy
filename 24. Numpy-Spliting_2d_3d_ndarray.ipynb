{
 "cells": [
  {
   "cell_type": "code",
   "execution_count": null,
   "id": "8db93efb-7f56-4a0a-b0ec-4791f306d985",
   "metadata": {},
   "outputs": [],
   "source": [
    "# Splitting NumPy 2D Arrays"
   ]
  },
  {
   "cell_type": "code",
   "execution_count": 5,
   "id": "cac63a6a-211b-4e9a-bf57-5e798d41a4b0",
   "metadata": {},
   "outputs": [
    {
     "name": "stdout",
     "output_type": "stream",
     "text": [
      "Content of a \n",
      " [[1 2 3]\n",
      " [4 5 6]\n",
      " [7 8 9]]\n",
      "Dimension of a : 2\n"
     ]
    }
   ],
   "source": [
    "import numpy as np\n",
    "a = np.arange(1,10).reshape(3,3)\n",
    "print(\"Content of a \\n\", a)\n",
    "print(\"Dimension of a :\", a.ndim)"
   ]
  },
  {
   "cell_type": "code",
   "execution_count": 16,
   "id": "f038c32d-3870-4784-a0f7-c9573940ea9a",
   "metadata": {},
   "outputs": [
    {
     "name": "stdout",
     "output_type": "stream",
     "text": [
      "[array([[1, 2, 3]]), array([[4, 5, 6]]), array([[7, 8, 9]])]\n",
      "--------------------------\n",
      "[array([[1],\n",
      "       [4],\n",
      "       [7]]), array([[2],\n",
      "       [5],\n",
      "       [8]]), array([[3],\n",
      "       [6],\n",
      "       [9]])]\n"
     ]
    }
   ],
   "source": [
    "# axis = 0 means rows and axis = 1 means columns\n",
    "res1 = np.split(a,3,axis=0)\n",
    "print(res1)\n",
    "print('--------------------------')\n",
    "res2 = np.split(a,3,axis=1)\n",
    "print(res2)"
   ]
  },
  {
   "cell_type": "code",
   "execution_count": 27,
   "id": "e2b1ee70-e675-4a3f-9ec1-5973176b002e",
   "metadata": {},
   "outputs": [
    {
     "name": "stdout",
     "output_type": "stream",
     "text": [
      "[[52 10 13]\n",
      " [41 43 59]\n",
      " [53 44 10]]\n",
      "-----------------------\n",
      "First Row = [[52 10 13]]\n",
      "Second Row = [[41 43 59]]\n",
      "Third Row = [[53 44 10]]\n",
      "-----------------------\n",
      "First Column = \n",
      " [[52]\n",
      " [41]\n",
      " [53]]\n",
      "Second Column = \n",
      " [[10]\n",
      " [43]\n",
      " [44]]\n",
      "Third Column = \n",
      " [[13]\n",
      " [59]\n",
      " [10]]\n"
     ]
    }
   ],
   "source": [
    "a = np.random.randint(10,60,size=(3,3))\n",
    "print(a)\n",
    "print('-----------------------')\n",
    "# getting rows and columns using slicing\n",
    "print(\"First Row =\", a[0:1:,::])\n",
    "print(\"Second Row =\", a[1:2:,::])\n",
    "print(\"Third Row =\", a[2::,::])\n",
    "print('-----------------------')\n",
    "print(\"First Column = \\n\", a[::,0:1:])\n",
    "print(\"Second Column = \\n\", a[::,1:2:])\n",
    "print(\"Third Column = \\n\", a[::,2::])"
   ]
  },
  {
   "cell_type": "code",
   "execution_count": 33,
   "id": "24a79801-9202-4767-aeba-b708785b5c63",
   "metadata": {},
   "outputs": [
    {
     "name": "stdout",
     "output_type": "stream",
     "text": [
      "Content of a =\n",
      " [[10 20 30]\n",
      " [40 50 60]\n",
      " [70 80 90]]\n",
      "-------------------\n",
      "[array([[10, 20, 30]]), array([[40, 50, 60]]), array([[70, 80, 90]])]\n"
     ]
    }
   ],
   "source": [
    "# Creating an example matrix--numpy.vsplit(ndarrayobject,splitsize)\n",
    "a = np.array(range(10,100,10)).reshape(3,3)\n",
    "print(\"Content of a =\\n\", a)\n",
    "print('-------------------')\n",
    "res = np.vsplit(a,3)\n",
    "print(res)"
   ]
  },
  {
   "cell_type": "code",
   "execution_count": 40,
   "id": "e5f90149-2aff-4098-aea4-953be0d53070",
   "metadata": {},
   "outputs": [
    {
     "name": "stdout",
     "output_type": "stream",
     "text": [
      "Content of a =\n",
      " [[ 1  2  3]\n",
      " [ 4  5  6]\n",
      " [ 7  8  9]\n",
      " [10 11 12]]\n",
      "Dimension of a = 2\n",
      "-----------------------\n",
      "[[1 2 3]\n",
      " [4 5 6]]\n",
      "-----------\n",
      "[[ 7  8  9]\n",
      " [10 11 12]]\n",
      "-----------\n"
     ]
    }
   ],
   "source": [
    "a = np.array(range(1,13)).reshape(4,3)\n",
    "print(\"Content of a =\\n\", a)\n",
    "print(\"Dimension of a =\", a.ndim)\n",
    "print('-----------------------')\n",
    "res = np.vsplit(a,2)\n",
    "for mat in res:\n",
    "    print(mat)\n",
    "    print('-----------')"
   ]
  },
  {
   "cell_type": "code",
   "execution_count": 43,
   "id": "8578d770-97f3-4c41-929f-8449ae142c47",
   "metadata": {},
   "outputs": [
    {
     "name": "stdout",
     "output_type": "stream",
     "text": [
      "Content of array =\n",
      " [[ 1  2  3  4]\n",
      " [ 5  6  7  8]\n",
      " [ 9 10 11 12]]\n",
      "Dimension of array = 2\n",
      "-------------------\n",
      "[[ 1  2]\n",
      " [ 5  6]\n",
      " [ 9 10]]\n",
      "---------------\n",
      "[[ 3  4]\n",
      " [ 7  8]\n",
      " [11 12]]\n",
      "---------------\n"
     ]
    }
   ],
   "source": [
    "# Example of numpy.hsplit()\n",
    "arr = np.array(range(1,13)).reshape(3,4)\n",
    "print(\"Content of array =\\n\", arr)\n",
    "print(\"Dimension of array =\", arr.ndim)\n",
    "print('-------------------')\n",
    "# spliting the array in horizontal direction\n",
    "result = np.hsplit(arr,2)\n",
    "for k in result:\n",
    "    print(k)\n",
    "    print('---------------')"
   ]
  },
  {
   "cell_type": "code",
   "execution_count": 47,
   "id": "b1df72f5-49ac-4b31-add3-1582b9ca710f",
   "metadata": {},
   "outputs": [
    {
     "name": "stdout",
     "output_type": "stream",
     "text": [
      "Content of a =\n",
      " [[[ 1  2  3  4]\n",
      "  [ 5  6  7  8]\n",
      "  [ 9 10 11 12]]\n",
      "\n",
      " [[13 14 15 16]\n",
      "  [17 18 19 20]\n",
      "  [21 22 23 24]]]\n",
      "Dimension of a = 3\n",
      "------------------------\n",
      "[[[ 1  2]\n",
      "  [ 5  6]\n",
      "  [ 9 10]]\n",
      "\n",
      " [[13 14]\n",
      "  [17 18]\n",
      "  [21 22]]]\n",
      "-----------\n",
      "[[[ 3  4]\n",
      "  [ 7  8]\n",
      "  [11 12]]\n",
      "\n",
      " [[15 16]\n",
      "  [19 20]\n",
      "  [23 24]]]\n",
      "-----------\n"
     ]
    }
   ],
   "source": [
    "# Now taking the 3d array example\n",
    "a = np.array(range(1,25)).reshape(2,3,4)\n",
    "print(\"Content of a =\\n\", a)\n",
    "print(\"Dimension of a =\", a.ndim)\n",
    "print('------------------------')\n",
    "result = np.dsplit(a,2)\n",
    "for mat in result:\n",
    "    print(mat)\n",
    "    print('-----------')"
   ]
  },
  {
   "cell_type": "code",
   "execution_count": 52,
   "id": "f9e3eac6-04bc-4305-afde-5c9f1c18e33a",
   "metadata": {},
   "outputs": [
    {
     "name": "stdout",
     "output_type": "stream",
     "text": [
      "content of a =\n",
      " [[[ 0  1  2  3]\n",
      "  [ 4  5  6  7]\n",
      "  [ 8  9 10 11]]\n",
      "\n",
      " [[12 13 14 15]\n",
      "  [16 17 18 19]\n",
      "  [20 21 22 23]]]\n",
      "----------------------\n",
      "[[[ 0  1]\n",
      "  [ 4  5]\n",
      "  [ 8  9]]\n",
      "\n",
      " [[12 13]\n",
      "  [16 17]\n",
      "  [20 21]]]\n",
      "----------------------\n",
      "[[[ 2  3]\n",
      "  [ 6  7]\n",
      "  [10 11]]\n",
      "\n",
      " [[14 15]\n",
      "  [18 19]\n",
      "  [22 23]]]\n"
     ]
    }
   ],
   "source": [
    "# implementing dsplit() mechanism using slicing\n",
    "a = np.arange(24).reshape(2,3,4)\n",
    "print(\"content of a =\\n\", a)\n",
    "print('----------------------')\n",
    "print(a[::,::,0:2:])\n",
    "print('----------------------')\n",
    "print(a[::,::,2::])"
   ]
  },
  {
   "cell_type": "code",
   "execution_count": 60,
   "id": "2ea5eccf-41a9-490f-8aeb-dd8d509b38c3",
   "metadata": {},
   "outputs": [
    {
     "name": "stdout",
     "output_type": "stream",
     "text": [
      "[[1 2 3]\n",
      " [4 5 6]\n",
      " [7 8 9]]\n",
      "[[1]\n",
      " [4]\n",
      " [7]]\n",
      "---------\n",
      "[[2]\n",
      " [5]\n",
      " [8]]\n",
      "---------\n",
      "[[3]\n",
      " [6]\n",
      " [9]]\n",
      "---------\n"
     ]
    }
   ],
   "source": [
    "arr = np.array(range(1,10)).reshape(3,3)\n",
    "print(arr)\n",
    "res = np.hsplit(arr,3)\n",
    "for r in res:\n",
    "    print(r)\n",
    "    print('---------')"
   ]
  }
 ],
 "metadata": {
  "kernelspec": {
   "display_name": "Python 3 (ipykernel)",
   "language": "python",
   "name": "python3"
  },
  "language_info": {
   "codemirror_mode": {
    "name": "ipython",
    "version": 3
   },
   "file_extension": ".py",
   "mimetype": "text/x-python",
   "name": "python",
   "nbconvert_exporter": "python",
   "pygments_lexer": "ipython3",
   "version": "3.12.6"
  }
 },
 "nbformat": 4,
 "nbformat_minor": 5
}
