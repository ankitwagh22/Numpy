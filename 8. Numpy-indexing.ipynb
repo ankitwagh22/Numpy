{
 "cells": [
  {
   "cell_type": "code",
   "execution_count": 1,
   "id": "e07f6deb-ecdf-466e-b7f9-862b31d225b9",
   "metadata": {},
   "outputs": [
    {
     "name": "stdout",
     "output_type": "stream",
     "text": [
      "content of a : [10 20 30 40 50 60 70 80 90]\n"
     ]
    }
   ],
   "source": [
    "# Indexing Operation on 1-D Array\n",
    "import numpy as np\n",
    "a=np.array([10,20,30,40,50,60,70,80,90])\n",
    "print(\"content of a :\",a)"
   ]
  },
  {
   "cell_type": "code",
   "execution_count": 7,
   "id": "944dd431-8a66-47d0-905d-75bd764265a8",
   "metadata": {},
   "outputs": [
    {
     "name": "stdout",
     "output_type": "stream",
     "text": [
      "10 20 30 40 50 60 70 80 90 "
     ]
    }
   ],
   "source": [
    "for i in range(len(a)):\n",
    "    print(a[i],end=' ')"
   ]
  },
  {
   "cell_type": "code",
   "execution_count": 10,
   "id": "84443150-ce18-4bce-9cb1-b3dc199f28a9",
   "metadata": {},
   "outputs": [
    {
     "name": "stdout",
     "output_type": "stream",
     "text": [
      "90 80 70 60 50 40 30 20 10 "
     ]
    }
   ],
   "source": [
    "for i in range(-1,-(len(a)+1),-1):\n",
    "    print(a[i],end=' ')"
   ]
  },
  {
   "cell_type": "code",
   "execution_count": 12,
   "id": "a2b4357a-eb79-4bb1-a87a-7d4a321cd2be",
   "metadata": {},
   "outputs": [
    {
     "name": "stdout",
     "output_type": "stream",
     "text": [
      "50\n",
      "50\n"
     ]
    }
   ],
   "source": [
    "print(a[4])\n",
    "print(a[-5])"
   ]
  },
  {
   "cell_type": "code",
   "execution_count": 18,
   "id": "bcba02c2-a7b6-42b4-9cfd-c4455ae3fafe",
   "metadata": {},
   "outputs": [],
   "source": [
    "# Indexing Operation on 2-D Array\n",
    "#Syntax-1    2dArraObj[RowIndex,ColumnIndex]\n",
    "                #OR\n",
    "#Syntax-2    2dArraObj[RowIndex][ColumnIndex]"
   ]
  },
  {
   "cell_type": "code",
   "execution_count": 30,
   "id": "d3e32500-2a6c-4ed5-a75d-142d5becfe54",
   "metadata": {},
   "outputs": [
    {
     "name": "stdout",
     "output_type": "stream",
     "text": [
      "Content of arr \n",
      " [[10 20 30]\n",
      " [40 50 60]\n",
      " [70 80 90]]\n",
      "----------------------\n",
      "30\n",
      "50\n",
      "80\n",
      "60 60\n",
      "10\n"
     ]
    }
   ],
   "source": [
    "arr=np.arange(10,100,10).reshape(3,3)\n",
    "print(\"Content of arr \\n\",arr)\n",
    "print('----------------------')\n",
    "print(arr[-3,-1])\n",
    "print(arr[-2][-2])\n",
    "print(arr[2][1])\n",
    "print(arr[1,2],arr[-2,-1])\n",
    "print(arr[0][0])"
   ]
  },
  {
   "cell_type": "code",
   "execution_count": 33,
   "id": "17b5a102-65d3-4c1b-b076-483fbee0da2d",
   "metadata": {},
   "outputs": [],
   "source": [
    "# using for loop\n",
    "# for i in range(3):\n",
    "#     for j in range(3):\n",
    "#         print(a[i][j],end=' ')\n",
    "#     print()"
   ]
  },
  {
   "cell_type": "code",
   "execution_count": 36,
   "id": "56a9ebf5-872e-422f-81e5-230ccecae5f4",
   "metadata": {},
   "outputs": [
    {
     "name": "stdout",
     "output_type": "stream",
     "text": [
      "content of a \n",
      " [[[ 0  1  2]\n",
      "  [ 3  4  5]\n",
      "  [ 6  7  8]]\n",
      "\n",
      " [[ 9 10 11]\n",
      "  [12 13 14]\n",
      "  [15 16 17]]\n",
      "\n",
      " [[18 19 20]\n",
      "  [21 22 23]\n",
      "  [24 25 26]]]\n"
     ]
    }
   ],
   "source": [
    "#Indexing Operation on 3-D Array\n",
    "# Syntax: ndarrayobject[MatrixIndex][Row Index,Col Index]\n",
    "#    OR\n",
    "# Syntax: ndarrayobject[MatrixIndex][Row Index][Col Index]\n",
    "import numpy as np\n",
    "a=np.arange(3*3*3).reshape(3,3,3)\n",
    "print(\"content of a \\n\",a)"
   ]
  },
  {
   "cell_type": "code",
   "execution_count": 39,
   "id": "ff7a8886-ee27-4066-a82e-0fc06bba040b",
   "metadata": {},
   "outputs": [
    {
     "name": "stdout",
     "output_type": "stream",
     "text": [
      "[[0 1 2]\n",
      " [3 4 5]\n",
      " [6 7 8]]\n",
      "-------------\n",
      "[[ 9 10 11]\n",
      " [12 13 14]\n",
      " [15 16 17]]\n",
      "-------------\n",
      "[[18 19 20]\n",
      " [21 22 23]\n",
      " [24 25 26]]\n"
     ]
    }
   ],
   "source": [
    "# Getting matrix from array\n",
    "print(a[0])\n",
    "print('-------------')\n",
    "print(a[1])\n",
    "print('-------------')\n",
    "print(a[2])"
   ]
  },
  {
   "cell_type": "code",
   "execution_count": 43,
   "id": "bc7c800d-c89a-4857-8a77-86114461ad9c",
   "metadata": {},
   "outputs": [
    {
     "name": "stdout",
     "output_type": "stream",
     "text": [
      "13\n",
      "23\n",
      "7\n",
      "12 12\n"
     ]
    }
   ],
   "source": [
    "# Getting elements from matrix\n",
    "print(a[1,1,1])\n",
    "print(a[2][1][2])\n",
    "print(a[-3,-1,-2])\n",
    "print(a[1,1,0],a[-2,-2,-3])"
   ]
  },
  {
   "cell_type": "code",
   "execution_count": 45,
   "id": "373c6df4-fbd3-4e13-8840-8506ef01c24c",
   "metadata": {},
   "outputs": [
    {
     "name": "stdout",
     "output_type": "stream",
     "text": [
      "[[0 1 2]\n",
      " [3 4 5]\n",
      " [6 7 8]]\n",
      "-------------\n",
      "[[ 9 10 11]\n",
      " [12 13 14]\n",
      " [15 16 17]]\n",
      "-------------\n",
      "[[18 19 20]\n",
      " [21 22 23]\n",
      " [24 25 26]]\n",
      "-------------\n"
     ]
    }
   ],
   "source": [
    "for i in range(len(a)):\n",
    "    print(a[i])\n",
    "    print('-------------')"
   ]
  },
  {
   "cell_type": "code",
   "execution_count": 48,
   "id": "45052bd4-b448-4f28-a4f5-405468d60364",
   "metadata": {},
   "outputs": [
    {
     "name": "stdout",
     "output_type": "stream",
     "text": [
      "18\n",
      "18\n"
     ]
    }
   ],
   "source": [
    "print(a[2][0][0])\n",
    "print(a[-1][-3][-3])"
   ]
  },
  {
   "cell_type": "code",
   "execution_count": 49,
   "id": "9cc1a667-bf47-4f17-a0a9-fe44cea1092f",
   "metadata": {},
   "outputs": [
    {
     "name": "stdout",
     "output_type": "stream",
     "text": [
      "[[[[ 0  1  2]\n",
      "   [ 3  4  5]\n",
      "   [ 6  7  8]]\n",
      "\n",
      "  [[ 9 10 11]\n",
      "   [12 13 14]\n",
      "   [15 16 17]]\n",
      "\n",
      "  [[18 19 20]\n",
      "   [21 22 23]\n",
      "   [24 25 26]]]\n",
      "\n",
      "\n",
      " [[[27 28 29]\n",
      "   [30 31 32]\n",
      "   [33 34 35]]\n",
      "\n",
      "  [[36 37 38]\n",
      "   [39 40 41]\n",
      "   [42 43 44]]\n",
      "\n",
      "  [[45 46 47]\n",
      "   [48 49 50]\n",
      "   [51 52 53]]]]\n"
     ]
    }
   ],
   "source": [
    "# Now using 4d matrix\n",
    "import numpy as np\n",
    "arr=np.arange(2*3*3*3).reshape(2,3,3,3)\n",
    "print(arr)"
   ]
  },
  {
   "cell_type": "code",
   "execution_count": 70,
   "id": "6ef887f2-7ba5-4ee4-ba53-cb7c42b9b0dd",
   "metadata": {},
   "outputs": [
    {
     "name": "stdout",
     "output_type": "stream",
     "text": [
      "[[0 1 2]\n",
      " [3 4 5]\n",
      " [6 7 8]]\n",
      "-----------\n",
      "[[0 1 2]\n",
      " [3 4 5]\n",
      " [6 7 8]]\n",
      "-----------\n",
      "-----------\n",
      "[[27 28 29]\n",
      " [30 31 32]\n",
      " [33 34 35]]\n",
      "-----------\n",
      "[[27 28 29]\n",
      " [30 31 32]\n",
      " [33 34 35]]\n"
     ]
    }
   ],
   "source": [
    "# getting single matrix\n",
    "print(arr[0,0])\n",
    "print('-----------')\n",
    "print(arr[-2][-3])\n",
    "print('-----------')\n",
    "print('-----------')\n",
    "print(arr[1,0])\n",
    "print('-----------')\n",
    "print(arr[-1,-3])"
   ]
  },
  {
   "cell_type": "code",
   "execution_count": 51,
   "id": "2329bd8a-8fb4-4048-b786-0eed983f5181",
   "metadata": {},
   "outputs": [
    {
     "name": "stdout",
     "output_type": "stream",
     "text": [
      "[[[ 0  1  2]\n",
      "  [ 3  4  5]\n",
      "  [ 6  7  8]]\n",
      "\n",
      " [[ 9 10 11]\n",
      "  [12 13 14]\n",
      "  [15 16 17]]\n",
      "\n",
      " [[18 19 20]\n",
      "  [21 22 23]\n",
      "  [24 25 26]]]\n",
      "---------------\n",
      "[[[27 28 29]\n",
      "  [30 31 32]\n",
      "  [33 34 35]]\n",
      "\n",
      " [[36 37 38]\n",
      "  [39 40 41]\n",
      "  [42 43 44]]\n",
      "\n",
      " [[45 46 47]\n",
      "  [48 49 50]\n",
      "  [51 52 53]]]\n"
     ]
    }
   ],
   "source": [
    "# getting 1st cluster\n",
    "print(arr[0])"
   ]
  },
  {
   "cell_type": "code",
   "execution_count": 52,
   "id": "4abd0817-d9f1-4fdf-893c-ce3c7b712218",
   "metadata": {},
   "outputs": [
    {
     "name": "stdout",
     "output_type": "stream",
     "text": [
      "[[[ 0  1  2]\n",
      "  [ 3  4  5]\n",
      "  [ 6  7  8]]\n",
      "\n",
      " [[ 9 10 11]\n",
      "  [12 13 14]\n",
      "  [15 16 17]]\n",
      "\n",
      " [[18 19 20]\n",
      "  [21 22 23]\n",
      "  [24 25 26]]]\n",
      "-------------\n",
      "[[[27 28 29]\n",
      "  [30 31 32]\n",
      "  [33 34 35]]\n",
      "\n",
      " [[36 37 38]\n",
      "  [39 40 41]\n",
      "  [42 43 44]]\n",
      "\n",
      " [[45 46 47]\n",
      "  [48 49 50]\n",
      "  [51 52 53]]]\n",
      "-------------\n"
     ]
    }
   ],
   "source": [
    "# getting all clusters\n",
    "for i in range(2):\n",
    "    print(arr[i])\n",
    "    print('-------------')"
   ]
  },
  {
   "cell_type": "code",
   "execution_count": 54,
   "id": "8f2623b1-afe7-46f4-9725-1365088ce1a7",
   "metadata": {},
   "outputs": [
    {
     "name": "stdout",
     "output_type": "stream",
     "text": [
      "41\n"
     ]
    }
   ],
   "source": [
    "print(arr[1,1,1,2])"
   ]
  },
  {
   "cell_type": "code",
   "execution_count": 56,
   "id": "b21e513c-f23d-42c0-a267-97304e80a859",
   "metadata": {},
   "outputs": [
    {
     "name": "stdout",
     "output_type": "stream",
     "text": [
      "46\n",
      "46\n"
     ]
    }
   ],
   "source": [
    "# get 46\n",
    "print(arr[1][2][0][1])\n",
    "print(arr[-1][-1][-3][-2])"
   ]
  },
  {
   "cell_type": "code",
   "execution_count": 57,
   "id": "9c54e06a-621f-42c5-b04a-152750d60384",
   "metadata": {},
   "outputs": [
    {
     "name": "stdout",
     "output_type": "stream",
     "text": [
      "[[[[ 0  1  2]\n",
      "   [ 3  4  5]\n",
      "   [ 6  7  8]]\n",
      "\n",
      "  [[ 9 10 11]\n",
      "   [12 13 14]\n",
      "   [15 16 17]]\n",
      "\n",
      "  [[18 19 20]\n",
      "   [21 22 23]\n",
      "   [24 25 26]]]\n",
      "\n",
      "\n",
      " [[[27 28 29]\n",
      "   [30 31 32]\n",
      "   [33 34 35]]\n",
      "\n",
      "  [[36 37 38]\n",
      "   [39 40 41]\n",
      "   [42 43 44]]\n",
      "\n",
      "  [[45 46 47]\n",
      "   [48 49 50]\n",
      "   [51 52 53]]]]\n"
     ]
    }
   ],
   "source": [
    "print(arr)"
   ]
  },
  {
   "cell_type": "code",
   "execution_count": 59,
   "id": "c35e3fd4-3872-4f3c-81cc-ca34091461e0",
   "metadata": {},
   "outputs": [
    {
     "name": "stdout",
     "output_type": "stream",
     "text": [
      "14\n",
      "14\n"
     ]
    }
   ],
   "source": [
    "# get 14\n",
    "print(arr[0,1,1,2])\n",
    "print(arr[-2][-2][-2][-1])"
   ]
  }
 ],
 "metadata": {
  "kernelspec": {
   "display_name": "Python 3 (ipykernel)",
   "language": "python",
   "name": "python3"
  },
  "language_info": {
   "codemirror_mode": {
    "name": "ipython",
    "version": 3
   },
   "file_extension": ".py",
   "mimetype": "text/x-python",
   "name": "python",
   "nbconvert_exporter": "python",
   "pygments_lexer": "ipython3",
   "version": "3.12.6"
  }
 },
 "nbformat": 4,
 "nbformat_minor": 5
}
