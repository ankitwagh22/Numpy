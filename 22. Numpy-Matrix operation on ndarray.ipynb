{
 "cells": [
  {
   "cell_type": "code",
   "execution_count": null,
   "id": "de920292-554d-45cb-9080-3d24742416b1",
   "metadata": {},
   "outputs": [],
   "source": [
    "# Numpy Matrix Operations"
   ]
  },
  {
   "cell_type": "code",
   "execution_count": 4,
   "id": "3b92ede0-8dcb-48f4-97b9-184d5de40080",
   "metadata": {},
   "outputs": [
    {
     "name": "stdout",
     "output_type": "stream",
     "text": [
      "Matrix A:\n",
      "[[10 20 30]\n",
      " [40 50 60]\n",
      " [70 80 90]]\n",
      "Dimension of A = 2\n",
      "--------------------------------------------------\n",
      "Matrix B:\n",
      "[[1 2 3]\n",
      " [4 5 6]\n",
      " [7 8 9]]\n",
      "Dimension of B = 2\n",
      "--------------------------------------------------\n",
      "Addition of Matrix is :\n",
      "[[11 22 33]\n",
      " [44 55 66]\n",
      " [77 88 99]]\n",
      "--------------------------------------------------\n"
     ]
    }
   ],
   "source": [
    "# Matrix addition by using add()\n",
    "import numpy as np\n",
    "A = np.array([[10,20,30],[40,50,60],[70,80,90]])\n",
    "B = np.array([[1,2,3],[4,5,6],[7,8,9]])\n",
    "print(\"Matrix A:\")\n",
    "print(A)\n",
    "print(\"Dimension of A =\", A.ndim)\n",
    "print('-'*50)\n",
    "print(\"Matrix B:\")\n",
    "print(B)\n",
    "print(\"Dimension of B =\", B.ndim)\n",
    "print('-'*50)\n",
    "# Syntax: varname=numpy.add(ndarrayobj1, ndarrayob2)\n",
    "C = np.add(A,B)\n",
    "print(\"Addition of Matrix is :\")\n",
    "print(C)\n",
    "print('-'*50)"
   ]
  },
  {
   "cell_type": "code",
   "execution_count": 5,
   "id": "4a72e910-ffa9-4e36-8c26-33115ba57fc6",
   "metadata": {},
   "outputs": [
    {
     "name": "stdout",
     "output_type": "stream",
     "text": [
      "[[11 22 33]\n",
      " [44 55 66]\n",
      " [77 88 99]]\n"
     ]
    }
   ],
   "source": [
    "# This addition is also done by using arithematic operator +\n",
    "c = A + B\n",
    "print(C)"
   ]
  },
  {
   "cell_type": "code",
   "execution_count": 7,
   "id": "14474497-298a-4640-9907-3bb04b241774",
   "metadata": {},
   "outputs": [
    {
     "name": "stdout",
     "output_type": "stream",
     "text": [
      "Matrix A:\n",
      "[[10 20 30]\n",
      " [40 50 60]\n",
      " [70 80 90]]\n",
      "Dimension of A = 2\n",
      "--------------------------------------------------\n",
      "Matrix B:\n",
      "[[1 2 3]\n",
      " [4 5 6]\n",
      " [7 8 9]]\n",
      "Dimension of B = 2\n",
      "--------------------------------------------------\n",
      "Subtraction of Matrix is :\n",
      "[[ 9 18 27]\n",
      " [36 45 54]\n",
      " [63 72 81]]\n"
     ]
    }
   ],
   "source": [
    "# Matrix Substraction by using subtract()\n",
    "import numpy as np\n",
    "A = np.array([[10,20,30],[40,50,60],[70,80,90]])\n",
    "B = np.array([[1,2,3],[4,5,6],[7,8,9]])\n",
    "print(\"Matrix A:\")\n",
    "print(A)\n",
    "print(\"Dimension of A =\", A.ndim)\n",
    "print('-'*50)\n",
    "print(\"Matrix B:\")\n",
    "print(B)\n",
    "print(\"Dimension of B =\", B.ndim)\n",
    "print('-'*50)\n",
    "# Syntax: varname=numpy.subtract(ndarrayobj1, ndarrayob2)\n",
    "C = np.subtract(A,B)\n",
    "print(\"Subtraction of Matrix is :\")\n",
    "print(C)"
   ]
  },
  {
   "cell_type": "code",
   "execution_count": 8,
   "id": "5de3404c-5aa8-4a44-92e9-1a0b6c92b5ad",
   "metadata": {},
   "outputs": [
    {
     "name": "stdout",
     "output_type": "stream",
     "text": [
      "[[ 9 18 27]\n",
      " [36 45 54]\n",
      " [63 72 81]]\n"
     ]
    }
   ],
   "source": [
    "# This subtraction is also done by using arithmatic operator -\n",
    "C = A - B\n",
    "print(C)"
   ]
  },
  {
   "cell_type": "code",
   "execution_count": 9,
   "id": "1571b480-a7e2-4aeb-9668-c139b3d69b33",
   "metadata": {},
   "outputs": [
    {
     "name": "stdout",
     "output_type": "stream",
     "text": [
      "Matrix A:\n",
      "[[10 20 30]\n",
      " [40 50 60]\n",
      " [70 80 90]]\n",
      "Dimension of A = 2\n",
      "--------------------------------------------------\n",
      "Matrix B:\n",
      "[[1 2 3]\n",
      " [4 5 6]\n",
      " [7 8 9]]\n",
      "Dimension of B = 2\n",
      "--------------------------------------------------\n",
      "Multiplication of matrix is :\n",
      "[[ 10  40  90]\n",
      " [160 250 360]\n",
      " [490 640 810]]\n"
     ]
    }
   ],
   "source": [
    "# Matrix Elemen twise Multiplication by using multiply()\n",
    "import numpy as np\n",
    "A = np.array([[10,20,30],[40,50,60],[70,80,90]])\n",
    "B = np.array([[1,2,3],[4,5,6],[7,8,9]])\n",
    "print(\"Matrix A:\")\n",
    "print(A)\n",
    "print(\"Dimension of A =\", A.ndim)\n",
    "print('-'*50)\n",
    "print(\"Matrix B:\")\n",
    "print(B)\n",
    "print(\"Dimension of B =\", B.ndim)\n",
    "print('-'*50)\n",
    "# Syntax: varname=numpy.multiply(ndarrayobj1, ndarrayobj2)\n",
    "C = A * B\n",
    "print(\"Multiplication of matrix is :\")\n",
    "print(C)"
   ]
  },
  {
   "cell_type": "code",
   "execution_count": 10,
   "id": "2a179d05-dae8-42d0-b788-674766fe54ce",
   "metadata": {},
   "outputs": [
    {
     "name": "stdout",
     "output_type": "stream",
     "text": [
      "[[ 10  40  90]\n",
      " [160 250 360]\n",
      " [490 640 810]]\n"
     ]
    }
   ],
   "source": [
    "# This multiplication can be done by using arithematic operator *\n",
    "C = A * B\n",
    "print(C)"
   ]
  },
  {
   "cell_type": "code",
   "execution_count": 13,
   "id": "7cab8fad-ea6f-4f09-b814-6a93a32204ac",
   "metadata": {},
   "outputs": [
    {
     "name": "stdout",
     "output_type": "stream",
     "text": [
      "Matrix A :\n",
      " [10 20 30]\n",
      "--------------------\n",
      "Matrix B :\n",
      " [[1 2 3]\n",
      " [4 5 6]\n",
      " [7 8 9]]\n",
      "--------------------\n",
      "Actual Matrix Multiplication =\n",
      "[300 360 420]\n"
     ]
    }
   ],
   "source": [
    "# Actual Matrix Multiplication by using numpy.dot() function\n",
    "import numpy as np\n",
    "A = np.array([10,20,30])\n",
    "B = np.array([1,2,3,4,5,6,7,8,9]).reshape(3,3)\n",
    "print(\"Matrix A :\\n\", A)\n",
    "print('--------------------')\n",
    "print(\"Matrix B :\\n\", B)\n",
    "print('--------------------')\n",
    "C = np.dot(A,B)\n",
    "print(\"Actual Matrix Multiplication =\")\n",
    "print(C)"
   ]
  },
  {
   "cell_type": "code",
   "execution_count": 15,
   "id": "3358552d-cb0d-4512-b8ba-09e1a04164a3",
   "metadata": {},
   "outputs": [
    {
     "name": "stdout",
     "output_type": "stream",
     "text": [
      "Matrix Multiplication by matmul()\n",
      "[300 360 420]\n"
     ]
    }
   ],
   "source": [
    "# This operation is also done by using another method numpy.matmul()\n",
    "print(\"Matrix Multiplication by matmul()\")\n",
    "C = np.matmul(A,B)\n",
    "print(C)"
   ]
  },
  {
   "cell_type": "code",
   "execution_count": 18,
   "id": "21531afa-04f9-4a77-96d2-836ac371091e",
   "metadata": {},
   "outputs": [
    {
     "name": "stdout",
     "output_type": "stream",
     "text": [
      "Matrix A is =\n",
      " [[10 20]\n",
      " [30 40]]\n",
      "------------------------------\n",
      "Matrix B is =\n",
      " [[1 2]\n",
      " [3 4]]\n",
      "------------------------------\n",
      "Multiply by dot() function\n",
      "[[ 70 100]\n",
      " [150 220]]\n",
      "------------------------------\n",
      "Multiply by matmul() function\n",
      "[[ 70 100]\n",
      " [150 220]]\n"
     ]
    }
   ],
   "source": [
    "a = np.array([[10,20],[30,40]])\n",
    "b = np.array([[1,2],[3,4]])\n",
    "print(\"Matrix A is =\\n\",a)\n",
    "print('-'*30)\n",
    "print(\"Matrix B is =\\n\",b)\n",
    "print('-'*30)\n",
    "print(\"Multiply by dot() function\")\n",
    "c = np.dot(a,b)\n",
    "print(c)\n",
    "print('-'*30)\n",
    "print(\"Multiply by matmul() function\")\n",
    "c = np.matmul(a,b)\n",
    "print(c)"
   ]
  },
  {
   "cell_type": "code",
   "execution_count": 20,
   "id": "15fd05b0-be51-402f-8330-93bddfac32ad",
   "metadata": {},
   "outputs": [
    {
     "name": "stdout",
     "output_type": "stream",
     "text": [
      "Price per unit\n",
      "[1000  400 1200]\n",
      "------------------------------\n",
      "Number of Units Sold\n",
      "[[30 40 50]\n",
      " [ 5 10 15]\n",
      " [ 2  5  7]]\n",
      "------------------------------\n",
      "Total Sales Made\n",
      "[34400 50000 64400]\n"
     ]
    }
   ],
   "source": [
    "# Real Example\n",
    "ppu = np.array([1000,400,1200])\n",
    "nus = np.array([[30,40,50],[5,10,15],[2,5,7]])\n",
    "print(\"Price per unit\")\n",
    "print(ppu)\n",
    "print('-'*30)\n",
    "print(\"Number of Units Sold\")\n",
    "print(nus)\n",
    "print('-'*30)\n",
    "print(\"Total Sales Made\")\n",
    "sales = np.dot(ppu,nus)\n",
    "print(sales)"
   ]
  },
  {
   "cell_type": "code",
   "execution_count": 22,
   "id": "28a900c8-ea82-4b7c-a8ba-6ec0a8e03d5e",
   "metadata": {},
   "outputs": [
    {
     "name": "stdout",
     "output_type": "stream",
     "text": [
      "Matrix A:\n",
      "[[10 20 30]\n",
      " [40 50 60]\n",
      " [70 80 90]]\n",
      "Dimension of A = 2\n",
      "--------------------------------------------------\n",
      "Matrix B:\n",
      "[[1 2 3]\n",
      " [4 5 6]\n",
      " [7 8 9]]\n",
      "Dimension of B = 2\n",
      "--------------------------------------------------\n",
      "Matrix division is =\n",
      "[[10. 10. 10.]\n",
      " [10. 10. 10.]\n",
      " [10. 10. 10.]]\n"
     ]
    }
   ],
   "source": [
    "# Matrix Division by using divide()\n",
    "import numpy as np\n",
    "A = np.array([[10,20,30],[40,50,60],[70,80,90]])\n",
    "B = np.array([[1,2,3],[4,5,6],[7,8,9]])\n",
    "print(\"Matrix A:\")\n",
    "print(A)\n",
    "print(\"Dimension of A =\", A.ndim)\n",
    "print('-'*50)\n",
    "print(\"Matrix B:\")\n",
    "print(B)\n",
    "print(\"Dimension of B =\", B.ndim)\n",
    "print('-'*50)\n",
    "C = np.divide(A,B)\n",
    "print(\"Matrix division is =\")\n",
    "print(C)"
   ]
  },
  {
   "cell_type": "code",
   "execution_count": 23,
   "id": "8b3a780c-2fd8-44c8-bcc5-c4b519ab581a",
   "metadata": {},
   "outputs": [
    {
     "name": "stdout",
     "output_type": "stream",
     "text": [
      "Matrix division is =\n",
      " [[10. 10. 10.]\n",
      " [10. 10. 10.]\n",
      " [10. 10. 10.]]\n"
     ]
    }
   ],
   "source": [
    "# This matrix division is also done by using arimathmatic operator /\n",
    "C = A / B\n",
    "print(\"Matrix division is =\\n\",C)"
   ]
  },
  {
   "cell_type": "code",
   "execution_count": 24,
   "id": "ee3c956e-6b93-4449-b0b6-6da22bb609f5",
   "metadata": {},
   "outputs": [
    {
     "name": "stdout",
     "output_type": "stream",
     "text": [
      "Matrix A:\n",
      "[[10 20 30]\n",
      " [40 50 60]\n",
      " [70 80 90]]\n",
      "Dimension of A = 2\n",
      "--------------------------------------------------\n",
      "Matrix B:\n",
      "[[1 2 3]\n",
      " [4 5 6]\n",
      " [7 8 9]]\n",
      "Dimension of B = 2\n",
      "--------------------------------------------------\n",
      "Floor division of matrix is =\n",
      "[[10 10 10]\n",
      " [10 10 10]\n",
      " [10 10 10]]\n"
     ]
    }
   ],
   "source": [
    "# Matrix floor Division by using floor_divison() function\n",
    "import numpy as np\n",
    "a = np.array([[10,20,30],[40,50,60],[70,80,90]])\n",
    "b = np.array([[1,2,3],[4,5,6],[7,8,9]])\n",
    "print(\"Matrix A:\")\n",
    "print(a)\n",
    "print(\"Dimension of A =\", a.ndim)\n",
    "print('-'*50)\n",
    "print(\"Matrix B:\")\n",
    "print(b)\n",
    "print(\"Dimension of B =\", b.ndim)\n",
    "print('-'*50)\n",
    "c = np.floor_divide(a,b)\n",
    "print(\"Floor division of matrix is =\")\n",
    "print(c)"
   ]
  },
  {
   "cell_type": "code",
   "execution_count": 27,
   "id": "37192856-76d8-4bdd-a5fd-62f36dc4ec37",
   "metadata": {},
   "outputs": [
    {
     "name": "stdout",
     "output_type": "stream",
     "text": [
      "Floor division of matrix is =\n",
      "[[10 10 10]\n",
      " [10 10 10]\n",
      " [10 10 10]]\n"
     ]
    }
   ],
   "source": [
    "# This operation also done by using arithmatic operator //\n",
    "c = a // b\n",
    "print(\"Floor division of matrix is =\")\n",
    "print(c)"
   ]
  },
  {
   "cell_type": "code",
   "execution_count": 26,
   "id": "a83568f2-edd5-43ff-b12a-d6ef27441bb1",
   "metadata": {},
   "outputs": [
    {
     "name": "stdout",
     "output_type": "stream",
     "text": [
      "Matrix A:\n",
      "[[10 20 30]\n",
      " [40 50 60]\n",
      " [70 80 90]]\n",
      "Dimension of A = 2\n",
      "--------------------------------------------------\n",
      "Matrix B:\n",
      "[[1 2 3]\n",
      " [4 5 6]\n",
      " [7 8 9]]\n",
      "Dimension of B = 2\n",
      "--------------------------------------------------\n",
      "Matrix Modulo operation \n",
      "[[0 0 0]\n",
      " [0 0 0]\n",
      " [0 0 0]]\n"
     ]
    }
   ],
   "source": [
    "# Matrix element wise modulas operation using numpy.mod()\n",
    "import numpy as np\n",
    "a = np.array([[10,20,30],[40,50,60],[70,80,90]])\n",
    "b = np.array([[1,2,3],[4,5,6],[7,8,9]])\n",
    "print(\"Matrix A:\")\n",
    "print(a)\n",
    "print(\"Dimension of A =\", a.ndim)\n",
    "print('-'*50)\n",
    "print(\"Matrix B:\")\n",
    "print(b)\n",
    "print(\"Dimension of B =\", b.ndim)\n",
    "print('-'*50)\n",
    "c = np.mod(a,b)\n",
    "print(\"Matrix Modulo operation \")\n",
    "print(c)"
   ]
  },
  {
   "cell_type": "code",
   "execution_count": 28,
   "id": "a8fc91cd-5c1a-429b-8bae-0faa46a29da4",
   "metadata": {},
   "outputs": [
    {
     "name": "stdout",
     "output_type": "stream",
     "text": [
      "Matrix modulo operation =\n",
      "[[0 0 0]\n",
      " [0 0 0]\n",
      " [0 0 0]]\n"
     ]
    }
   ],
   "source": [
    "# This operation is also done by using arithematic operator %\n",
    "c = a % b\n",
    "print(\"Matrix modulo operation =\")\n",
    "print(c)"
   ]
  },
  {
   "cell_type": "code",
   "execution_count": 31,
   "id": "eaf99b91-0ad1-4b3c-9cbe-ff33d457fc45",
   "metadata": {},
   "outputs": [
    {
     "name": "stdout",
     "output_type": "stream",
     "text": [
      "Matrix A =\n",
      "[[10 20]\n",
      " [30 40]]\n",
      "------------------------------\n",
      "Matrix B =\n",
      "[[1 2]\n",
      " [3 4]]\n",
      "------------------------------\n",
      "Exponential of matrix is =\n",
      "[[     10     400]\n",
      " [  27000 2560000]]\n"
     ]
    }
   ],
   "source": [
    "# Matrix Element wise expontential operation is done by using numpy.power() function\n",
    "a = np.array([[10,20],[30,40]])\n",
    "b = np.array([[1,2],[3,4]])\n",
    "print(\"Matrix A =\")\n",
    "print(a)\n",
    "print('-'*30)\n",
    "print(\"Matrix B =\")\n",
    "print(b)\n",
    "print('-'*30)\n",
    "c = np.power(a,b)\n",
    "print(\"Exponential of matrix is =\")\n",
    "print(c)"
   ]
  },
  {
   "cell_type": "code",
   "execution_count": 32,
   "id": "853b3dbb-d231-4ab5-848a-f399eabfd7b6",
   "metadata": {},
   "outputs": [
    {
     "name": "stdout",
     "output_type": "stream",
     "text": [
      "Matrix Exponetial is =\n",
      "[[     10     400]\n",
      " [  27000 2560000]]\n"
     ]
    }
   ],
   "source": [
    "# This operation is also done by using arthmatic operator **\n",
    "c = a ** b\n",
    "print(\"Matrix Exponetial is =\")\n",
    "print(c)"
   ]
  },
  {
   "cell_type": "code",
   "execution_count": 33,
   "id": "acf4b099-b623-43a2-acba-78ea72463594",
   "metadata": {},
   "outputs": [
    {
     "name": "stdout",
     "output_type": "stream",
     "text": [
      "* \n",
      "* * \n",
      "* * * \n",
      "* * * * \n",
      "* * * * * \n"
     ]
    }
   ],
   "source": [
    "for i in range(1,6):\n",
    "    for j in range(i):\n",
    "        print(\"*\",end=' ')\n",
    "    print()"
   ]
  },
  {
   "cell_type": "code",
   "execution_count": 40,
   "id": "d4258748-f730-4089-9cec-c3b183fec310",
   "metadata": {},
   "outputs": [
    {
     "name": "stdout",
     "output_type": "stream",
     "text": [
      "* * * * * \n",
      "  * * * * \n",
      "    * * * \n",
      "      * * \n",
      "        * \n"
     ]
    }
   ],
   "source": [
    "space = 0\n",
    "for i in range(1,6):\n",
    "    for sp in range(space):\n",
    "        print(\" \",end=' ')\n",
    "    space += 1\n",
    "    for j in range(i,6):\n",
    "        print(\"*\",end=' ')\n",
    "    print()"
   ]
  },
  {
   "cell_type": "code",
   "execution_count": null,
   "id": "ba10fced-fb3a-46af-99a4-9d286574bf9c",
   "metadata": {},
   "outputs": [],
   "source": []
  }
 ],
 "metadata": {
  "kernelspec": {
   "display_name": "Python 3 (ipykernel)",
   "language": "python",
   "name": "python3"
  },
  "language_info": {
   "codemirror_mode": {
    "name": "ipython",
    "version": 3
   },
   "file_extension": ".py",
   "mimetype": "text/x-python",
   "name": "python",
   "nbconvert_exporter": "python",
   "pygments_lexer": "ipython3",
   "version": "3.12.6"
  }
 },
 "nbformat": 4,
 "nbformat_minor": 5
}
