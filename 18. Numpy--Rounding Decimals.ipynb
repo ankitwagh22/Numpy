{
 "cells": [
  {
   "cell_type": "code",
   "execution_count": 2,
   "id": "8ee6c856-2cc0-4dea-bb0c-1adfbec1ea4d",
   "metadata": {},
   "outputs": [
    {
     "name": "stdout",
     "output_type": "stream",
     "text": [
      "Array values are : [-3.1666  3.6667]\n",
      "--------------\n",
      "After rounding\n",
      "Array values are : [-3.  3.]\n"
     ]
    }
   ],
   "source": [
    "# Numpy--Rounding Decimals\n",
    "import numpy as np\n",
    "arr = np.array([-3.1666, 3.6667])\n",
    "print(\"Array values are :\", arr)\n",
    "print(\"--------------\")\n",
    "print(\"After rounding\")\n",
    "arr = np.trunc(arr)\n",
    "print(\"Array values are :\", arr)"
   ]
  },
  {
   "cell_type": "code",
   "execution_count": 4,
   "id": "32adc147-df36-49a3-a623-345a8a4328d3",
   "metadata": {},
   "outputs": [
    {
     "name": "stdout",
     "output_type": "stream",
     "text": [
      "Array values are : [-3.  3.]\n"
     ]
    }
   ],
   "source": [
    "# fix() example \n",
    "arr = np.array([-3.1666, 3.6667])\n",
    "arr = np.fix(arr)\n",
    "print(\"Array values are :\", arr)"
   ]
  },
  {
   "cell_type": "code",
   "execution_count": 6,
   "id": "837e9640-a10e-473b-a45a-1836cfa4716a",
   "metadata": {},
   "outputs": [
    {
     "name": "stdout",
     "output_type": "stream",
     "text": [
      "3.56\n",
      "3.17\n"
     ]
    }
   ],
   "source": [
    "import numpy as np\n",
    "arr = np.around(3.55665,2)\n",
    "brr = np.around(3.1666,2)\n",
    "print(arr)\n",
    "print(brr)"
   ]
  },
  {
   "cell_type": "code",
   "execution_count": 7,
   "id": "5c95c553-15ed-4404-bd8a-285d713a9f0b",
   "metadata": {},
   "outputs": [
    {
     "name": "stdout",
     "output_type": "stream",
     "text": [
      "[3.17 2.14 4.59]\n"
     ]
    }
   ],
   "source": [
    "b = np.around([3.1666,2.14,4.59],2)\n",
    "print(b)"
   ]
  },
  {
   "cell_type": "code",
   "execution_count": 9,
   "id": "77066b77-beb4-4ade-b7fe-763cb4b2d810",
   "metadata": {},
   "outputs": [
    {
     "name": "stdout",
     "output_type": "stream",
     "text": [
      "[-4.  3.]\n"
     ]
    }
   ],
   "source": [
    "# floor() example\n",
    "x1 = np.floor([-3.1666, 3.6667])\n",
    "print(x1)"
   ]
  },
  {
   "cell_type": "code",
   "execution_count": 10,
   "id": "dc4c1dc3-2572-4fca-8b46-2bda66c2e454",
   "metadata": {},
   "outputs": [
    {
     "name": "stdout",
     "output_type": "stream",
     "text": [
      "[-3.  4.  4.]\n"
     ]
    }
   ],
   "source": [
    "# ceil() example\n",
    "arr = np.ceil([-3.1666, 3.6667,3.11111])\n",
    "print(arr)"
   ]
  },
  {
   "cell_type": "code",
   "execution_count": 16,
   "id": "96f1175b-d7e3-4db4-8d14-4c7f58d09785",
   "metadata": {},
   "outputs": [
    {
     "name": "stdout",
     "output_type": "stream",
     "text": [
      "4.0\n",
      "3.0\n"
     ]
    }
   ],
   "source": [
    "a = np.ceil(3.11111)\n",
    "b = np.floor(3.1111)\n",
    "print(a)\n",
    "print(b)"
   ]
  }
 ],
 "metadata": {
  "kernelspec": {
   "display_name": "Python 3 (ipykernel)",
   "language": "python",
   "name": "python3"
  },
  "language_info": {
   "codemirror_mode": {
    "name": "ipython",
    "version": 3
   },
   "file_extension": ".py",
   "mimetype": "text/x-python",
   "name": "python",
   "nbconvert_exporter": "python",
   "pygments_lexer": "ipython3",
   "version": "3.12.6"
  }
 },
 "nbformat": 4,
 "nbformat_minor": 5
}
