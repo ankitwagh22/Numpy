{
 "cells": [
  {
   "cell_type": "code",
   "execution_count": 2,
   "id": "b33a9051-4e9c-48af-aa8b-ad45c7cb3291",
   "metadata": {},
   "outputs": [
    {
     "name": "stdout",
     "output_type": "stream",
     "text": [
      "content of a = [10 20 30 40 50 60 70 80 90]\n",
      "Dimension of a = 1\n"
     ]
    }
   ],
   "source": [
    "# Advanced Slicing Operations on 1-D \n",
    "import numpy as np\n",
    "a=np.array(range(10,100,10))\n",
    "print(\"content of a =\", a)\n",
    "print(\"Dimension of a =\", a.ndim)"
   ]
  },
  {
   "cell_type": "code",
   "execution_count": null,
   "id": "98e69170-a7cb-4fd1-9689-3268b9939faa",
   "metadata": {},
   "outputs": [],
   "source": [
    "#Get Random values like 10 60 80 of 1-D\n",
    "#Step-1: Identify the Indices of 10 60 and 80----[0,5,7] OR [-9,-4,-2]\n",
    "#Step-2: Pass Random Elements Indices to 1-darray object---ndarrayobj[ [Indices] ]"
   ]
  },
  {
   "cell_type": "code",
   "execution_count": 10,
   "id": "66554562-61e5-4566-ae45-6d9646b0272e",
   "metadata": {},
   "outputs": [
    {
     "data": {
      "text/plain": [
       "array([10, 60, 80])"
      ]
     },
     "execution_count": 10,
     "metadata": {},
     "output_type": "execute_result"
    }
   ],
   "source": [
    "#Get Random values like 10 60 80 of 1-D\n",
    "#Step-1\n",
    "rind=[0,5,7]\n",
    "#Step-2\n",
    "a[rind]"
   ]
  },
  {
   "cell_type": "code",
   "execution_count": 9,
   "id": "8146eba2-9ad0-4ce7-b045-18863ca8f896",
   "metadata": {},
   "outputs": [
    {
     "data": {
      "text/plain": [
       "array([10, 60, 80])"
      ]
     },
     "execution_count": 9,
     "metadata": {},
     "output_type": "execute_result"
    }
   ],
   "source": [
    "# with -ve index\n",
    "ind=[-9,-4,-2]\n",
    "a[ind]"
   ]
  },
  {
   "cell_type": "code",
   "execution_count": 11,
   "id": "e9cde33e-a459-43a2-9341-e1ff8d7dec08",
   "metadata": {},
   "outputs": [
    {
     "data": {
      "text/plain": [
       "array([10, 60, 80])"
      ]
     },
     "execution_count": 11,
     "metadata": {},
     "output_type": "execute_result"
    }
   ],
   "source": [
    "a[[0,5,7]]"
   ]
  },
  {
   "cell_type": "code",
   "execution_count": 13,
   "id": "43ce6226-84e0-4063-a47a-0f3f99f48d18",
   "metadata": {},
   "outputs": [
    {
     "data": {
      "text/plain": [
       "array([10, 60, 80])"
      ]
     },
     "execution_count": 13,
     "metadata": {},
     "output_type": "execute_result"
    }
   ],
   "source": [
    "a[[-9,-4,-2]]"
   ]
  },
  {
   "cell_type": "code",
   "execution_count": 14,
   "id": "894a6fe5-e1bf-4ac7-8922-d8c4572acaad",
   "metadata": {},
   "outputs": [
    {
     "name": "stdout",
     "output_type": "stream",
     "text": [
      "[10 20 30 40 50 60 70 80 90]\n"
     ]
    }
   ],
   "source": [
    "print(a)"
   ]
  },
  {
   "cell_type": "code",
   "execution_count": 17,
   "id": "9f8a4eb5-b31c-4393-9974-4bcb84a284b0",
   "metadata": {},
   "outputs": [
    {
     "data": {
      "text/plain": [
       "array([20, 80, 20])"
      ]
     },
     "execution_count": 17,
     "metadata": {},
     "output_type": "execute_result"
    }
   ],
   "source": [
    "# get 20 80 20\n",
    "a[[1,7,1]]"
   ]
  },
  {
   "cell_type": "code",
   "execution_count": 18,
   "id": "ff20630e-2121-4650-b756-554ac3f61c46",
   "metadata": {},
   "outputs": [
    {
     "data": {
      "text/plain": [
       "array([20, 80, 20])"
      ]
     },
     "execution_count": 18,
     "metadata": {},
     "output_type": "execute_result"
    }
   ],
   "source": [
    "a[[-8,-2,-8]]"
   ]
  },
  {
   "cell_type": "code",
   "execution_count": 19,
   "id": "615440d0-a8b0-4cf3-b8ef-c7871415f731",
   "metadata": {},
   "outputs": [
    {
     "name": "stdout",
     "output_type": "stream",
     "text": [
      "[10 20 30 40 50 60 70 80 90]\n"
     ]
    }
   ],
   "source": [
    "print(a)"
   ]
  },
  {
   "cell_type": "code",
   "execution_count": 20,
   "id": "7cba549e-1a13-472f-8ca0-02a43b5d4588",
   "metadata": {},
   "outputs": [
    {
     "data": {
      "text/plain": [
       "array([40, 20, 70, 90])"
      ]
     },
     "execution_count": 20,
     "metadata": {},
     "output_type": "execute_result"
    }
   ],
   "source": [
    "# get 40 20 70 90\n",
    "ind=[3,1,6,8]\n",
    "a[ind]"
   ]
  },
  {
   "cell_type": "code",
   "execution_count": 21,
   "id": "756c8571-7002-4cac-ad00-c98cecda02cd",
   "metadata": {},
   "outputs": [
    {
     "data": {
      "text/plain": [
       "array([40, 20, 70, 90])"
      ]
     },
     "execution_count": 21,
     "metadata": {},
     "output_type": "execute_result"
    }
   ],
   "source": [
    "ind=[-6,-8,-3,-1]\n",
    "a[ind]"
   ]
  },
  {
   "cell_type": "code",
   "execution_count": 25,
   "id": "415de537-2da7-401c-828a-38f0b7ccc9da",
   "metadata": {},
   "outputs": [
    {
     "name": "stdout",
     "output_type": "stream",
     "text": [
      "content of a \n",
      " [[10 20 30]\n",
      " [40 50 60]\n",
      " [70 80 90]]\n",
      "Dimension of a = 2\n"
     ]
    }
   ],
   "source": [
    "# Advanced Slicing Operations on 2-D \n",
    "a=np.array(range(10,100,10)).reshape(3,3)\n",
    "print(\"content of a \\n\", a)\n",
    "print(\"Dimension of a =\", a.ndim)"
   ]
  },
  {
   "cell_type": "code",
   "execution_count": null,
   "id": "a523dc37-c991-415d-8c7f-4f3049da5a3e",
   "metadata": {},
   "outputs": [],
   "source": [
    "#Step-1: Get Row Indices of Random Elements of 2-D\n",
    "#Step-2: Get Col Indices of Random Elements of 2-D\n",
    "#Step-3: Pass (row indices) and (col indices) to 2-Darray"
   ]
  },
  {
   "cell_type": "code",
   "execution_count": 29,
   "id": "0cc2d513-995f-41f0-8a41-4efd77fd6af3",
   "metadata": {},
   "outputs": [
    {
     "data": {
      "text/plain": [
       "array([10, 50, 90])"
      ]
     },
     "execution_count": 29,
     "metadata": {},
     "output_type": "execute_result"
    }
   ],
   "source": [
    "# Get Principle Diagonal Elements----10 50 90\n",
    "rind=[0,1,2]\n",
    "cind=[0,1,2]\n",
    "a[rind,cind]"
   ]
  },
  {
   "cell_type": "code",
   "execution_count": 28,
   "id": "5bf3071a-ccf3-40b8-8f31-77dc609d2705",
   "metadata": {},
   "outputs": [
    {
     "data": {
      "text/plain": [
       "array([10, 50, 90])"
      ]
     },
     "execution_count": 28,
     "metadata": {},
     "output_type": "execute_result"
    }
   ],
   "source": [
    "# OR\n",
    "rind=[-3,-2,-1]\n",
    "cind=[-3,-2,-1]\n",
    "a[rind,cind]"
   ]
  },
  {
   "cell_type": "code",
   "execution_count": 30,
   "id": "2350ca1c-bfe2-44a3-97ec-4d911f3c9790",
   "metadata": {},
   "outputs": [
    {
     "data": {
      "text/plain": [
       "array([10, 50, 90])"
      ]
     },
     "execution_count": 30,
     "metadata": {},
     "output_type": "execute_result"
    }
   ],
   "source": [
    "a[[0,1,2],[0,1,2]]"
   ]
  },
  {
   "cell_type": "code",
   "execution_count": 35,
   "id": "5bc9c55a-45fd-4299-a95f-4ef110a87e1d",
   "metadata": {},
   "outputs": [
    {
     "data": {
      "text/plain": [
       "array([90, 50, 10])"
      ]
     },
     "execution_count": 35,
     "metadata": {},
     "output_type": "execute_result"
    }
   ],
   "source": [
    "# get in reverse order\n",
    "a[rind,cind][::-1]"
   ]
  },
  {
   "cell_type": "code",
   "execution_count": 36,
   "id": "3d1cd270-690e-4ea6-aca3-26b7d9505c5a",
   "metadata": {},
   "outputs": [
    {
     "data": {
      "text/plain": [
       "array([90, 50, 10])"
      ]
     },
     "execution_count": 36,
     "metadata": {},
     "output_type": "execute_result"
    }
   ],
   "source": [
    "a[[0,1,2],[0,1,2]][::-1]"
   ]
  },
  {
   "cell_type": "code",
   "execution_count": 31,
   "id": "2917e770-9e19-4f09-bb07-26b0df9b011d",
   "metadata": {},
   "outputs": [
    {
     "name": "stdout",
     "output_type": "stream",
     "text": [
      "[[10 20 30]\n",
      " [40 50 60]\n",
      " [70 80 90]]\n"
     ]
    }
   ],
   "source": [
    "print(a)"
   ]
  },
  {
   "cell_type": "code",
   "execution_count": 34,
   "id": "eaee6766-1731-423e-9eb4-ffe9fb70b1ca",
   "metadata": {},
   "outputs": [
    {
     "data": {
      "text/plain": [
       "array([50, 90])"
      ]
     },
     "execution_count": 34,
     "metadata": {},
     "output_type": "execute_result"
    }
   ],
   "source": [
    "# get 50 and 90\n",
    "a[[1,2],[1,2]] # pvm take as [(1,1),(2,2)]"
   ]
  },
  {
   "cell_type": "code",
   "execution_count": 33,
   "id": "aeb90086-de50-4ef4-b943-f358b71bda9e",
   "metadata": {},
   "outputs": [
    {
     "data": {
      "text/plain": [
       "array([50, 90])"
      ]
     },
     "execution_count": 33,
     "metadata": {},
     "output_type": "execute_result"
    }
   ],
   "source": [
    "a[[-2,-1],[-2,-1]]"
   ]
  },
  {
   "cell_type": "code",
   "execution_count": 37,
   "id": "0a0b6baf-84b5-4bb1-9f05-d1391e19a99c",
   "metadata": {},
   "outputs": [
    {
     "name": "stdout",
     "output_type": "stream",
     "text": [
      "[[10 20 30]\n",
      " [40 50 60]\n",
      " [70 80 90]]\n"
     ]
    }
   ],
   "source": [
    "print(a)"
   ]
  },
  {
   "cell_type": "code",
   "execution_count": 38,
   "id": "36c53b37-d83e-4ab8-8a05-7626c6c89c71",
   "metadata": {},
   "outputs": [
    {
     "data": {
      "text/plain": [
       "array([30, 50, 70])"
      ]
     },
     "execution_count": 38,
     "metadata": {},
     "output_type": "execute_result"
    }
   ],
   "source": [
    "# get 30 50 70\n",
    "rind=[0,1,2]\n",
    "cind=[2,1,0]\n",
    "a[rind,cind]"
   ]
  },
  {
   "cell_type": "code",
   "execution_count": 40,
   "id": "558525b6-0f1b-4621-9d95-a14385f34ab9",
   "metadata": {},
   "outputs": [
    {
     "data": {
      "text/plain": [
       "array([30, 50, 70])"
      ]
     },
     "execution_count": 40,
     "metadata": {},
     "output_type": "execute_result"
    }
   ],
   "source": [
    "a[(-3,-2,-1),(-1,-2,-3)]"
   ]
  },
  {
   "cell_type": "code",
   "execution_count": 41,
   "id": "71ec8fcc-39ee-4985-97b2-17617219b1b0",
   "metadata": {},
   "outputs": [
    {
     "name": "stdout",
     "output_type": "stream",
     "text": [
      "[[10 20 30]\n",
      " [40 50 60]\n",
      " [70 80 90]]\n"
     ]
    }
   ],
   "source": [
    "print(a)"
   ]
  },
  {
   "cell_type": "code",
   "execution_count": 43,
   "id": "13fed195-15e2-454f-91a6-76e0138ed490",
   "metadata": {},
   "outputs": [
    {
     "data": {
      "text/plain": [
       "array([10, 60, 70])"
      ]
     },
     "execution_count": 43,
     "metadata": {},
     "output_type": "execute_result"
    }
   ],
   "source": [
    "# get 10 60 70\n",
    "a[(0,1,2),(0,2,0)]"
   ]
  },
  {
   "cell_type": "code",
   "execution_count": 44,
   "id": "09baaae0-6617-4473-869b-4b5c8752a1f3",
   "metadata": {},
   "outputs": [
    {
     "data": {
      "text/plain": [
       "array([10, 60, 70])"
      ]
     },
     "execution_count": 44,
     "metadata": {},
     "output_type": "execute_result"
    }
   ],
   "source": [
    "a[[-3,-2,-1],[-3,-1,-3]]"
   ]
  },
  {
   "cell_type": "code",
   "execution_count": 45,
   "id": "99c3ab0e-2370-4b84-8da1-d6b7f02f5e1b",
   "metadata": {},
   "outputs": [
    {
     "data": {
      "text/plain": [
       "array([10, 40, 60, 90])"
      ]
     },
     "execution_count": 45,
     "metadata": {},
     "output_type": "execute_result"
    }
   ],
   "source": [
    "# get 10 40 60 90\n",
    "a[(0,1,1,2),(0,0,2,2)]"
   ]
  },
  {
   "cell_type": "code",
   "execution_count": null,
   "id": "34380b32-94c4-4316-9a54-158b8ea14c8a",
   "metadata": {},
   "outputs": [],
   "source": [
    "# Advanced Slicing Operations on 3-D \n",
    "# Step-1 : Get Matices Indices of Random Elements of 3-D\n",
    "# Step-2: Get Row Indices of Random Elements of 3-D\n",
    "# Step-3: Get Col Indices of Random Elements of 3-D\n",
    "# Step-4: Pass (matrix Indices),(row indices) and (col indices) to 3-Darray"
   ]
  },
  {
   "cell_type": "code",
   "execution_count": 47,
   "id": "7e3e7a99-8fef-4ef9-a2c4-c0597ac93602",
   "metadata": {},
   "outputs": [
    {
     "name": "stdout",
     "output_type": "stream",
     "text": [
      "content of a =\n",
      " [[[ 0  1  2]\n",
      "  [ 3  4  5]\n",
      "  [ 6  7  8]]\n",
      "\n",
      " [[ 9 10 11]\n",
      "  [12 13 14]\n",
      "  [15 16 17]]\n",
      "\n",
      " [[18 19 20]\n",
      "  [21 22 23]\n",
      "  [24 25 26]]]\n",
      "Dimension of a= 3\n"
     ]
    }
   ],
   "source": [
    "import numpy as np\n",
    "a=np.arange(3*3*3).reshape(3,3,3)\n",
    "print(\"content of a =\\n\", a)\n",
    "print(\"Dimension of a=\", a.ndim)"
   ]
  },
  {
   "cell_type": "code",
   "execution_count": 48,
   "id": "093ebadb-70bd-415b-8b0f-9f68cc88b756",
   "metadata": {},
   "outputs": [
    {
     "data": {
      "text/plain": [
       "array([ 4, 12, 26])"
      ]
     },
     "execution_count": 48,
     "metadata": {},
     "output_type": "execute_result"
    }
   ],
   "source": [
    "# Get the Elements 4, 12 and 26 \n",
    "# get matrix indexes\n",
    "mind=[0,1,2]\n",
    "rind=[1,1,2]\n",
    "cind=[1,0,2]\n",
    "a[mind,rind,cind]"
   ]
  },
  {
   "cell_type": "code",
   "execution_count": 49,
   "id": "722709af-bcba-4549-8ca4-dcbdd0bb9196",
   "metadata": {},
   "outputs": [
    {
     "data": {
      "text/plain": [
       "array([ 4, 12, 26])"
      ]
     },
     "execution_count": 49,
     "metadata": {},
     "output_type": "execute_result"
    }
   ],
   "source": [
    "a[(0,1,2),(1,1,2),(1,0,2)]"
   ]
  },
  {
   "cell_type": "code",
   "execution_count": 50,
   "id": "5ec53ae7-3610-4631-a98c-2b1f5f2c07f9",
   "metadata": {},
   "outputs": [
    {
     "data": {
      "text/plain": [
       "array([ 4, 12, 26])"
      ]
     },
     "execution_count": 50,
     "metadata": {},
     "output_type": "execute_result"
    }
   ],
   "source": [
    "# with -ve index\n",
    "a[[-3,-2,-1],[-2,-2,-1],[-2,-3,-1]]"
   ]
  },
  {
   "cell_type": "code",
   "execution_count": 51,
   "id": "aba06e86-ef55-4bd9-9eb2-c47a1eb6bfd4",
   "metadata": {},
   "outputs": [
    {
     "name": "stdout",
     "output_type": "stream",
     "text": [
      "[[[ 0  1  2]\n",
      "  [ 3  4  5]\n",
      "  [ 6  7  8]]\n",
      "\n",
      " [[ 9 10 11]\n",
      "  [12 13 14]\n",
      "  [15 16 17]]\n",
      "\n",
      " [[18 19 20]\n",
      "  [21 22 23]\n",
      "  [24 25 26]]]\n"
     ]
    }
   ],
   "source": [
    "print(a)"
   ]
  },
  {
   "cell_type": "code",
   "execution_count": 55,
   "id": "233c3b18-dbc7-45fe-8b73-6dc3b1e61372",
   "metadata": {},
   "outputs": [
    {
     "data": {
      "text/plain": [
       "array([ 0,  4,  8, 20, 22, 24])"
      ]
     },
     "execution_count": 55,
     "metadata": {},
     "output_type": "execute_result"
    }
   ],
   "source": [
    "# Get 0 4 8  20 22 24\n",
    "a[[0,0,0,2,2,2],[0,1,2,0,1,2],[0,1,2,2,1,0]]"
   ]
  },
  {
   "cell_type": "code",
   "execution_count": 56,
   "id": "bd095bc8-c5d9-49a7-b9e8-26324ae482e6",
   "metadata": {},
   "outputs": [
    {
     "data": {
      "text/plain": [
       "array([ 0,  4,  8, 20, 22, 24])"
      ]
     },
     "execution_count": 56,
     "metadata": {},
     "output_type": "execute_result"
    }
   ],
   "source": [
    "a[(-3,-3,-3,-1,-1,-1),(-3,-2,-1,-3,-2,-1),(-3,-2,-1,-1,-2,-3)]"
   ]
  },
  {
   "cell_type": "code",
   "execution_count": 57,
   "id": "deb7b4c7-4b6d-4634-af40-c738096ea363",
   "metadata": {},
   "outputs": [
    {
     "name": "stdout",
     "output_type": "stream",
     "text": [
      "[[[ 0  1  2]\n",
      "  [ 3  4  5]\n",
      "  [ 6  7  8]]\n",
      "\n",
      " [[ 9 10 11]\n",
      "  [12 13 14]\n",
      "  [15 16 17]]\n",
      "\n",
      " [[18 19 20]\n",
      "  [21 22 23]\n",
      "  [24 25 26]]]\n"
     ]
    }
   ],
   "source": [
    "print(a)"
   ]
  },
  {
   "cell_type": "code",
   "execution_count": 58,
   "id": "22d9d83c-8106-4abb-b1bc-6f373101b74c",
   "metadata": {},
   "outputs": [
    {
     "data": {
      "text/plain": [
       "array([ 9, 13, 17])"
      ]
     },
     "execution_count": 58,
     "metadata": {},
     "output_type": "execute_result"
    }
   ],
   "source": [
    "# 9 13 17\n",
    "a[[1,1,1],[0,1,2],[0,1,2]]"
   ]
  },
  {
   "cell_type": "code",
   "execution_count": 61,
   "id": "23914be0-fed4-44f1-96af-322a3027afc1",
   "metadata": {},
   "outputs": [
    {
     "data": {
      "text/plain": [
       "array([[[18, 19, 20],\n",
       "        [21, 22, 23],\n",
       "        [24, 25, 26]]])"
      ]
     },
     "execution_count": 61,
     "metadata": {},
     "output_type": "execute_result"
    }
   ],
   "source": [
    "a[[2][0:1][0:3]]"
   ]
  },
  {
   "cell_type": "code",
   "execution_count": 62,
   "id": "15cef0a0-9b90-46d3-ae20-963b9c6966ad",
   "metadata": {},
   "outputs": [
    {
     "data": {
      "text/plain": [
       "array([[[18, 19, 20],\n",
       "        [21, 22, 23],\n",
       "        [24, 25, 26]]])"
      ]
     },
     "execution_count": 62,
     "metadata": {},
     "output_type": "execute_result"
    }
   ],
   "source": [
    "a[[2][0:1][0:3]]"
   ]
  },
  {
   "cell_type": "code",
   "execution_count": 65,
   "id": "e3be23b6-f69c-4afb-a029-cae6045f1b5f",
   "metadata": {},
   "outputs": [
    {
     "data": {
      "text/plain": [
       "array([[[18, 19, 20]]])"
      ]
     },
     "execution_count": 65,
     "metadata": {},
     "output_type": "execute_result"
    }
   ],
   "source": [
    "a[2:3,0:1,0:3]"
   ]
  },
  {
   "cell_type": "code",
   "execution_count": 66,
   "id": "5acf1bd8-a97f-4ab1-b26a-31325d264d67",
   "metadata": {},
   "outputs": [
    {
     "name": "stdout",
     "output_type": "stream",
     "text": [
      "[[[ 0  1  2]\n",
      "  [ 3  4  5]\n",
      "  [ 6  7  8]]\n",
      "\n",
      " [[ 9 10 11]\n",
      "  [12 13 14]\n",
      "  [15 16 17]]\n",
      "\n",
      " [[18 19 20]\n",
      "  [21 22 23]\n",
      "  [24 25 26]]]\n"
     ]
    }
   ],
   "source": [
    "print(a)"
   ]
  },
  {
   "cell_type": "code",
   "execution_count": 69,
   "id": "e1dda7d5-7e8f-48bf-8b02-20fc54e8b51d",
   "metadata": {},
   "outputs": [
    {
     "data": {
      "text/plain": [
       "array([ 0,  4,  8, 11, 13, 15, 18, 22, 26])"
      ]
     },
     "execution_count": 69,
     "metadata": {},
     "output_type": "execute_result"
    }
   ],
   "source": [
    "# get 0 4 8 11 13 15 18 22 26\n",
    "mind=[0,0,0,1,1,1,2,2,2]\n",
    "rind=[0,1,2,0,1,2,0,1,2]\n",
    "cind=[0,1,2,2,1,0,0,1,2]\n",
    "a[mind,rind,cind]"
   ]
  },
  {
   "cell_type": "code",
   "execution_count": 70,
   "id": "7545c87c-3271-4d8a-9d1f-6db45e8a4246",
   "metadata": {},
   "outputs": [
    {
     "name": "stdout",
     "output_type": "stream",
     "text": [
      "[[[ 0  1  2]\n",
      "  [ 3  4  5]\n",
      "  [ 6  7  8]]\n",
      "\n",
      " [[ 9 10 11]\n",
      "  [12 13 14]\n",
      "  [15 16 17]]\n",
      "\n",
      " [[18 19 20]\n",
      "  [21 22 23]\n",
      "  [24 25 26]]]\n"
     ]
    }
   ],
   "source": [
    "print(a)"
   ]
  },
  {
   "cell_type": "code",
   "execution_count": 71,
   "id": "29c473bf-8b84-4de9-bc6e-e90e5a06d6c8",
   "metadata": {},
   "outputs": [
    {
     "data": {
      "text/plain": [
       "array([15, 13, 11,  6,  4,  2, 24, 22, 20])"
      ]
     },
     "execution_count": 71,
     "metadata": {},
     "output_type": "execute_result"
    }
   ],
   "source": [
    "# get 15 13 11 6 4 2 24 22 20\n",
    "mind=[1,1,1,0,0,0,2,2,2]\n",
    "rind=[2,1,0,2,1,0,2,1,0]\n",
    "cind=[0,1,2,0,1,2,0,1,2]\n",
    "a[mind,rind,cind]"
   ]
  },
  {
   "cell_type": "code",
   "execution_count": null,
   "id": "cf8f0fc3-3490-45e6-b4ed-55415420f7b0",
   "metadata": {},
   "outputs": [],
   "source": []
  }
 ],
 "metadata": {
  "kernelspec": {
   "display_name": "Python 3 (ipykernel)",
   "language": "python",
   "name": "python3"
  },
  "language_info": {
   "codemirror_mode": {
    "name": "ipython",
    "version": 3
   },
   "file_extension": ".py",
   "mimetype": "text/x-python",
   "name": "python",
   "nbconvert_exporter": "python",
   "pygments_lexer": "ipython3",
   "version": "3.12.6"
  }
 },
 "nbformat": 4,
 "nbformat_minor": 5
}
