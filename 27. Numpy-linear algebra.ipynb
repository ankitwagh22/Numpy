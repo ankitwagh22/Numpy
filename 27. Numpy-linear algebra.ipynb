{
 "cells": [
  {
   "cell_type": "code",
   "execution_count": 1,
   "id": "77213b51-ca3e-4b38-b1f7-2dece1336009",
   "metadata": {},
   "outputs": [
    {
     "name": "stdout",
     "output_type": "stream",
     "text": [
      "Content of a is =\n",
      " [[2 3]\n",
      " [1 1]]\n",
      "Content of b is = [6 3]\n",
      "[ 3. -0.]\n"
     ]
    }
   ],
   "source": [
    "# implementing linear algebra equations\n",
    "import numpy as np\n",
    "a = np.array([[2,3],[1,1]])\n",
    "b = np.array([6,3])\n",
    "print(\"Content of a is =\\n\", a)\n",
    "print(\"Content of b is =\", b)\n",
    "sol = np.linalg.solve(a,b)\n",
    "print(sol)"
   ]
  },
  {
   "cell_type": "code",
   "execution_count": 3,
   "id": "8fc607f7-7515-47bd-a8b0-03d7bfdd3ebb",
   "metadata": {},
   "outputs": [
    {
     "name": "stdout",
     "output_type": "stream",
     "text": [
      "Content of array1 =\n",
      " [[2 5]\n",
      " [3 6]]\n",
      "Content of array2 = [20 12]\n",
      "-------------------\n",
      "solution is = [-20.  12.]\n",
      "Value of x = -20.0\n",
      "Value of y = 12.0\n"
     ]
    }
   ],
   "source": [
    "# solve the following\n",
    "# 2x+5y=20\n",
    "# 3x+6y=12\n",
    "import numpy as np\n",
    "a = np.array([[2,5],[3,6]])\n",
    "b = np.array([20,12])\n",
    "print(\"Content of array1 =\\n\", a)\n",
    "print(\"Content of array2 =\", b)\n",
    "print('-------------------')\n",
    "sol = np.linalg.solve(a,b)\n",
    "print(\"solution is =\", sol)\n",
    "print(\"Value of x =\", sol[0])\n",
    "print(\"Value of y =\", sol[1])"
   ]
  },
  {
   "cell_type": "code",
   "execution_count": 5,
   "id": "dc4adbae-3d2f-4aa6-a542-0e1dc9fbd90a",
   "metadata": {},
   "outputs": [
    {
     "name": "stdout",
     "output_type": "stream",
     "text": [
      "Array1 is =\n",
      " [[ 8  7]\n",
      " [ 3 -5]]\n",
      "Array2 is = [38 -1]\n",
      "------------------\n",
      "Value of x = 3.0\n",
      "Value of y = 2.0\n"
     ]
    }
   ],
   "source": [
    "# solve the following linear equations\n",
    "# 8x + 7y = 38 and 3x - 5y = - 1.\n",
    "import numpy as np\n",
    "ar1 = np.array([[8,7],[3,-5]])\n",
    "ar2 = np.array([38,-1])\n",
    "print(\"Array1 is =\\n\", ar1)\n",
    "print(\"Array2 is =\", ar2)\n",
    "print('------------------')\n",
    "sol = np.linalg.solve(ar1,ar2)\n",
    "print(\"Value of x =\", sol[0])\n",
    "print(\"Value of y =\", sol[1])"
   ]
  },
  {
   "cell_type": "code",
   "execution_count": 6,
   "id": "e8d73488-99ff-4b5a-b814-09f096cec0e8",
   "metadata": {},
   "outputs": [
    {
     "name": "stdout",
     "output_type": "stream",
     "text": [
      "Array1 is =\n",
      " [[2 5]\n",
      " [3 6]]\n",
      "Array2 is = [20 12]\n",
      "-------------------\n",
      "solution is = [-20.  12.]\n",
      "Value of x = -20.0\n",
      "Value of y = 12.0\n"
     ]
    }
   ],
   "source": [
    "# solve the following linear equations\n",
    "# 2x + 5y = 20 \n",
    "# 3x + 6y = 12\n",
    "import numpy as np\n",
    "arr1 = np.array([[2,5],[3,6]])\n",
    "arr2 = np.array([20,12])\n",
    "print(\"Array1 is =\\n\", arr1)\n",
    "print(\"Array2 is =\", arr2)\n",
    "print('-------------------')\n",
    "sol = np.linalg.solve(arr1,arr2)\n",
    "print(\"solution is =\", sol)\n",
    "print(\"Value of x =\", sol[0])\n",
    "print(\"Value of y =\", sol[1])"
   ]
  },
  {
   "cell_type": "code",
   "execution_count": 12,
   "id": "ec915f5a-a3bb-4fff-af04-1475a83876f3",
   "metadata": {},
   "outputs": [
    {
     "name": "stdout",
     "output_type": "stream",
     "text": [
      "Array1 is =\n",
      " [[3 4 5]\n",
      " [6 3 3]\n",
      " [1 1 1]]\n",
      "Array2 is = [5 4 8]\n",
      "-------------------\n",
      "Solution is = [ -6.66666667  48.33333333 -33.66666667]\n",
      "-------------------\n",
      "Value of x is = -6.67\n",
      "Value of y is = 48.33\n",
      "Value of z is = -33.67\n"
     ]
    }
   ],
   "source": [
    "# Solve the Following equations\n",
    "# 3x+4y+5z=5\n",
    "# 6x+3y+3z=4\n",
    "# x+y+z=8\n",
    "# Find x , y and z\n",
    "import numpy as np\n",
    "arr1 = np.array([[3,4,5],[6,3,3],[1,1,1]])\n",
    "arr2 = np.array([5,4,8])\n",
    "print(\"Array1 is =\\n\", arr1)\n",
    "print(\"Array2 is =\", arr2)\n",
    "print('-------------------')\n",
    "sol = np.linalg.solve(arr1,arr2)\n",
    "print(\"Solution is =\", sol)\n",
    "print('-------------------')\n",
    "print(\"Value of x is =\", round(sol[0],2))\n",
    "print(\"Value of y is =\", round(sol[1],2))\n",
    "print(\"Value of z is =\", round(sol[2],2))"
   ]
  },
  {
   "cell_type": "code",
   "execution_count": 14,
   "id": "d4e28f4b-39b2-4c18-94e4-c31ec17e37b5",
   "metadata": {},
   "outputs": [
    {
     "name": "stdout",
     "output_type": "stream",
     "text": [
      "Matrix1 is = [1 3 5]\n",
      "Matrix2 is = [2 4 6]\n",
      "----------------\n",
      "Dot product of two matrix is = 44\n"
     ]
    }
   ],
   "source": [
    "# use of dot() to perform array multiplication\n",
    "import numpy as np\n",
    "a = np.array([1,3,5])\n",
    "b = np.array([2,4,6])\n",
    "print(\"Matrix1 is =\", a)\n",
    "print(\"Matrix2 is =\", b)\n",
    "print('----------------')\n",
    "dt = np.dot(a,b)\n",
    "print(\"Dot product of two matrix is =\", dt)"
   ]
  },
  {
   "cell_type": "code",
   "execution_count": 18,
   "id": "84cad04b-4911-429c-bef5-89bbd8b5e4d2",
   "metadata": {},
   "outputs": [
    {
     "name": "stdout",
     "output_type": "stream",
     "text": [
      "Array1 = \n",
      " [[1 3]\n",
      " [5 7]]\n",
      "Array2 = \n",
      " [[2 4]\n",
      " [6 8]]\n",
      "------------------\n",
      "Inner Multiplication is =\n",
      "[[14 30]\n",
      " [38 86]]\n"
     ]
    }
   ],
   "source": [
    "import numpy as np\n",
    "arr1 = np.array([[1, 3],[5, 7]])\n",
    "arr2 = np.array([[2, 4],[6, 8]])\n",
    "print(\"Array1 = \\n\", arr1)\n",
    "print(\"Array2 = \\n\", arr2)\n",
    "print('------------------')\n",
    "# inner() for 2D arrays\n",
    "ar = np.inner(arr1,arr2)\n",
    "print(\"Inner Multiplication is =\")\n",
    "print(ar)"
   ]
  },
  {
   "cell_type": "code",
   "execution_count": 19,
   "id": "77eed2cf-35bb-40f9-9060-0f3562f1dbf7",
   "metadata": {},
   "outputs": [
    {
     "name": "stdout",
     "output_type": "stream",
     "text": [
      "Array1 = [1 3 5]\n",
      "Array2 = [2 4 6]\n",
      "------------------\n",
      "Outer multiplication is =\n",
      "[[ 2  4  6]\n",
      " [ 6 12 18]\n",
      " [10 20 30]]\n"
     ]
    }
   ],
   "source": [
    "arr1 = np.array([1,3,5])\n",
    "arr2 = np.array([2,4,6])\n",
    "print(\"Array1 =\", arr1)\n",
    "print(\"Array2 =\", arr2)\n",
    "print('------------------')\n",
    "# Outer() for 2D arrays\n",
    "ar = np.outer(arr1,arr2)\n",
    "print(\"Outer multiplication is =\")\n",
    "print(ar)"
   ]
  },
  {
   "cell_type": "code",
   "execution_count": 20,
   "id": "b605dbcf-171e-4775-b8b4-bfa609da0fcb",
   "metadata": {},
   "outputs": [
    {
     "name": "stdout",
     "output_type": "stream",
     "text": [
      "Array1 = [2 4 8]\n",
      "Array2 = [6 7 9]\n",
      "------------------\n",
      "Outer multiplication is =\n",
      "[[12 14 18]\n",
      " [24 28 36]\n",
      " [48 56 72]]\n"
     ]
    }
   ],
   "source": [
    "arr1 = np.array([2,4,8])\n",
    "arr2 = np.array([6,7,9])\n",
    "print(\"Array1 =\", arr1)\n",
    "print(\"Array2 =\", arr2)\n",
    "print('------------------')\n",
    "# Outer() for 2D arrays\n",
    "ar = np.outer(arr1,arr2)\n",
    "print(\"Outer multiplication is =\")\n",
    "print(ar)"
   ]
  },
  {
   "cell_type": "code",
   "execution_count": 21,
   "id": "f6df560a-854c-47b8-9c82-53f729b7f6b5",
   "metadata": {},
   "outputs": [
    {
     "name": "stdout",
     "output_type": "stream",
     "text": [
      "Array1 = \n",
      " [[1 3]\n",
      " [5 7]]\n",
      "Array2 = \n",
      " [[2 4]\n",
      " [6 8]]\n",
      "------------------\n",
      "Inner Multiplication is =\n",
      "[[ 2  4  6  8]\n",
      " [ 6 12 18 24]\n",
      " [10 20 30 40]\n",
      " [14 28 42 56]]\n"
     ]
    }
   ],
   "source": [
    "import numpy as np\n",
    "arr1 = np.array([[1, 3],[5, 7]])\n",
    "arr2 = np.array([[2, 4],[6, 8]])\n",
    "print(\"Array1 = \\n\", arr1)\n",
    "print(\"Array2 = \\n\", arr2)\n",
    "print('------------------')\n",
    "# outer() for 2D arrays\n",
    "ar = np.outer(arr1,arr2)\n",
    "print(\"Inner Multiplication is =\")\n",
    "print(ar)"
   ]
  },
  {
   "cell_type": "code",
   "execution_count": 23,
   "id": "ed272d29-3e3c-4211-a2f6-089ff0989f2a",
   "metadata": {},
   "outputs": [
    {
     "name": "stdout",
     "output_type": "stream",
     "text": [
      "Array1 = [10 20 30 40 50 60]\n",
      "Array2 = [ 3  7  9  8  2 33]\n",
      "(array([ 3,  2,  3,  5, 25,  1]), array([ 1,  6,  3,  0,  0, 27]))\n",
      "---------------------\n",
      "Quotient array is = [ 3  2  3  5 25  1]\n",
      "Remainder array is = [ 1  6  3  0  0 27]\n"
     ]
    }
   ],
   "source": [
    "# divmod() function example\n",
    "arr1 = np.array([10, 20, 30, 40, 50, 60])\n",
    "arr2 = np.array([3, 7, 9, 8, 2, 33])\n",
    "print(\"Array1 =\", arr1)\n",
    "print(\"Array2 =\", arr2)\n",
    "dm = np.divmod(arr1,arr2)\n",
    "print(dm)\n",
    "print('---------------------')\n",
    "print(\"Quotient array is =\", dm[0])\n",
    "print(\"Remainder array is =\", dm[1])"
   ]
  },
  {
   "cell_type": "code",
   "execution_count": 24,
   "id": "08ba18f7-0816-48f8-9d3e-2a8ca87170a0",
   "metadata": {},
   "outputs": [
    {
     "name": "stdout",
     "output_type": "stream",
     "text": [
      "original array is = [-1 -2  1  2  3 -4]\n",
      "-------------------\n",
      "Absoulte values array is = [1 2 1 2 3 4]\n"
     ]
    }
   ],
   "source": [
    "# Absolute Values of array\n",
    "arr1 = np.array([-1, -2, 1, 2, 3, -4])\n",
    "print(\"original array is =\", arr1)\n",
    "print('-------------------')\n",
    "print(\"Absoulte values array is =\", np.absolute(arr1))"
   ]
  },
  {
   "cell_type": "code",
   "execution_count": 28,
   "id": "213ce1e1-8688-4500-9296-4c68da9e7ce4",
   "metadata": {},
   "outputs": [
    {
     "name": "stdout",
     "output_type": "stream",
     "text": [
      "Array1 is = [1 2 3 4 5]\n",
      "Array2 is = [2 2 2 2 2]\n",
      "[ 1  4  9 16 25]\n"
     ]
    }
   ],
   "source": [
    "# power() function example\n",
    "import numpy as np\n",
    "arr1 = np.array([1,2,3,4,5])\n",
    "arr2 = np.array([2,2,2,2,2])\n",
    "print(\"Array1 is =\", arr1)\n",
    "print(\"Array2 is =\", arr2)\n",
    "pw = np.power(arr1,arr2)\n",
    "print(pw)"
   ]
  },
  {
   "cell_type": "code",
   "execution_count": 33,
   "id": "79d32743-c18a-49c0-8cf1-8f7275cedfbf",
   "metadata": {},
   "outputs": [
    {
     "name": "stdout",
     "output_type": "stream",
     "text": [
      "Array is =\n",
      " [[4 2]\n",
      " [1 2]]\n",
      "--------------------\n",
      "Determinant of matrix is = 6.0\n"
     ]
    }
   ],
   "source": [
    "# determinant --> det() example\n",
    "# => ad - bc of matrix\n",
    "import numpy as np\n",
    "arr = np.array([[4,2],[1,2]])\n",
    "print(\"Array is =\\n\", arr)\n",
    "print('--------------------')\n",
    "d = np.linalg.det(arr)\n",
    "print(\"Determinant of matrix is =\", d)"
   ]
  },
  {
   "cell_type": "code",
   "execution_count": 36,
   "id": "66593cad-22b4-48e4-887c-2e113efb4584",
   "metadata": {},
   "outputs": [
    {
     "name": "stdout",
     "output_type": "stream",
     "text": [
      "Array is =\n",
      " [[2 4]\n",
      " [6 8]]\n",
      "Inverse of matrix is =\n",
      " [[-1.    0.5 ]\n",
      " [ 0.75 -0.25]]\n"
     ]
    }
   ],
   "source": [
    "# ineverse of matrix\n",
    "import numpy as np\n",
    "arr = np.array([[2,4],[6,8]])\n",
    "print(\"Array is =\\n\", arr)\n",
    "inv = np.linalg.inv(arr)\n",
    "print(\"Inverse of matrix is =\\n\", inv)"
   ]
  },
  {
   "cell_type": "code",
   "execution_count": 37,
   "id": "585be8dc-4556-4d2a-9864-eeaaea77843c",
   "metadata": {},
   "outputs": [
    {
     "name": "stdout",
     "output_type": "stream",
     "text": [
      "Array1 is =\n",
      " [[1 2 3]\n",
      " [4 5 6]\n",
      " [7 8 9]]\n",
      "Multiply of diagonal elements = 15\n"
     ]
    }
   ],
   "source": [
    "# trace() do the Addition of diagonal elements of matrix\n",
    "import numpy as np\n",
    "arr = np.array([[1,2,3],[4,5,6],[7,8,9]])\n",
    "print(\"Array1 is =\\n\", arr)\n",
    "trc = np.trace(arr)\n",
    "print(\"Addition of diagonal elements =\", trc)"
   ]
  },
  {
   "cell_type": "code",
   "execution_count": 39,
   "id": "3d362778-acdb-4ddf-8973-9d360fb170ad",
   "metadata": {},
   "outputs": [
    {
     "name": "stdout",
     "output_type": "stream",
     "text": [
      "Array is =\n",
      " [[8 2 2 1]\n",
      " [5 6 2 9]\n",
      " [6 4 1 6]\n",
      " [1 7 7 6]]\n",
      "Multiplication of diagonal elements is = 21\n"
     ]
    }
   ],
   "source": [
    "import numpy as np\n",
    "arr = np.random.randint(1,10,size=(4,4))\n",
    "print(\"Array is =\\n\", arr)\n",
    "trc = np.trace(arr)\n",
    "print(\"Addition of diagonal elements is =\", trc)"
   ]
  },
  {
   "cell_type": "code",
   "execution_count": null,
   "id": "2420c033-ec9e-4bc4-8f61-c4b80f8f9ce6",
   "metadata": {},
   "outputs": [],
   "source": []
  }
 ],
 "metadata": {
  "kernelspec": {
   "display_name": "Python 3 (ipykernel)",
   "language": "python",
   "name": "python3"
  },
  "language_info": {
   "codemirror_mode": {
    "name": "ipython",
    "version": 3
   },
   "file_extension": ".py",
   "mimetype": "text/x-python",
   "name": "python",
   "nbconvert_exporter": "python",
   "pygments_lexer": "ipython3",
   "version": "3.12.6"
  }
 },
 "nbformat": 4,
 "nbformat_minor": 5
}
