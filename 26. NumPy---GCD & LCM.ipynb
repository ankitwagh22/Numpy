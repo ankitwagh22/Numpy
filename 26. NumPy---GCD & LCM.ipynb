{
 "cells": [
  {
   "cell_type": "markdown",
   "id": "db91b742-dc3f-4c81-aa3e-b528d9f22036",
   "metadata": {},
   "source": [
    "# NumPy---GCD Greatest Common Denominator"
   ]
  },
  {
   "cell_type": "code",
   "execution_count": 1,
   "id": "ebcad1ae-16d7-429e-8776-fed03de8d3b6",
   "metadata": {},
   "outputs": [
    {
     "name": "stdout",
     "output_type": "stream",
     "text": [
      "GCD is = 4\n"
     ]
    }
   ],
   "source": [
    "import numpy as np\n",
    "n1 = 28\n",
    "n2 = 32\n",
    "gcd = np.gcd(n1,n2)\n",
    "print(\"GCD is =\", gcd)"
   ]
  },
  {
   "cell_type": "code",
   "execution_count": 2,
   "id": "fe453e0c-1efe-49ee-9f0b-4ba82a7be775",
   "metadata": {},
   "outputs": [
    {
     "name": "stdout",
     "output_type": "stream",
     "text": [
      "GCD is = 3\n"
     ]
    }
   ],
   "source": [
    "n1 = 9\n",
    "n2 = 6\n",
    "gcd = np.gcd(n1,n2)\n",
    "print(\"GCD is =\", gcd)"
   ]
  },
  {
   "cell_type": "code",
   "execution_count": 3,
   "id": "bed67148-5342-41b6-9f3e-6e9880776059",
   "metadata": {},
   "outputs": [
    {
     "name": "stdout",
     "output_type": "stream",
     "text": [
      "GCD is = 6\n"
     ]
    }
   ],
   "source": [
    "n1 = 96\n",
    "n2 = 66\n",
    "gcd = np.gcd(n1,n2)\n",
    "print(\"GCD is =\", gcd)"
   ]
  },
  {
   "cell_type": "code",
   "execution_count": 10,
   "id": "2d52a854-60e7-4cdd-a44e-90e9fef2d0c9",
   "metadata": {},
   "outputs": [
    {
     "name": "stdout",
     "output_type": "stream",
     "text": [
      "Array is = [20  8 32 16]\n",
      "GCD is = 4\n",
      "----------------\n",
      "GCD([20  8 32 16]) = 4\n"
     ]
    }
   ],
   "source": [
    "# finding the GCD of all numbers in array\n",
    "import numpy as np\n",
    "arr = np.array([20,8,32,16])\n",
    "print(\"Array is =\", arr)\n",
    "gcd = np.gcd.reduce(arr)\n",
    "print(\"GCD is =\", gcd)\n",
    "print('----------------')\n",
    "print(\"GCD({}) = {}\".format(arr,gcd))"
   ]
  },
  {
   "cell_type": "code",
   "execution_count": 11,
   "id": "6eb13192-1045-4c88-ac8e-46dab1d46184",
   "metadata": {},
   "outputs": [
    {
     "name": "stdout",
     "output_type": "stream",
     "text": [
      "GCD is = 9\n"
     ]
    }
   ],
   "source": [
    "n1 = 27\n",
    "n2 = 72\n",
    "gcd = np.gcd(n1,n2)\n",
    "print(\"GCD is =\", gcd)"
   ]
  },
  {
   "cell_type": "code",
   "execution_count": 12,
   "id": "ac5bdb4e-cba6-47be-b2fc-2ab78d5c5a20",
   "metadata": {},
   "outputs": [
    {
     "name": "stdout",
     "output_type": "stream",
     "text": [
      "LCM is = 12\n"
     ]
    }
   ],
   "source": [
    "# NumPy LCM Lowest Common Multiple\n",
    "import numpy as np\n",
    "n1 = 4\n",
    "n2 = 6\n",
    "lcm = np.lcm(n1,n2)\n",
    "print(\"LCM is =\", lcm)"
   ]
  },
  {
   "cell_type": "code",
   "execution_count": 13,
   "id": "8c22535f-1853-4eb7-bf3b-bbdc0a885f22",
   "metadata": {},
   "outputs": [
    {
     "name": "stdout",
     "output_type": "stream",
     "text": [
      "LCM is = 20\n"
     ]
    }
   ],
   "source": [
    "n1 = 10\n",
    "n2 = 20\n",
    "lcm = np.lcm(n1,n2)\n",
    "print(\"LCM is =\", lcm)"
   ]
  },
  {
   "cell_type": "code",
   "execution_count": 15,
   "id": "a366d01e-19d7-416c-9bca-e44ca7e97b8c",
   "metadata": {},
   "outputs": [
    {
     "name": "stdout",
     "output_type": "stream",
     "text": [
      "Array is = [3 6 9]\n",
      "LCM is = 18\n"
     ]
    }
   ],
   "source": [
    "# finding the LCM of all numbers in array\n",
    "import numpy as np\n",
    "arr = np.array([3,6,9])\n",
    "print(\"Array is =\", arr)\n",
    "lcm = np.lcm.reduce(arr)\n",
    "print(\"LCM is =\", lcm)"
   ]
  },
  {
   "cell_type": "code",
   "execution_count": 16,
   "id": "a8c051c3-13bc-4e2c-a8e0-071b0250e624",
   "metadata": {},
   "outputs": [
    {
     "name": "stdout",
     "output_type": "stream",
     "text": [
      "Array is = [1 2 3 4]\n",
      "LCM is = 12\n"
     ]
    }
   ],
   "source": [
    "arr = np.array([1,2,3,4])\n",
    "print(\"Array is =\", arr)\n",
    "lcm = np.lcm.reduce(arr)\n",
    "print(\"LCM is =\", lcm)"
   ]
  },
  {
   "cell_type": "code",
   "execution_count": null,
   "id": "86ba3c53-0f9c-4920-971a-0fb1ffb0fb3e",
   "metadata": {},
   "outputs": [],
   "source": []
  }
 ],
 "metadata": {
  "kernelspec": {
   "display_name": "Python 3 (ipykernel)",
   "language": "python",
   "name": "python3"
  },
  "language_info": {
   "codemirror_mode": {
    "name": "ipython",
    "version": 3
   },
   "file_extension": ".py",
   "mimetype": "text/x-python",
   "name": "python",
   "nbconvert_exporter": "python",
   "pygments_lexer": "ipython3",
   "version": "3.12.6"
  }
 },
 "nbformat": 4,
 "nbformat_minor": 5
}
