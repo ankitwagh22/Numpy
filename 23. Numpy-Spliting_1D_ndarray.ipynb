{
 "cells": [
  {
   "cell_type": "code",
   "execution_count": 13,
   "id": "31830e6a-9f15-4746-9a27-54fb0377903f",
   "metadata": {},
   "outputs": [
    {
     "name": "stdout",
     "output_type": "stream",
     "text": [
      "Content of array = [1 2 3 4 5 6]\n",
      "\n",
      "ndArray after spliting =\n",
      "[array([1, 2]), array([3, 4]), array([5, 6])]\n"
     ]
    }
   ],
   "source": [
    "# spliting ndarray using numpy.split() method\n",
    "import numpy as np\n",
    "a=np.arange(1,7)\n",
    "print(\"Content of array =\", a)\n",
    "\n",
    "# Splitting the array into 3 equal parts along the first axis (axis=0)\n",
    "result=np.split(a,3)\n",
    "print()\n",
    "print(\"ndArray after spliting =\")\n",
    "print(result)"
   ]
  },
  {
   "cell_type": "code",
   "execution_count": 12,
   "id": "3ae58202-1d32-452c-bd3f-4c5b4f7dd623",
   "metadata": {},
   "outputs": [
    {
     "name": "stdout",
     "output_type": "stream",
     "text": [
      "Content of array is = [ 10  20  30  40  50  60  70  80  90 100]\n",
      "\n",
      "After spliting array\n",
      "[array([10, 20, 30, 40, 50]), array([ 60,  70,  80,  90, 100])]\n"
     ]
    }
   ],
   "source": [
    "arr = np.arange(10,110,10)\n",
    "print(\"Content of array is =\", arr)\n",
    "result = np.split(arr,2)\n",
    "print()\n",
    "print(\"After spliting array\")\n",
    "print(result)"
   ]
  },
  {
   "cell_type": "code",
   "execution_count": 14,
   "id": "58f2b1d0-9b9f-4f46-8918-a7ecfd9849e9",
   "metadata": {},
   "outputs": [
    {
     "name": "stdout",
     "output_type": "stream",
     "text": [
      "Content of array = [ 0  1  2  3  4  5  6  7  8  9 10 11 12]\n",
      "\n",
      "After Spliting Array is =\n",
      "[array([0, 1, 2, 3]), array([4, 5, 6]), array([7, 8, 9]), array([10, 11, 12])]\n"
     ]
    }
   ],
   "source": [
    "# spliting the array using numpy.array_split()\n",
    "arr = np.arange(13)\n",
    "print(\"Content of array =\", arr)\n",
    "\n",
    "# Splitting the array into 4 unequal parts along the first axis (axis=0)\n",
    "result = np.array_split(arr,4)\n",
    "print()\n",
    "print(\"After Spliting Array is =\")\n",
    "print(result)"
   ]
  },
  {
   "cell_type": "code",
   "execution_count": 15,
   "id": "67be8593-d358-44a0-8300-0b5b57693beb",
   "metadata": {},
   "outputs": [
    {
     "name": "stdout",
     "output_type": "stream",
     "text": [
      "Content of array = [ 0  1  2  3  4  5  6  7  8  9 10 11 12]\n",
      "\n",
      "After Spliting Array is =\n",
      "[array([0, 1, 2]), array([3, 4, 5]), array([6, 7, 8]), array([ 9, 10]), array([11, 12])]\n"
     ]
    }
   ],
   "source": [
    "arr = np.arange(13)\n",
    "print(\"Content of array =\", arr)\n",
    "\n",
    "# Splitting the array into 5 unequal parts along the first axis (axis=0)\n",
    "result = np.array_split(arr,5)\n",
    "print()\n",
    "print(\"After Spliting Array is =\")\n",
    "print(result)"
   ]
  },
  {
   "cell_type": "code",
   "execution_count": 21,
   "id": "030b592e-d64b-4b4d-af3b-8f54a9b7cc96",
   "metadata": {},
   "outputs": [
    {
     "name": "stdout",
     "output_type": "stream",
     "text": [
      "Content of arr = [0 1 2 3 4 5 6 7 8 9]\n",
      "\n",
      "After Spliting array will be =\n",
      "[array([0, 1]), array([2, 3]), array([4, 5]), array([6]), array([7]), array([8]), array([9])]\n"
     ]
    }
   ],
   "source": [
    "arr = np.array(range(10))\n",
    "print(\"Content of arr =\", arr)\n",
    "print()\n",
    "\n",
    "# Splitting the array into 7 unequal parts along the first axis (axis=0)\n",
    "result = np.array_split(arr,7)\n",
    "print(\"After Spliting array will be =\")\n",
    "print(result)"
   ]
  }
 ],
 "metadata": {
  "kernelspec": {
   "display_name": "Python 3 (ipykernel)",
   "language": "python",
   "name": "python3"
  },
  "language_info": {
   "codemirror_mode": {
    "name": "ipython",
    "version": 3
   },
   "file_extension": ".py",
   "mimetype": "text/x-python",
   "name": "python",
   "nbconvert_exporter": "python",
   "pygments_lexer": "ipython3",
   "version": "3.12.6"
  }
 },
 "nbformat": 4,
 "nbformat_minor": 5
}
