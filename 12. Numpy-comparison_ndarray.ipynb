{
 "cells": [
  {
   "cell_type": "code",
   "execution_count": 4,
   "id": "18fa677c-8f5d-4bfa-a95e-c5d333442935",
   "metadata": {},
   "outputs": [
    {
     "name": "stdout",
     "output_type": "stream",
     "text": [
      "Array A is = [10 15 35 40 75]\n",
      "Array B is = [10 12 98 37 65]\n",
      "--------------------------------------------------\n",
      "Comparison of values = [False  True False  True  True]\n",
      "Comparison of values = [False False  True False False]\n"
     ]
    }
   ],
   "source": [
    "# Numpy---Comparison of ndarray values with numpy Functions\n",
    "import numpy as np\n",
    "a=np.array([10,15,35,40,75])\n",
    "b=np.array([10,12,98,37,65])\n",
    "print(\"Array A is =\", a)\n",
    "print(\"Array B is =\", b)\n",
    "print('-'*50)\n",
    "# numpy.greater(ndarrayobj1,ndarrayobj2)\n",
    "c=np.greater(a,b)\n",
    "d=np.greater(b,a)\n",
    "print(\"Comparison of values =\", c)\n",
    "print(\"Comparison of values =\", d)"
   ]
  },
  {
   "cell_type": "code",
   "execution_count": 5,
   "id": "6cb6fa46-4dfc-4d7a-ab51-b11f2beab317",
   "metadata": {},
   "outputs": [
    {
     "name": "stdout",
     "output_type": "stream",
     "text": [
      "Array A is = [10 15 35 40 75]\n",
      "Array B is = [10 12 98 37 65]\n",
      "--------------------------------------------------\n",
      "Comparison of values = [False False  True False False]\n",
      "Comparison of values = [False  True False  True  True]\n"
     ]
    }
   ],
   "source": [
    "a=np.array([10,15,35,40,75])\n",
    "b=np.array([10,12,98,37,65])\n",
    "print(\"Array A is =\", a)\n",
    "print(\"Array B is =\", b)\n",
    "print('-'*50)\n",
    "# numpy.less(ndarrayobj1,ndarrayobj2)\n",
    "c=np.less(a,b)\n",
    "d=np.less(b,a)\n",
    "print(\"Comparison of values =\", c)\n",
    "print(\"Comparison of values =\", d)"
   ]
  },
  {
   "cell_type": "code",
   "execution_count": 7,
   "id": "ac454b7d-5f40-459a-a23f-63b2611be17e",
   "metadata": {},
   "outputs": [
    {
     "name": "stdout",
     "output_type": "stream",
     "text": [
      "Array A is = [10 15 35 40 75]\n",
      "Array B is = [10 12 35 37 65]\n",
      "--------------------------------------------------\n",
      "Checking equality of values = [ True False  True False False]\n"
     ]
    }
   ],
   "source": [
    "a=np.array([10,15,35,40,75])\n",
    "b=np.array([10,12,35,37,65])\n",
    "print(\"Array A is =\", a)\n",
    "print(\"Array B is =\", b)\n",
    "print('-'*50)\n",
    "# numpy.equal(ndarrayobj1,ndarrayobj2)\n",
    "c=np.equal(a,b)\n",
    "print(\"Checking equality of values =\", c)"
   ]
  },
  {
   "cell_type": "code",
   "execution_count": 8,
   "id": "b4b50325-008b-480f-a8d4-9eb238a771e0",
   "metadata": {},
   "outputs": [
    {
     "name": "stdout",
     "output_type": "stream",
     "text": [
      "Array A is = [10 15 35 40 75]\n",
      "Array B is = [10 12 35 37 65]\n",
      "--------------------------------------------------\n",
      "checking not equal values = [False  True False  True  True]\n"
     ]
    }
   ],
   "source": [
    "a=np.array([10,15,35,40,75])\n",
    "b=np.array([10,12,35,37,65])\n",
    "print(\"Array A is =\", a)\n",
    "print(\"Array B is =\", b)\n",
    "print('-'*50)\n",
    "# numpy.not_equal(ndarrayobj1,ndarrayobj2)\n",
    "c=np.not_equal(a,b)\n",
    "print(\"checking not equal values =\", c)"
   ]
  },
  {
   "cell_type": "code",
   "execution_count": 10,
   "id": "a70770e8-510c-43ce-899c-d36b1c717ad5",
   "metadata": {},
   "outputs": [
    {
     "name": "stdout",
     "output_type": "stream",
     "text": [
      "Array A is = [10 15 35 40 75]\n",
      "Array B is = [10 12 39 37 65]\n",
      "--------------------------------------------------\n",
      "Comparison of values is = [False  True False  True  True]\n"
     ]
    }
   ],
   "source": [
    "# Numpy---Comparison of ndarray values with Relational Operators\n",
    "import numpy as np\n",
    "a=np.array([10,15,35,40,75])\n",
    "b=np.array([10,12,39,37,65])\n",
    "print(\"Array A is =\", a)\n",
    "print(\"Array B is =\", b)\n",
    "print('-'*50)\n",
    "c=(a>b)   # using relational operator\n",
    "print(\"Comparison of values is =\", c)"
   ]
  },
  {
   "cell_type": "code",
   "execution_count": 12,
   "id": "00046540-49e2-4441-a9f1-a52463f9563a",
   "metadata": {},
   "outputs": [
    {
     "name": "stdout",
     "output_type": "stream",
     "text": [
      "Array A is = [10 15 35 40 75]\n",
      "Array B is = [10 12 39 37 65]\n",
      "--------------------------------------------------\n",
      "Comparison of values is = [ True False  True False False]\n"
     ]
    }
   ],
   "source": [
    "a=np.array([10,15,35,40,75])\n",
    "b=np.array([10,12,39,37,65])\n",
    "print(\"Array A is =\", a)\n",
    "print(\"Array B is =\", b)\n",
    "print('-'*50)\n",
    "c=(a<=b)   # using relational operator\n",
    "print(\"Comparison of values is =\", c)"
   ]
  },
  {
   "cell_type": "code",
   "execution_count": 13,
   "id": "34192e23-5ae2-4ada-b0fe-3945ff9fea73",
   "metadata": {},
   "outputs": [
    {
     "name": "stdout",
     "output_type": "stream",
     "text": [
      "Array A is = [10 15 35 40 75]\n",
      "Array B is = [10 12 39 37 65]\n",
      "--------------------------------------------------\n",
      "Comparison of values is = [ True False False False False]\n"
     ]
    }
   ],
   "source": [
    "a=np.array([10,15,35,40,75])\n",
    "b=np.array([10,12,39,37,65])\n",
    "print(\"Array A is =\", a)\n",
    "print(\"Array B is =\", b)\n",
    "print('-'*50)\n",
    "c=(a==b)   # using relational operator\n",
    "print(\"Comparison of values is =\", c)"
   ]
  },
  {
   "cell_type": "code",
   "execution_count": 14,
   "id": "530bcdc8-00d1-422f-a572-661fa2c5dce4",
   "metadata": {},
   "outputs": [
    {
     "name": "stdout",
     "output_type": "stream",
     "text": [
      "Array A is = [10 15 35 40 75]\n",
      "Array B is = [10 12 39 37 65]\n",
      "--------------------------------------------------\n",
      "Comparison of values is = [False  True  True  True  True]\n"
     ]
    }
   ],
   "source": [
    "a=np.array([10,15,35,40,75])\n",
    "b=np.array([10,12,39,37,65])\n",
    "print(\"Array A is =\", a)\n",
    "print(\"Array B is =\", b)\n",
    "print('-'*50)\n",
    "c=(a!=b)\n",
    "print(\"Comparison of values is =\", c)"
   ]
  },
  {
   "cell_type": "code",
   "execution_count": null,
   "id": "4324cfd4-ffbb-4c82-b187-36aaf07a0fdc",
   "metadata": {},
   "outputs": [],
   "source": []
  }
 ],
 "metadata": {
  "kernelspec": {
   "display_name": "Python 3 (ipykernel)",
   "language": "python",
   "name": "python3"
  },
  "language_info": {
   "codemirror_mode": {
    "name": "ipython",
    "version": 3
   },
   "file_extension": ".py",
   "mimetype": "text/x-python",
   "name": "python",
   "nbconvert_exporter": "python",
   "pygments_lexer": "ipython3",
   "version": "3.12.6"
  }
 },
 "nbformat": 4,
 "nbformat_minor": 5
}
