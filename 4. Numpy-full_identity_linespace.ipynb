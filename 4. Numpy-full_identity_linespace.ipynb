{
 "cells": [
  {
   "cell_type": "code",
   "execution_count": null,
   "id": "5637592a-8b4e-4d66-831a-4cf4fea9cc81",
   "metadata": {},
   "outputs": [],
   "source": [
    "# In this notebook examples are based on full() and identity() methods\n",
    "# varname=numpy.full(shape,fill_value,dtype)"
   ]
  },
  {
   "cell_type": "code",
   "execution_count": 5,
   "id": "eb228455-ab60-4975-8460-f10dd3d06ad0",
   "metadata": {},
   "outputs": [
    {
     "name": "stdout",
     "output_type": "stream",
     "text": [
      "[3 3 3 3 3 3]\n",
      "<class 'numpy.ndarray'>\n",
      "Shape = (6,)\n",
      "Size = 6\n",
      "Dimension = 1\n",
      "Element data type = int64\n"
     ]
    }
   ],
   "source": [
    "import numpy as np\n",
    "a=np.full(6,3)\n",
    "print(a)\n",
    "print(type(a))\n",
    "print(\"Shape =\", a.shape)\n",
    "print(\"Size =\", a.size)\n",
    "print(\"Dimension =\", a.ndim)\n",
    "print(\"Element data type =\", a.dtype)"
   ]
  },
  {
   "cell_type": "code",
   "execution_count": 6,
   "id": "0c2ec049-c4fc-49d2-ae71-2d11d321f31e",
   "metadata": {},
   "outputs": [
    {
     "name": "stdout",
     "output_type": "stream",
     "text": [
      "[3. 3. 3. 3. 3. 3.]\n",
      "<class 'numpy.ndarray'>\n",
      "Shape = (6,)\n",
      "Size = 6\n",
      "Dimension = 1\n",
      "Element data type = float64\n"
     ]
    }
   ],
   "source": [
    "a=np.full(6,3,dtype=float)\n",
    "print(a)\n",
    "print(type(a))\n",
    "print(\"Shape =\", a.shape)\n",
    "print(\"Size =\", a.size)\n",
    "print(\"Dimension =\", a.ndim)\n",
    "print(\"Element data type =\", a.dtype)"
   ]
  },
  {
   "cell_type": "code",
   "execution_count": 13,
   "id": "c0426530-9302-4963-a360-29f7d045b5ea",
   "metadata": {},
   "outputs": [
    {
     "name": "stdout",
     "output_type": "stream",
     "text": [
      "[[22 22 22 22 22 22 22 22]\n",
      " [22 22 22 22 22 22 22 22]]\n",
      "<class 'numpy.ndarray'>\n",
      "Shape = (2, 8)\n",
      "Size = 16\n",
      "Dimension = 2\n",
      "Element data type = int64\n"
     ]
    }
   ],
   "source": [
    "a=np.full((2,8),22,dtype=int)\n",
    "print(a)\n",
    "print(type(a))\n",
    "print(\"Shape =\", a.shape)\n",
    "print(\"Size =\", a.size)\n",
    "print(\"Dimension =\", a.ndim)\n",
    "print(\"Element data type =\", a.dtype)"
   ]
  },
  {
   "cell_type": "code",
   "execution_count": 22,
   "id": "7ccb17ba-e1a7-4e14-aec6-d905dda19d8e",
   "metadata": {},
   "outputs": [
    {
     "name": "stdout",
     "output_type": "stream",
     "text": [
      "[['A' 'A' 'A']\n",
      " ['A' 'A' 'A']\n",
      " ['A' 'A' 'A']]\n",
      "<class 'numpy.ndarray'>\n",
      "Shape = (3, 3)\n",
      "Size = 9\n",
      "Dimension = 2\n",
      "Element data type = <U1\n"
     ]
    }
   ],
   "source": [
    "a=np.full((3,3),fill_value='A',dtype=str)\n",
    "print(a)\n",
    "print(type(a))\n",
    "print(\"Shape =\", a.shape)\n",
    "print(\"Size =\", a.size)\n",
    "print(\"Dimension =\", a.ndim)\n",
    "print(\"Element data type =\", a.dtype)"
   ]
  },
  {
   "cell_type": "code",
   "execution_count": 24,
   "id": "0e3e598e-4a4a-4efc-925e-3ab3bbf3a7b2",
   "metadata": {},
   "outputs": [
    {
     "name": "stdout",
     "output_type": "stream",
     "text": [
      "--------------------------------------------------\n",
      "[[['A' 'A' 'A']\n",
      "  ['A' 'A' 'A']\n",
      "  ['A' 'A' 'A']]\n",
      "\n",
      " [['A' 'A' 'A']\n",
      "  ['A' 'A' 'A']\n",
      "  ['A' 'A' 'A']]\n",
      "\n",
      " [['A' 'A' 'A']\n",
      "  ['A' 'A' 'A']\n",
      "  ['A' 'A' 'A']]\n",
      "\n",
      " [['A' 'A' 'A']\n",
      "  ['A' 'A' 'A']\n",
      "  ['A' 'A' 'A']]]\n",
      "<class 'numpy.ndarray'>\n",
      "Shape = (4, 3, 3)\n",
      "Size = 36\n",
      "Dimension = 3\n",
      "Element data type = <U1\n",
      "--------------------------------------------------\n"
     ]
    }
   ],
   "source": [
    "print('-'*50)\n",
    "a=np.full((4,3,3),fill_value='A',dtype=str)\n",
    "print(a)\n",
    "print(type(a))\n",
    "print(\"Shape =\", a.shape)\n",
    "print(\"Size =\", a.size)\n",
    "print(\"Dimension =\", a.ndim)\n",
    "print(\"Element data type =\", a.dtype)\n",
    "print('-'*50)"
   ]
  },
  {
   "cell_type": "code",
   "execution_count": 30,
   "id": "696c3386-9d1c-4676-955c-2317a60c48ec",
   "metadata": {},
   "outputs": [
    {
     "name": "stdout",
     "output_type": "stream",
     "text": [
      "[2. 2. 2. 2. 2. 2.]\n",
      "<class 'numpy.ndarray'>\n",
      "shape = (6,)\n",
      "element data type= float64\n",
      "[[2. 2. 2.]\n",
      " [2. 2. 2.]]\n",
      "Shape = (2, 3)\n"
     ]
    }
   ],
   "source": [
    "a=np.full(6,fill_value=2,dtype=float)\n",
    "print(a)\n",
    "print(type(a))\n",
    "print(\"shape =\", a.shape)\n",
    "print(\"element data type=\", a.dtype)\n",
    "a.shape=(2,3)\n",
    "print(a)\n",
    "print(\"Shape =\", a.shape)"
   ]
  },
  {
   "cell_type": "code",
   "execution_count": 34,
   "id": "5f37d092-77fa-423f-aa8d-1b80036d585b",
   "metadata": {},
   "outputs": [
    {
     "name": "stdout",
     "output_type": "stream",
     "text": [
      "--------------------------------------------------\n",
      "[[5 5 5 5]\n",
      " [5 5 5 5]\n",
      " [5 5 5 5]\n",
      " [5 5 5 5]]\n",
      "Shape = (4, 4)\n",
      "[[[5 5]\n",
      "  [5 5]]\n",
      "\n",
      " [[5 5]\n",
      "  [5 5]]\n",
      "\n",
      " [[5 5]\n",
      "  [5 5]]\n",
      "\n",
      " [[5 5]\n",
      "  [5 5]]]\n",
      "Shape = (4, 2, 2)\n",
      "--------------------------------------------------\n"
     ]
    }
   ],
   "source": [
    "print(\"-\"*50)\n",
    "a=np.full((4,4),fill_value=5)\n",
    "print(a)\n",
    "print(\"Shape =\", a.shape)\n",
    "a.shape=(4,2,2)\n",
    "print(a)\n",
    "print(\"Shape =\", a.shape)\n",
    "print(\"-\"*50)"
   ]
  },
  {
   "cell_type": "code",
   "execution_count": null,
   "id": "617cf059-b63a-475a-9902-639e00bf174a",
   "metadata": {},
   "outputs": [],
   "source": [
    "# We can see now the identity matrix by by using numpy.identity()\n",
    "# varname=numpy.identity(N,dtype)"
   ]
  },
  {
   "cell_type": "code",
   "execution_count": 42,
   "id": "68a11e11-e6b6-47c0-b8df-380f6e8a11c1",
   "metadata": {},
   "outputs": [
    {
     "name": "stdout",
     "output_type": "stream",
     "text": [
      "[[1 0 0]\n",
      " [0 1 0]\n",
      " [0 0 1]]\n",
      "<class 'numpy.ndarray'>\n",
      "Element data type : int64\n",
      "shape = (3, 3)\n",
      "Dimension = 2\n",
      "Size = 9\n"
     ]
    }
   ],
   "source": [
    "a=np.identity(3,dtype=int)\n",
    "print(a)\n",
    "print(type(a))\n",
    "print(\"Element data type :\", a.dtype)\n",
    "print(\"shape =\", a.shape)\n",
    "print(\"Dimension =\", a.ndim)\n",
    "print(\"Size =\", a.size)"
   ]
  },
  {
   "cell_type": "code",
   "execution_count": 45,
   "id": "8caf3268-a0b3-4e64-8b24-ca40a23e2788",
   "metadata": {},
   "outputs": [
    {
     "name": "stdout",
     "output_type": "stream",
     "text": [
      "--------------------------------------------------\n",
      "[[1 0 0 0 0 0 0 0 0]\n",
      " [0 1 0 0 0 0 0 0 0]\n",
      " [0 0 1 0 0 0 0 0 0]\n",
      " [0 0 0 1 0 0 0 0 0]\n",
      " [0 0 0 0 1 0 0 0 0]\n",
      " [0 0 0 0 0 1 0 0 0]\n",
      " [0 0 0 0 0 0 1 0 0]\n",
      " [0 0 0 0 0 0 0 1 0]\n",
      " [0 0 0 0 0 0 0 0 1]]\n",
      "<class 'numpy.ndarray'>\n",
      "Element data type : int64\n",
      "shape = (9, 9)\n",
      "Dimension = 2\n",
      "Size = 81\n",
      "--------------------------------------------------\n"
     ]
    }
   ],
   "source": [
    "print(\"-\"*50)\n",
    "a=np.identity(9,dtype=int)\n",
    "print(a)\n",
    "print(type(a))\n",
    "print(\"Element data type :\", a.dtype)\n",
    "print(\"shape =\", a.shape)\n",
    "print(\"Dimension =\", a.ndim)\n",
    "print(\"Size =\", a.size)\n",
    "print(\"-\"*50)"
   ]
  },
  {
   "cell_type": "code",
   "execution_count": null,
   "id": "b0c45d51-588b-43f9-a173-c74238a3e25d",
   "metadata": {},
   "outputs": [],
   "source": [
    "# We can see now linespace() in ndarray\n",
    "# varname = numpy.linspace(start, stop, num, endpoint, retstep, dtype)   "
   ]
  },
  {
   "cell_type": "code",
   "execution_count": 50,
   "id": "d5d0b157-beb2-47fd-b73a-e788e3f0c203",
   "metadata": {},
   "outputs": [
    {
     "name": "stdout",
     "output_type": "stream",
     "text": [
      "[1. 3. 5.]\n",
      "<class 'numpy.ndarray'>\n",
      "--------------------------------------------------\n",
      "Shape = (3,)\n",
      "Dimension = 1\n"
     ]
    }
   ],
   "source": [
    "a=np.linspace(1,5)\n",
    "print(a)\n",
    "print(type(a))\n",
    "print('-'*50)\n",
    "print(\"Shape =\", a.shape)\n",
    "print(\"Dimension =\", a.ndim)"
   ]
  },
  {
   "cell_type": "code",
   "execution_count": 54,
   "id": "214c46de-2d91-40d9-a79b-c7ebc66c0da1",
   "metadata": {},
   "outputs": [
    {
     "name": "stdout",
     "output_type": "stream",
     "text": [
      "[1. 3. 5.]\n",
      "<class 'numpy.ndarray'>\n",
      "--------------------------------------------------\n",
      "Shape = (3,)\n",
      "Dimension = 1\n"
     ]
    }
   ],
   "source": [
    "a=np.linspace(1,5,num=3,endpoint=True)\n",
    "print(a)\n",
    "print(type(a))\n",
    "print('-'*50)\n",
    "print(\"Shape =\", a.shape)\n",
    "print(\"Dimension =\", a.ndim)"
   ]
  },
  {
   "cell_type": "code",
   "execution_count": 60,
   "id": "b0c7c654-d7ce-430f-8978-7bcc3471194f",
   "metadata": {},
   "outputs": [
    {
     "name": "stdout",
     "output_type": "stream",
     "text": [
      "[1 3 5]\n",
      "<class 'numpy.ndarray'>\n",
      "--------------------------------------------------\n",
      "Shape = (3,)\n",
      "Dimension = 1\n",
      "Element data type = int64\n"
     ]
    }
   ],
   "source": [
    "a=np.linspace(1,5,num=3,endpoint=True,retstep=False,dtype=int)\n",
    "print(a)\n",
    "print(type(a))\n",
    "print('-'*50)\n",
    "print(\"Shape =\", a.shape)\n",
    "print(\"Dimension =\", a.ndim)\n",
    "print(\"Element data type =\", a.dtype)"
   ]
  },
  {
   "cell_type": "code",
   "execution_count": 63,
   "id": "c0c78f3b-55dc-4a5c-937c-c547022d7a5e",
   "metadata": {},
   "outputs": [
    {
     "name": "stdout",
     "output_type": "stream",
     "text": [
      "[1 3]\n",
      "--------------------------------------------------\n",
      "Shape = (2,)\n",
      "Dimension = 1\n",
      "Element data type = int64\n"
     ]
    }
   ],
   "source": [
    "a=np.linspace(1,5,num=2,endpoint=False,dtype=int)\n",
    "print(a)\n",
    "print('-'*50)\n",
    "print(\"Shape =\", a.shape)\n",
    "print(\"Dimension =\", a.ndim)\n",
    "print(\"Element data type =\", a.dtype)"
   ]
  },
  {
   "cell_type": "code",
   "execution_count": 71,
   "id": "dcaf8c8a-7a16-40cf-9e26-167a369f22a2",
   "metadata": {},
   "outputs": [
    {
     "name": "stdout",
     "output_type": "stream",
     "text": [
      "[1.  1.1 1.2 1.3 1.4 1.5 1.6 1.7 1.8 1.9]\n",
      "Shape = (10,)\n",
      "[[1.  1.1]\n",
      " [1.2 1.3]\n",
      " [1.4 1.5]\n",
      " [1.6 1.7]\n",
      " [1.8 1.9]]\n",
      "Shape = (5, 2)\n"
     ]
    }
   ],
   "source": [
    "a=np.linspace(1,2,num=10,endpoint=False)\n",
    "print(a)\n",
    "print(\"Shape =\", a.shape)\n",
    "a=a.reshape(5,2)\n",
    "print(a)\n",
    "print(\"Shape =\", a.shape)"
   ]
  },
  {
   "cell_type": "code",
   "execution_count": 78,
   "id": "1aec8635-6fc5-4bcb-9e79-2fdf6933ade1",
   "metadata": {},
   "outputs": [
    {
     "name": "stdout",
     "output_type": "stream",
     "text": [
      "[1.  1.4 1.8 2.2 2.6 3.  3.4 3.8 4.2 4.6]\n",
      "retstep = 0.4\n"
     ]
    }
   ],
   "source": [
    "a,rs=np.linspace(1,5,num=10,endpoint=False,retstep=True)\n",
    "print(a)\n",
    "print(\"retstep =\", rs)"
   ]
  },
  {
   "cell_type": "code",
   "execution_count": null,
   "id": "50207841-8435-42c4-8018-9d52322089d2",
   "metadata": {},
   "outputs": [],
   "source": []
  }
 ],
 "metadata": {
  "kernelspec": {
   "display_name": "Python 3 (ipykernel)",
   "language": "python",
   "name": "python3"
  },
  "language_info": {
   "codemirror_mode": {
    "name": "ipython",
    "version": 3
   },
   "file_extension": ".py",
   "mimetype": "text/x-python",
   "name": "python",
   "nbconvert_exporter": "python",
   "pygments_lexer": "ipython3",
   "version": "3.12.6"
  }
 },
 "nbformat": 4,
 "nbformat_minor": 5
}
