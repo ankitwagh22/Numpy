{
 "cells": [
  {
   "cell_type": "markdown",
   "id": "0ccb0fae-4597-40d0-bc1a-19be75845f35",
   "metadata": {},
   "source": [
    "# In This file we practice the flatten() and ravel()"
   ]
  },
  {
   "cell_type": "code",
   "execution_count": 11,
   "id": "3423a3be-d1a1-4a90-8cb3-76afaaba3a19",
   "metadata": {},
   "outputs": [
    {
     "name": "stdout",
     "output_type": "stream",
     "text": [
      "content 2d array =\n",
      " [[1 2 3]\n",
      " [4 5 6]]\n",
      "Dimension of 2d array is = 2\n",
      "--------------------------------------------------\n",
      "content 2d array =\n",
      " [1 2 3 4 5 6]\n",
      "Dimension of 2d array is = 1\n"
     ]
    }
   ],
   "source": [
    "# flatten() \n",
    "import numpy as np\n",
    "a1 = np.arange(1,7).reshape(2,3)\n",
    "print(\"content 2d array =\\n\", a1)\n",
    "print(\"Dimension of 2d array is =\", a1.ndim)\n",
    "print('-'*50)\n",
    "\n",
    "# now convert into flatten array\n",
    "a2 = a1.flatten()\n",
    "print(\"content 2d array =\\n\", a2)\n",
    "print(\"Dimension of 2d array is =\", a2.ndim)"
   ]
  },
  {
   "cell_type": "code",
   "execution_count": 14,
   "id": "a806a3e5-de92-471f-ba80-65a894ac7cd6",
   "metadata": {},
   "outputs": [
    {
     "name": "stdout",
     "output_type": "stream",
     "text": [
      "content of a1 is =\n",
      " [[10  2  3]\n",
      " [ 4  5  6]]\n",
      "Dimension of a1 is = 2\n",
      "----------\n",
      "content 2d array =\n",
      " [1 2 3 4 5 6]\n",
      "Dimension of 2d array is = 1\n"
     ]
    }
   ],
   "source": [
    "# update the orginal array\n",
    "a1[0,0] = 10\n",
    "print(\"content of a1 is =\\n\", a1)\n",
    "print(\"Dimension of a1 is =\", a1.ndim)\n",
    "print('----------')\n",
    "\n",
    "# check the flattend array\n",
    "print(\"content 2d array =\\n\", a2)\n",
    "print(\"Dimension of 2d array is =\", a2.ndim)"
   ]
  },
  {
   "cell_type": "code",
   "execution_count": 16,
   "id": "87acf652-a430-47ba-a9c7-08c7a0282fcc",
   "metadata": {},
   "outputs": [
    {
     "name": "stdout",
     "output_type": "stream",
     "text": [
      "content of flattend array is =\n",
      " [ 1  2  3  4  5 99]\n",
      "Dimension of flattend array is = 1\n",
      "----------\n",
      "content original array =\n",
      " [[10  2  3]\n",
      " [ 4  5  6]]\n",
      "Dimension o foriginal array is = 2\n"
     ]
    }
   ],
   "source": [
    "# update the flattend array\n",
    "a2[-1] = 99\n",
    "print(\"content of flattend array is =\\n\", a2)\n",
    "print(\"Dimension of flattend array is =\", a2.ndim)\n",
    "print('----------')\n",
    "\n",
    "# check the flattend array\n",
    "print(\"content original array =\\n\", a1)\n",
    "print(\"Dimension o foriginal array is =\", a1.ndim)"
   ]
  },
  {
   "cell_type": "code",
   "execution_count": 23,
   "id": "0277de3c-1b03-4730-9743-9c40bfb22c8e",
   "metadata": {},
   "outputs": [
    {
     "name": "stdout",
     "output_type": "stream",
     "text": [
      "Original array is =\n",
      " [[1 2 3]\n",
      " [4 5 6]]\n",
      "Dimension of array is = 2\n",
      "------------------\n",
      "Ravel array is =\n",
      " [1 2 3 4 5 6]\n",
      "Dimension of array is = 1\n"
     ]
    }
   ],
   "source": [
    "# ravel()\n",
    "import numpy as np\n",
    "org = np.arange(1,7).reshape(2,3)\n",
    "print(\"Original array is =\\n\", org)\n",
    "print(\"Dimension of array is =\", org.ndim)\n",
    "print('------------------')\n",
    "\n",
    "# convert into flattend using raval() funtion\n",
    "rav = org.ravel()\n",
    "print(\"Ravel array is =\\n\", rav)\n",
    "print(\"Dimension of array is =\", rav.ndim)"
   ]
  },
  {
   "cell_type": "code",
   "execution_count": 27,
   "id": "777d96de-c2d6-401c-a060-3db2a348e5e9",
   "metadata": {},
   "outputs": [
    {
     "name": "stdout",
     "output_type": "stream",
     "text": [
      "Original array is =\n",
      " [[1000    2    3]\n",
      " [   4    5    6]]\n",
      "Dimension of array is = 2\n",
      "----------------------\n",
      "Ravel array is =\n",
      " [1000    2    3    4    5    6]\n",
      "Dimension of array is = 1\n"
     ]
    }
   ],
   "source": [
    "# update original array\n",
    "org[0,0] = 1000\n",
    "print(\"Original array is =\\n\", org)\n",
    "print(\"Dimension of array is =\", org.ndim)\n",
    "print('----------------------')\n",
    "\n",
    "# check the reveled array changes are done or not\n",
    "print(\"Ravel array is =\\n\", rav)\n",
    "print(\"Dimension of array is =\", rav.ndim)"
   ]
  },
  {
   "cell_type": "code",
   "execution_count": 30,
   "id": "15ebd1ad-61e0-4c10-9512-61ebb81e2e27",
   "metadata": {},
   "outputs": [
    {
     "name": "stdout",
     "output_type": "stream",
     "text": [
      "Ravel array is =\n",
      " [1000    2    3    4    5  986]\n",
      "Dimension of array is = 1\n",
      "-----------------------\n",
      "Original array is =\n",
      " [[1000    2    3]\n",
      " [   4    5  986]]\n",
      "Dimension of array is = 2\n"
     ]
    }
   ],
   "source": [
    "# update ravel array\n",
    "rav[-1] = 986\n",
    "print(\"Ravel array is =\\n\", rav)\n",
    "print(\"Dimension of array is =\", rav.ndim)\n",
    "print('-----------------------')\n",
    "\n",
    "# check the changed are made in original array or not\n",
    "print(\"Original array is =\\n\", org)\n",
    "print(\"Dimension of array is =\", org.ndim)"
   ]
  },
  {
   "cell_type": "code",
   "execution_count": null,
   "id": "fed0cc1b-1d1b-430f-9901-f8b5fe631dc0",
   "metadata": {},
   "outputs": [],
   "source": []
  }
 ],
 "metadata": {
  "kernelspec": {
   "display_name": "Python 3 (ipykernel)",
   "language": "python",
   "name": "python3"
  },
  "language_info": {
   "codemirror_mode": {
    "name": "ipython",
    "version": 3
   },
   "file_extension": ".py",
   "mimetype": "text/x-python",
   "name": "python",
   "nbconvert_exporter": "python",
   "pygments_lexer": "ipython3",
   "version": "3.12.6"
  }
 },
 "nbformat": 4,
 "nbformat_minor": 5
}
