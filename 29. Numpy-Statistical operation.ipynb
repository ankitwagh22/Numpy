{
 "cells": [
  {
   "cell_type": "code",
   "execution_count": 3,
   "id": "529989ac-1310-426f-92d3-1007d7219912",
   "metadata": {},
   "outputs": [
    {
     "name": "stdout",
     "output_type": "stream",
     "text": [
      "content of ndarray :\n",
      "[10 23 17 19 20 30 45 13 56]\n",
      "Maximum value of ndarray is = 56\n",
      "Minimum value of ndarray is = 10\n"
     ]
    }
   ],
   "source": [
    "# Numpy--Statiststical Operations\n",
    "import numpy as np\n",
    "a = np.array([10,23,17,19,20,30,45,13,56])\n",
    "print(\"content of ndarray :\")\n",
    "print(a)\n",
    "\n",
    "# Finding the maximum value using numpy.amax() function\n",
    "val1 = np.amax(a)\n",
    "print(\"Maximum value of ndarray is =\", val1)\n",
    "\n",
    "# finding the minimum value using numpy.amin() function\n",
    "val2 = np.amin(a)\n",
    "print(\"Minimum value of ndarray is =\", val2)"
   ]
  },
  {
   "cell_type": "code",
   "execution_count": 8,
   "id": "5eb1f729-eb81-4596-8d0c-39b766428610",
   "metadata": {},
   "outputs": [
    {
     "name": "stdout",
     "output_type": "stream",
     "text": [
      "content of 2D array is =\n",
      " [[ 8 20 10 23]\n",
      " [16  9  7 56]\n",
      " [43 35 29 13]]\n",
      "Minimum value of 2d array = 7\n",
      "Maximum value of 2d array = 56\n"
     ]
    }
   ],
   "source": [
    "# finding the min and max value on 2D-array\n",
    "import numpy as np\n",
    "a = np.array([8,20,10,23,16,9,7,56,43,35,29,13]).reshape(3,4)\n",
    "print(\"content of 2D array is =\\n\", a)\n",
    "\n",
    "# finding min and max value on entire array\n",
    "min_val = np.amin(a)\n",
    "print(\"Minimum value of 2d array =\", min_val)\n",
    "\n",
    "max_val = np.amax(a)\n",
    "print(\"Maximum value of 2d array =\", max_val)"
   ]
  },
  {
   "cell_type": "code",
   "execution_count": 11,
   "id": "ecc7028d-9b96-4289-95b6-f4d5fd353d1e",
   "metadata": {},
   "outputs": [
    {
     "name": "stdout",
     "output_type": "stream",
     "text": [
      "content of 2D array is =\n",
      " [[ 8 20 10 23]\n",
      " [16  9  7 56]\n",
      " [43 35 29 13]]\n",
      "----------------------------------------\n",
      "Row min = [ 8  7 13]\n",
      "Row max = [23 56 43]\n",
      "----------------------------------------\n",
      "Column min = [ 8  9  7 13]\n",
      "Column max = [43 35 29 56]\n"
     ]
    }
   ],
   "source": [
    "# finding rows-wise and column-wise min and max values\n",
    "# Axis = 1 represent Rows\n",
    "# Axis = 0 represent Column\n",
    "\n",
    "a = np.array([8,20,10,23,16,9,7,56,43,35,29,13]).reshape(3,4)\n",
    "print(\"content of 2D array is =\\n\", a)\n",
    "print('-'*40)\n",
    "\n",
    "row_min = np.amin(a,axis=1)\n",
    "row_max = np.amax(a,axis=1)\n",
    "print(\"Row min =\", row_min)\n",
    "print(\"Row max =\", row_max)\n",
    "print('-'*40)\n",
    "\n",
    "col_min = np.amin(a,axis=0)\n",
    "col_max = np.amax(a,axis=0)\n",
    "print(\"Column min =\", col_min)\n",
    "print(\"Column max =\", col_max)"
   ]
  },
  {
   "cell_type": "code",
   "execution_count": 13,
   "id": "4ad8ea84-bd8b-437a-900b-b54a683d9a36",
   "metadata": {},
   "outputs": [
    {
     "name": "stdout",
     "output_type": "stream",
     "text": [
      "content of ndarray is=\n",
      " [10 20 30 40 50  2  3  4]\n",
      "Mean of ndarry = 19.875\n"
     ]
    }
   ],
   "source": [
    "# finding the mean of ndarray elements\n",
    "import numpy as np\n",
    "a = np.array([10,20,30,40,50,2,3,4])\n",
    "print(\"content of ndarray is=\\n\",a)\n",
    "\n",
    "mn = np.mean(a)\n",
    "print(\"Mean of ndarry =\", mn)"
   ]
  },
  {
   "cell_type": "code",
   "execution_count": 16,
   "id": "6b34db54-d319-4a57-86b7-5306e56d4bb7",
   "metadata": {},
   "outputs": [
    {
     "name": "stdout",
     "output_type": "stream",
     "text": [
      "Mean is : 19.875\n"
     ]
    }
   ],
   "source": [
    "# By finding our own python code\n",
    "s = 0\n",
    "for val in a:\n",
    "    s += val\n",
    "else:\n",
    "    print(\"Mean is :\", (s/len(a)))"
   ]
  },
  {
   "cell_type": "code",
   "execution_count": 20,
   "id": "fda1850e-1a7d-48e7-ab31-bc3c5f8bfe12",
   "metadata": {},
   "outputs": [
    {
     "name": "stdout",
     "output_type": "stream",
     "text": [
      "content of array is =\n",
      " [[10 20 30]\n",
      " [40 50  2]\n",
      " [ 3  4  7]]\n",
      "Mean of 2d array: 18.44\n"
     ]
    }
   ],
   "source": [
    "# finding the mean of 2d array object\n",
    "import numpy as np\n",
    "arr = np.array([10,20,30,40,50,2,3,4,7]).reshape(3,3)\n",
    "print(\"content of array is =\\n\", arr)\n",
    "mn = np.mean(arr)\n",
    "print(\"Mean of 2d array:\", round(mn,2))"
   ]
  },
  {
   "cell_type": "code",
   "execution_count": 23,
   "id": "04bf8d13-f53d-4a2e-9ca4-4f66021a1b91",
   "metadata": {},
   "outputs": [
    {
     "name": "stdout",
     "output_type": "stream",
     "text": [
      "content of array is =\n",
      " [[10 20 30]\n",
      " [40 50  2]\n",
      " [ 3  4  7]]\n",
      "Rows mean = [20.         30.66666667  4.66666667]\n",
      "Column mean = [17.66666667 24.66666667 13.        ]\n"
     ]
    }
   ],
   "source": [
    "# Find mean of samples of ndarray with 2-D along Row and Column\n",
    "import numpy as np\n",
    "arr = np.array([10,20,30,40,50,2,3,4,7]).reshape(3,3)\n",
    "print(\"content of array is =\\n\", arr)\n",
    "\n",
    "# for rows\n",
    "row_mn = np.mean(arr,axis=1)\n",
    "print(\"Rows mean =\", row_mn)\n",
    "\n",
    "# for columns\n",
    "col_mn = np.mean(arr,axis=0)\n",
    "print(\"Column mean =\", col_mn)"
   ]
  },
  {
   "cell_type": "code",
   "execution_count": 25,
   "id": "a9c47b2d-4ece-439d-ba67-c47c3ff7da7a",
   "metadata": {},
   "outputs": [
    {
     "name": "stdout",
     "output_type": "stream",
     "text": [
      "content of array is :\n",
      " [20 10 40 30 15 25  3  4  7]\n",
      "Median of array is = 15.0\n"
     ]
    }
   ],
   "source": [
    "# Find median of sample of ndarray with 1-D\n",
    "import numpy as np\n",
    "arr = np.array([20,10,40,30,15,25,3,4,7])\n",
    "print(\"content of array is :\\n\", arr)\n",
    "\n",
    "# using numpy.median() function\n",
    "mdn = np.median(arr)\n",
    "print(\"Median of array is =\", mdn)"
   ]
  },
  {
   "cell_type": "code",
   "execution_count": 29,
   "id": "2dd3a499-dac3-45a0-bf1a-0a83b6fb630b",
   "metadata": {},
   "outputs": [
    {
     "name": "stdout",
     "output_type": "stream",
     "text": [
      "content of array is :\n",
      " [20 10 40 30 15 25  3  4 56  7]\n",
      "Median of array is = 17.5\n"
     ]
    }
   ],
   "source": [
    "import numpy as np\n",
    "arr = np.array([20,10,40,30,15,25,3,4,56,7])\n",
    "print(\"content of array is :\\n\", arr)\n",
    "\n",
    "# using numpy.median() function\n",
    "mdn = np.median(arr)\n",
    "print(\"Median of array is =\", mdn)"
   ]
  },
  {
   "cell_type": "code",
   "execution_count": 30,
   "id": "8133bac1-7db9-49cc-b965-f740605e9575",
   "metadata": {},
   "outputs": [
    {
     "name": "stdout",
     "output_type": "stream",
     "text": [
      "content of 2d array is :\n",
      " [[20 10 40 30]\n",
      " [15 25  3  4]\n",
      " [ 7 22 19 72]]\n",
      "Median of 2D array is = 19.5\n"
     ]
    }
   ],
   "source": [
    "# Find median of sample of ndarray with 2-D\n",
    "import numpy as np\n",
    "arr = np.array([20,10,40,30,15,25,3,4,7,22,19,72]).reshape(3,4)\n",
    "print(\"content of 2d array is :\\n\", arr)\n",
    "\n",
    "mdn = np.median(arr)\n",
    "print(\"Median of 2D array is =\", mdn)"
   ]
  },
  {
   "cell_type": "code",
   "execution_count": 5,
   "id": "fc462a6f-ea1e-4b95-8f61-86086bc6c49d",
   "metadata": {},
   "outputs": [
    {
     "name": "stdout",
     "output_type": "stream",
     "text": [
      "content of array is :\n",
      " [[20 10 40 30]\n",
      " [15 25  3  4]\n",
      " [ 7 22 19 72]]\n",
      "Row Wise median is : [25.   9.5 20.5]\n",
      "Column Wise median is : [15. 22. 19. 30.]\n"
     ]
    }
   ],
   "source": [
    "import numpy as np\n",
    "arr = np.array([20,10,40,30,15,25,3,4,7,22,19,72]).reshape(3,4)\n",
    "print(\"content of array is :\\n\", arr)\n",
    "\n",
    "# row-wise and column-wise median\n",
    "row_mdn = np.median(arr,axis=1)\n",
    "col_mdn = np.median(arr,axis=0)\n",
    "\n",
    "print(\"Row Wise median is :\", row_mdn)\n",
    "print(\"Column Wise median is :\", col_mdn)"
   ]
  },
  {
   "cell_type": "code",
   "execution_count": 12,
   "id": "72f69b9e-fc6c-400d-acec-9d7cf574cffa",
   "metadata": {},
   "outputs": [
    {
     "name": "stdout",
     "output_type": "stream",
     "text": [
      "content of array is : [2 4 1 3]\n",
      "Variance of ndarray is = 1.25\n"
     ]
    }
   ],
   "source": [
    "# Calulating the variance of ndarray\n",
    "import numpy as np\n",
    "arr = np.array([2,4,1,3])\n",
    "print(\"content of array is :\", arr)\n",
    "\n",
    "vr = np.var(arr)\n",
    "print(\"Variance of ndarray is =\", vr)"
   ]
  },
  {
   "cell_type": "code",
   "execution_count": 13,
   "id": "6df1fc80-8333-4da2-a4d1-e1f2436e4c5a",
   "metadata": {},
   "outputs": [
    {
     "name": "stdout",
     "output_type": "stream",
     "text": [
      "content of array is : [2 4 1 3]\n",
      "Mean is = 2.5\n"
     ]
    }
   ],
   "source": [
    "arr = np.array([2,4,1,3])\n",
    "print(\"content of array is :\", arr)\n",
    "print(\"Mean is =\", np.mean(arr))"
   ]
  },
  {
   "cell_type": "code",
   "execution_count": 19,
   "id": "89a9a943-ea77-4d27-837a-1200cb8b138b",
   "metadata": {},
   "outputs": [
    {
     "name": "stdout",
     "output_type": "stream",
     "text": [
      "Heights of students =\n",
      " [610 450 160 420 310]\n",
      "Mean/Average height is = 390.0\n",
      "Variance of heights is = 22440.0\n"
     ]
    }
   ],
   "source": [
    "import numpy as np\n",
    "heights = np.array([610, 450, 160, 420, 310])\n",
    "print(\"Heights of students =\\n\", heights)\n",
    "\n",
    "mn = np.mean(heights)\n",
    "print(\"Mean/Average height is =\", mn)\n",
    "\n",
    "vr = np.var(heights)\n",
    "print(\"Variance of heights is =\", vr)"
   ]
  },
  {
   "cell_type": "code",
   "execution_count": 21,
   "id": "2f365852-a712-40a7-96fd-8466baf0b127",
   "metadata": {},
   "outputs": [
    {
     "name": "stdout",
     "output_type": "stream",
     "text": [
      "Gold coines pirets are = [4 2 5 8 6]\n",
      "Variance is = 4.0\n",
      "Standard deviation is = 2.0\n"
     ]
    }
   ],
   "source": [
    "# calculating the standard deviation\n",
    "import numpy as np\n",
    "coines = np.array([4, 2, 5, 8, 6])\n",
    "print(\"Gold coines pirets are =\", coines)\n",
    "\n",
    "vr = np.var(coines)\n",
    "print(\"Variance is =\", vr)\n",
    "\n",
    "std = np.std(coines)\n",
    "print(\"Standard deviation is =\", std)"
   ]
  },
  {
   "cell_type": "code",
   "execution_count": 23,
   "id": "22666b83-f4e5-4cac-b150-01e05a8b654a",
   "metadata": {},
   "outputs": [
    {
     "name": "stdout",
     "output_type": "stream",
     "text": [
      "[4, 2, 5, 8, 6]\n",
      "avg = 5.0\n"
     ]
    }
   ],
   "source": [
    "lst = [4, 2, 5, 8, 6]\n",
    "print(lst)\n",
    "s = 0\n",
    "for i in lst:\n",
    "    s+=i\n",
    "print(\"avg =\", (s/len(lst)))"
   ]
  },
  {
   "cell_type": "code",
   "execution_count": 26,
   "id": "8d82e04f-ea88-42ac-bd10-567d1a9a1701",
   "metadata": {},
   "outputs": [
    {
     "name": "stdout",
     "output_type": "stream",
     "text": [
      "Given Data is = [ 5 10 25 30 50]\n",
      "Variance is = 254.0\n",
      "Standard deviation is = 15.94\n"
     ]
    }
   ],
   "source": [
    "# calculate the variance and standrad deviation of given data\n",
    "import numpy as np\n",
    "dt = np.array([5, 10, 25, 30, 50])\n",
    "print(\"Given Data is =\", dt)\n",
    "\n",
    "vr = np.var(dt)\n",
    "print(\"Variance is =\", vr)\n",
    "\n",
    "std = np.std(dt)\n",
    "print(\"Standard deviation is =\", round(std,2))"
   ]
  },
  {
   "cell_type": "code",
   "execution_count": 30,
   "id": "41bbb683-72f0-4e8d-bd06-98e496a0272d",
   "metadata": {},
   "outputs": [
    {
     "name": "stdout",
     "output_type": "stream",
     "text": [
      "Given data is = [1 4 7 2 6]\n",
      "Variance is = 5.2\n",
      "Standard deviation is = 2.28\n"
     ]
    }
   ],
   "source": [
    "# calculate the variance and standrad deviation of given data\n",
    "import numpy as np\n",
    "dt = np.array([1, 4, 7, 2, 6])\n",
    "print(\"Given data is =\", dt)\n",
    "\n",
    "vr = np.var(dt)\n",
    "print(\"Variance is =\", vr)\n",
    "\n",
    "std = np.std(dt)\n",
    "print(\"Standard deviation is =\", round(std,3))"
   ]
  },
  {
   "cell_type": "code",
   "execution_count": 34,
   "id": "d6bf24bd-55a6-4c5f-b6f5-347a24bdd020",
   "metadata": {},
   "outputs": [
    {
     "name": "stdout",
     "output_type": "stream",
     "text": [
      "[1, 4, 7, 2, 6]\n",
      "Mean = 4.0\n"
     ]
    }
   ],
   "source": [
    "dt = [1, 4, 7, 2, 6]\n",
    "print(dt)\n",
    "s = 0\n",
    "for i in dt:\n",
    "    s += i\n",
    "print(\"Mean =\", (s/len(dt)))"
   ]
  },
  {
   "cell_type": "code",
   "execution_count": 41,
   "id": "9fe0c13a-b83e-46a7-8b96-aad149ce4489",
   "metadata": {},
   "outputs": [
    {
     "name": "stdout",
     "output_type": "stream",
     "text": [
      "Given data is = [145 155 157 163 149 161 175 165 168 172]\n",
      "Variance is = 83.8\n",
      "Standrad deviation is = 9.154\n"
     ]
    }
   ],
   "source": [
    "#Calcatulate Variance for the samples\n",
    "a = np.array([145,155,157,163,149,161,175,165,168,172])\n",
    "print(\"Given data is =\", a)\n",
    "\n",
    "vr = np.var(a)\n",
    "print(\"Variance is =\", vr)\n",
    "\n",
    "std = np.std(a)\n",
    "print(\"Standrad deviation is =\", round(std,3))"
   ]
  },
  {
   "cell_type": "code",
   "execution_count": 45,
   "id": "b1109603-877d-44cc-acdd-098db9e8fa7e",
   "metadata": {},
   "outputs": [
    {
     "name": "stdout",
     "output_type": "stream",
     "text": [
      "2d array is =\n",
      " [[2 4]\n",
      " [1 3]]\n",
      "Variance is = 1.25\n",
      "Standard deviation is = 1.12\n"
     ]
    }
   ],
   "source": [
    "# Appliying on 2d array\n",
    "arr = np.array([2,4,1,3]).reshape(2,2)\n",
    "print(\"2d array is =\\n\", arr)\n",
    "\n",
    "vr = np.var(arr)\n",
    "print(\"Variance is =\", vr)\n",
    "\n",
    "std = np.std(arr)\n",
    "print(\"Standard deviation is =\", round(std,2))"
   ]
  },
  {
   "cell_type": "code",
   "execution_count": 46,
   "id": "ea38bb7b-1404-4b19-afbf-7a9330935687",
   "metadata": {},
   "outputs": [
    {
     "name": "stdout",
     "output_type": "stream",
     "text": [
      "2d array is =\n",
      " [[2 4]\n",
      " [1 3]]\n",
      "----------------------------------------\n",
      "Row variance is = [1. 1.]\n",
      "Column variance is = [0.25 0.25]\n",
      "----------------------------------------\n",
      "Row standard deviation is = [1. 1.]\n",
      "Column standard deviation is = [0.5 0.5]\n"
     ]
    }
   ],
   "source": [
    "# calculating row and column wise var & std\n",
    "import numpy as np\n",
    "arr = np.array([2,4,1,3]).reshape(2,2)\n",
    "print(\"2d array is =\\n\", arr)\n",
    "print('-'*40)\n",
    "\n",
    "row_var = np.var(arr,axis=1)\n",
    "col_var = np.var(arr,axis=0)\n",
    "print(\"Row variance is =\", row_var)\n",
    "print(\"Column variance is =\", col_var)\n",
    "print('-'*40)\n",
    "\n",
    "row_std = np.std(arr,axis=1)\n",
    "col_std = np.std(arr,axis=0)\n",
    "print(\"Row standard deviation is =\", row_std)\n",
    "print(\"Column standard deviation is =\", col_std)"
   ]
  },
  {
   "cell_type": "code",
   "execution_count": 49,
   "id": "ad2a5979-eea7-426a-8f8a-2323d49fbfbd",
   "metadata": {},
   "outputs": [
    {
     "name": "stdout",
     "output_type": "stream",
     "text": [
      "Array is =\n",
      " [[2 4]\n",
      " [1 3]]\n",
      "std= 1.118033988749895\n",
      "Std Row Varianace= [1. 1.]\n",
      "Std Col Varianace= [0.5 0.5]\n"
     ]
    }
   ],
   "source": [
    "a=np.array([2,4,1,3]).reshape(2,2)\n",
    "print(\"Array is =\\n\",a)\n",
    "print(\"std=\",np.std(a))\n",
    "print(\"Std Row Varianace=\",np.std(a,axis=1))\n",
    "print(\"Std Col Varianace=\",np.std(a,axis=0))"
   ]
  },
  {
   "cell_type": "code",
   "execution_count": null,
   "id": "d14e07cb-50a0-4cda-855e-ce3b5f8d19b9",
   "metadata": {},
   "outputs": [],
   "source": []
  }
 ],
 "metadata": {
  "kernelspec": {
   "display_name": "Python 3 (ipykernel)",
   "language": "python",
   "name": "python3"
  },
  "language_info": {
   "codemirror_mode": {
    "name": "ipython",
    "version": 3
   },
   "file_extension": ".py",
   "mimetype": "text/x-python",
   "name": "python",
   "nbconvert_exporter": "python",
   "pygments_lexer": "ipython3",
   "version": "3.12.6"
  }
 },
 "nbformat": 4,
 "nbformat_minor": 5
}
