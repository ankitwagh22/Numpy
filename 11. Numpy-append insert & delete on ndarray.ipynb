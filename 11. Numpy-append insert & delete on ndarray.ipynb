{
 "cells": [
  {
   "cell_type": "code",
   "execution_count": 3,
   "id": "68a0e92f-bb72-4276-bac4-6758b4837caf",
   "metadata": {},
   "outputs": [
    {
     "name": "stdout",
     "output_type": "stream",
     "text": [
      "Before append array is = [10 20 30 40]\n",
      "After append array is = [10 20 30 40 99]\n"
     ]
    }
   ],
   "source": [
    "# Numpy -> append() on 1d array\n",
    "import numpy as np\n",
    "arr = np.arange(10,50,10)\n",
    "print(\"Before append array is =\", arr)\n",
    "\n",
    "arr = np.append(arr,99)\n",
    "print(\"After append array is =\", arr)"
   ]
  },
  {
   "cell_type": "code",
   "execution_count": 10,
   "id": "b5ecd12e-c58d-4c34-98a9-6fcc5336d24b",
   "metadata": {},
   "outputs": [
    {
     "name": "stdout",
     "output_type": "stream",
     "text": [
      "Before append array is = [1 2 3 4 5]\n",
      "After append array is = [ 1  2  3  4  5 10 20 30]\n"
     ]
    }
   ],
   "source": [
    "# multiple values\n",
    "arr = np.arange(1,6)\n",
    "print(\"Before append array is =\", arr)\n",
    "\n",
    "arr = np.append(arr, [10,20,30])\n",
    "print(\"After append array is =\", arr)"
   ]
  },
  {
   "cell_type": "code",
   "execution_count": 13,
   "id": "ae373651-d970-4574-b262-5bfe10102842",
   "metadata": {},
   "outputs": [
    {
     "name": "stdout",
     "output_type": "stream",
     "text": [
      "Before append array is =\n",
      " [[10 20 30]\n",
      " [40 50 60]]\n",
      "After append array is =\n",
      " [[10 20 30]\n",
      " [40 50 60]\n",
      " [70 80 90]]\n"
     ]
    }
   ],
   "source": [
    "# append() on 2d array\n",
    "arr = np.arange(10,70,10).reshape(2,3)\n",
    "print(\"Before append array is =\\n\", arr)\n",
    "\n",
    "# appending row => axis=0\n",
    "arr = np.append(arr, [[70,80,90]],axis=0)\n",
    "print(\"After append array is =\\n\", arr)"
   ]
  },
  {
   "cell_type": "code",
   "execution_count": 15,
   "id": "0ef25b8a-7361-4988-9035-c17775b4f061",
   "metadata": {},
   "outputs": [
    {
     "name": "stdout",
     "output_type": "stream",
     "text": [
      "Before append array is =\n",
      " [[10 20 30]\n",
      " [40 50 60]]\n",
      "After append array is =\n",
      " [[10 20 30]\n",
      " [40 50 60]\n",
      " [22 33 44]\n",
      " [55 66 77]]\n"
     ]
    }
   ],
   "source": [
    "# inserting multiple rows\n",
    "arr = np.arange(10,70,10).reshape(2,3)\n",
    "print(\"Before append array is =\\n\", arr)\n",
    "\n",
    "# appending row => axis=0\n",
    "arr = np.append(arr,[[22,33,44],[55,66,77]],axis=0) # Row inserting\n",
    "print(\"After append array is =\\n\", arr)"
   ]
  },
  {
   "cell_type": "code",
   "execution_count": 16,
   "id": "01465f73-7c61-41b6-b4a9-3022de86fb2e",
   "metadata": {},
   "outputs": [
    {
     "name": "stdout",
     "output_type": "stream",
     "text": [
      "Before append array is =\n",
      " [[10 20 30]\n",
      " [40 50 60]]\n",
      "After append array is =\n",
      " [[10 20 30 45]\n",
      " [40 50 60 55]]\n"
     ]
    }
   ],
   "source": [
    "# appending column\n",
    "arr = np.arange(10,70,10).reshape(2,3)\n",
    "print(\"Before append array is =\\n\", arr)\n",
    "\n",
    "# appending column => axis=1\n",
    "arr = np.append(arr,[[45],[55]],axis=1)  # column inserting\n",
    "print(\"After append array is =\\n\", arr)"
   ]
  },
  {
   "cell_type": "code",
   "execution_count": 23,
   "id": "ac511d90-bbac-47af-be2f-deafcba844fd",
   "metadata": {},
   "outputs": [
    {
     "name": "stdout",
     "output_type": "stream",
     "text": [
      "Before append array is =\n",
      " [[10 20 30]\n",
      " [40 50 60]]\n",
      "After append array is =\n",
      " [[10 20 30 88 55]\n",
      " [40 50 60 99 66]]\n"
     ]
    }
   ],
   "source": [
    "# appending multiple column\n",
    "arr = np.arange(10,70,10).reshape(2,3)\n",
    "print(\"Before append array is =\\n\", arr)\n",
    "\n",
    "# appending column => axis=1\n",
    "arr = np.append(arr,[[88],[99]],axis=1)\n",
    "arr = np.append(arr,[[55],[66]],axis=1)\n",
    "print(\"After append array is =\\n\", arr)"
   ]
  },
  {
   "cell_type": "code",
   "execution_count": 26,
   "id": "a49ec634-ceed-49a4-b87e-6753956bc648",
   "metadata": {},
   "outputs": [
    {
     "name": "stdout",
     "output_type": "stream",
     "text": [
      "Before insert array is = [10 20 30 40 50]\n",
      "After inserting values is = [10 20 35 30 40 50]\n"
     ]
    }
   ],
   "source": [
    "# numpy--inserting the value to 1D\n",
    "import numpy as np\n",
    "arr = np.arange(10,60,10)\n",
    "print(\"Before insert array is =\", arr)\n",
    "\n",
    "# insert an element 35 at index 2\n",
    "arr = np.insert(arr,2,35)\n",
    "print(\"After inserting values is =\", arr)"
   ]
  },
  {
   "cell_type": "code",
   "execution_count": 28,
   "id": "98cccc0e-e5e9-43db-b53a-aafb45e0671c",
   "metadata": {},
   "outputs": [
    {
     "name": "stdout",
     "output_type": "stream",
     "text": [
      "Before insert array is = [10 20 30 40 50]\n",
      "After inserting array is = [10 20 35 45 55 30 40 50]\n"
     ]
    }
   ],
   "source": [
    "# insert an element 35,45,55 at index 2\n",
    "import numpy as np\n",
    "arr = np.arange(10,60,10)\n",
    "print(\"Before insert array is =\", arr)\n",
    "\n",
    "arr = np.insert(arr,2,[35,45,55])\n",
    "print(\"After inserting array is =\", arr)"
   ]
  },
  {
   "cell_type": "code",
   "execution_count": 32,
   "id": "92053915-a9d0-4cca-9a90-8943f6ce8b56",
   "metadata": {},
   "outputs": [
    {
     "name": "stdout",
     "output_type": "stream",
     "text": [
      "Before inserting array is = [10 20 30 40 50]\n",
      "After inserting array is = [10 20 35 30 40 49 50]\n"
     ]
    }
   ],
   "source": [
    "# numpy--inserting Multiple values to 1D at different Indices\n",
    "import numpy as np\n",
    "arr = np.arange(10,60,10)\n",
    "print(\"Before inserting array is =\", arr)\n",
    "\n",
    "# insert an element 35 at index 2 and 49 in index 4\n",
    "arr = np.insert(arr,[2,4],[35,49])\n",
    "print(\"After inserting array is =\", arr)"
   ]
  },
  {
   "cell_type": "code",
   "execution_count": 35,
   "id": "4a22cd29-fd00-4dbd-8c6d-ac6e32d0d4f3",
   "metadata": {},
   "outputs": [
    {
     "name": "stdout",
     "output_type": "stream",
     "text": [
      "Before Insert-Content [10 20 30 40 50 60]\n",
      "After Insert array is = [10 20 35 45 55 30 40 50 60]\n"
     ]
    }
   ],
   "source": [
    "arr = np.array([10,20,30,40,50,60])\n",
    "print(\"Before Insert-Content\",end=' ')\n",
    "print(arr)\n",
    "\n",
    "#insert an element 35,45,55 at index 2\n",
    "arr = np.insert(arr,2,[35,45,55])\n",
    "print(\"After Insert array is =\", arr)"
   ]
  },
  {
   "cell_type": "code",
   "execution_count": 44,
   "id": "48ecc219-847a-411a-8524-9e0b71249f91",
   "metadata": {},
   "outputs": [
    {
     "name": "stdout",
     "output_type": "stream",
     "text": [
      "Before Insert-Content =\n",
      " [[10 20 30]\n",
      " [40 50 60]]\n",
      "----------------------------------------\n",
      "After insert array is =\n",
      " [[10 20 30]\n",
      " [33 44 55]\n",
      " [40 50 60]]\n"
     ]
    }
   ],
   "source": [
    "# Numpy--insert() on 2D array\n",
    "import numpy as np\n",
    "arr = np.arange(10,70,10).reshape(2,3)\n",
    "print(\"Before Insert-Content =\\n\", arr)\n",
    "print('-'*40)\n",
    "\n",
    "# inserting single Rows\n",
    "arr = np.insert(arr,1,[[33,44,55]],axis=0)\n",
    "print(\"After insert array is =\\n\", arr)"
   ]
  },
  {
   "cell_type": "code",
   "execution_count": 45,
   "id": "a8eafc9f-f3c9-4d00-8358-3ba8fa42e2cc",
   "metadata": {},
   "outputs": [
    {
     "name": "stdout",
     "output_type": "stream",
     "text": [
      "Before Insert-Content =\n",
      " [[10 20 30]\n",
      " [40 50 60]]\n",
      "----------------------------------------\n",
      "After insert array is =\n",
      " [[100 200 300]\n",
      " [ 10  20  30]\n",
      " [ 40  50  60]\n",
      " [400 500 600]]\n"
     ]
    }
   ],
   "source": [
    "import numpy as np\n",
    "arr = np.arange(10,70,10).reshape(2,3)\n",
    "print(\"Before Insert-Content =\\n\", arr)\n",
    "print('-'*40)\n",
    "\n",
    "# inserting multiple rows\n",
    "arr = np.insert(arr,[0,2],[[100,200,300],[400,500,600]],axis=0)\n",
    "print(\"After insert array is =\\n\", arr)"
   ]
  },
  {
   "cell_type": "code",
   "execution_count": 9,
   "id": "450925c4-962f-41ef-af44-4d4246f0cc7c",
   "metadata": {},
   "outputs": [
    {
     "name": "stdout",
     "output_type": "stream",
     "text": [
      "Before Insert-Content =\n",
      " [[10 20 30]\n",
      " [40 50 60]\n",
      " [70 80 90]]\n",
      "----------------------------------------\n",
      "After insert array is =\n",
      " [[10 22 20 30]\n",
      " [40 33 50 60]\n",
      " [70 44 80 90]]\n",
      "----------------------------------------\n",
      "After insert array is =\n",
      " [[10 22 97 20 30]\n",
      " [40 33 98 50 60]\n",
      " [70 44 99 80 90]]\n"
     ]
    }
   ],
   "source": [
    "import numpy as np\n",
    "arr = np.arange(10,100,10).reshape(3,3)\n",
    "print(\"Before Insert-Content =\\n\", arr)\n",
    "print('-'*40)\n",
    "\n",
    "# insert single column\n",
    "arr = np.insert(arr,1,[22,33,44],axis=1)   # axis=1 means column\n",
    "print(\"After insert array is =\\n\", arr)\n",
    "print('-'*40)\n",
    "\n",
    "# insert single column\n",
    "arr = np.insert(arr,2,[97,98,99],axis=1)   # axis=1 means column\n",
    "print(\"After insert array is =\\n\", arr)"
   ]
  },
  {
   "cell_type": "code",
   "execution_count": 7,
   "id": "58962899-304a-483f-ad6b-b15cffb69f9a",
   "metadata": {},
   "outputs": [
    {
     "name": "stdout",
     "output_type": "stream",
     "text": [
      "Content of array is =\n",
      " [[10 20 30]\n",
      " [40 50 60]\n",
      " [70 80 90]]\n",
      "--------------\n",
      "After inserting array becomes =\n",
      " [[222  10  20 333  30]\n",
      " [222  40  50 333  60]\n",
      " [222  70  80 333  90]]\n"
     ]
    }
   ],
   "source": [
    "# Inserting Multiple Columns at multiple Column Indices\n",
    "import numpy as np\n",
    "arr = np.arange(10,100,10).reshape(3,3)\n",
    "print(\"Content of array is =\\n\", arr)\n",
    "print('--------------')\n",
    "arr = np.insert(arr,[0,2],[[222,333],[222,333],[222,333]],axis=1)\n",
    "print(\"After inserting array becomes =\\n\", arr)"
   ]
  },
  {
   "cell_type": "code",
   "execution_count": 54,
   "id": "bc6b2682-f6c2-47ec-a2d0-eb42fd1c449b",
   "metadata": {},
   "outputs": [
    {
     "name": "stdout",
     "output_type": "stream",
     "text": [
      "Before deleting array item is = [10 20 30 40 50 60]\n",
      "After deleting array item is = [10 20 40 50 60]\n"
     ]
    }
   ],
   "source": [
    "# Deleting values from ndarray using numpy.delete() function\n",
    "import numpy as np\n",
    "arr = np.array([10,20,30,40,50,60])\n",
    "print(\"Before deleting array item is =\", arr)\n",
    "\n",
    "# delete 30\n",
    "arr = np.delete(arr,2)\n",
    "print(\"After deleting array item is =\", arr)"
   ]
  },
  {
   "cell_type": "code",
   "execution_count": 56,
   "id": "8da4cea2-62bb-4eaa-bc3a-e73ac5a4127f",
   "metadata": {},
   "outputs": [
    {
     "name": "stdout",
     "output_type": "stream",
     "text": [
      "Before deleting array item is = [10 20 30 40 50 60]\n",
      "After deleting array item is = [20 40 60]\n"
     ]
    }
   ],
   "source": [
    "import numpy as np\n",
    "arr = np.array([10,20,30,40,50,60])\n",
    "print(\"Before deleting array item is =\", arr)\n",
    "\n",
    "# Delete value 30 and 50 and 10 from 1D\n",
    "arr = np.delete(arr,[2,4,0])\n",
    "print(\"After deleting array item is =\", arr)"
   ]
  },
  {
   "cell_type": "code",
   "execution_count": 61,
   "id": "0c9508fa-db91-4674-9e33-113b186a27a4",
   "metadata": {},
   "outputs": [
    {
     "name": "stdout",
     "output_type": "stream",
     "text": [
      "Before deleting array item is =\n",
      " [[10 20 30]\n",
      " [40 50 60]\n",
      " [70 80 90]]\n",
      "----------------------------------------\n",
      "After deleting array item is =\n",
      " [[10 20 30]\n",
      " [70 80 90]]\n"
     ]
    }
   ],
   "source": [
    "import numpy as np\n",
    "arr = np.array([10,20,30,40,50,60,70,80,90]).reshape(3,3)\n",
    "print(\"Before deleting array item is =\\n\", arr)\n",
    "print('-'*40)\n",
    "\n",
    "# Delete 1 Row from 2D\n",
    "arr = np.delete(arr,1,axis=0)\n",
    "print(\"After deleting array item is =\\n\", arr)"
   ]
  },
  {
   "cell_type": "code",
   "execution_count": 62,
   "id": "bf00e2b8-3181-412b-a5e4-79b59a8071ef",
   "metadata": {},
   "outputs": [
    {
     "name": "stdout",
     "output_type": "stream",
     "text": [
      "Before deleting array item is =\n",
      " [[10 20 30]\n",
      " [40 50 60]\n",
      " [70 80 90]]\n",
      "----------------------------------------\n",
      "After deleting array item is =\n",
      " [[10 30]\n",
      " [40 60]\n",
      " [70 90]]\n"
     ]
    }
   ],
   "source": [
    "import numpy as np\n",
    "arr = np.array([10,20,30,40,50,60,70,80,90]).reshape(3,3)\n",
    "print(\"Before deleting array item is =\\n\", arr)\n",
    "print('-'*40)\n",
    "\n",
    "# Delete 1 Column from 2D\n",
    "arr = np.delete(arr,1,axis=1)\n",
    "print(\"After deleting array item is =\\n\", arr)"
   ]
  },
  {
   "cell_type": "code",
   "execution_count": 63,
   "id": "f6eaab6b-0cb8-45a1-bde6-c9270e7c73e6",
   "metadata": {},
   "outputs": [
    {
     "name": "stdout",
     "output_type": "stream",
     "text": [
      "Before deleting array item is =\n",
      " [[10 20 30]\n",
      " [40 50 60]\n",
      " [70 80 90]]\n",
      "----------------------------------------\n",
      "After deleting array item is =\n",
      " [[40 50 60]]\n"
     ]
    }
   ],
   "source": [
    "import numpy as np\n",
    "arr = np.array([10,20,30,40,50,60,70,80,90]).reshape(3,3)\n",
    "print(\"Before deleting array item is =\\n\", arr)\n",
    "print('-'*40)\n",
    "\n",
    "# Delete 0 Row and 2nd row from 2D\n",
    "arr = np.delete(arr,[0,2],axis=0)\n",
    "print(\"After deleting array item is =\\n\", arr)"
   ]
  },
  {
   "cell_type": "code",
   "execution_count": 64,
   "id": "489f183a-fbb6-4dc0-8d14-2c4c4344e551",
   "metadata": {},
   "outputs": [
    {
     "name": "stdout",
     "output_type": "stream",
     "text": [
      "Before deleting array item is =\n",
      " [[10 20 30]\n",
      " [40 50 60]\n",
      " [70 80 90]]\n",
      "----------------------------------------\n",
      "After deleting array item is =\n",
      " [[30]\n",
      " [60]\n",
      " [90]]\n"
     ]
    }
   ],
   "source": [
    "import numpy as np\n",
    "arr = np.array([10,20,30,40,50,60,70,80,90]).reshape(3,3)\n",
    "print(\"Before deleting array item is =\\n\", arr)\n",
    "print('-'*40)\n",
    "\n",
    "# Delete 0th and 1st column from 2D\n",
    "arr = np.delete(arr,[0,1],axis=1)\n",
    "print(\"After deleting array item is =\\n\", arr)"
   ]
  },
  {
   "cell_type": "code",
   "execution_count": 66,
   "id": "73d04d66-2d8a-48d2-a48d-4ec51613860d",
   "metadata": {},
   "outputs": [
    {
     "name": "stdout",
     "output_type": "stream",
     "text": [
      "Array is = [10 20 30 40 50]\n",
      "Array after replace is = [ 10  20 300  40  50]\n"
     ]
    }
   ],
   "source": [
    "# Replace the Elements of ndarray object \n",
    "import numpy as np\n",
    "arr = np.array([10,20,30,40,50])\n",
    "print(\"Array is =\", arr)\n",
    "\n",
    "# replace 30 to 300\n",
    "arr[2] = 300\n",
    "print(\"Array after replace is =\", arr)"
   ]
  },
  {
   "cell_type": "code",
   "execution_count": 67,
   "id": "b5a540a6-9e89-48c4-85ae-66712ae20cf0",
   "metadata": {},
   "outputs": [
    {
     "name": "stdout",
     "output_type": "stream",
     "text": [
      "Array is = [10 20 30 40 50]\n",
      "Array after replace is = [100  20 300  40 500]\n"
     ]
    }
   ],
   "source": [
    "# Replace the Elements of ndarray object \n",
    "import numpy as np\n",
    "arr = np.array([10,20,30,40,50])\n",
    "print(\"Array is =\", arr)\n",
    "\n",
    "# replace 10 to 100, 30 to 300 and 50 to 500\n",
    "arr[::2] = [100,300,500]\n",
    "print(\"Array after replace is =\", arr)"
   ]
  },
  {
   "cell_type": "code",
   "execution_count": 73,
   "id": "daec8c52-a1a1-470c-850c-986fd36ef063",
   "metadata": {},
   "outputs": [
    {
     "name": "stdout",
     "output_type": "stream",
     "text": [
      "Before replace array is =\n",
      " [[10 20 30]\n",
      " [40 50 60]]\n",
      "After replace array is =\n",
      " [[100  20  30]\n",
      " [400  50  60]]\n"
     ]
    }
   ],
   "source": [
    "# Replacing the 2d array items\n",
    "import numpy as np\n",
    "arr = np.array([10,20,30,40,50,60]).reshape(2,3)\n",
    "print(\"Before replace array is =\\n\", arr)\n",
    "\n",
    "# replace 10 to 100 and 40 to 400\n",
    "arr[::,:1:] = [[100],[400]]\n",
    "print(\"After replace array is =\\n\", arr)"
   ]
  },
  {
   "cell_type": "code",
   "execution_count": 76,
   "id": "88d56275-1480-4a8f-b1ad-fba1dc9fd48f",
   "metadata": {},
   "outputs": [
    {
     "name": "stdout",
     "output_type": "stream",
     "text": [
      "[[100  20  30]\n",
      " [400 500 600]]\n"
     ]
    }
   ],
   "source": [
    "arr[1:,1:] = [500,600]\n",
    "print(arr)"
   ]
  },
  {
   "cell_type": "code",
   "execution_count": 78,
   "id": "19e384a0-63e4-4b43-8350-7c2d086c858e",
   "metadata": {},
   "outputs": [
    {
     "name": "stdout",
     "output_type": "stream",
     "text": [
      "[[100 200 300]\n",
      " [400 500 600]]\n"
     ]
    }
   ],
   "source": [
    "arr[0:1:,1::] = [200,300]\n",
    "print(arr)"
   ]
  },
  {
   "cell_type": "code",
   "execution_count": 81,
   "id": "3ec50e0b-de6e-41af-8fd5-bd37ddac92f8",
   "metadata": {},
   "outputs": [
    {
     "name": "stdout",
     "output_type": "stream",
     "text": [
      "[[  1 200   2]\n",
      " [  3 500   4]]\n"
     ]
    }
   ],
   "source": [
    "# replace courner elements to 1 2 3 4\n",
    "arr[::,::2] = [[1,2],[3,4]]\n",
    "print(arr)"
   ]
  },
  {
   "cell_type": "code",
   "execution_count": 88,
   "id": "f3b51cdb-ad50-414e-a1c4-75f16354c1fd",
   "metadata": {},
   "outputs": [
    {
     "name": "stdout",
     "output_type": "stream",
     "text": [
      "Array is =\n",
      " [[100 200 300]\n",
      " [400 500 600]\n",
      " [700 800 900]]\n",
      "--------------------------------------------------\n",
      "After Replacing is :\n",
      " [[  1 200   2]\n",
      " [400 500 600]\n",
      " [  3 800   4]]\n"
     ]
    }
   ],
   "source": [
    "import numpy as np\n",
    "arr = np.arange(100,1000,100).reshape(3,3)\n",
    "print(\"Array is =\\n\", arr)\n",
    "print('-'*50)\n",
    "\n",
    "# replace courner items to 1,2,3,4\n",
    "arr[::2,::2] = [[1,2],[3,4]]\n",
    "print(\"After Replacing is :\\n\", arr)"
   ]
  },
  {
   "cell_type": "code",
   "execution_count": 1,
   "id": "da9704ea-4ab1-4688-8e75-47e6c55e1e05",
   "metadata": {},
   "outputs": [
    {
     "name": "stdout",
     "output_type": "stream",
     "text": [
      "Before replace array is :\n",
      " [[5 6 7 3]\n",
      " [2 1 1 6]\n",
      " [2 5 2 7]\n",
      " [4 5 2 7]]\n",
      "After replace array is :\n",
      " [[1000    6    7 2000]\n",
      " [   2    1    1    6]\n",
      " [   2    5    2    7]\n",
      " [3000    5    2 4000]]\n"
     ]
    }
   ],
   "source": [
    "import numpy as np\n",
    "arr = np.random.randint(1,9,size=(4,4))\n",
    "print(\"Before replace array is :\\n\", arr)\n",
    "\n",
    "# replace courner items with 1000,2000,3000,4000\n",
    "arr[::3,::3] = [[1000,2000],[3000,4000]]\n",
    "print(\"After replace array is :\\n\", arr)"
   ]
  },
  {
   "cell_type": "code",
   "execution_count": null,
   "id": "31f30a48-28e7-42d4-8502-ea7a5b634f39",
   "metadata": {},
   "outputs": [],
   "source": []
  }
 ],
 "metadata": {
  "kernelspec": {
   "display_name": "Python 3 (ipykernel)",
   "language": "python",
   "name": "python3"
  },
  "language_info": {
   "codemirror_mode": {
    "name": "ipython",
    "version": 3
   },
   "file_extension": ".py",
   "mimetype": "text/x-python",
   "name": "python",
   "nbconvert_exporter": "python",
   "pygments_lexer": "ipython3",
   "version": "3.12.6"
  }
 },
 "nbformat": 4,
 "nbformat_minor": 5
}
